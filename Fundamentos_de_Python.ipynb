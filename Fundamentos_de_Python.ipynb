{
  "nbformat": 4,
  "nbformat_minor": 0,
  "metadata": {
    "colab": {
      "provenance": [],
      "toc_visible": true
    },
    "kernelspec": {
      "name": "python3",
      "display_name": "Python 3"
    },
    "language_info": {
      "name": "python"
    }
  },
  "cells": [
    {
      "cell_type": "markdown",
      "source": [
        "## **FUNDAMENTOS DE PYTHON**\n",
        "\n",
        "Escola: SoulCode Academy\n",
        "\n",
        "Curso: Bootcamp Analista de Dados-Martech-AD2\n",
        "\n",
        "Período: Semana 4\n",
        "\n",
        "Professoroes: Franciane Rodrigues e Douglas Ribeiro\n",
        "\n",
        "Aluno: Rosana Alessandra da Silva Santos\n"
      ],
      "metadata": {
        "id": "WwVxjOU3Dp8G"
      }
    },
    {
      "cell_type": "markdown",
      "source": [
        "* **Lógica de programação:** é um conceito teórico que se refere à forma de pensar e abordar problemas de programação.\n",
        "\n",
        "* **Algoritmo** é uma descrição abstrata de um processo ou solução que poderá ser executado por um computador;\n",
        "* **Script** é um conjunto de instruções ou comandos escritos em uma linguagem de programação específica. Geralmente, os scripts são usados para automatizar tarefas ou para definir o comportamento de um programa ou sistema. Eles são frequentemente executados interpreta\n",
        "* **Programa** é  um conjunto de instruções escritas em uma linguagem de programação específica, organizadas de forma lógica, para realizar uma tarefa ou resolver um problema específico. Ao contrário de um script, um programa é compilado ou interpretado antes da execução, resultando em um arquivo executável que pode ser executado diretamente em um sistema operacional."
      ],
      "metadata": {
        "id": "7eAAM5w4G3ku"
      }
    },
    {
      "cell_type": "markdown",
      "source": [
        "## **Comentários e tipos básicos de dados**"
      ],
      "metadata": {
        "id": "Pw0OBuqmIkMC"
      }
    },
    {
      "cell_type": "code",
      "source": [
        "print('Olá, Mundo!')\n",
        "print(\"Olá, Mundo!\")"
      ],
      "metadata": {
        "colab": {
          "base_uri": "https://localhost:8080/"
        },
        "id": "tVWoIPhRJP8S",
        "outputId": "173955ae-8e11-4d4d-eb27-e54981eaa440"
      },
      "execution_count": null,
      "outputs": [
        {
          "output_type": "stream",
          "name": "stdout",
          "text": [
            "Olá, Mundo!\n",
            "Olá, Mundo!\n"
          ]
        }
      ]
    },
    {
      "cell_type": "code",
      "source": [
        "# isto é um comentário"
      ],
      "metadata": {
        "id": "CEtvJOocM-9J"
      },
      "execution_count": null,
      "outputs": []
    },
    {
      "cell_type": "code",
      "source": [
        "\"\"\"\n",
        "isto\n",
        "é um\n",
        "comentário\n",
        "grande\n",
        "\"\"\""
      ],
      "metadata": {
        "colab": {
          "base_uri": "https://localhost:8080/",
          "height": 36
        },
        "id": "ggogfNaENo3H",
        "outputId": "704b63ed-c2b3-4062-de66-aa1aa0acd7eb"
      },
      "execution_count": null,
      "outputs": [
        {
          "output_type": "execute_result",
          "data": {
            "text/plain": [
              "'\\nisto\\né um\\ncomentário\\ngrande\\n'"
            ],
            "application/vnd.google.colaboratory.intrinsic+json": {
              "type": "string"
            }
          },
          "metadata": {},
          "execution_count": 3
        }
      ]
    },
    {
      "cell_type": "code",
      "source": [
        "\"\"\" isto é outro comentário\"\"\""
      ],
      "metadata": {
        "colab": {
          "base_uri": "https://localhost:8080/",
          "height": 36
        },
        "id": "4185A65cIjog",
        "outputId": "f69b67a8-0b25-4fec-983a-bfeee2e13cb6"
      },
      "execution_count": null,
      "outputs": [
        {
          "output_type": "execute_result",
          "data": {
            "text/plain": [
              "' isto é outro comentário'"
            ],
            "application/vnd.google.colaboratory.intrinsic+json": {
              "type": "string"
            }
          },
          "metadata": {},
          "execution_count": 24
        }
      ]
    },
    {
      "cell_type": "code",
      "source": [
        "# isto\n",
        "# é outro\n",
        "# comentário"
      ],
      "metadata": {
        "id": "pgjYsIP9IszX"
      },
      "execution_count": null,
      "outputs": []
    },
    {
      "cell_type": "code",
      "source": [
        "'''\n",
        "isto\n",
        "é outro\n",
        "comentário\n",
        "'''\n"
      ],
      "metadata": {
        "colab": {
          "base_uri": "https://localhost:8080/",
          "height": 36
        },
        "id": "x5dDUOz2OzBS",
        "outputId": "9d93c22e-d696-46b2-8502-872193757de9"
      },
      "execution_count": null,
      "outputs": [
        {
          "output_type": "execute_result",
          "data": {
            "text/plain": [
              "'\\nisto \\né outro\\ncomentário\\n'"
            ],
            "application/vnd.google.colaboratory.intrinsic+json": {
              "type": "string"
            }
          },
          "metadata": {},
          "execution_count": 4
        }
      ]
    },
    {
      "cell_type": "code",
      "source": [
        "# Tipos de Dados"
      ],
      "metadata": {
        "id": "60vTNuiTO6zT"
      },
      "execution_count": null,
      "outputs": []
    },
    {
      "cell_type": "markdown",
      "source": [
        "![image.png](data:image/png;base64,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)"
      ],
      "metadata": {
        "id": "9C7TdAIEJjv0"
      }
    },
    {
      "cell_type": "markdown",
      "source": [
        " RESUMO\n",
        "*   Os **comentários** são como notas que você deixa para que você ou outra pessoa possa ler e ajuda documentar o seu código\n",
        "*   **Comando print:** é uma função de saída utilizada em várias linguagens de\n",
        "programação para exibir mensagens ou valores na tela do computador.\n",
        "*   **\\n**: usado para criar quebras de linha em um texto\n",
        "*   Tipos de dados no Python mais usados são int, float, str, bool\n",
        "*   int e float: dados quantitativos\n",
        "*   str: dados categóricos/qualitativos"
      ],
      "metadata": {
        "id": "bnnNFtvMLwUk"
      }
    },
    {
      "cell_type": "markdown",
      "source": [
        "## **Variáveis**"
      ],
      "metadata": {
        "id": "wDqP2vRBbAeX"
      }
    },
    {
      "cell_type": "code",
      "source": [
        "# Estamos escrevendo nossos dados pessoais\n",
        "print(40)              # int - número inteiro quantitativo\n",
        "print(1.65)            # float - número com casas decimais quantitativo\n",
        "print('Rosana')        # str escrita com aspas simples - qualitativo\n",
        "print('Santos')        # str escrita com aspas duplas - qualitativo\n",
        "print(True)            # booleano - qualitativa"
      ],
      "metadata": {
        "colab": {
          "base_uri": "https://localhost:8080/"
        },
        "id": "093-Fep3SyfS",
        "outputId": "5c283ee4-6b6e-4c42-9889-719a44f31c98"
      },
      "execution_count": null,
      "outputs": [
        {
          "output_type": "stream",
          "name": "stdout",
          "text": [
            "40\n",
            "1.65\n",
            "Rosana\n",
            "Santos\n",
            "True\n"
          ]
        }
      ]
    },
    {
      "cell_type": "code",
      "source": [
        "# Declarando as variáveis\n",
        "idade = 33\n",
        "altura = 1.65\n",
        "nome = 'Rosana'\n",
        "sobrenome = 'Santos'\n",
        "filhos = True\n"
      ],
      "metadata": {
        "id": "x-iLuCehbyyL"
      },
      "execution_count": null,
      "outputs": []
    },
    {
      "cell_type": "code",
      "source": [
        "3 # Imprimir na tela usando comando print\n",
        "print(idade)\n",
        "print(altura)\n",
        "print(nome)\n",
        "print(sobrenome)\n",
        "print(filhos)"
      ],
      "metadata": {
        "colab": {
          "base_uri": "https://localhost:8080/"
        },
        "id": "TLhHBt-7cM-l",
        "outputId": "1025ff97-21af-4914-c2ed-b008a08f82ed"
      },
      "execution_count": null,
      "outputs": [
        {
          "output_type": "stream",
          "name": "stdout",
          "text": [
            "33\n",
            "1.65\n",
            "Rosana\n",
            "Santos\n",
            "True\n"
          ]
        }
      ]
    },
    {
      "cell_type": "code",
      "source": [
        "# imprimir na tela usando apenas o nome da variável\n",
        "idade\n",
        "altura\n",
        "nome\n",
        "sobrenome"
      ],
      "metadata": {
        "colab": {
          "base_uri": "https://localhost:8080/",
          "height": 36
        },
        "id": "s8yPztIacj2P",
        "outputId": "7ac4adf9-94c7-4727-f788-a0d7e13d2628"
      },
      "execution_count": null,
      "outputs": [
        {
          "output_type": "execute_result",
          "data": {
            "text/plain": [
              "'Santos'"
            ],
            "application/vnd.google.colaboratory.intrinsic+json": {
              "type": "string"
            }
          },
          "metadata": {},
          "execution_count": 32
        }
      ]
    },
    {
      "cell_type": "code",
      "source": [
        "# impressão geral na tela de todas as variáveis declaradas\n",
        "print(idade, altura, nome, sobrenome, filhos)"
      ],
      "metadata": {
        "colab": {
          "base_uri": "https://localhost:8080/"
        },
        "id": "AvJ_OcaueQML",
        "outputId": "ec26cee0-521a-4786-e95e-1554228551c8"
      },
      "execution_count": null,
      "outputs": [
        {
          "output_type": "stream",
          "name": "stdout",
          "text": [
            "33 1.65 Rosana Santos True\n"
          ]
        }
      ]
    },
    {
      "cell_type": "code",
      "source": [
        "# Comando type serve para checarmos o tipo de dado que a variável esá declarada\n",
        "type(idade)"
      ],
      "metadata": {
        "colab": {
          "base_uri": "https://localhost:8080/"
        },
        "id": "85Fppn4cehq_",
        "outputId": "7effaab6-0e24-44a0-ffd2-3e58a967dab1"
      },
      "execution_count": null,
      "outputs": [
        {
          "output_type": "execute_result",
          "data": {
            "text/plain": [
              "int"
            ]
          },
          "metadata": {},
          "execution_count": 11
        }
      ]
    },
    {
      "cell_type": "code",
      "source": [
        "# Checando o tipo de variável usando os comandos print e type juntos\n",
        "print(type(idade))\n",
        "print(type(altura))\n",
        "print(type(nome))\n",
        "print(type(sobrenome))\n",
        "print(type(filhos))"
      ],
      "metadata": {
        "colab": {
          "base_uri": "https://localhost:8080/"
        },
        "id": "GOvMpRojez_i",
        "outputId": "20b596ee-af6a-400f-d51a-105299386b27"
      },
      "execution_count": null,
      "outputs": [
        {
          "output_type": "stream",
          "name": "stdout",
          "text": [
            "<class 'int'>\n",
            "<class 'float'>\n",
            "<class 'str'>\n",
            "<class 'str'>\n",
            "<class 'bool'>\n"
          ]
        }
      ]
    },
    {
      "cell_type": "code",
      "source": [
        "# Atenção: o python é sensível as letras maiúsculas e minúsculas\n",
        "# Exemplo:\n",
        "# Se a str 'nome' (minúsculo)\n",
        "# nome = 'Rosana'\n",
        "# print (Nome) - forma incorreta\n",
        "# print (nome) - forma correta"
      ],
      "metadata": {
        "id": "haDBPKtSM-5E"
      },
      "execution_count": null,
      "outputs": []
    },
    {
      "cell_type": "code",
      "source": [
        "# Armazenamento strings e número\n",
        "nome_completo = 'Rosana Santos'\n",
        "numero_favorito = '10'"
      ],
      "metadata": {
        "id": "AtK0Bt5KhCzn"
      },
      "execution_count": null,
      "outputs": []
    },
    {
      "cell_type": "code",
      "source": [
        "# Checando a variável nuemro_favorito\n",
        "print(type(numero_favorito))"
      ],
      "metadata": {
        "colab": {
          "base_uri": "https://localhost:8080/"
        },
        "id": "6VdmkbTRhcD-",
        "outputId": "d49823bb-1b29-4b47-a829-b9749ea02106"
      },
      "execution_count": null,
      "outputs": [
        {
          "output_type": "stream",
          "name": "stdout",
          "text": [
            "<class 'str'>\n"
          ]
        }
      ]
    },
    {
      "cell_type": "code",
      "source": [
        "#@title\n",
        "# Se o número estiver entre aspas ele se transforma em uma string\n",
        "print(nome_completo, numero_favorito)"
      ],
      "metadata": {
        "colab": {
          "base_uri": "https://localhost:8080/"
        },
        "id": "L6vFkJM_huD_",
        "outputId": "7299c287-c430-4f27-d406-2d0421dcd48f"
      },
      "execution_count": null,
      "outputs": [
        {
          "output_type": "stream",
          "name": "stdout",
          "text": [
            "Rosana Santos 10\n"
          ]
        }
      ]
    },
    {
      "cell_type": "code",
      "source": [
        "# Primeiro nome do nosso código\n",
        "nome"
      ],
      "metadata": {
        "colab": {
          "base_uri": "https://localhost:8080/",
          "height": 36
        },
        "id": "o8nZMrYz0vze",
        "outputId": "4b97b2c1-59b0-4b65-be95-dafb19665294"
      },
      "execution_count": null,
      "outputs": [
        {
          "output_type": "execute_result",
          "data": {
            "text/plain": [
              "'Rosana'"
            ],
            "application/vnd.google.colaboratory.intrinsic+json": {
              "type": "string"
            }
          },
          "metadata": {},
          "execution_count": 16
        }
      ]
    },
    {
      "cell_type": "code",
      "source": [
        "# Renomeação da variável\n",
        "nome = 'Sara'"
      ],
      "metadata": {
        "id": "ghZV9i3V1Zlo"
      },
      "execution_count": null,
      "outputs": []
    },
    {
      "cell_type": "code",
      "source": [
        "# Atualização da variável \"nome\"\n",
        "# Sempre a última alterção será válida\n",
        "nome"
      ],
      "metadata": {
        "colab": {
          "base_uri": "https://localhost:8080/",
          "height": 36
        },
        "id": "7RBsKR6h1lsa",
        "outputId": "f02c5c09-65b7-4b5e-d774-314478cbfbc1"
      },
      "execution_count": null,
      "outputs": [
        {
          "output_type": "execute_result",
          "data": {
            "text/plain": [
              "'Sara'"
            ],
            "application/vnd.google.colaboratory.intrinsic+json": {
              "type": "string"
            }
          },
          "metadata": {},
          "execution_count": 18
        }
      ]
    },
    {
      "cell_type": "markdown",
      "source": [
        "**Resumo**\n",
        "*  **Variáveis** permitem salvar valores na memória usando um nome que atribuímos\n",
        "* Declaramos um nome no lado esquerdo do operador igual (“=”), e no lado direito, atribuir o valor que queremos salvar para usar mais tarde.\n",
        "* Como ler: Declaramos a variável \"a\" ao valor do \"2\" do tipo int\n",
        "* a = 2\n",
        "* Como ler: Declaramos a variável \"b\" ao valor do \"10.953\" do tipo float\n",
        "* b = 10.953\n",
        "* Como ler: A variável \"a\" recebe valor 2 do tipo int\n",
        "* a = 2\n",
        "* Como ler: A variável \"b\" recebe valor 10.953 do tipo float\n",
        "* b = 10.953\n",
        "* É possível usar os dois comandos print e type juntos\n",
        "* Atenção: Número pode ser string\n",
        "\n",
        "**Regras para nomes de variáveis**\n",
        "* Deve começar com uma letra (maíuscula ou minúscula) ou subcrito(_).\n",
        "* Nunca pode começar com um número.\n",
        "* Pode conter letras maiúsculas, minúsculas, números e subscrito.\n",
        "* Não pode-se utilizar como parte do nome de uma variável:\n",
        "{ ( + - * / \\ ; . , ?\n",
        "* Letras maiúsculas e minúsculas são diferentes:\n",
        "casa = 4\n",
        "Casa = 4"
      ],
      "metadata": {
        "id": "dGDQg9vL37JM"
      }
    },
    {
      "cell_type": "markdown",
      "source": [],
      "metadata": {
        "id": "7890D_dJ3A4s"
      }
    },
    {
      "cell_type": "markdown",
      "source": [
        "## **Conversão de Variáveis**"
      ],
      "metadata": {
        "id": "GSRQgwAJ7Hvq"
      }
    },
    {
      "cell_type": "code",
      "source": [
        "# Conversão de int para float\n",
        "num_int = 10\n",
        "num_float = float(num_int)"
      ],
      "metadata": {
        "id": "5y_qsuz_WRnr"
      },
      "execution_count": null,
      "outputs": []
    },
    {
      "cell_type": "code",
      "source": [
        "# Checando a conversão\n",
        "\n",
        "print(type(num_int), type(num_float))\n",
        "print(num_float)"
      ],
      "metadata": {
        "colab": {
          "base_uri": "https://localhost:8080/"
        },
        "id": "RyKGxpCUa8Eg",
        "outputId": "82c731f6-ae47-47ed-dd96-a1d33eee17df"
      },
      "execution_count": null,
      "outputs": [
        {
          "output_type": "stream",
          "name": "stdout",
          "text": [
            "<class 'int'> <class 'float'>\n",
            "10.0\n"
          ]
        }
      ]
    },
    {
      "cell_type": "code",
      "source": [
        "# Conversão de int para string\n",
        "num_int = 10\n",
        "num_str = str(num_int)\n"
      ],
      "metadata": {
        "id": "ADU03QYV9hDW"
      },
      "execution_count": null,
      "outputs": []
    },
    {
      "cell_type": "code",
      "source": [
        "# Checando a conversão\n",
        "print(type(num_int), type(num_str))\n",
        "print(num_str)"
      ],
      "metadata": {
        "colab": {
          "base_uri": "https://localhost:8080/"
        },
        "id": "E2xa4BG19wa5",
        "outputId": "28021779-8a6d-438d-9f81-c9ba08120d7e"
      },
      "execution_count": null,
      "outputs": [
        {
          "output_type": "stream",
          "name": "stdout",
          "text": [
            "<class 'int'> <class 'str'>\n",
            "10\n"
          ]
        }
      ]
    },
    {
      "cell_type": "code",
      "source": [
        "# Conversão de float para int\n",
        "num_float = 10.5\n",
        "num_int = int(num_float)"
      ],
      "metadata": {
        "id": "vqrGnLla-6_L"
      },
      "execution_count": null,
      "outputs": []
    },
    {
      "cell_type": "code",
      "source": [
        "# Checando a conversão\n",
        "print(type(num_float), type(num_int))\n",
        "print(num_int)"
      ],
      "metadata": {
        "colab": {
          "base_uri": "https://localhost:8080/"
        },
        "id": "v9lJkZiY_LVY",
        "outputId": "212b9a0f-761e-4c32-ac0f-5286ac8f8912"
      },
      "execution_count": null,
      "outputs": [
        {
          "output_type": "stream",
          "name": "stdout",
          "text": [
            "<class 'float'> <class 'int'>\n",
            "10\n"
          ]
        }
      ]
    },
    {
      "cell_type": "code",
      "source": [
        "# Conversão de float para str\n",
        "num_float = 20.5\n",
        "num_str = str(num_float)"
      ],
      "metadata": {
        "id": "ujGSQe0m_rKZ"
      },
      "execution_count": null,
      "outputs": []
    },
    {
      "cell_type": "code",
      "source": [
        "# Checando a conversão\n",
        "print(type(num_float), type(num_str))\n",
        "print(num_str)"
      ],
      "metadata": {
        "colab": {
          "base_uri": "https://localhost:8080/"
        },
        "id": "kcv_hRGmC3ts",
        "outputId": "3da120df-2bc7-4869-bfe3-2cb8342b8c2e"
      },
      "execution_count": null,
      "outputs": [
        {
          "output_type": "stream",
          "name": "stdout",
          "text": [
            "<class 'float'> <class 'str'>\n",
            "20.5\n"
          ]
        }
      ]
    },
    {
      "cell_type": "code",
      "source": [
        "# Conversão de str para int\n",
        "num_str = '30'\n",
        "num_int = int(num_str)"
      ],
      "metadata": {
        "id": "hju-Ch-5_6Tc"
      },
      "execution_count": null,
      "outputs": []
    },
    {
      "cell_type": "code",
      "source": [
        "# Checando a conversão\n",
        "print(type(num_str), type(num_int))\n",
        "print(num_int)"
      ],
      "metadata": {
        "colab": {
          "base_uri": "https://localhost:8080/"
        },
        "id": "JFmLnkIbDPyW",
        "outputId": "946a8af4-e45f-4c59-d746-7fbf00be3bcd"
      },
      "execution_count": null,
      "outputs": [
        {
          "output_type": "stream",
          "name": "stdout",
          "text": [
            "<class 'str'> <class 'int'>\n",
            "30\n"
          ]
        }
      ]
    },
    {
      "cell_type": "code",
      "source": [
        "# Conversão de str para float\n",
        "num_str = '50.0'\n",
        "num_float = float(num_str)"
      ],
      "metadata": {
        "id": "bnzTfdqD__gh"
      },
      "execution_count": null,
      "outputs": []
    },
    {
      "cell_type": "code",
      "source": [
        "# Checando a conversão\n",
        "print(type(num_str), type(num_float))\n",
        "print(num_float)"
      ],
      "metadata": {
        "colab": {
          "base_uri": "https://localhost:8080/"
        },
        "id": "OUi-6rSXGSPr",
        "outputId": "e1b7ad94-4f61-4200-84cd-ad71ea2b9125"
      },
      "execution_count": null,
      "outputs": [
        {
          "output_type": "stream",
          "name": "stdout",
          "text": [
            "<class 'str'> <class 'float'>\n",
            "50.0\n"
          ]
        }
      ]
    },
    {
      "cell_type": "code",
      "source": [
        "# FALHA NO SISTEMA:\n",
        "# Conversão de str para int()\n",
        "# num_str = '10.5\n",
        "# num_str = int(num_str)\n",
        "\n",
        "# Conversão de str para int()\n",
        "num_str = '10.5'\n",
        "num_float = float(num_str) # conversão intermediária\n",
        "num_int = int(num_float)\n",
        "\n",
        "# Checando\n",
        "print(type(num_str), type(num_int))\n",
        "print(num_int)\n"
      ],
      "metadata": {
        "colab": {
          "base_uri": "https://localhost:8080/"
        },
        "id": "mv83zI2APcnz",
        "outputId": "1746b55c-ef12-4f0f-aaea-cc14b54847e6"
      },
      "execution_count": null,
      "outputs": [
        {
          "output_type": "stream",
          "name": "stdout",
          "text": [
            "<class 'str'> <class 'int'>\n",
            "10\n"
          ]
        }
      ]
    },
    {
      "cell_type": "markdown",
      "source": [
        "## **Operadores Matemáticos**"
      ],
      "metadata": {
        "id": "rEVz7m1PKKgy"
      }
    },
    {
      "cell_type": "markdown",
      "source": [
        "Os operadores matemátcos básicos tais como: adição, subtração, multiplicação, divisão, exponenciação, e radiciação podem ser feitos dentro do Python."
      ],
      "metadata": {
        "id": "WmTthtnGQOdL"
      }
    },
    {
      "cell_type": "code",
      "source": [
        "# Adição\n",
        "n1 = 5.887\n",
        "n2 = 7.15\n",
        "soma = n1 + n2\n",
        "print(soma)\n",
        "print('A soma é:' , soma )\n",
        "print(f'A soma dos números é {soma:.2f}')\n"
      ],
      "metadata": {
        "colab": {
          "base_uri": "https://localhost:8080/"
        },
        "id": "UsER0cxgQxM7",
        "outputId": "37bad251-53d3-48e4-ef10-7b631db78737"
      },
      "execution_count": null,
      "outputs": [
        {
          "output_type": "stream",
          "name": "stdout",
          "text": [
            "13.036999999999999\n",
            "A soma é: 13.036999999999999\n",
            "A soma dos números é 13.04\n"
          ]
        }
      ]
    },
    {
      "cell_type": "code",
      "source": [
        "# Subtração\n",
        "a1 = 154.587\n",
        "a2 = 10.548\n",
        "sub = a1 - a2\n",
        "\n",
        "print(sub)\n",
        "print('A subtração é: ', round(sub,2))\n",
        "print(f'A subtração dos números é {sub:.2f}')\n",
        "print(a1 - a2)"
      ],
      "metadata": {
        "colab": {
          "base_uri": "https://localhost:8080/"
        },
        "id": "IkcIgbwGTqcF",
        "outputId": "44e679cb-b3bc-479e-953a-ba4368c4d3f5"
      },
      "execution_count": null,
      "outputs": [
        {
          "output_type": "stream",
          "name": "stdout",
          "text": [
            "144.039\n",
            "A subtração é:  144.04\n",
            "A subtração dos números é 144.04\n",
            "144.039\n"
          ]
        }
      ]
    },
    {
      "cell_type": "code",
      "source": [
        "# Multiplicação\n",
        "b1 = 3.5\n",
        "multi = b1 * 3\n",
        "\n",
        "print(multi)\n",
        "print('A multiplicação é: ', round(sub,2))\n",
        "print(f'A multipicação dos números é {sub:.2f}')\n",
        "print(multi)\n"
      ],
      "metadata": {
        "colab": {
          "base_uri": "https://localhost:8080/"
        },
        "id": "MDZlD_VPW32V",
        "outputId": "95aec6f0-ae63-44f5-83a3-43914f365d10"
      },
      "execution_count": null,
      "outputs": [
        {
          "output_type": "stream",
          "name": "stdout",
          "text": [
            "10.5\n",
            "A multiplicação é:  144.04\n",
            "A multipicação dos números é 144.04\n",
            "10.5\n"
          ]
        }
      ]
    },
    {
      "cell_type": "code",
      "source": [
        "# Divisão\n",
        "x1 = 10\n",
        "x2 = 5\n",
        "div = x1/x2\n",
        "\n",
        "# Modos de apresentação:\n",
        "print(div)\n",
        "print('A divisão é: ', round(div,2))\n",
        "print(f'A divisão dos números é {div:.2f}')\n",
        "print(x1 / x2)\n",
        "x1 / x2"
      ],
      "metadata": {
        "colab": {
          "base_uri": "https://localhost:8080/"
        },
        "id": "kwmMsCmIbNk1",
        "outputId": "5333f4cb-e188-4cfe-bfd8-25f9332eb1cf"
      },
      "execution_count": null,
      "outputs": [
        {
          "output_type": "stream",
          "name": "stdout",
          "text": [
            "2.0\n",
            "A divisão é:  2.0\n",
            "A divisão dos números é 2.00\n",
            "2.0\n"
          ]
        },
        {
          "output_type": "execute_result",
          "data": {
            "text/plain": [
              "2.0"
            ]
          },
          "metadata": {},
          "execution_count": 37
        }
      ]
    },
    {
      "cell_type": "markdown",
      "source": [],
      "metadata": {
        "id": "1n-zEAih5PJM"
      }
    },
    {
      "cell_type": "markdown",
      "source": [],
      "metadata": {
        "id": "NUhYwyDsDvvn"
      }
    },
    {
      "cell_type": "markdown",
      "source": [
        "## Python - Operadores Básicos"
      ],
      "metadata": {
        "id": "1i8nCWB-kcxt"
      }
    },
    {
      "cell_type": "code",
      "source": [
        "# Adição:\n",
        "# soma (+) Exemplo: some 3 com 2\n",
        "soma = 3 + 2\n",
        "print(soma)\n",
        "print(f' O resultado da soma de 3 e 2 é = {soma}')\n"
      ],
      "metadata": {
        "colab": {
          "base_uri": "https://localhost:8080/"
        },
        "id": "o4Rff7DMH5qu",
        "outputId": "2a757c09-c1a0-4704-ff80-dda0b1b4ef8d"
      },
      "execution_count": null,
      "outputs": [
        {
          "output_type": "stream",
          "name": "stdout",
          "text": [
            "5\n",
            " O resultado da soma de 3 e 2 é = 5\n"
          ]
        }
      ]
    },
    {
      "cell_type": "code",
      "source": [
        "# Subtração:\n",
        "# subtração (-) Exemplo: Subtraia 2 de 3\n",
        "sub = 3 - 2\n",
        "\n",
        "print(sub)\n",
        "print(f' O resultado da subtração de 3 e 2 é = {sub}')\n"
      ],
      "metadata": {
        "colab": {
          "base_uri": "https://localhost:8080/"
        },
        "id": "tysLscAJIUIY",
        "outputId": "dabf920b-7d1a-4583-9c77-92b5380e05fc"
      },
      "execution_count": null,
      "outputs": [
        {
          "output_type": "stream",
          "name": "stdout",
          "text": [
            "1\n",
            " O resultado da subtração de 3 e 2 é = 1\n"
          ]
        }
      ]
    },
    {
      "cell_type": "code",
      "source": [
        "# Multiplicação:\n",
        "# multiplicação (*) Exemplo: Multiplique 3 por 2\n",
        "mult = 3 * 2\n",
        "\n",
        "print(mult)\n",
        "print(f' O resultado da multiplicação de 3 e 2 é = {mult}')\n"
      ],
      "metadata": {
        "colab": {
          "base_uri": "https://localhost:8080/"
        },
        "id": "tILI6KLTIv63",
        "outputId": "c681bbf6-64b1-4f70-ee04-10aafb7ee182"
      },
      "execution_count": null,
      "outputs": [
        {
          "output_type": "stream",
          "name": "stdout",
          "text": [
            "6\n",
            " O resultado da multiplicação de 3 e 2 é = 6\n"
          ]
        }
      ]
    },
    {
      "cell_type": "code",
      "source": [
        "# Divisão:\n",
        "# divisão (/) Exemplo: divida 3 por 2\n",
        "div = 3 / 2\n",
        "\n",
        "print(div)\n",
        "print(f' O resultado da divisão de 3 e 2 é = {div}')\n"
      ],
      "metadata": {
        "colab": {
          "base_uri": "https://localhost:8080/"
        },
        "id": "2RarJAFfJG-0",
        "outputId": "1f6c6194-2bb5-4109-f9bb-cde71cfb064a"
      },
      "execution_count": null,
      "outputs": [
        {
          "output_type": "stream",
          "name": "stdout",
          "text": [
            "1.5\n",
            " O resultado da divisão de 3 e 2 é = 1.5\n"
          ]
        }
      ]
    },
    {
      "cell_type": "code",
      "source": [
        "# parte inteira da divisão (//) Exemplo: encontre e guarde a parte inteira da divisão de 3 por 2\n",
        "idiv = 3 // 2\n",
        "\n",
        "print(idiv)\n",
        "print(f' A parte inteira de uma divisão de 3 e 2 é = {idiv}')\n"
      ],
      "metadata": {
        "colab": {
          "base_uri": "https://localhost:8080/"
        },
        "id": "pTHTaWDtJgKb",
        "outputId": "ce8df1dc-0169-4e06-ec4c-3cf05c0847cd"
      },
      "execution_count": null,
      "outputs": [
        {
          "output_type": "stream",
          "name": "stdout",
          "text": [
            "1\n",
            " O resultado da parte inteira de uma divisão de 3 e 2 é = 1\n"
          ]
        }
      ]
    },
    {
      "cell_type": "code",
      "source": [
        "# resto da divisão (%) Exemplo: encontre e guarde o resto da divisão de 10 por 3\n",
        "rdiv = 10 % 3\n",
        "\n",
        "print(rdiv)\n",
        "print(f' O resto de uma divisão de 10 e 3 é = {rdiv}')\n"
      ],
      "metadata": {
        "colab": {
          "base_uri": "https://localhost:8080/"
        },
        "id": "IRR9HcuwJ-rE",
        "outputId": "1eeaecb8-4876-42d4-ef9c-e7d748e96ced"
      },
      "execution_count": null,
      "outputs": [
        {
          "output_type": "stream",
          "name": "stdout",
          "text": [
            "1\n",
            " O resto de uma divisão de 10 e 3 é = 1\n"
          ]
        }
      ]
    },
    {
      "cell_type": "markdown",
      "source": [],
      "metadata": {
        "id": "VyKrVhIxKsp7"
      }
    },
    {
      "cell_type": "markdown",
      "source": [
        "![image.png](data:image/png;base64,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)"
      ],
      "metadata": {
        "id": "2LjBTV5sJ2Mr"
      }
    },
    {
      "cell_type": "code",
      "source": [
        "# potenciação (**) Exemplo: eleve 3 a 2\n",
        "pot = 3 ** 2\n",
        "\n",
        "print(pot)\n",
        "print(f' O resultado da potencição de 3 elevado a 2 é = {pot}')\n"
      ],
      "metadata": {
        "colab": {
          "base_uri": "https://localhost:8080/"
        },
        "id": "rXusJ9tVLe7M",
        "outputId": "a77d47d9-e5ca-4fec-a0ab-dff9bb8aaecd"
      },
      "execution_count": null,
      "outputs": [
        {
          "output_type": "stream",
          "name": "stdout",
          "text": [
            "9\n",
            " O resultado da potencição de 3 elevado a 2 é = 9\n"
          ]
        }
      ]
    },
    {
      "cell_type": "code",
      "source": [
        "# radiciação (**) Exemplo: Raiz quadrada de 144 é o mesmo que 144 elevado a 1/2\n",
        "# Não esquecer dos parênteses\n",
        "raiz = 144 ** (1/2)\n",
        "raiz = 144 ** 0.5\n",
        "\n",
        "print(raiz)\n",
        "print(f' O resultado da radiciação de 144  é = {raiz:.0f}')"
      ],
      "metadata": {
        "colab": {
          "base_uri": "https://localhost:8080/"
        },
        "id": "sJrvcL2eMiZp",
        "outputId": "f50f94a7-68dc-49ff-c4d2-d8b16d6c7500"
      },
      "execution_count": null,
      "outputs": [
        {
          "output_type": "stream",
          "name": "stdout",
          "text": [
            "12.0\n",
            " O resultado da radiciação de 144  é = 12\n"
          ]
        }
      ]
    },
    {
      "cell_type": "markdown",
      "source": [
        "![image.png](data:image/png;base64,iVBORw0KGgoAAAANSUhEUgAAAmYAAAGeCAYAAAA+Bc1jAAAgAElEQVR4nOyd53Mcx52/n+6ZTcggCJAgmHMCxSiSMmUrWsFK1tmyZF35XGffVfnqQtW9uHt3/8C9vzrXvTifzqr7ybKCFShZkRJFURIlkWAEg0iCCQSIQCIsNsx0/17M9mB2CYAJIkGqH9WKi91Ju9vd8+lvarFhwwaNxWKxWCwWi+WGI2/0BVgsFovFYrFYAqwws1gsFovFYpkguCO9qLUO/xVCXNcLslgsFovFYrkVMZrK6CzzWlRvyegGvu/jeR6O4yClDDe2WCwWi8VisVw9WutQUwkh8DwPpRRCiCIjmGs2llISj8fJ5XJorcnlcriui+M4VpxZLBaLxWKxXANCCJRS+L5PIpFAa43ruuRyOYQQSBlEl4WuTM/zyOVy4capVIp8Po/v+zfsQ1gsFovFYrHcKriuSzabZWhoKBRjjuOglBreBgIV5zgOjuMQj8fp6+sjkUgAhC5Ni8VisVgsFsvVobUmm81SVlYWeiJzuRwAsVgsNISFFjOlFJ7nEY/H+dnPfobruqHv02KxWCwWi8VybRh3ZS6XIxaLMTg4yFtvvVXknQyFmRAC13WRUvLP//zPoaXMHMRisVgsFovFcvVorVFKhdrqxIkT/PnPf8b3/fC1ItVlAtNisdhFWQIWi8VisVgslmsjqq+MC/OirEyzkcnOjFrKrDizWCwWi8ViGT+i2qpUZ1k/pcVisVgsFssEwQozi8VisVgslgmCFWYWi8VisVgsEwQrzCwWi8VisVgmCFaYWSwWi8VisUwQrDCzWCwWi8VimSBYYWaxWCwWi8UyQbDCzGKxWCwWi2WCYIWZxWKxWCwWywTBCjOLxWKxWCyWCYIVZhaLxWKxWCwTBPd6n1BrHa7JqZQK1+iE4vWizDZj4XkeQgh83ycWi4Wrtrvu1X0scz3mX3M9+XyeeDx+Vce0WCyW7zpKKZRSSCkvOa7DxfcJGHltQbMdcFnHtVhuBq6rMNNa43leKHQcxyl63SyeHhVthpEWUzf7K6XI5XLhsTKZDLFY7IoXYPd9HylluNK71ppkMnnVQs9isVi+y0QnudHxfqyJdz6fR2tNLBYrel1rHY7pnucBhPcMi+VW4rorDsdxcF0XrTVDQ0M4joPjOEgpw9cNxgJmOnQpQggGBgY4c+YMhw8fZmhoiFQqhed5Rce5XMw1TJ48mUWLFpFKpfB9P3zPYrFYLJdPqQdiLFFmxmzHcUIBFt3XiDHXdXFdN7SkWSy3GtddmBlrlLGMDQ4O0t/fTy6Xo7q6mkQiQXl5ORB01GgnLUUpxYULF3jhhRd488036enpCYVU1BV5Jdfmui733nsvf//3f8+SJUuuSuBZLBaLhSKBFfWElI7N0XE2uk9paIoRd0aUOY5jx2jLLcd1FWbGnK2Uwvd9Tp06xZYtWzh+/DjZbJYZM2bQ3NxMc3MzdXV1RebqkUSW53l0dHTwxhtvcPjwYaZMmRKe42o6aywWQ0oZmtDz+TxSylEtdhaLxWIZHSPEpJRFVjMj1ICLxupoLFrU4hYd16P7KKXQWtuQE8stw3VvyUIIcrkcLS0tvPDCC3zwwQek02kymQyO49Dc3MzPfvYzHnvsMcrLy8e0evX397N7927Onj3L448/zn333Ud1dXVR/NqVYKx5dXV1zJw5M7zeK7W8WSwWi4UwFEUpRT6fDye/Jp63NHQFgjE3k8ngeR6JRCIcf13XDfczcWhGlNlQE8utxHUP/ldK0d3dzQcffEBrays/+clPmD9/Pt988w2vvfYaW7Zswfd9Fi9ezPLly8OOOZIFrLOzk23btiGE4MEHH+Tuu++msrIS13WvSkyZmVo0y8dkfdrZ2M3LSG4Si8Vy5ZT2paiYGim7HiCTydDT08PAwACTJ0+mpqYmPJYJ6I9mXmqtOXbsGCdPnmTu3LnMnDmTWCyG53nhsc6ePUs6naauro6Ghgaqq6tHDXuxfd5ys3HdXZlKKQ4cOMCFCxf4+c9/zgMPPEAsFiOXy1FfX89//Md/cOzYMQ4ePMiiRYuIxWIXuSaVUniex+HDh2ltbWXu3LmsXr2a+vr6cEY1WmeMZvaUztZGE3TWlWmxWL7rGCFVOoaaiWtUmHmex9DQEJ2dnWzfvp13332XfD7Pr3/9azZt2lSUCBB1b7quy9DQEM8//zwff/wxv/rVr6ivr8d1XQ4dOsTLL7/MBx98QHd3d7j9zJkzefDBB3n00UeZMmVKkQvUjN1WnFluJm5IuQyAxYsX8/3vf5+6urqwUy5dupQFCxawa9cuLly4EJqrTYc3Hc11XXp6etixYwfZbJZNmzYxefLk8BzRgWMkotk85rm1iN262EHZYhk/oqIsGvsVjRm7cOECe/bs4aOPPmLbtm3s3LmTOXPmMDAwEB4jOjE21q58Ps/JkyfZvn07fX19pFIpysrKOHPmDK+88gqbN28O3Zf5fJ4zZ85w7NgxOjs70VrzF3/xF9TX14eJY5e6F1gsE5HrrkaklCxdupRFixbR1NQUug8dxyGVSqGUIpVK0djYGMaKmU4fFWmdnZ3s3r2beDzOXXfdRWVl5WUF/Eczfsxg4Ps+nudddvFDi8Vi+S5TGshv4sgM+XyebDbLlClTqKqqYnBwkEwmE4qq6HFgOIwkk8nw1Vdfcfr0aW677Tbmzp0LwKeffsr27dtZuXIlDzzwAFVVVfT09PDee++xefNmdu7cyYwZM1i/fj319fXhsW3GpuVm5IbUMZs2bRowXBzQZN309/dz4sQJpk+fTnNzM/F4vGjGYwaDfD7Pvn37aG9vZ9GiRSxevDgUbsaMPdpMyZjegaLSGlaQ3bqUDs52Bm25XEaLm/ouEl0ZxYgxM6k2mfYmHKS2tpbVq1ezbNkyhoaG2Lp1a7ivGZujiVUm8SqTybB161b6+vq4/fbbmTNnDv39/Xz++ec0Njbyq1/9isWLF5NKpchkMsyaNYvz58/z0ksvcezYMY4cOcKqVavC+4od1y03I9e91UaFkXFrAgwODnLixAmSyST3338/06ZNK+q80U527tw5Nm/ejJSS73//+9TW1o64bMdo5zfkcjny+bzNvLzFicbGRK2uFstI2PYyMiabMp/P4/t+KLKiRbjNpNhxHCZPnsykSZOora0N9zPblcYBm7i0trY29u/fTywWY8GCBSSTSS5cuEAqleKRRx7htttuIx6Ph/eDZcuWsXHjRiZPnkxvby/t7e1F12x/O8vNyHUP/o/FYkVxXaaz7t+/n/3797Nu3TqeeOIJ4vF40Wwnum7l8ePH2bt3L3PmzGHFihWkUqmiDMqxgv+llAwNDXH48GGOHz/OtGnTWLp0KalUygq0b4HosChGenGkfYp+Ao2I7qABE+OCGH4p3E6gEIjC6xrwdCQeRoBTdAl24P5uUtLPdfg/lNbo8F+BEMEM1oxGMmwzgmjteQGFNljapkTYVqOvlJz8omvTJdd5o0cmz/NobW3l6NGjVFRUsGTJEhoaGlBKhUvgGcsZUFQiA4brWJr3jJfDjLkDAwPs2rWLzs5OmpubmT17NrFYjPLych577DGampqKaqJBcD+oqKigvLycWCxGWVlZKKZd18XzPJu8ZbnpuO7B/6WZkPl8nnPnzrF161ay2SwPPfQQc+fODZdVMp3cZP309vayc+dOBgcHWbFiBVOnTg0FVdQ16ft+2CFN/JgRbcePH+d//ud/+PLLL3nooYeYOnUqTU1N1/OruGLGcsdFFwgGQjN+1IpoPr/jOEUzXLOPGVBL16e7pmuGohuXBETpfUuX7CE0GokSAAqJQmgFWgXva0A4hW1ctAjO4SiFo/Io6eAJF43C16CkJC0lgzmNoxRVDpRLjRYCRwoQqvQiLDc9I/2eouR5qcwJGpKvPDSQR3B+KE/ejZNMObhAAkiiiSuFQgMST0h0RLgJ30PgI2Th+MJMGRxUQdoVelwgznRJLxFmi2AfHX15hKseb6JxYtHMSYD29nb+8Ic/8M4777BixQp++ctfMnXq1IvchcbFGR2zxorfNeNzf38/LS0tdHV18Zd/+ZfMmDEDx3GoqakJ3ZPmuozg8n2fbDZLNptl9uzZzJ49OxwLzTh3oygthhv9Ps0jWuIjWqapdLmp6L5WaN763JAlmYxAisVi9Pb28v7773PmzBnuvfde7rjjjrDifuli5lprzp07x/vvv088HmfVqlXU1NQUiZToLMyIjWiH7u7u5q233uK1117j1KlT3HbbbfT399/U1jIjvDzPw/f9cLZoZozm80cHKiN6zWtmMP02KNVho3/LZkuFIrBHaBSEj4IwC20XGqUCq4XUwX554TCoQQmBJ6DPh848HD1xnlxvF8sba1jeOIm4FHhK4TojWTgsNzdj/Z4i8r4oPBVoTThxyWvN2fMDfH28kwtOJVOmT2bKJJd6B2o0lGlNTAYWWwV4WiMVxGVhDIlY30a/KnMdpm1HNxJhJykVZt82RgCYeDHjrszlcnz00Ue88sor7Nu3j4qKCvr7+8N9zNhZ6uUoXSvTbBdNFjDP29vbOX78OIlEgsWLF1NdXR2WxCgtr2GOk81maWtrY2BggGXLlrFs2bJRr+dGYpIkot+DGavN921qtRkrY2lJkonyWSzfPjck+F9KSS6X4+zZs3z00Ufs2rWLBx54gDvvvJPy8nKGhobCDJ7a2tpwZpTJZPjmm2/YuXMnt99+OwsXLqS8vPyiNdhKxZg539DQEB9++CEvvvgibW1tRQPHzcRIddiAIgthLpejt7eXXC5HRUVFWCuuoqLiIhFmBghTUXs8rWZCR24qBUOFIuKsEYV/AXODEgJi6IJTSOCJWLizEhpHBn9JVMGtpNE6h68VWZGgF0Gvgs4MHDqbpbV9kDNnu5gih6itrWKBlCSkRvoKoV2ry25FxAiSZtTfWSC0Rkjw8RnSDl2+y56uPC1dnZS1S+bNrKW50WF+uaAx5lAJCK2I6zwpIRDSASQeAiHiBWf6sJVYoHEL7Vsj8IVA4CCEE8g7XWj74dQlEG6y5DqvF1GrjO/77Ny5k1deeYXW1tYiV+K1VN2PCrOhoSF27txJd3c3ixYtYsaMGUWTbCPMzBhl3vv6669paWmhubmZH/zgB9TX14djupmYTpRSSOY7zWazYbLD4OBgeI3JZDIUZPl8viiWLpoAF/UGWW5NbojFTClFX18fW7duZevWraxfv56FCxcyNDREX18ffX197Nmzh6qqKu68806SySRKKc6dO8fnn39OLBbj4Ycfprq6usgsHBVjuVyORCIBEJq9d+7cyUsvvcTBgwdJJpNks1ny+XwYl2D2nYiUXlepS7i/vx/f9/nmm2/45JNPaGtr49SpUyilqKiooLq6mg0bNrBhwwZqa2spLy8nHo8DwYDhed64Z6cKHbk/EsSOaUAVXjTSaziapmDKxzhzQBVcQKqwry8EfsHJI7VCaA/Q5IWgXyQ4m3c4MqTYdzbHwY40x3sytPXk0J7D7U31ZFJVZKSgHJ+4LFgrJuhvbrkWdMm/FP/OxjJl/ij42H0EnivIJ8s579ZyLDPIwNk8ey/0crA9xpqpMZbUx5heE2NS3KFBeEjloYRCawclHSAQEsMxaQWLbkF8KSnwo8ItFGjmwoKINKmj1lxjRfv226oZa3K5HLFYjFOnTvHKK6+wc+fOImvUtSZGmAm1scjt3r2bgYEBfvjDHzJt2rSi4rNme8/ziMVi+L7PiRMn2LZtG57n8cwzz7B+/frQNWjGsatdBWY8iXpvstksR48eZc+ePXz55ZecPXs2HHurq6tZsGAB69evp7m5uSgeu7QcieXW5oaslTk4OMh7773Hf/3Xf9HR0UEul2Pnzp04jkMul6O/vx/HcXj22WeLZjvt7e18/fXX1NbWsmHDBiorK8P3ShfENbMlCMRgb28vr7/+Oi0tLcRisTDp4GZs7KWizHyGN954I6zp09nZydDQEEKI0K25bds27rzzTh577DHWrVsXms6j3/G3bS7Xhf9U4V+DCY8Oz64LM0IhwmDrQNQF7qNCNCEIh7zS9PgObRnYcXaAPR0eh7oGOTvokXbKyCRqQKfpymv6fEEe8JF45JBWk92CjCYWIj+2KI4z07oQ7O/E0EAWuOBLzpNgQFbQm9MMnk3TO3CBg6cVM6fWsHx6Nc3lcSbFBNJXOFLgColTEGWmPYvw3PKi64hKr2BbgUSEIi78V0iuhyiLorWmp6eHt99+m+3bt5PNZqmurqa7uzu43siYe6XiJzqG+b5PR0cHx48fx3Ec1q5dS319fVGCgHGtGu9JOp1my5Yt7N+/n7vuuosHH3wwrF8GxRPZG11k1nxWz/NoaWnhxRdf5JNPPuHYsWNkMhmy2SyO45BMJqmpqWHbtm088MADPP3001RUVADBfSqTyYSJbpZbm+suzJRSfPXVV/z2t7/lwIED9PT0cOLEiXAmlsvlKCsr44knnmDevHlhJs+FCxfYtWsXHR0drF27lqlTp1JWVgZcXOwQghmGafCZTIZ33nmHbdu2MWPGDBobG9mxY0coSEzJjJutwZsO7/s+mzdv5t///d9pa2tjaGiIKVOmsH79elzX5fTp07S1tbFr1y5OnTpFd3c3lZWVrF69uii9faz6b9d8rSWPYkvZ8G3LhEcbJ47UGq09JBotQAhJBpcsgqyQ9CvoHNQc6snx2Yledp/NcGpIknWSZEUCRZKs75BwYsRTLm48hhKBMHOEUyQOLbcKI2dGXrxN9G2Jki45BTlASihLJpDCI+sHsYuQ4Jt+xaneQVp6+9jdJVhXL1jVVM70SUnKJLgeVEifchm04qBtC8BBCxEavszAO+K0MIyjvDHB69EY3c8//5zXXnuNeDzO2rVr2blzJ1AcV3Y1awlHY6583+fLL7+ks7OTmTNnMnv2bJLJ5EU1LI1lzfd9Pv74Y9566y2WLFnCz372M6ZPn15UMNxc00SJzdJa09raygsvvMDLL7/MmTNnqKqqYsGCBdTV1eH7PsePH+fUqVN0dXVx4sQJ6urquPfee6mqqipKbrPc+twQ5/uUKVP45S9/yeDgIMlkMowZMMIslUqxcOFCGhoaQp97Z2cnn376Ka7r8vDDD1NWVhZae6JV+6Np1LFYjHQ6zcGDB/nDH/5APB7nqaee4osvvuDrr78uyma80ebua+Hw4cO8/vrrHDhwgEQiwR133MFf/dVfMX36dMrLy8MEiz/+8Y+cOXOGzz//nC1btrBkyZJQ3Bquz/dg4mkCgugcEFogtEALGYnRLmSvFfLgfFwGNHT5cC4Px87DzqO9HGjv42TaoUtX0S+TICWuIzETc6kUjvKRqrSAx837u1vG4lLCrJRgauAKiAPSB5EfIqbzxByBJxwG8j5ZYqTcyaDitJ3O0naun91n+1jUWMOypnIWVDvEhMQpysMMsoAVQbt28BA6iCWTBK7PIs9q0TVFkxWuH57nceDAAV5//XXa2tr41a9+RTwe5/PPPweC8dVMaK/GnRktneF5Htu3byedTrN8+XJqamqKXJYwHJ/l+z6ff/45L730ErNmzeLJJ59k5syZoQiLxl9dS/zbeKK1ZmhoiB07dvDGG29w9uxZ5syZw5NPPsmGDRuor6/H8zx27tzJyy+/zFdffcWhQ4d47rnnWLx4MWVlZcTjcWKx2EVhO5Zbk6sWZtEGYgROdCFb00GilZ4h6GCLFi1iyZIlYf0bGK4qbTp71IJj6o4dOXKEuXPnsmbNGoDQFRfdNrrEUyaT4ejRo/zud7/j+PHj/OY3v2HTpk20trYWpVyPZSW6nNizfD5/RTPGaOxEdAHgkc5Rmo1kyOVy4ft79uzhww8/RErJypUr+Yd/+Afuu+8+kskkUkqy2SyrVq0inU7zf//3f5w5c4YtW7bwN3/zNxctdXU1s99REcO3FBXapiIBzRpQCqllEGdjJoRSo4VCy+CWpRDkcEnjcD4PhwcUe9tz7D+X5WhvntP9HuezKXIyyaBTjjK1knyQ2g9Eme/jeIq48klql4TI4fgKIRI2+P87RjRpUlDwEqJROoeQgjguSQRxrZC+Byi0G0O7MTySXACUHwdZzmDe5XTnEPv6+tnZkaZ5agVrmhLMqpBMdl0qhCIhFG4hAUBoD6FzSO0jkCAcgqmJGwRhGnUmCpFmwlTdE+M6hTBjXzTrPUpvby+vvfYaX3zxBQ8++CAPPfQQX375ZTiJdRynKEbVHCdaIqI0Fs2MNdFSPvl8ntOnT7Nnzx5SqRSrV69m0qRJRcH+Zp9MJsO2bdt44YUXqK+v5yc/+QkLFiwACOOFDx8+THd3N/fccw8wXC9tJKJje/S+cymiy1CZc0RXQoh+ZqUUnufxzTff8N5773Hu3DkaGxt58skn+bu/+zumTp0a3gebm5spKysjl8vR0tLC4cOHOXDgALNmzQIgkUjc1AYEy+VzzXdg0yGNwInWHjOdb2BggDNnzlBbW0tDQ0MYkBmt4WJM447jFHUOx3Ho7u5m27ZtYfzBpEmTioI7gdBkHe3IAwMDvPnmm2zfvp1NmzZx1113heePzqpGEj6Gy+kIUZFnPsdYYi3qMowGeJrriX4fpbNRM9CY2VNfXx8nT56kt7eXqqoqVq1axYoVK6iqqgp/i/LycpLJJI8++ijvvvsuJ06c4OTJk/T19YWFGaP14sYLDWGdseiLJlpG6MDFEzoxhS6kbGqUUGR9jec4ZIVLdx7aM9BycpADXTkOnUtzsl9xXsXIyRTadVFKF8pCiTD7U2kH13EQKonSeZQiUjsqqCOltR3sbjkuaSCLONSNaBIKoUAJiacdskriO2WoWAU+scK2sihmLOdW0u079KfTdGVynOnr5chZybzaOCtm1DC7ymFK0iWFJo4KjqJ8XPzA1SmC4wg8KFjPzEMjCsWWh0XZeLVUMxksHV/MRO6TTz7h/fffZ9asWTz22GPMnz+fr7/+OvjOSmpxmTEy6rkwgiSXyzE4OIjruuRyuaIJuOu64XJLPT09LFy4kBkzZoTJXtGkJN/3+eyzz3j++ecZHBzkjjvuIJVKhdn12WyWI0eOsHPnTqZPn84999wTCruxxvBoMdrSum2j7WfidqPrfpaOm9GyGPl8nra2Nr755huy2SxLlizhoYceorGxMTyvEIKqqirWr1/Pl19+SUtLC+l0mtOnTzM0NERlZWXR/cAKtFubq74Lm4YRnXFFG6qZRZi6Y9u2beOee+7h8ccfJ5FIFJljo8cwHdukE3ueR1dXF5999hlVVVWsWbOGVCp1UR0cs68hm82yfft2PvjgA2pra3nyySeZO3cu6XQa13XHzRQ8kjAt/Y5GIhr7UJoSfqmBJLpmXV9fH93d3fi+z6RJk8KYBbON6fhSSubMmRN+b0NDQ8CwtS8aLzKeqdhFjkOtgweFG4wK6kdpLcEBXSjL7wnIIcm5kvNacOyCYm9HjtbOPDuPd9ORjzEoEuREHD8eC+LFlI8rNI4I9h++kwk8DzLEyDsuOemSEZDBQWq/yEhh+W6gi54FokcKkEiyQEYI0hL6idOvgrajZcH8qyUOHlKBL0F7PsqNk5UuPSrPwECOU31p9nX0s7/LZ/nUMm5rKmNetUttXJPUGt9JkEDhBnZiJKKgE00hGUFgLhZm+jDuMScjFSs1YmrPnj386U9/QinFI488wu23336REIkKM5NpX1pEVilFf38/+/btI51OU15ezrlz5+jr6wtrlOXzeT755BP6+/tZs2YNDQ0NwHAmoymPceDAAZ577jnef/99Jk+ezJtvvsmf//znUBBlMhlOnz5NU1MTGzduDMcx4xK9HCFTWiNttG1Kn0evdTT6+/u5cOECEITyLFy4sGi8N999VVUVtbW1xGIxstlsWPLIfJ+2TMZ3g2vu76WN2KQ0Axw8eJA333yTP/7xjxw9ejSMf5o+fTpAUSePNupo40+n07S0tNDR0cF9993H7Nmzw1lQ9NxGzJmGfurUKf7v//6PTCbDU089xbp160gmk6TT6YvOYT7H5YqqKKWdM9p5xoq9KBVypVY3GBa60VlfaVV/KSUzZsxgw4YNLFiwgEWLFoXu4dJtT58+HQ5UZWVlJBKJcOZszvGtLWGih8tnhBYHIdBCkNfgi+CRA9IILvgOnWk41DnE7jODtHblODXo0JWrZMhJoZw4OA4IjfY8BCrIhhtJaAnQboxcXNArBe0K0iIG2kU6wgqz7xBhl4z07+FnDjkNQ0C7hvMySdpV+KaNKGMnG84pFlLgK9DawVMOnkjhxSvI+lm6T/VzvKuLw+1JVs6sZFFjOdOrXWqkQzmaMiFIoIlrcMNytdEUGSe8Os34N1MzhprxOp/Pc/bsWf70pz/R0tLCI488wn333UcqlRpzLItOTM2EsLe3l927d/P555/z7rvvkk6n6ezs5A9/+ANDQ0P84Ac/YNasWXR1dbF3797QlWcyK032pZSSjo4OXn31VTZv3kxfXx/nzp1j//79RWU0zL9r1qxhzZo14ZgWXY95rO8gWstxLKtUVLyV1nOLbhN9KKWorKxkxYoVzJgxg2XLllFTUxN6PcwxjAWxq6srnFTX1NSQSCTCMdxazL4bXHOMWak4Mg1n7969PPfcc7z55pu0tbWhlKKlpYXW1lZmzJgRdoZo7TG4eEmQ7u5uXn/9dcrLy1m3bl0Yf1Dq/osKq66uLp5//nlaW1u5//77eeCBBygrK7uoE470eaLXUvp8JIwgLC1wC4w6KIxkFYvGu0W3K31uBgQjAGtqavjhD3/IzJkzqaurY8GCBUUB/eY3OX/+PNu2bSOdThOLxWhoaEAIERYxNNf0bRRjFFAkzIxVQCHwpSAvIQMMoelVmpOD0NqlOHj6AofaL3A2I7mgUlzQSXKxMnzhBjdWDUJpJAJfOIVitGI4dq2QMKAdiY/g5AWfjw95nDnjkRQ+Ap/QpWm5RYk60k1gWaGvF/RW0BWD5ZV8BUt//zwAACAASURBVFkfunIxvjnvk3WSgT4quMCFUKADd6dGBPGLWuNrEURPaklWuignQc5NkM3203NqkKPdXcw5k2fRtCpWTnOYXiaoiwmqhKBMQBKFq0Rw/KIis99emYzSiWhfXx/vvvsub7/9NjNnzuTRRx9l6tSp4WRuLKIiz3EcXNclFosxdepUnn32WeLxeJgl39jYGB7P8zxWrVoV1rIsLy8vGkshEGlz587ln/7pn8hms6E1ybg8jbWqurqaJUuWMHny5EuGkxjM/tFlnC5H/JTef6JxztHXjZt07dq1VFdXk81mmTZtWhgfbbYzlsEjR46wb98+hoaGaGhooKmpKRTGlxKNlluHcbkLG4GldVD3Zvv27bz++uvs3buXTCYTxlIdPnyYHTt2cMcdd1BeXl60XxTT6E0xvu3bt7NmzRpuu+22sBis6UhRE7JSigsXLvD666/z0ksvsX79eh5//HFmzpxZdK0jnS+6ruSVYvbp6emhpaUltEyNdiwTYJ/L5cKYOq01y5cvZ9GiRSQSCWKx2Igd0Qgo814ymWTevHnMmjWryKUb/Uznzp3jvffe49VXX6Wvr4+mpibuv//+sEaOOf64Bv4zfFsJ/zYBPQVrma8g78Ag0O1rTg/maD11jl1dsKcnQeegYiCfJC8S5GWcnHZRvgJHmYjtwOqGS164QaxY4WVH+8R0GqEVHuV4WnDmQpq+3kF2k8VXAuG4SN8LSnIwnP9mfrXoa5S8f7mvlR7nao99PY9zM1zj5Rxn+LXAviUIxFgkugzQgcaXkpwjkdpD5TMgEwzIMnyZDI/jCIXUHr6QeDKYHOicIiklCemg0IH1Nxe4OZEJwCUvKzg/lOHYCcWecxc41OaxYjIsbqpl7qQYUxLDBWmHbdXaRJlRugD6eGDGUBPWkc1m+eyzz3j55Zepqqriqaeeorm5uch6HhVL0RgqGL4HmFCJ6upq7rzzTjZt2lQU7pHP50NrmBCCuXPn8o//+I+4rsvUqVOLxmZzrMbGRp555pnQAhYdo6KeByMMo3HHY43n3d3d7Nmzh2PHjqG1DmNtjdt2NIybdOHChTQ3N4diMvo9Rf+VUjJ58mQmT56M1pp4PB6KOHPv6uvro7W1lc2bN3P06FHKyspobm5m/vz5YZKF2ce6M299xtVi5nkePT09dHZ2smDBAjZu3Mj+/fvZvHkz33zzDV1dXRw4cIDTp08zd+7ccL/SzmOsQd3d3ezevZuhoSGWLVvGlClTimrTRDMKzZJNe/fu5dVXXyWZTHLfffexZMmScHZW2qjNQGKuPVpyI2qFK3W1ln4PRgidOXOGV155hY8//ph0Oj2q+d/MojKZDLFYLMzmefLJJ/nNb35DXV1dUVBoaQxa9DjGehiPx9FaF2UX5fN5Ojo6+OCDD3jxxRfZt28fZWVlrFq1invvvTesFVRanHdcMUYKGDaZaR2YKYRACegbUhxs7+frY6fYffIsh7O1tMdnkHPL8KTCAxACKQWuA1orfF+jFWgh0I6kqFKsCMKpHS0QCDw0GhffLSOtHPI6jx+L4esYcWnW2bTS7Oa6xkscp2hxeh15zvBrxpSLQAlBVkpi0gcGAxEgU2iGs3YLU6SwHhmAcF08pcH3EdpHCo3rSIQTJBAMaYEUcUQsTlpp8tksQ8eP0dsxwLmuXtIz6nCbqqmqiSGExNd+Yc4RjENSRyY346jPSse3I0eO8M4773Dq1Cl+8pOfsGnTplBARCv0G7ETHSfN8YxgMZO8aJZi9G+zv+M4VFdXhyu4RGOLw49ceB6Px8MSSEY8me2jY3g0y/9SVr729nZefPFFtmzZEk6kzYox0Xi6Uoygffrpp5k2bRqpVKroswNF9ybzt6mtae5fRszlcrmwBMg777zD+fPnWbRoEU8++SSzZs0KvRqW7w7jEmMWbYxlZWVs2rSJuro6KisrOXr0KPl8Pgz63LdvHzt27GD69OmkUqmL0rWjYuP48eN88MEHTJ06lbvuuivMTDEdu7SBt7W18cYbb7Bv3z6eeeYZ1q1bV7TIuel80VgII9aiQgi4qKONhel8JoW8rKxszCU0zDkTiUQ443McJ3S3lhZ7LXVjRr97czxjfTOfY3BwkEOHDvGnP/2JzZs309raSmVlJRs3buTJJ59kwYIFF828xnONzPAao0/MjVAD+GgkShXi8ZQkn0+QzZfhqwTaUyjto92CBRDwVR6JQ1AdXeKLIEAazbBHsnAepQV+oXn7wgUlUQ74voOjPRzHxctpfGRJVbXo7z0er92qx5nI10ihjUXF+sU3+yi+BuVLfA0OcRAOvnZBuOFhtJAESycJhAItC5m/UuCIYCLgFNal8H2NrzQU2qhWQRykdEDH4+TcBDlf43mKmAgG4nw+j3DAlNGQOjhmkTYdJ3EWtar39fXx/vvvs2vXLlasWMGPfvQjmpqaiiZ80XEXhr0MUXcjFFvOovcFs5/Zzvxbal0qHZOiv5UZn0qz9g2llrRLYdytZWVl4VhtSlKMNu5Hx2QzzpvPWDo+m+s343e0Xqe5x7W3t/Ppp5/y+9//nk8//ZRMJsO8efN49tlnue+++8J7XnS/SyWIWW4eov0qOhG4pqzM0sBH13VpbGwsqiU2c+ZMvve977Ft2zZ2797N0aNH2blzJ/fff39osYnGVpm/BwcHwxTjVatWsWjRonCQKM0kyufz5HI5Pv30Uz7++OMw9urEiROcPn067BBKKdLpdLgUhpSSU6dOsWPHDk6ePIlSilmzZrFw4cKLzjGaxSzaQaZMmcLDDz/MypUrL4qDKyVa+8f3fWKxGIsXL6ampiY0XZvvYyyLHRTPFD3P4/z587zzzjv88Y9/ZM+ePXR2dhKLxXjwwQd5+umn2bhxY9FyVt8m0Tnn8HdVELJSENNQHZMsn1VJxaQUkybXsbdjgMO9adoHeunLuwzFK8m65ehYEt93QA/fpQQaKTQOeYT28EQCHycQZyKGj0AJCRLi2qdcDVDu9eJ6mpwSaCeBYPTv1nKzcmW/qQK00DhC4eCjRZw+laNfSrSTRCsQ2kNqD4FEiVjgYnQUSIWvHZTvkvdcJAUbnYKEK4iTRXrnSTBETUwzuyHOqsZaVk6rZkmtS2NC4mqF7+eQTix0Ygate1wNZUWYye3u3bt58803OXPmDOvWraO3t5ctW7aEMaee56G1pqWlJYyfPX/+PHv37g3Hubq6OpYuXUoikSiK1ZoIa1WORkNDAz/+8Y/ZuHEj2Wz2kmM2DLuAtdYsWbIkLN1UKpaiN1mTcRmNswPYvXs3mzdv5oMPPmDfvn14nseaNWv46U9/yv333099ff1FBoNrCbmxTFxKrbPXJMyMaIj6+U3MVD6fx/O80HW2bNky9uzZQzqdZv/+/bS2trJ27doRFxAXQtDe3s6OHTsoLy/nRz/6ERUVFeEszAgt08BjsRhdXV3s2LGD48ePA/CHP/yBN998MzSNm07n+z7Hjh0LXX5fffUVXV1dpFIpXNflmWeeCYsWRtdnG41oAkNtbS133333RcUWRyPqBi2dOZaKwbE6oomJyGQytLa28vrrr/Paa69x5MgRHMdh+fLl3HPPPTzxxBMsXbqUZDJ5Azq2CF1B5swSRQIBUhCTkKxxaGiu4bY5lRw6M8je0z209mZpy6U55wnSMsikhMCVJCU4QuPoPK4/iKPzZJWPkim0DBa0UYUnUmsaUoql9XHmlVVSLvJopfAdN3BNWW4dtCQY2i5fnCmCdVgFCk9o+vIO+zoyfDMwQMaT+MLBIUgYCWr4CxRuYQTV4Cs0EpzgnDE0calJqgzl6jwNyX7mTI4zp6GMZbNqmVMdo94V1CpNUnm4wseJuygxbPz1C81S6ojBeZyIlpP4+uuvOXDgAOfPn+fDDz9kx44dYf1DswSS67qcOHGCvr4+AI4ePcrvf/97amtrEUJwxx130NTURF1dXXiOiVKdfrRxuKamhu9973tIKUmn06GrNeqFGYloBnvU7Tla8paJsTbf+YkTJ3j33Xd56623+Prrr+nq6mLq1Kl8//vf56GHHuLuu++mvr6+yDpZmp1vubmJurlHap/jUmA2Gm8QrZ9lZhHTpk3j9ttvZ+vWrbS1tbF3714+++wzVqxYQSqVKrL4mAZ/7NgxduzYwaRJk7jvvvtCs3Fp8LvJAkokEgwNDYULlnd3dxf596PrjEUbeG9vLx0dHWEn2LBhQzgQRUXSaOLMfM7SzmlckqMRzWAy1jMTQ2Hej247Fvl8Ht/32bFjB//93//NW2+9xYULF5g+fTp33HEHjzzyCHfeeSfTpk27LME4nhTbyAAkWqgg3MzPI6QmKRxiGuISyhIwNeEwt6KaJVOS7O3Ns7Mzz56OHG0DfQzoFD4xFALhSITUKO2jUDiFGDYtAjuDQOPg4yModxSzqwX3Lq3g7pnV1GIa/7cRWm258VzZr+oTLFyeI8gQPtoHYlcfPW0ZurSHKsSuaaFNbdrh0DYTR+mCq31E3kPmPJIiz5SEx7xqyeqmSdw2vZI5kxIkY1COpgpFSioc4SF0UMNMCAlChq0y9MiKwsoZ49h1jSXswoUL+L7P0NAQBw4cCCe/RriZMSq6PFJfXx+7du0KPrcQVFZWkk6nwzpkpV6QiUi0vFEsFiuyTo3mziwtKjtaluRoCWanTp3i//2//8f//u//cuTIESoqKli/fj2PPPII999/f5j8Zaxs0XtI1Co3Ub9Ty9VR2o7GJcbMiLHS5SjMe4lEgpUrV7JkyRJOnjzJmTNn2L17Nx0dHVRXV4fHMdYtE4uWyWRYv359WHAvah6PfhggrJGWSqXC4qmlRVxN9tHBgwc5evQo2WyWOXPmMGfOHCZNmoRSiubm5lD0GQF3OeZtCIoIHjp0iI6Ojouur/Q7M4GgppaN53nMnTs3LHcRtaBdTif89NNP+e1vf8t7772HlJKNGzdyzz338OijjzJv3jySyWQogEvT0b81NETLFejC4uShI9KJgVYIL4crQToQF5qccknGHMobEkyuTTCjQTO/Ps+B9jSH2nvpzkj6PYesF8OPJ/Ach7wTlOzMywQIF60UUvu42iemHVIqRzLvUaPKqMOhAkhoSIgrdXpZbg5Gie8cZWuNxgNyCNJI+gUkvCFUdgjlJFFuAiVcNBopghVc0YAnEVIgC1bbuMqS1BmqEj6zqlM0N1WxuinJ8hrJlASU+T6OEsSEIqY8HO0FtmRRWP1CDtcuC6+4SAmOD0aQuK7LihUrePLJJzl//nw49pXG2ObzeU6cOMGuXbvwPI+GhgYWLVpEY2MjjuOwcuXKi6rTQ7GYuFGMNn729fVx4MABenp6ispRjGWdMsdSSjF//nxmz55NPB4ftQ5nlM7OTl588UWee+45Tp48yezZs9mwYQPPPPMMd955JxUVFUVxz9FxOioIb/T3afn2Gde1MkcK4jePBQsWsGzZMrZs2UI2m+X48eO0tLSEQejRbJxTp07x6aefhsHq0YZuOkAulyMej4ezlkQiwc9//nMee+yxotitqEVLSklPTw//+Z//SVtbGwBr1qzhr//6r5k/fz5aayorK4tiBqJCcCSiPv+Ojg5eeOEFtm7dSiaTGdViZo6ZzWaL4smefvppGhoaijp6aTXtkTh16hSvvPIK7777LvF4nPXr1/PTn/6UBx54gMrKynClhWgw7vUhGpVvXgnEmRRBdqUUhbRIESxW7mifmHCQJvLLgeoawdzyOM21kn0VeY725DnWk+V0Nk+v9ulXSfLCwZcxlIgFPk4drDIgC66npPBIqCwxHScGxAgWq44rO8jdehgxM8INctRJjiKOR1yBFgnivoOjPBzpgpNAFyxZnoagMIYALXCVIK58YmqQuOplUiLLvIYk8xvKWTqtlrkVMZoSgskaKnyIKYGUgPaRYZ8UgAMyWPbcWMuCVTIUIlwRYPxqmkWtWT/4wQ9Yv359mCUOFFlrzLavvvoqra2t9Pf3s2DBAv72b/+W9evX47ouqVSK2tra4LpvEuFgsjI/++yzorWHx5oMR+9rv/jFL/jpT3/KlClTiowRpdtrrUmn03z44Ye89NJLtLe3M2fOHJ566il+9KMfsXDhwjC8JHrfKc3stHx3uCaLWdSqM1I2TbShTp48mYULFzJ16lROnjzJ/v37aWlp4fHHH0dKWZRN+M0339Da2sqyZctobm4OhVFUUERdfkIEhVITiQQ1NTVFjTvqjhRCkEqlqK6uDt9PJBI0NDSERW9LP9vlfgdmRmMsUmNVnTZZlEacmdiGbDYbWs9MYkR0nyhm4MxkMnzxxRe8/fbbZDIZVq5cyVNPPcXDDz9MTU3NRcuoRAV0tI5cNMFg/AZWXbgRqiCyTKjCrTLIhJRSBsHNwkHjo/FRJiMNQRyoKbgn6+OaWfWS5dWTONEfLNH09el+9vdkaM/nGJRlZGQZGR1YPxCCfBDRjVCCvBZoEUNpiVJBKJCjjcvTcusx9uRDR0Vb2EZVYa9C5rATx8Mjr0SQ1SkABFJIXCnQnqZce6Ry56mJDzJrsmDRtGpWzKxkTk2ShliMcgFlWlOmRVDhX0u00mjpBC7L0BoWxLGpUJRRmMIEEwvNpbMMrwQzfrquG8aJRSeZIwmCyZMnk0wm6evrw3Ec6uvrmT179kXW95tFmAFhvUjf9y8qFD7S5zBu3kQiQX9/f5F718Qwl5ZyUkpx5MgRXn/9dY4cOUIymeTpp5/m17/+NbW1tWFZktLzjeTZuJm+W8vYjCW4r3mtzNLnUUpdZ8uXL2ft2rUcO3aMvr4+9u/fz5EjR1i2bFl4kadPn2bLli0kk0luv/126uvrLwqMH+uc0YYc3SYq6oxgMqUtEolEUSzFlRBdI66xsZEnnniCNWvWhJ10rP1isVg4S/V9n8WLF1NZWXlR2YroQGnOZyyBx44d45NPPuHYsWNUVVUxe/ZsGhsb6enp4eTJk0WBrOa7MZ9z3rx5YU0eGBZq49v5jdVsOHw5tGWI4XxIjYsnHBQKiYNTCKiRIo/EC44hodyVTKorY3ptjMUzytnbmeerEz0c6uzl9EAvg4lJ5GQ5OQ+Up/BkDCEchpD4wkPIGK4sLIGjFELage7WZJTftfCyiOoyAC3QOnAlSscBR6C0RAsn8DKKwHqV0nlENo3QmqQUNCV85k+NsXR6I8umxJlVI5jqaspFnjhZHMBFEsMNDLmFJBhNUIZDC40x2uoiUQZOQZwF1mQ5nuFlI46l0biwkaxG0fEnmUyGa1CarPKxznEjGS3+q6mpiR//+MesXr0aIByvRyp6bojWWlu8eDG1tbVFwflR74oZa9PpNJ9//jkff/wxAwMDbNy4kQULFtDR0VEU3xzdz3hVGhoaqK6uLlpkfaTPZLm5Kf09x3/9HYqVYNRytXDhQlavXs3bb7/N4OAg+/fv54svvmDx4sXhfmfPnmX79u1MmTIlzNocT8z1eJ6H53lhmvTlLnQ7GkopysvLWb16NStXrgytZ6NhBjNjOTMFbk0WaKm1LJpUEa3H1tvbS1tbW1hK5KuvvqK7u5uKioowjiS62oERZU1NTfzbv/1bWEuuNDt0vBnRsSQCY4UGlKBgG3CQOrBmCRMnJIbdOHHHQWiFIwUV1YLG8hgLaidzpLuMPSf7OdgzyIn0EAMqTlbEyfkCJWLkcYKMzUKGm4uPI7IjxPRYbnp0IV5rjN/14rYoQMbxpCRH4LL0fB/h54kJD+1r4n6aCtKU+UOUJxI0VCdZM7Oc5U0J5ta6TEtALZBSGulrXCmNkQ0cD41CKwnaDS1jRqhFL8wUlZ1ordJMDvP5fJgFDpdXM2wiUlVVxbp161i9enVoQICxRU800cuMudFHNAnOjKkDAwOcOHGC8+fPh4XIX3rppYvWSy49d0NDA48//jgbN24MC6ubbawwu7X51oSZSQaIZm1WVlayePFiFixYwO7duzl9+jS7du3i8ccfp7a2lvPnz3P06FG6urr43ve+x6xZs8Y9HsqIG9OwjSnbLOVxpQ0+GiwLFM1sLjVgmZknEGZARQVSabyDmZ0awaW1pr29nZMnT4blSQ4ePMjhw4fDFQWgOJPIWPfmzZvHv/zLv4RVq6PXPm5E42eg4Cgadh1GFzVXYKpgQBhXY5ajMeIpcEPKQtC+qyHlQu0kyZyqCpbWpdhzLseu0xkOdgzSncvQLxJk0KSEIikUcakDK53y0VLi4WDD/28xBHAJ119UDAVl8SSSYEklJQJXd0J6lJEhrwfxlaZC9dMYz9FUE2NuUyWLZlcxt0bSmIAyFPGcT0pKEkKA7yB14KpUUoHwAQ8tBEI7FBKHC3XKCv1bi8Bapk0/EEFs2/CH+tYpHW9KLUdmTDGhIzB2nceJjLlPmaKypRPi0YL/o4lt0cQw8z1ExZbneVy4cIH29nY8zwuLyp47d65o+5GYPn06K1asYPXq1WFZqcstem65uflWhJnBiIyoQFm8eDFr1qxh//79pNNpjhw5wqFDh1i7di0nT57k008/paKigg0bNjB58uRv5ZrmzZvHD3/4Q7LZLAsXLgx9/FeD6aClcQVjZXNGY7yiiQ+mHpkxi0c7bTS7NFpvp7a2lttuuy0MQDUzPzMImNiH6HGEEGHBXhgWZOO9VmaAG1rEYFiWFbxD4e3GpVC7KeLsoVBo0y8IJ1Ny0xECp3BTiysf189TjqK+Js706jIWNibZfTLFgdP9HO8e5MzgIEIpUn6MuHYRxPERSBxU4NQc589smejoyE9ekCEobdajCNqjkx9ApnuoSOQpS7g0lftsmDmJlbNqmF4bozwpqZRQCUgVuMZjolDyQrqYQIbAOuYXElIIxZfWIIRCFVq4KKxqYXpJ0AucYMUBfb2k2fD4VFqeobGxkXvvvZeOjg6am5vDItU3q8UsajwwHozoklNjuTOjY3RpTJ4Reea7c12XWbNmcffddyOlJBaLMTg4GO4/mqitr6+nrq6uKATF3FNu1u/ccnl8K8IsGuMVdWVKKZkxYwbr169n69atHDp0iP3797N161bmzZtHa2srX3zxBYsWLWLt2rXE4/Fxb4BVVVX84he/4Nlnnw2v8VoKrpaWCrnc40QF0FhxXdEsoOjM1CzBtHHjRm6//fai9OrSaxrpmJlMJpyFRbNQx3P2qwnWwjRRZkAh58wv3KAis1NEIJEEICR+RNDpwo1KUmhThURPITRCSModF0EepbOkXEFVtcO8yiSrpsc4cDLO4XMZOrv7qNODxPwUQpfjixguEFfBlVpuJQKJf+ltzNPAMpszFl2p0dkhEvl+ppf5xKoF86fX8YPFlSypdKj0FRVSk0Tj+IFtzhEC4sNlfHwZFKwNEwaIFTKNNahC2xcKgVcoWgugENoJXbFaiLD9X1+72cUIIbjrrrvYuHEjMLz8nHHbjf+E7vpQeq8aK/Afhl2Z0bCPaJhI9JgQjPMzZszgX//1X4tieI2HpnRNztK4aDN5NuN9qVXPcmvyrQmzkVyDZrawePFili5dyrFjxzh79iwtLS0cPnyYgwcPkk6nWbFiBQ0NDUW++vG8NrNsSPTYV9vYo9mM0dnWWNYnEyNW6uodKfg+enwzKzP1hwDKy8uL3jMia7TsIrNdeXl5OPsy2461vue1Mhz6X/x8GB2KL40Iq/GLER7DBxVBUHaQSYAjJKnC4tRljqC21mV+VQ0dg3D8VIzchW6mxiGmNY4UaFWwldmB7hbDp3gRc2N/Mq1Hm4h/TKCjFhJlirwqTZXwaW5IMXNyLdNnNzKjIcVkByqACleSQKE9D1e4hcocGmRBiElRsO6aswdru0rhBoVkC4JNFFz1QotwOzCmsSCzWBt/5w2YPJS6Mh3HCcebqCi50jFjIgWwR40G0b9Hw4ynpXXLot9HdBw24ioa7xu9R4w1KTehLZdTI81ya/GtTXNGKnFhGtW8efNYvnw5H330Ef39/ezfv5+XXnqJ1tZWGhoauOeee8IaZaOVnLhSLpWpebWDxGiL6I41gxxtsd2RrIOjvT9SeZLoZxzN0hjdbqRtxlUEM1L0VuHV0jdF9KXRr0EMh6xFXpRoYoU9JUkKdcq0JiU1k8oEs2dXoPMJylyXhNa44U2wsBC65RbDYSxhViggE76nAek4SKVJCGiqKqNy8Sy0dEgmE8SkxtUCV4BEBOuxuk7gjgzPV3z2YitXIM+Q0WB/E+JvinQMW9jMdUaPeiNa6aUy4ccaawwTTUyU3gtKLVxXezzzfKTjli7eXvp8JEa6lokgZi3fPtfd/iyEoK6ujmXLljF79mxaWlpoa2vjpZdewnVdNm7cyJIlS4rWFrPcvIw8jMhR37zksFO6QcFahjYLP4MjhjeTQNKBimQMEm4hlUAExT1vwoBly+VwOb9rJOvZyDQVVPWXUhATErc8jlMol6F1EBwmCytXhHuP0YZHkDHBo6iSv7h4k9EPbbFYvgNc9zuTMY8vXbqUlStX4nkeAwMDnDx5kmQyybp166ipqQFsgKPlCinkDJj7niMErhDBCgBC4DoOjslyG7F+h+W7i4n5KqwYIXRQhFgGcWFC6EJusB5+aGXd4BaLZdy5rhYzE1yez+eZOXMmq1ev5vnnnyefz5NKpVi0aBF33303QLiI7kQzg1smJqF1wYgyTMKBCGJ/TDacEKHnUmtttdktypW7fAQxOZwLCcHgKLQflDgDhtNQGNtkZrFYLNfAdbWYmWDIRCJBKpVi/vz5rF69Gt/3qaqqYtGiRcyePRsY9tVbq5nlcgmyNAvlNrRGao0TeQil0CYLSim0srLMEmAsYIEVTIH2C0siBX9LNI4wK70GxY+lVlaWWSyWceeGBNkYd+bs2bO5/fbbcV2X+fPns3LlyjAFOyrIbMCj5ZJEm4gO3FFhOY5CVpugUKbAvG6blSVEF7spCwIMHbg3w4RLiIizaCEYi8ViGR9uSPC/EVozZsxg+fLlLFiwgOXLcNQ63gAAIABJREFUl9Pc3BymFBs3phVllmtBRJ9Fm5Kwi5ffylxNCIRZjXLYSzlS+L4ezu8coQHdjKEXN+M1Wyy3MjekKqCpm5VIJNi0aROe5zFr1iyamppCYRZdLNZiGY2i+kGmhrvRYKa+VLgxFwejWXn2nUeIooZxca280u1Hed1yedgx3WIZm+se/B8tLqiUYs6cOdTV1ZFKpcK110zRPduBLVeEiFSnGsMIoIvvvN/mFVluKsZqC7adWCyW68MNiTEzMWQmGaCqqopUKhVWvzfbWCxXwmVVwIgk1dkWZhlm5PUoLr2PrYVnsVjGlxu6wFl0bbHo4t9jLSBrsZSiCaxgimFL2WjGViPIhtfutLYQi2EscWZbicViuT7ckOD/6KLZpeuMlS6TNJHWVbPcBBSVZR/hvdLnVv9bCugxxJdNFbFYLNeL617HzAT+R/8eabuocLNYLptIhYyRHkXb2aZlGRdGa21jPSwWi2Vkrnvwf2nB2CtZxNtiGQmTgSkL8wxR9AYX3QejkUHWDmIZ5toFU3RViTG2uubzWCyWW5cbGmNmsYwno97urmaxdIvFYrFYbgA2pchisVgsFotlgmCFmcVisVgsFssEwQozi8VisVgslgmCFWYWi8VisVgsEwQrzCwWi8VisVgmCFaYWSwWi8VisUwQbLkMi8ViuQS20LXFYrleWIuZxWKxWCwWywTBCjOLxWKxWCyWCYJ1ZVosFssYXK0b06wJbLFYLFeCtZhZLBaLxWKxTBCsxcxisVgQjLaCqjV8WSyW64m1mFksFovFYrFMEKwws1gsFovFYpkgWGFmsVgsFovFMkGwwsxisVgsFotlgmCFmcVisVgsFssEwQozi8VisVgslgmCFWYWi8VisVgsEwQrzCwWi8VisVgmCFaYWSwWi8VisUwQrDCzWCwWi8VimSBYYWaxWCwWi8UyQbDCzGKxWCwWi2WCcF0XMddah/8qpdBaI4TAcRyEEGitw9dG+nskPM9DSokQAqUUQgiklOG5rgTP84quBQjPO9r5LRaLxWKxWMaL6yrMYFhIOY4DEIqvqJCK/m2E2UiY96LiLSqqrhTXdVFKASClRCmFUgoprWFxojMewvlq243FYrFYLOPFdRVmQghcd/iUlxJgY1nKovtHxZmxxBkr2pVSenO+1DVYLBaLxWKxjBfX1RSktcbzPHzfv8hlad4HcBwntKj5vj/q8YzbstT1eLUWLmMdM9Yyi8VisVgsluvJdXdlmviv0YSU7/tF7k4j0EbC8zyUUnieRzabJRaLkcvlrtrKZUSe4zi4rovruuH1WquZxWKxWCyWb5vrLsyAUGx5nsfg4CDpdBrf90kmk5SVlRGPx0PrWtT1WYrruuTzeQ4fPsyuXbvI5/NkMpmihIIrwVje5s6dy+rVq6mrqwstdmNdh8VisVgsFst4cEPUhlKKoaEh9u/fz/bt2zl8+DDZbJaGhgbWrFnDunXrmDZtGlAc4D/S32fOnOF3v/sdr7zyCplM5v+z917fcV3n+f9n73OmADMYdBAkAIIUSJCUCIidlGSLoqpV7KhFtn9yHPeVlb8gN7nJfW6StVLWilbifJPIkWTLstViVbM3sTeQBBtIAASI3qacs/fv4px9cGYIUqRMUiI1Dxc4wMzps/e73/K874tSikgkEnDNrgeGA/f0009TX19PeXk5Simi0eiNfQBF3FJcaRwUvaBFXAvC46c4Zi5HYQa7ec+8H46IGLpIWI7PlHnvum7ee0IIXNfNo64YLnH4GsLHMln6xe+siNsNt5z8D5DL5di1axevv/46x48fZ3x8nGw2y/j4OFu3buUHP/gBzz//PMlkEiCv/IWZeLlcDiklfX19bN++Ha01c+bMIRqNBpO68Lyfl7FpWRZSSqqrq4lEIkFY1bbtq4ZUi/hqY6aFo4giClE4Pj7PsPtTMsDvRIRLIIUVppkSssIKmkHhPL1Str6hupj9XddFKXVZVKNIQSnidsUtr2Pmui6Dg4Ns3ryZgYEBHn74Yerq6hgYGOC9995j9+7dJJNJ2traWLp0aeD9Ck8wQ8wfGxtj9+7d9Pf38/3vf59vfOMb1NTUBAKgsAZZeMLPBMuyUEpRUVFBfX09kUgE27aLk7uIIr4GmCkj+0qfFXE5Cr1USilc1w2M2lwuB0wbwEY5C3vAzI/hDgshiEQiTE5Okkwmg+O7rsvo6CiJROIyw11rXTSmi7itcctDmZZlcfjwYcbHx3nppZd49NFHicfjZDIZFi5cyN/93d9x6NAhDh48yPz586murs5TzMyEtiyLnp4eNm7cyMTEBBs2bOC+++4LvGxfRJkqFCrG8jMWWhFFFHFn4krhuPBrETPDGMomWavQQ5bNZhkYGGB0dDSgiIQLgxtFzMhYKSWHDh2iu7ubBQsWMG/ePJLJJFprJicnuXTpEn19ffT391NfX09jYyNlZWXYth0UCTfXVSwQXsTtiFuumBkht2zZMh566CFSqVRA/G9paWHRokVs376dTCaTF0oMhw0sy2JiYoKOjg56enpYvnw599xzD6lUKrCyrlQX7VquzyQPGIFRtLyKKOLOxvWGMYuYRrhbiuGBGY/WwMAAf/zjH3n33XdxHIe/+qu/4pFHHgm8Zsb7BdPfwdTUFP/5n//J9u3b+fGPf0xFRQUVFRXs37+f3/zmN3z88ccMDAwE4czm5maefPJJvv3tbzN//vzAeL/SOlBEEV913HLFTAjBvffei1KKZDJJLpcLXM/pdJpcLkdlZSWNjY2UlpbiOE5eONMIzKGhIbZt28bk5CTPPPMMFRUVAJdlY84kYK8WyjR11gotvyKKKOLrhSLp/9pgnlO4DuTQ0BD79+/n448/ZuPGjRw+fJh58+YFCpnjOJclVWmtyWQynD59mr179zI5OUlVVRXV1dWcP3+ed999l02bNmHbNpWVlWSzWXp7e+nu7qanpwfHcfjxj39MeXk5UMykL+L2xZcycisrK7EsK6g9ZpShvr4+ent7mT17NnfddRfRaDSP4GkI+QB9fX0cOXKEZDLJN77xDeLxOHA5z8HgWoRsmLgaJq8WFbObA/ONXIMf0/vJ06e970SJ6W2k+Y6FBJS/lyAnBMrfI/zjHU+D0MExivj6Ytrw88aBq8FFggApBBKw0Ag0INB44wq8MewNI/OOGYtmgIZkSN52M8gWkXeEwre/kjBy0sjqTCaD4zgsXryYI0eO4Lou6XSaqampGcsgGS/X5OQk27Zt48KFC9x33300NTWhlOKTTz5h9+7drFmzhieeeIKqqioGBwd5++23+f3vf8/x48fZvHkz69evZ/ny5Qgh8nofF1HE7YQvJZRplCbHcYjFYkGWZVdXFxMTEzz33HM0NDQE9cxMONEoV+Pj4xw5coS+vj7WrFlDc3NzMNFNRmZhCFIIQTqdJhqNBqRUY7G5rott25dlDt3OqdbhciGF3RHgVnoAppcuXbC0mCXwsqVJhxchDUKBdkFr73DCV5qlxAFcwFIuETeLsCPe0qkdlIA0knFhMaUFltIkNCR0Dq0E8YiNEP5xAVEMX91BuMr4nnHs+8RzlfX2lBFGMw4ZGceKWWgNCQFxNFLncJRAWBGyjiRiQxRA+UqbynljVgpAoIWFNqNcCwSup9LNMNx0SClzQ7chtXesGzVrw1EBI+dc10UKifA/12gsaSEs6dlFSpHNZolEo0ghyPnRDJRGSBHYN5aQ1FRVc9+6dUxMTDI+OsaWzZuRCO9HSCxpgQblKqSQuDkHOxIhnU6zY/t2BgcGWLl8BXfddReZdIYd27azZNFifvKTn9A4t4myZBmZdJqG2XNwsjn+8//9P06fOs3J4ydYuXIlKF+Wm4f5FRDjhSWcrkaRKXprv974UkKZpiVTmKi/e/du9u/fz+OPP87zzz9PKpXyhIBfzT8WiwUetuHhYV599VUikQgPPPAAqVQqj7wbbvWUy+XyMoSy2SxSSmKxWKAkmublhYrY7TIhCmv+FNYFMlYs5CubX/b9GdGj8D0O5k3zI6YXqmALpbx1VYBWnqqnpfaOYikyymVSgbYiZDT0Z+HclMvx88Nkhy6ybl4Nq5vqiOPtbxZpjfdrUTe7U3AFL7fw/hPkr9cajaMUUsZw0VwYmmBbRzcXnTh1TfU0zSqhIS6pAkqExLZA4xKzQSJQOYV0XIQl0JblnV+A8gerUVqEP+ovH2ZiWmHMuzA949Z/KoxSEK4nJqUErdEIpG8IZzKZQGbGS0qIxmK4joOWkohvzGqtkf7zFggQEIlEPAqKq0gkEp59ZeQO095JrRTSVxDTU1N0nT3HieMnSCaS3H333cSjMXq6u5k7dy733HMPTU1NJBJJcr6C2LJgAe3t7dTW1JCemuLSpUsIDcLcn1L+V/HlybrCmmuFn0F+6ZWryeViiZavB76UchmRSISpqamAa3Dq1Cm2bt1KaWkpf/Znf0ZjY6N3cf7EN54tk+Fz4cIFOjo6WLZsGQsXLiQajeYRPcO1bQwBtaenh5GREUpKSqirqyOVSlFeXk5VVdVtH678vIwyk8xg/g5nQN185Wz6uU4vgoWf5H8eXog0AgcLhOWFlGywALRC4iCFwkahcMgCk1aEMcuiP6M5M+Ryoj/D3gvD9A+PMrdE0dpkkxGCmFKAxhFW3hm1+EoY10XcZFymmGlwpTfGpoBuF/YOWhzqmyBycZD5DeWsmxfj7jKLugiURzQ2ChvXG49SQtQCIVGAowHpBz012GgslKf4CIEWnuKm82bBtOKC9sd5aNbcjKl6eRalJ5OHh4YYGBhgeHiYS5cuoZSiurqa2XPmkCgtpaKyEukbvNfK5Sr0AhV6j8bGxti/fz89PT20t7czZ84cYvE4lZWVfPvb36aiosKLovjKnBAC5Uc+bNumtLSUWCzmhUojEXOiG/q8vgjCxrDjOGitiUQigSyG6RIi4ZIhX7bhXMSXh1teYNYUCDTcsp6eHt5//336+/t54oknWLFiBVprstlskP4cjUaDfXp7e9m4cSNSSpYtW8asWbMCBc4McuMh27VrF5988gnHjh1jamoKpVQQ4iwrK+Nb3/oW69evp7a29jIF5nZFuNxHWGEzHrNCBfRmF18N23Yi9KpRvjtMh6xZzfSSOb1H2GcgBCit0coFHDQOSrikhcW4iNObtTg9ojjUPU5H9wRnRzKcn9QoYiQSScZlnAweAy3iL5zhs4afQlEs3tko/K6lhpyCLOBEokzGqznnjjM1HuX06Qwne8dZXR+lfU6CuVUxqks0tcKlVGgUGtd1ENLyPEA+r1HgRTQ1nvJnVC+FQAszrkNeen8bCQg3pJZJf4TeoEEZLgcUVgIy2Qznzpzlo48+YsuWLYyMjATFvKPRKOXl5axcuZJHHnmE5uZm4iUleYbeTJipSGxwv0KglcKybaampti/fz9DQ0M89NBD1NfXY9t2kJVpksRc1/U8en4UJJfLMTk5ycKFC2ltbQ1oMnnJBV/iZJ5J0TJrkeEzh9euIoq45R4zQ8jMZrNks1neeecdjh07xne+8x3WrVuHlJJIJMLExAQTExMkk8mg5o3rugwNDfHOO+8Qi8VYvXo11dXVwUQ0Slcul2Pjxo288sor7Nixg6amJh5++GHmzJnD2bNn+fDDDzlx4gSHDx/mwoULvPjii8ybN+9WPoobCqOIhZu/h4s2hkO7JqQL+RyHW2ehGUo+XEaUzvvdKGXaD2JOq1AuoC0Lz2dmkwYGtKBzTPJZ1wT7zo5yun+MwbRmjCjZeDmWcBlRLhNakgWUtADleTF8tUxrwXRg1RjbhYriTMrj1d6DmVW/r/JxbodrvNpxvsg41uAoEBa2BUpDVgsmZIwRmWTAgaGRcS6OjbLrzDALGmtZs7iceysk9RGIoNFoIggiflRSzkjfD3vFppWzsOEhZ5gO4Tu8EQhX4NdaBzJ57569/OrVV3nn3XdIlaV4+umnaW1tZXh4mA8++ID333+fbdu2cerUKb73ve+xevXqGTMsg8u/Ui04I2+M0ei69PT00NnZiWVZtLW1UVZWhg4pkOa6w3Irk8lw7tw5stksd999N0uWLPEiMb6M80KZ4ksNZcK0UyKsCJs1LcyHNvQb13UpKSn5Uq+5iC8Pt9xjZkpfuK7L22+/zYEDB3jsscdYtWoVUkpyuRydnZ3s3LmTVCrF+vXrSaVSCCEYGRnhyJEjnDlzhscff5zW1lZisVieOzibzbJ9+3b+4R/+gZ07d9Le3s7Pf/5zHn74YeLxOJcuXWLVqlX88z//M1u2bOFf//VfyWQy/OhHP6KhoeFWPo4bhsL2JJOTk4Him8lkiMfjxGIxSktLL1PGYFpI32zlLPAYCH8pMkI775QSs4BpNOBg+WRpb3GyyIoIaSxGgUuO5MKopmMww44zo5wYdOkbV+TcUhwpcYRFxoFSWxCNRLAtTxVzFMREWOHT/oWEFLPg/6Ji9tW7xqsdp3AMX8OxlQYUthCUIogpgXSnkMJF2zDl2ky5MSYcQXcWjp+1+WwwywONmrZawbyaCLPjkgpfIZMqS0R6Y9b730YhEcIb/lL7RofUKMLZxTNd+41HIafJcRz27t3LK6+8wu/eeovq6mp++tOf8vjjj9PQ0MDExATt7e288sor/P7t3/PGG28wOTlJIpFg8eLF13TOmdovIQRSCCYnJ9m7dy/9/f2sXLmSurq6QK5HIhEMAdSEKZXrIqRkx44d7Nmzh5UrV/Loo49SVVXl8YYta5p7e2Mf3RdCoQI2NjYWVCMw4WDDyzO/F/H1xU1RzAqtpMLeZ5cuXeL3v/89//Ef/xFwv9577z3Gx8exbZu+vj7q6+v56U9/SklJSRDSHBwcZOPGjUSjUZ566imqqqoCjoTZpquri1/96lds3ryZZDLJU089xaOPPkpZWRlKKZqbmykrK2NwcJChoSGOHDnCa6+9xty5c3n22WcpKysL7uNaCZm3EuFQgLkmM7n7+/vZvXs3u3btoqOjg6GhIbTWxONxGhoaWLduHevWraO5ufmqCtoNv2b/NTi6GR/oaa+UMAuYt4MQGoQCodC4Pm9HoLAZ1hY9GTg9pjh8McfB84OcGkrTm4kwKctxYyUIJ4dyMkghiEUiRPUkMpvGcuPEiRJFgVaYDE8QvpJ2Oecnf3G83vfu1ON8la8RrsZgnGkfDaAlWmmUEFgS4rbAxsHJTqHsBLFkEuU4jOUUI06UvgGXi8NDHKwS3F2fYumsCK3VFk1xQdKyieJg4WAh8HMsEVoEdokQ2s9oNCU4/Os289DEQAMj5cahsJvKxYsX+eCDD/jggw8YGh7iqaee4oUXXqC2thaAeDzOqlWruHTpEhcvXmTHjh289957tLa2smDBgumyFCFFKByum8noC65BCMbGxzl48CDpdJr77ruPyspKz+jWmmwuhyUllm1j2XYQwrx08SIff/wxSilefvll1q1bF3C1wONzCcu6ZYrZTER+A9MVYXx8nMOHD7Nx40aOHj1Kf38/6XQaIQSzZs1iyZIlrFmzhpUrVwbhW4Mi8f/rg5ummIVDaYUNbY8fP+4JgKEhhBB89tlnQXFXwyVbuHAhjY2NecrH2bNnOXLkCI2NjbS1tVFaWhpMfiFEwFHYvn074+PjNDc309LSEmRtmiSBZDLJN7/5TT744AP27NnDmTNn2LRpU9BB4KuMQnKoEXpdXV28++67vPXWWxw/fpzBwcE813ksFmPnzp3s3buXl156iWXLluX1nrsp1xp6nfkM05+4WqCQaCGwUAgcTygrh6yUuMJmUguGMxadIw6He9Ic6c/QOZLjwoTLqBtHRRKkZQkuNraQRGwLjYNyNJYlsRFEtSYCSNcB6XnggoXwq6F7F/Gn4ousXQKPlG9JHAk5rckphat9g0Vr3FwaoV1sKRHawbFsekUZ40Npzo+NcrwbltTFWdEQY26lTV2pTZkFJUAEsLTjZS8qPO+s0CA975nAN0T8OaEFfoKAvKnj0niVDh8+zLZt2+ju6aYkXsKSJUuoqqoCfIVDCEpKSli1ahV79+5l165d9F/q56OPPmL9+vW0tbVNJ2GZY/uy2SQHGC4wEGyntQal6O/ro7Ozk1gsxooVK6ipqQm8aVE/ygKgfCN0YmKC999/n66uLh599FEee+wxL/SpdV54VimFlrdGOZuJRwYEMnhiYoJNmzbx+uuvs3XrVvr7+8lkMkGkp6SkhO3bt7Nr1y6efPJJXnrpJZLJZF4Y9/P4fEXcGbgpipkhm4dbGxlYlsXcuXP52c9+huM4wfvhbaLRKLW1tdTX1weTfXh4mIMHDzI8PBzwxczEMzV5RkdH2b9/P729vQBUVVWRSCSC6zDKom3bNDU10dDQQDKZJJPJsHXrVjZs2EBra2tQP22memhfFsI1ycKJDkopcrkcn3zyCf/4j/9IV1cXtm1z1113ce+99+K6LqdOneLw4cMcO3aM3t5estks5eXlMyqht3LiC+EpYq4WOEx7zKT0XAqOEkwSZQSbwZykZwL2nRnlaHeazr4JetIwYcXJ2Elc2/ORaD+nwNECjY3EQloaJTRIhfb9F1KAUA7amin0VcTtj+sdwxppaxyhUVg4ArJYuFYcZZWiiJATCqGzSI/qjxaSrB1nRFlMpifpHx3nzKUJjl+McFd1jPZ5lbTWRamPalJoElIhnBxgI4XRyLyxLkxZDKGmDRrpJakIBGjJjWRKGX6T4Z92dHRw8uRJXMehpqEmiEbkyQIhqK+vZ+HChSSTSUZHRzly5EjgOYvF455sCsl+09HFyFKlFBTIVddx2LlzJ0NDQzQ3N9PQ0EBpaWngWSeU0OS4Lsp1+fDDD/nwww9ZtmwZ/9/LLzN7zhxPefZLMSk/oUD7XLNbgSsZuOa+jx49yhtvvMHbb7/N4OAg9fX1rFixgvr6es6fP09HRwfnzp2jv7+fvr4+amtrefTRR0mlUkECRhFfD9w0xexK9cBs22bu3LnMnTs34DaYqv0wrYAEkxjPJX3p0qXAs/bwww+TSCQCj5BRutLpNJ2dnYyNjQFeh4G4LywKJ008HmfevHnU1dVx6tQpTp06xYkTJ0in00Eqs7mOr5JiFq5BZt47efIkH330EadOnSKZTPLkk0/y53/+5zQ1NSGEoL+/n+3bt/P3f//39Pf3s2vXLo4cOcKiRYuIRCK3jGMWwD+F4zggIyjplxjwAzouFgLJlIRLWnB8QnDgQoZD58c53jtJ/6Rg3Inj2CUQi+FKASqHV7hTB+EfhZcoIARM6QhpAZMywjhQYtnY2kJ/RULURdxAiOC/64KjFEpIHAGuLcjIGGmtyOkISBstNI4AQc4zKAQ4Tg7XtqGknAmrhKnsFP0Xpzg6OMGRwSztTSnunZ3gnmqL2VFBXAqiQmL7IT+hXYT2E1w0fvheBF5cbz5o7DCN7gYh7Im5cOECly5dCtodlZeXT8sY8+rL49mzZ9PY2MjFixfp7+/n6NGjTExMUJZKoX1vlfHmh7uohBuXm8iIxvPabdu2jbGxMb71rW9RU1OD47rYlhUoZQhBLpslk06zceNG3n33XWpra3n+hRdobGwMenRKKUmn08Tj8UA5u1W4kuzUWjM2NsaWLVv4wx/+wPj4OOvWrePZZ59l+fLl1NbWMjw8zJ49e/jtb3/Ljh07OHHiBG+//TarV68mkUgUsza/Zrgpo9Y0Eg97d8K8M1PLzChVrusG7wUVqP3JbOLyx48f5+TJk7S2trJixYq8c5h047GxMfr7+8lms1iWRTQazVM8zOA22aE1NTUBpyyXy9Hf3+8JGN8lHs5m/CpNiLCl67ou+/btY+vWrcTjce6//35+8YtfcN999+X1pWtoaGDHjh1s27aNvr4+Dhw4wJNPPhl4JFVB2OFGoJByHX6CGhBWFAeJg+cxc4AMMKUEQznBmVGXA93jHLw4yakhRX8mQlpUkYnFcCJesQytNWiF7RfHdP2zCDTS56YpJFNaMmyV0OVIOqZg0JLYWvseiSLuPFyfFqMByw+iT6HpycKETpDRWRw9PYJdGUFhe3kiQoBQKEeRdkCIGFY8TlaXM0GagaEJOkcGOdg9yr2zEiypK6W1NkpVXJAA4gKiSE9RU14IH9f1aI/S8vmP+SVdbtjTCUUEMpkMvb29DA8PB1nxJssyLPuMTE6lUlRXV2PZXga84evW1tUB5HVhMYatkdOxWMzLlPSPnfN5wYcOHSIej9PW1uZxq5SCUAFbIQRT6TQ7d+zg17/+NbNnz+YHP/gBCxYsYGpykmg0ytjoKB0dHYyMjLBhw4avzLx2HCfo/zk8PMzcuXN54YUX+NGPfkQqlQqea1tbG1JKOjs76e/v5+TJk2SzWWD62YcT3Yq4c3HTPGbh8g39/f10d3dTUVHB/Pnzg0GVzWaDTM0wwvVdtNYMDQ2xadMmANatW0cqlUIpFShdJsXYcNSMMBgfHw/Kc8B0GNCEV8PpyFprRkZGGBwcZNasWXnbfhVQqBia+06n0wwODtLf308ikWDFihW0trYG/ejM/VdVVbFhwwY+++wzMpkMfX19wNUJqzfs2q/wrhIShfCVJ8i4mqF0juOjij19cPLSOCf6R7kwCROUouNlTDkWWlgI2+P9aBRIC1dYOFp5HjDtccgiZACNa8fJudA75bL5ZIaz5xUJS+DmHKRt/HRF3Dm4/iVZIXCV1yrIcVxG3QinBxUuUSQSpUGakSqEN84Cz5b/IwRKCjJKkqWEjBRktEVmOMuFoWH2dk2wqD7FirkR5pVDXUmMcluSAKLCIuJqLC0RSnhhfnyOmZeZcEOfEEzzVU1vSxHKkMxkMoHXLjBQlSISjQYFXS1pkdO5wCC+q6UF27YRvuzEp5n09/cH5Hdz3KjvLZuanGTz5s1BtnxjY2PQlQXtdQbA5w9/tns3r7zyCq7rsmTJEtLpNMc7OtBaMzk5yalTpzhw4ADz5s1j/fp9XcFlAAAgAElEQVT1QaKAsG5NCPBqSVQXL17kzJkzACxZsoQHH3yQVCoVfO66LolEgpaWFmbPns3FixcZGxtjdHSUXC4XRHGKCQBfD9w0P69t20xOTtLV1cVbb73F7t27eeyxx/jhD38YKEaxWCyvppZRJsznxiN04cIFNm3aRH19PWvWrCEWiwHTXDajQNm2neeFGxwcJJ1OzzhhXNeloqKCkpKS4FxjY2MMDw8HxzOeu6+Ctyx8DSZ0m81m8+q9NTU10dTURDweDxIjjPUaiUSYnJwMwr9GYQuHAG4KZpQhvvWH5+FygAkXzg+k2X/8HDv7BXunkvRlBFMiQS4SI4uNUgIhTT02vz+ftNDCq0iG0aEVWNIhojIIXDLKAkczOAUHxiY4lp3EtuJkXe2xskXYJ/GnlHn4KpeQuJ7j3A7XeLXjhF9nwuWD0tU2aRUhKh1EdoKIHUHZCXJ4Rc0kECGLFA6OFCgd9ZQmR4MAy/KyLbUyhZPBkVGUsHCUw7ATo2dYcXpsnM4LAyyrh7b5jSyqLWdWVGIL0MLyxrgwfDKBNNSzz7ulLwATTgxHL7TWDA8PMzo66kU6Cop2C9+jVlZW5nVwSU+RTqfp6+vDyeWI2LbHDfNl7sTEBHv37mVqaopMJkNXV5dHePdljiHEp9Np2tra8oxi/IhILpfj4IED/Nu//Rtbt26lvLycXC7Hm799E4F3XeYaTM1KU1Ij6Jd5C3ClyIqR1Ub5qq+vp6WlJS+xDaZ7GudyuSDKNDk5GTgqik3Zvz74kxSzwqyTwpDhgQMHePPNN3nzzTfp6uqiqqqKJ554gqamprzQprHIjKJgXpVSQX2biYkJWltbmTNnTp7lEC4+GIlESCaTQZZLf38/Fy5cYGpq6rJifcaCi0QieR48N0QWvZYJYBSbgHDqTxxzH5+370xlK2YqDBtWnML3nkwm2bBhA/X19SSTSdrb2wMPZJjg293dzTvvvMPU1BRz5swJag8FQhACy+xGIniCgZWnQXslzZUCZUkG0y4HuobZdew8R88Pc1bVct4uYVJEEFFTRV2hJWip0MpFKy9YibZ8Jj+mIgEAStgoYaO1hStttGWRk4IpCVlpIa04GSlRAQG7iDsd055R31CDgE7vInGsKGntYMfAlhG0HSenba/EGRpH2dgBHV/4Q9r1Cso6Cu2AJQRYNkpKXClxtefNzUbipLVmKjdOZmCIidFh+vpPMja3hnUtdZSVlyBQSMsrl6HxPb9ae546oZmu8XdjEJafRm5mMhmGh4c5fvw442NjHv9XeP2ETXaqUeYc1zOkM5kM6UwG7Rf1cLVicGCQHTt28MeNf2TL1q2Mjo2h0Pzv668xOTXJhg0bWLBwIb0XeznReZJoLEpbezu1dXVkclli0Rg5J4fWmnPnzvL6G2/whw/+wODQEN29PRw9dhSlNZaUuH5meTQaZe26dSxtW0qQ4SONR/PqME6BcHeYmeR/OOMz7MkqfK6QzwdesmQJf/M3f8PAwADNzc15faLdnEMkFqW3t5ddO3dxsbeXiB2htrqGivJyT9lVGiebw4r7TgurqJzdybghHjOjlBiu1+TkJDt27ODf//3f2bJlC/39/eRyOQ4dOsTevXtpamoCphW4sMVgBrWx3np7e/noo4+oqKhg7dq1eenDhaU4ysrKaG1tZevWrQwNDTE4OMiBAwd48MEHaW5uJpfLeTftcxdMmybXdQNPXZiTVvg6E8KFXY0iZO7J3F8hwhwxw5Uz1utMAiGsqBWeOx6Ps3r1alauXInjOEEYYHh4mN7eXsbGxjhx4gTvvfcehw8fJpFIsHr1atavX080Gg2+s5teXDb0uxGVUvj1m6REREuhpAK31MLNlqBdhRQOUnhcG+16vEAiEbAjYAmfGa29arEapJBe02gB3nIWQQmNoyTgHUNovIK12iEuI7imB04RdxBM2YnwqPO4hMp1vfp52l+z/S/fAqTlgJsjQg60S84RXocIP1zpConE8h2s/qDJuWALpB9et4TEBRylUa5imtXvYGlNNGLhZmJglVMaj5EoKaU0GiGKFyoV0uO5abykTak9+n/QR+AGjVUz5025nNbWVhobG+ns7CSby9LR0cGZs2dpa2tD4BP3fZmVyWSCno9OziEai5JIJjyivvS2icaiVFZVcu+999LU1BQoPlJKz4gsK8O2bRLJJA899BDpdJpFixcRi3u9Lr3IsGfgliYS3Hf/fcxtnnvF+zEycvXq1cyqrw/WEWP8zpTParjGBrlcLi/p60rnCcttI+8LE97Me+CtN/Pnz6exsTFQ5qSUZLNZert7mJyc5Pz58/zf//0fn3zyCZl0hiWLF/O9732Puto6bMsmSIIohjG/FvjCilnYo2PCia7rMjAwwKeffsqmTZsYGhrKa9Vx9OhRdu7cySOPPEI8Hg/Cj2Zwh5U7rTWZTIZTp06xY8cO1q1bR3t7e5BtA+SdX0pJeXk5q1ev5sMPP2RkZITR0VH+8Ic/0NTUxAsvvEB1dXVw3J6eHj755JOgvIRSikQiEViOhdyrqykt5vPBwUF2795NV1dX3oSfaXulFNFoNEiD1lqzdOlS2tvbKS8vz9s+nDUZvu+wUmjbdmDVTk1NsWXLFl599VVGR0e5ePEinZ2dCCF45JFHePHFF7n77rsD97g5zs1oARL4KEQo3OTrQrbQaO1SGbFoayyhsnwu85rSHBiYZF//GD0jaUYyFiqXImKVI6wSHEeivXUKAVgotMqC1ggZQ/u10LQAJTVSe+dxpEupylAhJkjIMXBHsYiibl02fRG3CBoXZBavLhjToUBfOZNCBr+DCYQKso5EK4eIlLgyzpDSjOooOeGF0S2NV2xFa5QGVwB2hByehxY8HU5pUEpjSYjJHFGVJu5MUiYVVVFomZ/i3jn1LK0vZWG5pD6qiZLDU8Bs32NmVEuBMIP9BiLs2RdCsGbNGjZv3sy5s+dQruLAgQO8/tprRGyblpaWQM4MDw+zZcsWDh8+7F2ZT+ivqakJohDGSF6zZg2rVq0KFDJzDCO/hBDMnj2bn/zkJ9i2TU1NTR632HjmZs2axXe+851ATs+EmYrYmijMldDf38/OnTs5e/Ystm0HhnthiaeZzpVOp1m9ejVLly7NqxBwpVCmeTYlJSVBWPjYsWO8/r+vcerUKbq6ujhz5gyTk5PU1tby3e9+l+effz6PamO8c9L+avCei7h5uCEeM6NM5XI5hoeHGR8fZ+XKlTz++OMcPXqUX/3qVxw6dMgja/rZlUYxMApGWEgY9Pf3s3//fqSUrF27lqqqKiKRSKCImMloBm4ikWDlypU8/fTT9PX1MTg4SGdnJ7/85S/p7e1l7dq1KKXo6enhxIkTfPzxx3R1dQX3YLI0zTGvhXcVbgbc19fHb3/7WzZu3HhZWDQMw6czHjbjqXv++edpbm4Ouh2YbcOEz5nKkBiBZRS+sbEx9u7dy69//es8i8627eD7GR8fz3Onw3RY9oZ6znzHlg6Z+97xlefT0ooECkvaJMoltWUlNDZEaR6Kc7x7hKPnRukeHWPMscioJDk7SlZ7ypnhXXtefY3CwSsfO51QIARo1yWKpjrm0F4Xo6XcJqIVMcvmy++iV8SNhwIRmnv+GuuVUpn2phUqZi4S19VoYdE/ZbG/2+HE+BSOLAVpe0qdv7fEj5wLG5TnuDXHkhKiKGw1STwzRrkaZ25C0lqX4q7aUlrrS2iqsJgVgwrlEtdZf8TKIByomR6/IrjaGzdSw8atlJJFixaxYcMGThw/ztEjRznXdY5f//rXQSV+y7IYHh7m2LFj7Nu3zwt1ToxjWzalpQkqKysDGoSRQ3Yoq9LIyUJFqbS0lLKysjxZbhSjcC1Mk8h0paxxs204a9Ecz9xnIS5evMjvfvc7Pv7448C5EF6HriQHDe/t5z//Oc3NzQHn7VqiDmbtAujt7eWTTz5h//79ZDIZ7xmgqa6uJpfLcf78+RnbXX3VqgQUceNxw8j/ZuGvqKjgscceo66uDq01K1asYGBggO7uboaGhjh+/Dj79u1jyZIlAAGhMWxxmPcM6b+mpoZHHnkkSC02kyZc/sLsP2/ePF566SUmJiZ4++23OXfuHPv27aO3t5dNmzaRyWQCQuXU1FSg9KRSKZqamvJaMl3rfZtrsCyL8vJyampqSKfTV9xHShlMRHPvtm1TXl6eJ3gKPWVXOr9xq5tjJ5NJVq1axQ9+8AOEEAwMDHD69Gn279/Pxo0bGRsbY3Jykh/+8IeBRWaEzc1IAjCRn+AutPDYMlpheT4uhPLKwUaFTSJpMaskwdLKKB21KQ5fyNHRm+Pc8Aij2TiIKI60ERELYUmUstBaedqfT8PRUuBqG4ELWhMTilmlkjV3Jbm/UZAQXq/MYmDgDkXBF2vUGo0XWRRgkg4DdccSkFNeyZbjgzA6NcqF8RxTykVJG41XG09q32uNR5f0EzI95cp1EE6WKBmScoJZcYeFqRgr5qRon5NkXmWERBRKhKZUucRUGonjHUBGA4VM+wrZdOfWcILKjYORo5WVlTz++OMMDgzw+muv09nZyalTp/j3//h3Pv74Y5LJJCMjI0EpopyTQyAoLS1l1qxZlJeX53ngw7QU8xrm4ho5Y4zKcImksNJRaCRfSRaGZWXYO3c1srxlWVRWVlJfX59nSIfXlqs9M1Mj81prXRYa+42NjfzZs3/GypUrGRoa4syZMxw9epTz58/zL//yL4yOjvKLX/yCpqamIOHNuzeK9Is7HF9YMTMKTXiimLIMZuLlcjnq6uq4//772bp1Kzt37qSrq4u9e/fyxBNPUF9fHyhahRNudHSUQ4cOcfr0adauXUtLS0vQAD1sDUkp88KhQggWLVrEz372MxYuXMjhw4c5efIkg4ODpFIpqqqqqKurI5lMei1IurtxHIf6+nrmz58fuKVhWihcbdKFhUBdXR3PPfcc69atu2oF/XAbKeMBBGhpaaGioiKP52auY6ZjhZ9ZOOQajUa5//77WbBgQZCdeujQIX75y19y6tQpDh06xOuvv84DDzzAokWLLvPO3Th4i4nnXTBLo7+4ITyXg9AIqYgANpqYEMQcSRJoTESYPzfCoirN0bosR/syHLowSE/WZlRFSesSHB3zSP4ShHIJVmRfMTPEHIlLTGdJSZc6yybuKEotQcQssHzxHMDbIU/xeo5zO1zj5x5H5L8XjGo97YUKe8yE1rhuBgdJxo4yFIGEyBERGulzvryCxRbar87vKXgaoV0iaGw3A9lxkiJHXUJwV10pS+pKaK+PsihlU2cJyvD4bBYuEeEiJUEnJg3oML9faIQ2vt8bazCFFR0jX5qbm/n+97/P/Hnz2bJlC+fOnWN8YhxLegrMggULaGhooLOzk67zXeSyOcrKyli8eHFQwsh4ygq9/OGC4WGZH1aozHtGoQp70a41ghFel4w8u5JMq6+v59lnn2XdunVBLU3XdfPoN4UwipjWmpaWFsrLy/NoPZ+HcLealpYW/uIvfsj42BhTU1OcPn2aDz/8kPf/733OnTvHb978DXPnzuXFF19klr9WEqaEFHHH4k/ymIUtoXC2ihmk8Xgcx3FYtmwZq1ev5rPPPmN8fJwDBw5w6NChoDJ/OAxn9u/q6mLXrl2UlJTwzDPPBMpX0MYjRLY3xH2TahyJRFi0aBELFizg3LlzdHV1MTk5STwep7a2lvLy8qAJby6XIxqNsnLlShYuXBgof59noRmEQ5mpVIpVq1blKY9Xem5hAWIszGw2m1fwtdAdX3g9RoiF3fjGikskEixcuDDYZsWKFcyaNYu//du/5eTJkxw7dozjx4/T3NxMIpEIOh5cSzbp542H0DvgV+OXSFxhofFqQClshKWR2gHHQVjCWzCVokQLSpG4DpRoTUUK5pdFWTY3yr46hyODGTr60pwdm2IoGyMjkmgpEbhobaO1L8CkxFURcF2PPq0c4soliU1KupQikKoYyrzzoMnPtJ32fgS5HiLf6SCEBpnF1ZJxbRHRFjqXxVESxxJ+X1VQQRNyP71EZ4ioKUpxSIoMNWWaBbNKWVBfwqLZpTQlod4WpICE43lplZMD6WBJQAi0tAELLSJev1hzTRgz5sa1MDdz1EQljNcevKz25uZmmhqbePDBB+ns7CSXy+G6LlVVVcyZM4d9+/axa9cuctlc0MXlySefDLq3GJllvO/hjPvpZz395MNhw8KwY7iI+Of19J2p7I+JJhjDszACUVFRwapVqwLDOFz38Vqeo+u6gSfraiFTkwgWfi6Gc1Y/axbaL8xrGsJPTU3x2muv0Xexj+3bt/PU009PGyd+yZIi7mz8SYpZeBKEB3NYUZNSMmvWLBYvXszs2bM5c+YMR44cYffu3SxfvjxQJAwfwXVdHMfh3LlzHDx4kFmzZvHII48EE9ScJyxMYHpCGGvHTMj58+fT0tISXFM2m6Wvr48dO3Zw6tQpIpEIDQ0NrFy5krvuuis4dtitfrWYvlGcwh67mZ5PGOG6NOa6zHk/z+oy2Ztmsnd3d3P48GHGx8epqalh9erVlJaWXsbtiEQiLFu2jPb2ds6fP086nWb//v1885vfDHh1V7vm64V3PK8Zuffq9Qc0njMXsIQXHhK2HTB+tLC9dDnlDc4yW1EqFCmpqSuRNLVW0JYWHO3PsL97kmO9WbpHR5lwBDkhmdQCR1sozw3iMbGFRTbnIoSFtwRCVEAUFyEtbrQ3ooivAsLzyOsKIaazAAhzzLw/XTQKrV1cHUVKC20Lclr7Y8nbBxykznnHUy4Jd5wKkaYuLrirOsrdDQnaZ6eYnRKURzUlQImGEi2ISL/UnhUJElQ02u8iIPEC+9PePOmH+YNrFcGFXBdmMhDDZXHC2efRqKdoNDY10dDY6Mkn10VIyfDQkFfE9eABck6O2ppali1bxtKl9+S11Ss8/pVwpUzGQhkPny+XrsQ9u1onk7AHz7wWrieFCHOawwZ04TbmeKbh+uHDhzl9+jSpVIrW1tZgrVFaYVle7bdYLEZLSwsbNmzgd7/7HSMjI5w/f56hwUGyDQ1eD2fvBEWO2R2Om9pIzAzaSCTC3XffTXt7O6dPn2ZgYIBDhw7R09MTZOLAtBUyODjIZ599htaa9vZ2YrFYQPa/1gEZJpuGQ4eTk5N8+umnfPTRR4yMjBCPx3n44Yd56KGHiMVi1+ySNjAT1bZthoaGOHDgAN3d3Ve1usyEzmazlJSUBErdwoULufvuuykpKQn2L7Qmw3VzXNels7OT//qv/2L79u088sgjQR/SaDR6WeumkpISamtricViZDIZxsbGgmdv7v3mEEu1eVh564rnPfPuU2EI2P4iYXkeCUkOG9crNYAkRpRkiU1DY5wlNXE65rjsOz1M58VhLozlGNQ5poTC1VHcnMbVAi1sr6QRXmVzG18VM50CuDKfpIjbD17w3J8/oXd1wd/5ISFPQRfS+0F6PC8pNFJ6rbts5RJTE8TUFFJrotpldjzLgooI98ytoH1OKQsqbaqlIqaz2Fr5YUsLi2jAGfM4ZFbAu9ShK50Or2o/IaDwOm88Cud8uOi3V14Esuk0e/bs4d133w16ara0tPDSSy8FytzthpGREQ4fPsz58+cBghBsuKdnIcyzklKyZMkS5s6d6zVc53JlzhjG6XSaP/zhD7z66qvMnTuXl156iRa/S4JyFa7jBD09S0tLA4qPZtrod/3vwTuuQlDMzLyTcdMUs3C2pRBenZy2tjY+/PBDcrkcHR0d7N+/n6VLlwL5itTFixf57LPPqKio4MEHHwzCezNZV1eC8SqF06jHx8fZs2cP//M//8PJkyeJx+OsWLGCZ555hvnz5wf1ZQpxNWXFWGRaay5evMgbb7zBH//4R6ampq5qNeZyuUBpzWQyxONxvv/97zNnzpzgOsw9F7rnjTvcuNFHR0fp7+/n2LFjdHZ2Ul9fDxAoZ0ZBm5iYYGRkhEwmE6Shx2KxPEF0cywxs+gUhg09D4AhPCu8EgSu0ChcLBwiaKIahJbYWmJpQQRNiRBUlMDsORYLSss501jKgd4J9p0f4/x4PxkVJ2vUOhnHVhmk8jxoCkDYntfiFix8RdxaaF+tgZAv1Ixrna+cTX8OEPV7tkocBVIrbHLE3AwSRUJkKM0OUOJOUF2RorGmnLb6OK21EeZX2syyIek6JNwsMekghBd20n7cNKxmqQIVMewLs0yjMq39O7ixhWVnQsCrVd55hU8T0VqD1pw8eZL//d//Zfv27UghaV3YyosvvkhbWxvWbVq+4cKFC7z++uts3ryZTCYTUHGMvJxpLQgnBfzoRz/ipZdeCpqMX0mRM3zrCxcuMDAwwNq1a5mamiIej+clbbmuy+joKJcuXSKTzSDwCoiXlZURj8dxTVi26C2743FTFLOwK9d4a6qqqvKKGJ45c4Y9e/bw7LPPkkgkAm5TJpPhyJEjnD59mlWrVrF48eIZsxM/T4koLL0BcPDgQf7rv/6LI0eOoJRiwYIF/PVf/zVr1qwhmUzmufSvFeFK0ZFIJGjwOzExcdXMHtO03SiP8Xg8UKSuxk0L/y6EoLa2lurqarLZLMeOHeOjjz5i8eLF1NXVBeFk27YZGRlh165dHDhwgGw2S01NDatWrcprVny99/650IDp9xekS06rY9IPL/mjZZr8g0KQwyxZWvg+Lm0BnscrCcTRlNlQW2Uxv8KipTbGwroyDvVO0tF9ib7xLBkZY8LJYCuXUhkhIn1vowLTJLqIOw/BUIICvVsHGQKFRoLCwnE1SIhLSNqCMnKgJ3BympLsEA3RNIsbUiycV0NTbSkLygVllteUPKU1CWlha8uPfOqA76jFdH4l2isem5epjBe69JIJ/LCrlmgRMspu6BMKPZGwvPEzI4TwemM6fpPx3/zmN2zZsgXXdZlVP4tnn32Wxx57jFR5OU4uh32DO4bcCkQiEUpKSigtLQ2UJ8uyiEajV1S0jPPAGLczJWqZ7cBbA6PRKGV+Qd1MJsOuXbvYt28fa9euRUqvBVcu54XHz507x9atW8llc1RWVtLc3BzIaMuyiqHMrwluimI2U0ailJJ77rmH++67j5MnTzIyMsLRo0c5duwYK1euDEij3d3dfPLJJ0SjUdasWUNlZeUVPVZX82SFiZ8jIyNs2rSJ//7v/2bz5s2MjY2xevVqfvazn/HEE09QUVFxRcXk8xRAM1GFENTU1PDMM8+wevXqvPTvma47nOxgFLK5c+cGWZmF28N0Fetw1lNTUxPr16/ngw8+YGBggN/+9rfYts2TTz5JfX09sViM4eFhNm3axBtvvMGhQ4eIxWIsXbqUJUuW5GU/fd4zvX54is80S8Z3wGs/aKm9IrwCEMLyMt60wEIgtd/jzlfqFD6hX2gvcw1NRLtYWhGTkJJQnbKYk4pyd1OM4/1lHLswTEf3CGeHxtGuIqLiRJTrhzJ9JbzoLLvj4I0bHWg9+cys8Pv53lKBjWVBRAiiWhNJTxKdGqREpqkoK6W9uZL7mlMsqCmhJilJ2lCqHEqlwEZgOyBdBVhoaUKVvlGJBuFR+4WZawhvXPsKmaVNQB/Q0qf9i8CjdjPMiMKSFjDtFZqcmmL3rl288cYb/P73v2dgcIAFLQv4+c9/zne+8x3qZ8/2vXq3JxoaGvjud7/Lgw8+iNb6qrUnC6G1VxC8vLz8smSxMP9MCK+kyAMPPMC6devYunUr+/bt45/+6Z/o7u5m8aJFpMpSTE5O0tnZyTvvvMNbb73llTCpquSBBx6guqZmOjGMy9iRRdyBuCmKWaGHy/w9b948li9fzvvvv8/AwAAdHR3s3LmTlStXAuRV+p83b15AZJ9JOfo8D4+pUn3hwgU+/fRTXn31VQ4ePEhtbS1PP/00L7/8Mt/85jcpLS29rIns9SDcraCsrIx169YFStPVFDMhvNYmsVgMpVRQ18woZea4YQK/+TGZp0opUqkUy5cv5+GHH+bdd9/l9OnT/PKXv+TgwYM0NTWRSCTo7Ozk4MGDnD9/HsuyuPfee3nhhReoqqrK8xKGhckNgfCCRZcHMM1yM13eQmCqqkukEkjlK6dSo4XEEQJXmlCQFwySuFiArSGic0TQSFlCJG5T02gzv6aau2YlOdabof/SKNVMEVFZLJ3AFv5CJ0IlNoq4I6ADNcaMs8s/Nb+HfxPCxsIrX6HTWRI6zV0VUcpqKpnXUMWyxhhLKyQVaKJaEdWg1CQxYWFpGzFdlQ+lBUoEPl+kV74Wod3gmrS2EL4nTfgMSw+XM+Fu5VKcnpoKaki+9tpr7Ni5g4gd4Zvf+CYvvPACzz33HNU1NQjhNeeO3obeMoBkMsmyZcu49957g9DltUYOwkkAhi4SLrAbLqshpeTuu+/mueeeC5K13n77bY4ePcqaVatJJpMMDQ1x5MgRjhw9gpNzqKur49vPfDtoQ2jWFKVUwEcr4s7FTfmGC9tjGI9SWVkZCxcuZNGiRWzbto2enh4OHjzIpUuXKC8vZ3R0lKNHjzI8PMzixYuZNWtW4CoudBcbJSLsmdLaa7fU2dlJR0cHJ06cYM+ePRw9epRsNssjjzzCqlWrePzxx1m6dGke4f2LNu+eyTNoruXzYPhpJpQJ+RlS5jWsMIaVXvMcFi5cyF/+5V9SUlLCtm3bOHv2LB9//HGQKGDCrTU1NSxfvpynn36aDRs2BOe8ocrYZQgn/xf+bTO99Hj+AIn2k8/87U1IoIANJvD6EwYkfi2QWlMqoFpASkB1iWDu3DjtVXEu9oMY1zSWeCRuKS1c5WJZuqiX3bEwgXLjZzDeK/Np/phXaG8rrUhZWZbNidEyu4za2ZXUVZVQYUOV1pSiiWiNhUZYMUAHjiNhC5QCrYKooPejp5VFHZx22pfn+8yCq/Pmo/E1ixtOKzLedyM/lVKcOnWKU6dOcea0RzP57LPdjI2NsWLFCtrb7+XxJx5n3dq1VFRU4FsAUoIAACAASURBVLpeUVzTm/d2RNi7Fa6Xdj37w/T6diUOtBCC8vJyHnroIcbGxnjzzTfp6Ojg+PHjdHZ2opVGSkEu5xCPx1i+fDlr1q7lL37wA2bV1wMe58/zZN6ez7qI68NNJf8X/m5ZFvfccw/t7e3s3buXiYkJOjo6OHToEPfffz/d3d3s3LmT6upqHnjgARKJxGXHCv8dtnBMb8qenh5ef/11Dh48SDabRUrJ8uXLaW1tZf369SxevJjS0tKgL6QJJ4a9Ul/0fgvTu68WZgVmrPI/09+Fn4UVOvAyee6//37q6upYtWoVhw4d4sKFCwHRP5FIUF1dzT333MOaNWtob2+ntrY273sJX/cNh6DAc+H5EAjxZ8jXwzw6WQhSeLyc6Y3NwgWGx6a1JoIghcYFXDSVlmZOmSYdsVG5FKWxKHHpL3TFekB3LoI547tZgxEoZtjGV4E0gEtUCupTUUrmV4FlE4/b2FaOCIKYFkT87F5hsj8FPmnMX6yFxut9Hu5xKfxAvoVGzegC0wVzxLtE5SfN3NjmYWEesJSSwcFBPv74Yz799FNGR0exLIu777mHBQsWsGzZMpYsWUJNTY3XfcWyUD5RHuErOLdheG0mGXst8j+8/lxt/0Ijff78+bz88sssXLiQLVu2cPr0aUZHR4MuMZWVlcyfP5+1a9d6zdj95Kxwj1DLtou02K8BbqlPVAhBXV0dy5Yt48MPP+TEiRN0dHSwefNm7rnnHo4ePcpnn31GW1sby5cvD9KQr8R7KvSiZbNZhBA0NjZSVVVFc3MzixYtYvbs2UEh23A2o/k7XI7idkBhWQvHcUgkErS1tbFkyRIymQzDw8MMDw+Ty+UoLS2lvLyciooKotHoje+Hed03EPx3lc8/9628dzXS91CEhK2/dEaFIFlSAiWlQZDL65noH6Mo6O5gXO37vTzEjgYhNHE7SiRlo9BYvqfLRmAJkNqMsiBWGTqcDi3SVzrXNQw4EZzhpgxP4y2D6czB+vp67r//fmpra2loaKC5uZnq6mri8fhlrfDCRuztJDuvB9cjIz9vW2O419XV8cQTT/DQQw+RzWYZHh5mbGyMSCRCdXU1qVQqkNGFRXm/dLldxC3DLQ9WW5ZFW1sbbW1tgcWwZ88edu3axaFDh5BS8o1vfINUKhUkBHxe9iVMFzScM2cOL7/8cl4FfZge2ECe23qm/mzXgy9rooTPGw7DRiIRotEoiUSChoaGGfe5KRmYXzLCC4XJePNyOAUuXg0gy+fyQL6/rYgi8otseHpREJ5EY/lhc0v7OlPB4Ck0lm4HhEN4lZWVPPXUU0EnFVPw2yBcSLWwBdFN8bLfAlyLMjUTwvLzWpRScxyj0MZisYBbXFVVlbddITc5fPzb9TkXcf24pd+0sRpaWlpYvnw5yWSSXC7H8ePHeeutt9i2bRv19fU8/PDDgbJxtWr4YUFoykIYxSTMwTLWR/g4JrvR7Hs7IZwIEBaukE88DVvE5j2YDl/cqTBeMfNqCy9rDq1AgyWk/3P7LKJF3GT4BEYLgYXEQmALSVTYWEIGpSzQ4Z/8Q4Tn5Fcdhd1GjPyMx+OXcVOFEHmKWrhJ+e2mjN4IhL/ja/2+w9uZri1KqaDlFRAkC5juN4X7A3myvog7F7d0dTaTPZlMsmTJkqDJdk9PDx999BFnz55l0aJFeT0rzWCdCUa4mD6a4bZIRhkrtD7Mdlc77u2KsKvb9GIL9/IMZ3neafdeCKGnS3NaSKTP8JEASnmFNNWd/QyKuD5IIbCkp7ALrUB5P0Ipn8Dvb3gHDJuwFyf8d1iOGs9Z2BsYliV3AgqN3C+qXF9tn0IFNrydecZmTQo/4/Cz/ropv193fCmzS0pJa2srK1asQAivIv+5c+eorq7mvvvuC8KQV2sEbo4D01X0w7wJg0KCp9mucKDfzopK2LqFfCJq4b3eSUJ1RvjeDKE1QmmvnJXrIrRGClmkkxURQIf+ga94KVPgFWwhsYXAEmK6/r4Qfizz1o2kG9fCfBphaofjOAHfNtz6LmwYh5Oswl6e2wkzeZvCtJbCn8/D9ShLhd7GQseBbduBrDafm2dvoh9/aoJaEbcPvrSCKC0tLbS3t1NRUcGlS5eCBq4PP/xwsE0463ImhBWt8D5w5dj8lQb27TzYZ+rLeTvfz5+EgvsWeKHLoESCCOWHfk0fURFXhsDT7UUoaeCyjMhr4PFfbf5dSaLdyjkb5ocVGmozeXZmyuAu4vqyOK933ytlit7OToQirg1fmuvEtm0WL15Me3s7QghmzZpFW1sbqVQqsBqK8fQi/n/23vw9jurO/32dU9WbdsmStVpesbyv2AYcggMB4wCJE0KSbyZhJjPJTO6dX+ZvmF/mmXvvPM/8OplJJgmTBLKxBcZAAgRibIMXvC/ybm3WYu29VtW5P1SfUnVb3rAtC3NezyNb6lZXVbdOnfM+n/VWExZlZmQZJuO65NHUGs0MBsNniCkXZmF/+8KFC1m7di2xWIzW1lbWrl0b1Be721OxDXcO3aPQjCzDDWGEmMFgmALuSLkMTW1tLWvWrGHVqlWsW7eOtrY2hBBBVWr45MLsM+vK+wyj8mUMLvvLC1FQOi0synTPAcNnHDHJj0WPqfBjavLfub5TmbnJYDBcmSkXZuHyDrZt8+CDDxKNRmlubqahoSEIevy0FX013HnCC+dkzclV6MvDeKMMhajrGAzFrnAzhu5ezPpjuFNMuTBzXTcIwM9mszQ2NvLEE08UpClrcRYuamgw3BDXUUHWTLuGT0LxuDHCzGAw3EruiCuz2M2oi8mG65Ddiqr8hs8WIrzDvcqYEfhdAcC4MQ03RsiTaTAYDLeFKe+VGUb3rNTc1fW1DFPPZHFDRQ8byW/4JNzMuBFmO2AwGK7CHatjZjDcCYwQM9wsZgwZDIbbidm6GQwGg8FgMEwTjDAzGAwGg8FgmCYYYWYwGAwGg8EwTTDCzGAwGAwGg2GaYISZwWAwGAwGwzTBZGUa7hpMvTuDwWAwfNoxFjODwWAwGAyGaYIRZgaDwWAwGAzTBOPKNNz1mGbEhjuBca0bDIZPgrGYGQwGg8FgMEwTjMXMcNdgLGOG6UR4PBrrmcFguF6MxcxgMBgMBoNhmmCEmcFgMBgMBsM0wQgzg8FgMBgMhmmCEWYGg8FgMBgM0wQjzAwGg8FgMBimCUaYGQwGg8FgMEwTjDAzGAwGg8FgmCYYYWYwGAwGg8EwTTDCzGAwGAwGg2GaYISZwWAwGAwGwzTBCDODwWAwGAyGaYIRZgaDwWAwGAzTBCPMDAaDwWAwGKYJRpgZDAaDwWAwTBOMMDMYDAaDwWCYJhhhZjAYDAaDwTBNMMLMYDAYDAaDYZpghJnBYDAYDAbDNMEIM4PBYDAYDIZpgj2VJ1NKoZQCQEqJ4zjYto3necHvuK6LZVnBz0IIhBBXPKbneQghcF234FhS3nnNqd8r+NcppSx4/waDwWC4vSilgjUkvAaFH9PzsV5Pws8Xv05KGawz+nHLsq66ThkMN8KUCjNNLpdDSolt27iuG9wUSqngZ8dxiEQil91ExXieRzabZXR0NBA/2WwW27bvuPiJRCIkEglisViBKDM3sMFgMEwNSqlASOmN/mRCTT8fft1kz2mhV/xzWAAaDDfDlAszLZ6EEDiOw/DwMIODgziOQyKRoKKigoqKCqSUgUi7mihLp9Ps2rWLffv2MTAwQCQSwXGcaXGTNDQ08NRTT9Ha2lrw+J2+LoPBYPisoDfFV1oTwpvmsOiazLKmnw8fE7jmWmUw3Ah3xGIGMDY2xtGjR3n77bc5deoUSinq6upYuXIlDz74II2NjQW7lcnwPI+BgQGef/55XnvtNUZHR1FKYdv2lAmzK12jUopFixaxevVqmpubkVJiWVawe7vT1jyDwWD4LFBsLQsLLL1GeJ5XIMSKfw4LNY328FiWhW3fsaXUcBcypaNJD+5kMsmuXbv43e9+x9GjR1FKMT4+zuDgIO+99x7Dw8M8/fTTzJgx46q7ENd1uXDhAh999BGRSIQNGzYEvv5ribrbjVKKuXPnUlZWFrhtr7ZrMxgMBsOt52oCq9hSFt4wF7s1w1ayYsuZsZgZbiVTHvxvWRaDg4Ps3LmToaEhvvrVr9Lc3ExXVxd//OMf+eCDD/jDH/7A8uXLuffeewsSAYq5dOkS27dvZ3BwkO9973ts3ryZqqoqAGzbvqM3iVKKSCRCXV1d4JY1QaIGg8EwtUgpSafTCCGIRqOTbty1qNIxyyMjIyQSCUpKSgJPh+M4QaLZ2NgY0WiU0tJS4MqeE4PhkzDl9lfHcTh58iSO4/C9732Pz3/+80GWy5w5c7hw4QLHjx+nvb2dxYsXE4vFrnis3t5eduzYgVKKRx55hEWLFlFeXl6w67lSYOetpDgIVH9fbC7XE4LneVcVnIZPwCeZF5VX+ELhfynC40QglH6Swt81fMZRoOcX4Q8eFXpK6G+C39O/K/ErFeUH0RXGUvGQ/jQMuWKBMpkIutY8fCNJUsXze/G5XNelp6eHvr4+EokEjY2NlJeXXzGGLJPJ0NfXx/bt22lubmbJ4sXUzJiBQDA+Ns7ApQHOnj3LxYsXKSsrY968edTV1VFdXR24M4uTAYyXxHCjTLkw0wN12bJlrF+/nng8HpiJW1tbWbJkCbt37yaTyZDNZoN4LG0q1jdTKpVi3759dHV1sWHDBubPn09lZSW5XA4oTGm+Evq4xeKpmKu5ICcriaGPcyWzuOH2cMOfsFJ5cTbxYiUAoRdYLcpA+Ipt4ncMBhSCfNkEZF7Q+2NHQP5/z/8d5QJO/nXRvDi7OyieG13XBS4vdRQuLREuUTHZ8fTrJ4vrKp6rdYkLbc2SUpJKpRgYGODQoUO88MILHD58mGeeeYbvf//7AGSz2SBRzLIspJTkcjmGh4d57bXX+P/+n/+XrVu30tLUTGVlFSPDw/zyl7/k17/+NR0dHYyNjyGFZObMmWzZsoVvfvObLF6yhERJIrhGvQE3G3HDjXJHhNnq1asBqKioCEpn6Js2l8tRXl7O7NmzKSsrKxjU4VplQ0ND7N27F8/zePjhh4nH4wghAlfhZOnR2loVjg3QN87VdjXhCSB8TP29FnfhY5kb8dOAb7UIRZxo+0Z+UTUKzHB1JjPUKvIGNECp/EYN8Meb4m6s6x2eG3U8red5QXB8cUmkq21UwzXF9DE1ep0orgkZFn2O43Dq1Cnef/993njjDXbt2kUkEsF1XXK5HJ7nEY1GL7umSCTCyMgIH374IYNDgyxatIjS0lIG+vt54YUXePHFF7Ftm3vuuYexsTFGR0fp6enh+eefJ5VK8X/94//NokWLLrOSGTen4UaZ8uB/KSXV1dXAhIVJC5re3l7Onj1Lc3Mzs2fPJh6P43lewY5I34BdXV0cPXqUiooKHnjgAUpKSoKdmj6XJvz6cICmFnr696+nkC1QcEMXTxr6GvTNb5i+eFLgIdGeSqH9TyrwahauvGLyhdjwWUVOKLCQiC+UXQJPWCAsCOywvui/lhH907It0HOnFmJ6ntWCTMdnAYG17GpZjMWB+OGNdhgt+sLxX5ZlkcvlUErR1NTEihUreO+99wrOp4/rOE6wHmjvTGdnJydOnKAkUcKKFSuwLItTp07xyiuv0NbWxpYtW5g9ezapVIqPP/6Y//iP/+DChQu8+eabfO7BzzFnzhwSicRl3hOD4UaY8uB/mDB1h33y4+PjnDx5EoAtW7Ywa9asYJejX6d3Q6lUih07dtDf38/GjRupr68Pfjec/RjeuQEFN7eeOIpF2pXclcWCTu/OXNcteK1+T9dyoxruPB6QEb5r0o/6EVgqb0dTE5Fm2i0VYOZZQx41IeHzQj6f5QcgBF5ezLuh2MUIcDfZ08PdVsJWIu0m1P9fa/N7pWPr9SJseQtvsnX4ii5YblkWCxcuZO7cuSQSCV544QWSySS5XG7SGmRSSiKRCIODgxw+fJihoSGWL19OfX092WyWjz/+mFgsxt/8zd+wZs0apGUhgIULF9LR0cHvfvc7zpw9Q3v7ScbGxkgkEsFnUBzSYjBcD1M+YvRNFK4V43kee/bs4dChQ2zatImtW7dSVlYWuDnDWY1SSnp6enjjjTdIJBJ84QtfIBaLFbgs9Y3neR6O4wS7Kf14NpsNjpdKpYKd1tUITzi6/AVM3NS5XI7R0VEGBgbo6+u7vR+i4bpQ1/jyBMHCqV8glEJ6yhdm+f/1K5TwvwwGyI+hIMqMfLyiiyDnf6kcEq/AWa5fF/666gmu6xfvLJNVwdcbX9d1yWQywfwa9jxc7Xh6/tYb4PCG1/M8kskkY2NjDAwMkM1mA/FjWRaRSIRYLBYUKtfhL3qeL95MZzIZhBD09fWxe/du0uk0W7+6laqqKpRSjI6O8oMf/IC1996LHYkg88eprq5m8+bNzJ49Gykk6Uy6oP7Z9b5fg6GYKY8x06Zny7JIp9NYlsWJEyfYsWMHtbW1PPXUU9TV1V12s+v2TNlsluPHj9PR0cHq1atZuHAhJSUlwETAf3iXYllWcDP29fVx/vx5BgcHaWtro7W1NTA5X83CVVyUECCdTjMyMsLo6Cjj4+OcOHGCS5cukUwmqampYevWrVRWVt7mT9NwTSaZE1XwlEckH0mm8+Qs/WS41hHFAf9mojUUErjDlZZrebelchHCH2Ve3rp2t9pPtGjSHpCLFy/S2dlJNptl48aNwQZaz7fXY0nSVrDR0VFGRkYYGxujr6+PCxcuMDY2xtDQEOvWreO+++4DJqx2ejMeiUQuC2EpThoA36154cIFTp06RWVlJWtWr6G0tJRoNMpXtm6lvr4e27ZxcjlfJApBLt82MJFIYFkW5WVlxGKxAktcOLzGYLhepjzGDAoblXd3d/Pmm2+STqd58MEHWbFiRXDjFhfzAxgYGGD79u0opVi1ahU1NTWTxiuEe24mk0kuXLjA22+/zY4dO8hms/zwhz9k1qxZxONxoDBAszjANFxEEGB0dJTjx49z6NAhDh06RFdXF4ODg1RWVjJz5kzWrl1LJBK5rZ/lraA4Xbw4CSIsdIsF76eJvL2r4GeEQOJi4YCn8lmXEuX5Mk3ls+aU5/s2Pc/DsmVIsH36PgfDrcdzQVrgem7elekhxYQdTQqBUB6W57vKETYIiSdkkFzioSbiGsWnL5AxPE87jkNfXx8HDx7kgw8+YN++fcyZM4cVK1YEG2iYEHHF80k4o1EIQTKZpL+/n6NHj7J7924OHjzIpUuXkFLS0NBAY2Mj0Wg0EET69VqQFZ8vLJr0OWzbJpVKceTIEcbHx5k3bx5z5swJQmHmz5+P57pI4ddBy+VySCAajXLp0iVSqRQzZ86kubk5SCoIz6XTrVyGdi1D4ZpcHPtnOtTcOaY8xkzfCDqr5ZVXXuHMmTM8/fTTLF26lHg8juM49Pb24rouTU1NBcKoq6uL9957j9LSUlasWEFlZWVBYoC+KSzLIpvN0tHRwfvvv8/LL7/M3r17GRoaoqmpifHxcYACy9rV6ufoXVhXVxdvv/02v//97zl16lRwI3/pS19i+fLltLS00NDQcNX6a9OBcPP48CQSTlHXGUz6859ubUeu6RLJ/6NQCFXsUAKpXIQ3lg8yi6BkDA+LnOd/LlJKXE9haWeV8nxhdheVOjB8cgQghS/qlfLjyVwsbGGhlIvCISqk785UDiKXAysCdsIvtHED9boAnSo8LVHK7+hy9OhRfvvb3/LWW29x8eJFksnkpEHwxbFe4QB/7WIcGRnh8OHDbNu2jXfeeYfOzk4sy2LDhg088MADLFmyhJaWFurr6wuyNMOEz1mctBXebI6OjrJ7924sy2L9+vUk8iJSb7DDSWJ2JILneeRyOdrb2xkZGWH9+vUsWrwY27YL3teVrmuqKV7bwl4gmBCq2Ww2mOuNKLtz3JEm5jpt+eWXX2b37t185zvfYeHChSQSCVKpFOfPn2f79u1UVVWxadMmKisrsW2bkZERDh48yOnTp/nyl7/MggULgsrL4dRqz/MYHBxk27ZtvPzyy+zfv5+uri5c1y2wxMHlljKgYEDqchi5XI6TJ0/yP//zP/zud7+jo6OD6upqHn30Ub72ta/xyCOPEIvFCmIrpjPFn0FxHaBcLkdHRwcjIyPU1dVRVVU17YTZjaBdkUHIjvKLflpIsCQOEVKexJU2roSsp0glFZbnUFtmE0GAlwtl4RkMCimUr9elJAsMjOdwpUVJSQRbRBDKo0R4JKRARHUiiYfnTWRo+kVbbjwwfrrgOA6HDx/mN7/5Da+99hrDw8P09vaSy+WuuEEtFmn6f+3lyGazvP766/ziF79g165dJJNJ5s6dy7PPPsuWLVuYN28esVisIMHrRj+/sBuzp6eHgwcPkkgkWLt2LdG8ICs+ps74jESj9F68yEcffYRSim9961ssWbyYSF60Tee/ZbhnszZ4DA8PMzg4iGVZNDQ0mIoCd5gpt5g5jsPg4CA//elP+f3vf8/o6Cjd3d2UlpYGJuXh4WEaGhr427/926AArRCiwFr2la98hZqamoLja0Gl/3ddly9+8Ys8/fTT/Pa3v2Xbtm3XvD79fzjTaHx8nI8++ogf/ehHvP/++/T397N48WKeffZZnnrqKZqbm0kkEkFQafgapis6diNsCdMCNJVK8f777/OTn/yE7u5unnnmGbZu3cq8efPu8FV/cpTyLWcq5NR0kSiRwBE2SSKMSsmIB73jDh1dQ4wODDFrRinrFzZSJSHiZBEyL+2m77xrmDI8hHLxXIUbiTPiwoHOIc5fGqeitpKW5hpmlNhUCSjHplRY2MpFIAss0+G6Z5eZdScCIqctjuMwPj7O7Nmz+ad/+idGR0f593//dzo7O6/6uuJYLO2VGB8f5/nnn+e//uu/OHnyJFJKnnjiCf7u7/6OtWvXBuWWoNAl+kmF2cjICHv37mV0dJSFCxfS2NjoB/nnBYwqyuZ3XZd0KsWLL77I2NgYX//619m4cSMlpaWB2Cm2Bk4nwjF4nudx5swZfvzjH7N9+3buuece/vqv/5r777+fSCTyqd6Mf5qZ8hgzIQTt7e3s37+fTCZDLpejq6sriBEYGhqitLSU++67j7a2tiBgNJVKceHCBdrb25kzZw5Lly4lGo1elpKsf04kEnz+85+nvLwc27Zpb29n165dDA4OXmYlC8cBFFuRMpkM+/fv52c/+xnbt29nYGCAuXPn8p3vfIevfe1rNDQ0FASz6pTu6W4xg8JM07Ab4dSpU7z66qv8+c9/JpfLsWHDBjKZzLQXm5MxYZcoFGUIgUuMJIoxJIMudCUVJwbSHD07RF9/H1Eng4rFWA5UiPyY8FQoQ8DwmUaBrubvChgHzo46bD/Vj3NhnNZ+waI51cyukLQkJLV2jIRyiQmBTej+Y8KK+2ksahyNRpk/fz7Nzc1UVlbS1dXFa6+9xqVLl65rHtReFCkl/f39vPHGG/zmN7/hxIkTSCm57777+O53v8v9999PIpEo6ARTHCt1I2jhND4+zuuvvw7A+vXr/Q1/kUdF6PUln4iwZ88e3n33XVauXMlTTz1FTU3NZQXIp5MwK17n9NfAwAB/+MMfePnllzl9+jSxWCzoK/ppnO/vFqZcDtu2zfz58/n7v/97UqkUnucRiUQKSlzE43Hq6+sD0WNZFr29vezfv59UKsVjjz3GjBkzgoa0xf5ygLKysuB5x3GoqKgoyJgJM9lj+npOnz7Nb37zG15//XWGhoYoLy9n8+bNfOMb36ChoSEINAUKJqHpcDNejeKYMm3S7uvrY9u2bbz77ruMjo5SXl7+qa/J5uUtXCJfed1TCs9zSWEzrCRdKThxKcPe86Mc6BxkMJVDKMmMWIKxSBkZCS56nBhRZtAowEUIiQdkLRi1S+nIlTCUlpw/O86R3gz31MZY31pOW22MurhFpedRgoMUEsvKJwEohQdYYWH2KRlqlmVRW1sbFGwtKSmhoqIisMpfDT0PWZZFMpnko48+4rnnnmPv3r2kUimWLl3KN77xDT73uc8Rj8cLxFjxMT4JnufR39/Prl27qKurY+XKlZSVlQWhDgW/67pB3NtPf/pT6uvr+fa3v01LSws5x8FCBfFx4Ziu6STOdEUEKSXDw8Ns376dl156iXPnzgWJC8VrqWHquSMtmZqamqirqyvoIxaOcQp/r3dT+uZRSvHYY48FGT7hoNHw4A/XqdFxAY7jBBPFlQaejg9wXZdsNsuBAwd46aWXGB8fx7Is7r33Xv7qr/6Kpqam4BzhAoifNN5hqgkH9eubVe8EX3vtNTo6OoLPLpxFO9UUxjt7Rc9NVIkSFBftdNErm3JdXCHxZAQHSCFIuoIBF471eew9M8zJ3mE604qeFGRUnIQtKLEkrhUnlz8awgLpMa39SoYpRShfVAVFZCPlOJEZjDjQPyLoGsnSP5qh4+Ig82fEWDlnJisaYsywbWIS4gii+GPXwiHI9lW6cG0+LIOJe8GPSQvfCyHLRvG0NkVDVUoZxCXpudVxnOta4PUcfv78eX73u9+xZ88exsbGqK2tZcuWLWzatCkIddEbbZgoOK7Pf6NiQinF4OAgx44dI5lMMm/evCBTX4pQK638epROpzl9+jS///3vqaio4Nvf/jZtbW0TIsySBQlV4Q4D08UlqOdy13Xp7Oxk27ZtHDt2LLBA6ppuUkqy2WxQtcAwtXzi0aIFSHEGSphsNks0GsV13SBFVwdrRqNR0uk0sVisoBOAFmY6K8R1XdLpNLt37+bChQusX7+e2bNnB+Kp+Jo0YVOsLlIbDnicjPCgBThw4AAvvvgiXV1dAMyePZuNGzeyYMECxsfHCwRcZWVlYHW6mgk4HHAazgSd7DVXyxIt/r3i4+jrCO/ewtegP4t0Ok1JSQmpVIqenh5+9KMfcfbsWVpaWujt7b0DIlM7HFXQGFo7fHy7kF/w9wAAIABJREFUhIdefVxssljkEEQA21MI18OyFEK4oHIolUNKm3FlMeLZ9CvB+aSivR/2deQ42usxkoqQypTiIMjZEVwlkG4KJ5tGpVPESPjO0IiN6+SwxCcQqWYDevehBCgbpMACIh6oZBaRjaEyMbxYgpSV41x2hM7MKIdHs7zfc5EFdRWsnVvBkiaLhihUS6jFt6J5yvNDGIUNWHhODiyLrLBwRP48eNj45TmUpxDCRuXFmQgbdafwtg3PNcWxuleac8MW+1QqxbZt29i1axfDw8MkEgnuvfdeNm7cSF1dHalUCtu2g018OFsyfJ7ibE9d0Lw46Utb9/r7+3n33XcpKyvjoYceCrL8kQLHm1hf3GyOQ0cO87Of/pRYPM7/+atvs2LVSnLuxGb/1LFTnD9/nsWLFzNv3rxgDtahLuG+zzfT2Lx4jdGF1MMlmooz7MEfGxE7Qi6Tpauri9+88Gv++OZbJGJx6uYv4ET7CaQQKNdDKIhGp3dlgbuZm5LxxY1kobBdkRCCsbExuru7OX36NPX19SxbtiywNOmBFA7c1KbqcOxYf38/O3fupLS0lHvvvTcI/rweAVT8/dUe0zswbak7ePAge/fuDcRiTU0NDQ0N7N69m4sXLzI2NgZAS0sLCxcupKqqihkzZgS7jauVzNDVqMO+/7DJW99Y10s4xk7/fLXX63IiJSUlZLPZoBnvoUOHaG1tZfXq1fzpT3+io6MjuJ6pMskLFAoPJXyrgYdAKF+aiVDxTqlcIoAUFgK/Sr+0fJdQzlEoYYEdISUkAzmbzrTiUH+GfZ1pTg84nB6XDIoSckogLRshbTwZw3XBQuFKD5QuQKsQQmLZFp7wblhnmY4Bdx/S82uW+X0wPX8jYXmoqEUua5OWFrmIQIkEylWMKMVg2uLi+SQXhrOc6ClleVOERTUR0glJlR2hRLlYniIiJbZUWBGB67lIT2ELC1v4YzM0u/n6EAJBJoKotalRZleaE65nQ6l/r7e3lwMHDtDb2xvE9s6ZMwfXdXn77bcZGBhgeHiYuro6FixYQHV1NU1NTUSj0YJ6ZNrDojfJjuMwMjISzMnpdDpIeMrlcgwMDHD48GHi8TjLly+nqqoqsOBZlkUmk8F1Xbq7u/nJT37CuXPneOCBB1BKcfz48cAbo8soLVq0iBUrVgRiLSyOdJH0m51H9dqayWQCS1ykKIu0uCyGIG/FsyxSqRTvvfcef/jDH1BK8eijj9LT00P7yfbL4o4teTc1D/v08ImFWdjqUlxeQtd4yWQyHD16lFdeeYUPPviAr33tayxatKigGrPeSRQ3E9fuSV2Reffu3cybN49Vq1YFRf6KiwjeLGH/e3d3N8ePH6enpyd47tKlS7z00ktB+6VkMgn48Wxz585l48aNQYuOq+2GwkVbw+Zu/Znc6HvSk0jxTX+1AoH6/Lq0yLvvvstvf/tbUqkUjzzyCIsXL2bnzp0Ad6BYrsJvL+5nTnr+BYOysJTwq3oqB4mDFB4RkXf0SIUjI2SURUpYpKVgxIHeFLT3pTjSOcbh7iHOD7skrVJG7BjpaBJleUhLoSyJq0BhkVQWSSwySPS+Wf9VXFxuNOrOyLK7D1u4eWEGLh5ZIUlbWZJ2jtGIIBOJoCICpA1OFNcRKM8vYny6f5yhoREu9EQ4XlvC4qZyFs5M0FgaoTICcU8RcxwSIkcEF6kkYIXmBuHX0xMSV7sy86LNtyq7/j0j7Gk5+MIxrgCnT5/m2LFjjI6OBgLryJEjnDt3juHhYcbGxshkMkSjUZqampg/fz5PPvkka9asCbwV+kvPr0NDQxw/fpyRkRE8z6Ovr49kMkkymaSsrIyRkRFOnjzJxYsXWbRoEfPnzw+EHhBs0M+cOcPPfvYzXnnlFQCGhobYuXMnjuMEMdIjIyOMjIywatWqoHONRs/PWjSGs+C1RW2yz+dKhNtLaeNIcRhQWGAJIXx3bL5Ey+7du3nppZc4efIkmzdv5oknnmDbtm2B+zYQzDf1FzbcDDft+NZCQgs1bfFKp9N8+OGH/OQnP+G9996ju7ubWbNmsXnzZhYsWFBwA03WLkMfM51Os3//fkZHR1m8eDHNzc0FVZtvJa7rBn0vz58/z5kzZ4LGt3pXl8lkmDdvHrW1tZw7d46LFy8yPDzM/v37OXToED09PXz729/mnnvumfQc4RtOC1Jtbtc3b7EL81ouzfDvFVvdrvVeM5kMBw8e5MUXX+TkyZN89atfZcuWLUGhwfBNP1WIvMtSKTExOwSpawI8WVhjwHP9h21BCsGoEAwo6BmH9gE41pXkRNcgHUMpBrOSXKQcYhXkcBEWCJkDpfzyGQiQEmVH8OworhXFAxxP4Cgn7yqN3nDdfxNLe/dhYaEcFzci/e6YAtyowIkpnKyLsj2QvlsMKwbY4Nmk3QwuAlflGB5Ic7L/Ege7U7Q117C4uZTFDZLWhKDKsvxWYZ7Kx5XpgPS8icwSwT2gNwoSECIvzPLJLtN1idUbR9d1OXLkCBcvXiwQMSdOnKCuro66urqg1lZ7ezuHDh2itLSU48eP893vfpctW7ZQWVkZuPNc12Xv3r28+uqr/OlPfyKZTCKE4M9//jOWZfHII4/w5JNP0t/fz4EDB4jFYqxfv56SkpJgTtZzX39/Py+//DK/+tWvGB4eJp1OByEexe7bxx57jIULFxKPxwvcjVpAhdescKjNZMlV14qX08JssseL531d8kMIQV9vLy+//DIfffQRc+bM4Utf+hKLFy/m7bffDq6jWDQbpp6bijELi4CwT394eJj333+f//7v/2b79u0MDw+jlKK9vZ0DBw4wd+7cy6pBF4sPPZB7e3vZtm0bNTU1rF69moqKiuD5W43eyeRyOS5evMjZs2cDS1ZNTQ1r167lySefZPny5ZSXl3PhwgX27t3L//7v/7J7926OHz/OK6+8QlVVFd///vcpLy+/bAcTfo/FIkyXpLjRG0I3e9fZrcXnmQxdRLarq4tXX301yEr6zne+Q1tbG8ePHwcmXJ5TGWvmx5WJfLZa8GDoeQArsBgoCTkgCQx5fgzZgV7F4YsZTlxM0z3qcCkdIWeXkotFcYSNwibruliOh/B8K5zAQkkLpEApietZZFzBuIKkAEvYWMLKWy9uEDPH3X0ohbRLyEoYRzCmIOVJHM/vlonMj18HfzPh2rjKIquipKUgK8HCBSdL30iWc6lxjvYr2nriLK+3WTFTMKfUpsayKHHBVsoPFFJXttd6AuSnZBOg57pcLsfhw4cDy5YQgubmZr7+9a/z8MMPB8Ls7NmzvPPOO2zbto2uri4++OADSkpKaG1t5cEHHww2j5FIhJaWFu677z6WL19OJpMJBFsikWDWrFkI4ZdUWrRoERUVFTz55JNUV1cHngQdb1xSUsLatWv5l3/5F3K5XCAaw3OhNjK0tLSwbNmyy0RVOOTHsqzgODeTKJbJZIL47LAbNyzWwlZE7dp96623+OMf/4iUkq1bt7Jp06aCkiNB0oPwA0rMtHVnuGmLmc6S0fFZvb29vPXWW+zbt494PM7cuXNpb29nfHycffv28eGHH/LQQw9RVVVVMDjDgkIPpLGxMY4cOcLBgwd57LHHWLp0KYlEIrDMXW1Af5J033Bc28jICIODg8F7nD9/Pj/84Q955JFHgozQVatWsW7dOlpaWrh06RI9PT2cOHGC1157jc2bN9PW1lawsyk2L4eTE4QQ7Nixg3379pHNZgNBGH7NlcSolJI5c+awbt06Wltbg7/J1WLclFKMjIzwwgsv8Oabb1JRUcF3v/td1q9fT2lpacFucLIU9duL9IOZlcxbCnxrQd7QjhKCrLRxLUlWwKgLQy50jnq092Y40ZviSL/D+RHFQNbGiVSQjkiQEVzP840OngRP4qUhomJYeFhKkJMCz4KosEFZjGQVF1KKMRSl+bXWxb1hofUpWSsNN4D0BBFX4FiCIQHdHoxm4thESGCRyll4wgUEQkksVyA8EBEbz7ZIu/nFOlGKJSDruAwPZzg3OMTh8x6HZkZY1lzGooYoLXFBjYQyG6IKLB3fhof0u3AC+Yp9QpKvlMZ03RGE5zbLsujs7AzaNymlePrpp/nBD35AW1tb8Jr169dzzz33kMvleP3117l06RLvvPMOS5cuZfHixdTU1AS9kWfNmkVjY2OBwSASiQRhGUopGhsb+epXv0oqlaKpqQngMndjTU0NmzdvRim/5VS436eeo3XMlz6ufk/a0xD2hGgBlc1m2b17N3v27CGTyVz2+VytZEU8HmfGjBk8/fTTQWmP8BoaTr7Qz6WSSbb/ZTs/+clP6O/v58tf/jJbt25l1qxZgQXQU4Wt+VzXRd6hbPzPOrckhzdsAcpms9TW1vKFL3yB2tpajh8/zs9//nN2796N4zgcOHCAEydOBE1tw5mMWgjoHcXAwAAff/wxlmWxbt066urqCnzqN8L1CLVw0cJkMkkqlQpiAJYsWcKGDRuCWjra7NvY2Mijjz7KX/7yF371q18FacgfffQRc+fOLRBH+hrCxWj1e3Ech/379/Pcc88xNjZWkAYefs2VuO+++6irqwv6dIZ/t/jz1ZPM0aNHeemllxgeHmbTpk184xvfCCyS+pxAEMsXtu6FLaY3k2F0OQKlLPSCIn0VNeHeFOBYfvzXmIABD86NKU4P5Dh4YYxTF8foGXMYpoykSJCLxHGEjesp398j5cR65REETkshA/dkToGHx0g2y6HOJK4XxXay/sssCz9+xwuuV7uLJgp3TDyW72ydL38Qdivp59VlxylMq5vkNVd87FYd53YeeyqPc3uvUSgLmY368WUWpGybMxddRsfiCMciIgWuJVHCQwiFsHyLlqfd8LYAV+F64ObjwbJCkFaCVDLNpfMpTo24HBssZUVzjPnVNrMiUC0gLgVRzyHiuUQs/35RWCAslMpnM4u81XmabgvC8+Ho6CjZbBYpJVVVVTz88MO0trYGMVz6uSVLlvClL32Jw4cPMzg4iOM4HD16lNOnT1NRUUE0Gg3WFZhw+enA+7AL0rbtYE0BAuuTriQQdj96nkdpvrK/XoO0yAuXaypOhgt7hsLVC1KpFHv27OG5555jZGTkmp+RPoZ+P4sWLeLhhx+mvLy84Ljh69PvwXVdzp07x69//Wv27dvHokWLeOyxx1iwYEFwjmLPF0JQnK+kReb1VgswfHJuKvg/vOPRu4EZM2awadOmoJ3DggUL6Orq4tSpU/T29tLe3s7evXtZsmRJgTLXhAPZz507xwcffMCcOXPYsGFD0BezWOBc7RpvxHIWTmV2XZdMJoPneZSXl1NbW0tJSclllj3wd1UPPfQQr776KkNDQwwPD3PkyBEymQyJRKLg98OuTf3edYZqZWUlLS0tgetXTwrhwM4rUVlZGfQU1ROPTgnXrwvHy507d44f//jHnDx5ksWLF/Otb32L2bNnY9t2sIPTn1+4/htQ0M7jVlvS/FAyvfD5DwhcfGelh+s65KIljHsWZ8Y9jlzKsOf8OEcvZukeFwxn42SwyVoluPh1jzylfK8nvrXMt8YBth+y4+ALQClckAKZTwIYcyWnhrN0jYwDHjkVASuGcHPIyRbr/IRG8ExhjNxkf77puWQargeBgxAOrpdBSQ9EjKwTI+NaeDKCyLsVXeHlM3kFyor4A8EfiCBUfgQp/EB+Cy+SwBVRkjmb3v40Z4ZGOdYzwj0zBGtmlbJkRgmzSiQ1QJSc38MViZBRX5yFMpnlNF07w3NheJ6TUlJTU0N5eXlQ8FTP87pW2qpVq1iwYEEwx/b09NDV1cXy5cuBiWSlcJ0zuDz+qnjtCM9l+nv9/2RCa7LjFM+H+v2FrVh6Xi0pKaGuri5Y1670OYXPo7/q6uoK+lmGE+mK15ju7m5ee/113n33XaqqqnjmmWe4//77KS0tRSkVhKro65dS4rmuX7DIK3z/4Wsywuz2cUssZuEskbKysmBAKKWoqKhg3bp1/PnPf6a3t5fu7m4OHjzI4OAgFRUVl1mOXNclGo0yODjIkSNHuHDhAk8++SRNTU3BrqfYbHyr0LsLvUuLx+NkMplgx6V/Rws3fb0lJSW0tbVRWVnJ4OAgqVQqiE+DiQlB7zi0WAoHWyql2LBhA7Nnzw4sdeE+cFeLRYhEIpSXlzN79uyCv0exeNKfV2dnJ6+99hrbtm0jHo+zefNm7r333uA82gxfHBsRjv8rjrG41RSGLOtgZgdhSVxX0XFpkA9O9rLz/AinkzaXRA2jVOLES5C2hfAkXsZDOE4+/loh8nLKxcIT0l+1bPCUQ8bLgpf1Y9ZEHCwLacdI5SrJeC6ussmqBHhgW+l8MdCia1Y6OBt/x6mfCAX8Tvoaw6cSBeT84lBI4WGLCDJahudE8DxwBHiW/+WbY1UoiUXlS7zk65Eh8AT++FOCnLJxrARpLBwvR6b/En19/fT1SIZbK1Gzq4hXRYlZOWwh8HcZoQuD6erFDNDzVDQapbS0lFgsFoTFhJPKcrkctm0HhVqbm5tpaWkhGo2SzWYZGBigv7+/oERFuNfxnSa8Xul44MrKSjZv3sz8+fPJZrNXfG2xMBNCBPN9dXV1sF7pDbmes/Xn6Loue/bs4U9//CMjIyM8/vjjPPTQQ9TV1eHlkwIsywrWCMdxgo23bRdaGcPrtOH2csvKEWuhEi7up+Oc1qxZw5o1a/jwww8Dl93hw4dpbGwMdkF6VxG2lu3YsYPKyko2bdpERUVFgZ8ebv1NFxYh1dXVVFdXMzg4SDqdDgJTw5ajsFs1Ho8XTCijo6OXLbph159Gv1/XdVm4cCELFy4MrGjFrsMroavzaxdmWMiFd6RS+pWd9+zZw/PPP8/o6CgLFiygvr6e3bt3BzXYxsfHOXLkCKlUCsuyOH/+PNu3b+fixYvMnj2b+vr6oIepfg+3kssjY/wgf5Aoz8WzPKLRCFVlCWaU5+jP5Ug6OZyoJOm65DIKx/PTw6UEK+8KFcrFEzJILFCQj5R2UCoNMgcy6me7uS6e5+J4CpH12+5IG1wpkXi6iMflFx4QnsBCgm3SN2smuk8jfqiiC9JFeVmynoMto3jEcAAlQcm82UxPVUqB61tohR6X+MJMKIGSAk/5pWKE62ALh5itKPEUCVcRxUMK5W82bAspo761Dd3aybc069jM6YyePy3Loqqqimg0GtQdC29awy40z/MoKSmhrKwsmP91fbKrneNOoq873OFGCL8DTmtr6w0dK5ycoNEGi/DGX3827e3tvPTSS+zcuYvysjKqq6vp7+/nww8/BPy5u6Ojg/MXzgMwMjrCkSNHqKioYGZ9PQvuWXBZRwcjzG4/N5WVqQmLsfDA04NkxowZrFy5ktbWVtrb2zl58iR79uxh48aNl/VilFKSTCY5deoUR48eZc6cOdx3331Ba4jbPSj0tVdWVlJTU8PJkyfJZDKMjo4CBBY9PfB1to9lWUSj0WD3MXPmzIJd35XOpf/XBRDDgaqa65lc9I4JCm+gsKjTsWXd3d2B4BwcHOQXv/gFZWVlBa1DBgYG6OzsJJfLsX//fkZGRigvL2fr1q0888wzQRzGrW41kt9bBj/kbXQgIuTLvhIVNs0VcTYuKqOxIcf+cwPs70pxcniAS1mLLFGyVimO9MsYBCViQyJIoHyt5Pixa0IJFBEg5ted8vzitTNkjriVxHJzeNlhv2ityIVizCZQIVOFEOTjyvT7mbw9dShiKfTTnY7futOxYbfqOLf5GpWH5eXwpIMrFTkrTk5EyBAnLW2ySF8lBacQTFSD1RS504QiKhxsN4OVGyFOirqI5J4awT3VjSxvqaKtrpSmhEUcB9fLYkkr7za30QWRReiap6NNVs95ruviui4tLS3EYjHGxsYYGhoKvAZKKWKxWIHlX8cg6zkyGo2SSCSuOc9OBVeap4trV4bjqW/kOOH5XG+Oi70pOoRFF2fv6ekhnUkjhWD79u2cOXOmQNhlMhnOnDkDQFdnFy+//DI7duxgxcqVfO9vvxcklIUtcvpaDLeHm1pVi8VZ8XNhi9LixYtZtmwZx44dY3BwkIMHD3L27FlWrVp1mYVoaGiIAwcOIIQIqjFP1q/xdgwMPVnMnDmTOXPm8PHHH5PNZhkcHKS/v585c+YUxLjpnVzYxSmlZO7cuZM2tA1/VmEzsZSSQ4cOBZaqcCzDtVyZOuZg3bp11NTUFGRRhoNAI5FIUPxX35hdXV10dHQUlArR5nJdQLGjoyNoSzV//nyeeOKJoHedPset+1soJoL9JUrIfNyMX5NJSIWlBKUCmmyomhGhOV7PvJlZPu5N0d6b5Vx/iu50Doc4MlKCJ3ybmW8lCy1ZHghXYikbS+TtF9LGVQLLUVRJj6Uz4rTV2FRZDsJV2JbAE7FJzRFhTyZcbggzrsy7D1t4ZJVHJiK55NqcHojQfjGD4whc24+O9H2ZHsKz/A2AAhC+yEflCxj7Yl7iIZ0UcXeM2liaOTPiLG4sY9XMEhZURmgqlZRJsJTKJw7YONJG4CevWIL8QPTyY/TOu/KuRHjDuGLFCurq6ujv7yeXy3HmzBmSyWSQIR5eI8I9OHWygO69HD5u+Ps7KSLCCQVBlmQqxeHDhzl27Nik4qw46D/8mJSS6upqvvjFLwbB/9oQUhzqk8lkSKfTeJ7H+Pg4Bw8eZP+B/f5x8qUxPDUhei8NXmJwz2AQn7f1q1tpbm4ONv5hA4zh9nFTwf9AgWAI3wRhK5hSivnz57N8+XLeeustRkdHOX36NHv37mX16tWBiTebzWLbNt3d3ezYsYP6+noeeuih4Dy6l2b4BryVA0QLLdu2mTVrFm1tbZSVldHX10dXVxfHjh2jpaUlcKeGzz0+Ps7Y2BhCCMrLy5kzZ85l1qQruV71ZLN9+3aee+45hoeHC9o16YnpWlmZ9fX1Qbuq4nRr/d7i8TirVq3i2WefZWBgILguHVenP9/z58/z4Ycf0tvby+LFi1m1ahUVFRV88YtfpKSkJLAcAre8+KzIizMAT2inYd4O4CosC0qAmOdRAlSWCGYkYjTXxzg14HC0I8P+jjHODaUZclyyMo4jorjCxhN+4Q2FQCqwc4KYiiCEjQtkhUQ6ft/D6gSsbqzg0TZBcxRszyNqXe5o1eRDhybeh5m77noEkPQgbcGFHLx7wuVi3whjXhZH2flhLH1vZt5alhPgiYl8SakUEgfbzREnRY2dY1aNzZL6OpY0Jlg4I8LcmF8uIy4ISpkJYSMjoQZMWpQFMZmy0OA3zdDzm23brFq1iqamJk6ePBmEu/T19VFSUhLESwFB3K2u4B+LxWhsbKS+vn7S+XE6iIhw2Qod9zU+Ps6OHTv4+c9/Hnhjil+jCa+14JfLWLZsGRs2bAi6HoRfp88hhKClpYWnnnqKZUuXYkkLxURfUUtOrLs7du7g2LFjNDU2sWbNGpqbm1mydCk1NTUF61g4ZMlw+7gllf81Ydecfk4LNz2Y5s6dG1jLDhw4wNDQUFCINRKJMDo6yscff0x3dzcbN25k4cKFQRya3hVcD+GbWRf109YrKWUQTKpdpPr3tEiqqqpi5cqVzJo1i0uXLtHV1cW+fftYs2YN9fX1wbGUUgwMDHDs2DHS6TSlpaXMmTOHpUuXUlZWVnBN4QmiOMXacZyg/1tFRQWpVOqyitBXmmBc16WmpqZAzE329wGoqKjg/vvvZ8mSJcFnUkwul2PPnj2cOHGCoaEh7r33Xr7zne8E76mkpKTgdbd64lNFETIytLIIa0LwCEG+qbOfdRm3oLXBZmmFzeraKMe6Rzl8foDzo4MMeQlGrXLGrRLSRMEWeBFwHc+/CzyHnKvwZAzycWlRHOJemoZEgpnCo1S5WCiUiASZo5dfe/7aih83lrG7DoE//jISxgUQFVSSRbgOSsbxJDiuQrg5bOkhpB/U70YFuKAcRVxlKSdNqTtGuTvGrArJyjl1tDWVMbvSZmaZoMJSVApFDDExYYfSLS8bc0KAtLjSBuJWUxxo77pu0EMy/Lh2QeqAfm2Vt22bmTNnsnz5cg4fPkxPT0+wRjQ3NxfUBNO1Mru6ushkMjQ2NrJo0SLmzp17WRPv6UR4vQC/jZ/urRxeg671+nCyhLYgFntlwt6q1tZWvve97/mZ9moi2CK8TvT09DCeSnL8xAmaWpr52tNf48EHP09ZeVlQb1QztfUsP7vclDC70uAvviGVUkGV5bVr13LkyJGgpMTx48dZv3594G+/ePEiH3zwAWVlZZPGll3vDadjtsD3oQ8NDQXZPZlMhpGRkSCjJTy4tfjzPI8VK1bw+OOPB1mkb731FqtWreILX/hC4BZUSjE4OMivfvUrcrkcFRUVPPTQQyxbtuyauwrdQkR/Pg888ADNzc3kcrlgYgunW1/peJZlUVtbyz333EM0Gi34/Is/Ly2Sw6nWxaTTaWprawOhWllZSUNDA7W1tQVxhOFj3jpEganpsnccOpXQmY9KkVAeMQQ1UlBTAo3NEdqqKlnVUMKJ/iQHusY43DfACDnS8QqGXYts0oV4lJSTA+UgI1EiEVAOWEpgeWB7LhHhCzVb5PKJBDK8RF4XRpbdfah8GRdfZ8VIKEHcAcsVKEfiKkU0aiMt8Nw0jsqiIn4Zi4jyiHoZSnOjNMYcFjfEWDyjlrb6UubNiFJXYlEqocTy3Za2AqnH+9VuN1F4/+grvZ1I6XcRSafTxONxhoeHuXTpUhDaMTY2FsTP6v/j8XjgeXBdl/Lych5++GE++ugj+vv7OXToEG+++Sbz5s2jsbExOE86neaNN97g4MGDSClpa2vj8ccfp7a2dtJ5aLoItHDwv1KKaDTKF77wBRobG68YZxamOB45Ho9TXV0diL1wbU39e1rEaS/K1UJh4vF44JWaUVvLrNZZBZn4xddhuL3c2sjtSdADRylFS0sLa9as4c0336Szs5P29nZ27tzJmjVrgp6RZ87wstNCAAAgAElEQVScYfv27bS1tRW0YLpRdEzC8PAw+/bt48CBAySTSTzPY2hoiIMHD3Lfffcxe/bsoD9m+KZRStHU1MTjjz/Ojh07+Mtf/sKRI0f4xS9+gVKKjRs3Eo/HOXXqFH/+85/58MMPKSsr48knn2Tr1q1XbfxdLFz1eefOncu8efMuE6Hhm28ywtWqw6nSkwkzzbVusOLEAf1YcYLBdEBnoUnymwAE0RiUxyyqKi2aGuPMaqmi+cIIx3rGOT/ciZ3xGJYlJL0KhB3BFhKpJCoHuGB5AivfOFoBOQQZJDYeUabKFmGY3ghcIckBTt6uK5XE9mxiyiKHxM0pXBSeUChbYkVcomODVHspauIWrXVxFtVXsLyllAVVkoY4VEqIemArj4gHUvlZwdcUZXeIsLWmp6eH999/n46OjiAWrKuriwMHDlBWVkZlZWVBwLqeY3T2/pe+9CV6eno4c+YM27Zto7Kykscff5x58+YF4R6vv/46p0+fZv78+WzdupXVq1ff4U/g2oTncP3+W1tbaW1tvWG3oOd5BYla4e4Ck9Vmu9bx9XWFm6KHS2AZpp7bIswmy0TUu6S2tjba2tro7u6mr6+PPXv20N/fz8yZMxkeHubgwYOMjY2xZs0aZs6ceVMDY9u2bezatYsjR46wc+dOxsbGABgdHeUPf/gDyWSSRYsWsW7duqDdU7hshxCChQsX8o//+I9UVVXx4Ycf8u677zI6OsqePXuIx+OcOXOGXbt20drayqOPPsozzzwTuF+vRHjQhxMJwsGVN0pYMGkB9Ul3N9rVEE69Dgu94uubDrsoXQTDbyPoYSuJLfxC/4kEVCYkDZWVLGyM095jcbZ7gONjY5z1ongILAnKdXA8y18Ehe9S1YUx/Lg0Kx/Pc+PxFdPhMzLcagSh9uKA3yApyIz0/Pp5EctDWIqsyBF10swrTTM/nmV2fQ2LmqtZUBOhsQQqhY6dBOm6WCqfwafwXZfTeAidP3+et956i6NHj7Jz5046OzuDeaK3t5f//M//ZN++fcyfP59NmzYFVrBw0/Cqqiq2bt2KEIJXX32Vw4cP88tf/pL29nZmz55NLpdj9+7dnDp1iqVLl/LNb36TLVu2BNa36YyOE9bfFxesvVG0MaE41nmyTPziGPBiJvOAXK2agOH2c9ssZsW+bv3YvHnzWLZsGTt27CCZTHL69Gn279/Ppk2b6Ozs5IMPPmDmzJls3Lgx6Iv5SQZINpulv7+f8fFxmpqaeOKJJ4KSFnonF4vF6O/vD4LtwwkGWjiVlpbyyCOPMHPmTN555x2OHj3K8PAwO3fuJJFIUFpayurVq7n33nvZvHkzLS0txOPxq15z+Dl9c4V3VDqTUnMlQRSm+HO61o11pee0Oby+vp6vfOUrdHR0sGHDBioqKqZFIO0VyUdAC6GwBX7hRCF1DVliQFmpoCURZ2ldHefqI3zU4/DRYAk9g2nGx1O4IkbOrsBRMTxcXOmiRL5mHgKJnU8bmKafgWGK8a2qinw2JKDwUDKH6/rV1G2RI6bGsTJjVMajNNaU8vnmalbWQGttGTMTNhWWPz4TQDQv/4VUwXj2g/in75jzPC8ocwF+D+GlS5cSiUTIZDJBZftkMklHRwepVKqgNlnYajZ//nyeffZZ5s+fzx//+Ef6+vr8Olvnz1NZWUldXV0w327cuJEZM2bclrI9txrttg0nPNzIa8OEM/n1PB8uw1H8usnCT8LEYjEeeOABXNdlwYIFQX1RE+B/5xD33Xefn7ydvzni8TjvvPPOTaUZF2dqhi1B2WyWl156iX/913/l0KFDNDY28q1vfYt/+Id/4N133+Xf/u3fWLduHf/8z/9MQ0ND0KfxRq9DtxEKt+SAwr6RQBCEGhaB4fYU4QbtyWSSnp4eOjs7GRsbI5FIUF9fT2NjI7FYLAiKtyyLbDZ7xSbi4RIW4WzL4vd5vX+DsKjTKdm6We6VLI5XEnlhi102myWXyxGPxwt2ZteKLSz+/naLOeX5dSqE66szIUUQnOYPboUjBFlhkUaRUZBR0J2Fvb2CUxfTnO8d5vxIhq6cxbgsQXouTZEcX2sr5f+sqaTJg1IFlvLAktN5nTRMFR6ofCPypBR0AC8eGOOXBy/R5cbJKUHCGach6jC7PMKshhoWtZSyfIagJQ7leUFmKY8oiki+EHHB0NK3kbTJ9xW7YW53+QgdPhEuYwEEVe51lqCOgwq3tisO09BzsOM49Pf309nZSXd3N9lslhkzZtDa2kpTU1OwgY7FYsEmdrq63cKuQZiwEn6S42iKrWCTlZO6XnQtuWw2SyQSCSoThM9juLWEx0N3dzdf//rXC56f0m2GzrxctmwZq1ator29nf7+fg4fPszu3bvZtWsXlmXxuc99jpqamuCG/iSD2LbtYIBp16QWKuGq0qWlpYGY0efTbkx9A+nrLisrY8GCBbS1tQU3G/gDW5ea0BPG1YLrwzsc/d7Cf6gbTXTQr4fCyelqO56rxZ7pyTIejweCdVq7CgQokfdbKt/xKMTEIqc8D1tKLCAm/LggTwjK41DfCv31Cc4NWOztHOSjnnG60w6ZXJaomyLige1VEvHAUiCU/HSUVTdMCcITKE9h2YqoFMRlkoQ7SKWIYkdtWqoE9zaXs66llpYqixkJ/LIXSqE8310ZlflOAF6oGK3I19wTAuTEhm06DjsdOqH7I4M/J8bj8SAJS/cM1qIrvGnUG9JwSyVdmLyhoSF4Ts/P2qOhzzVdBZkm7F4Mx3wVxxpfjWJvhQ650WWObiZIPxymEi5UfjNiz3Bz3BZhdrUSGkIIZs2axcqVK/nTn/5EV1cXZ8+e5fnnn+fMmTM0Nzfz0EMPBeUxiktG3AjFwYvFDWmLHy/+vvh9FBdUDReXvdGJoli43cwNcKOm8es53o24Re84QqAEuPkCBhIPmXcD+cub5cf9KJD5Qpza/ZRQiuqIoqUxwryZM5nX77DvwhAXBxycwSTVIkPU8xdOpcwO0lCE8sWUpRRxD6rJ0hJJ0lKZoLG+hpXNFayotWm2oQSXONLP+EUgRN41rvJ+eGtCmHmAJ/IxaxCUWJ6uFM9f4Z+L57rwXBW+n4rn4Ss1Ff80ioXJxNeNzCXFoSz6eMXN1j8J4QzOMJ/Gz/luYUotZlrQlJSUsGTJEpYuXcqFCxc4f/48PT09lJaW8vDDD9Pa2hrUHjODw3A9KMANvvfbL0kdpq8oiAsT+S+pFDY5YipLiRLErRhldRHuqayla6Cckd4ES2oTlEkFnocrJY6AyPSOwzZMFQKyuESiFhKIZV1ml0XYvKiFivpaZlbHaY4L6i2PUjJI1wUiQASB1H72fE28fDxQfmC55MXZxKmmtTAzGAy3jjsSMSml5J577mHZsmW88cYbQRXnuXPnsnbt2sAdaAIQDZ8EFXyJy7odwsRi5/9GFosMFoqI8kjIBFVxm7kNMXJVDVTbgjLhgfTICYEnBBa+BcPw2cYV4EUtcsIDN0t5xGJVywzmNgnsqIUtoEy5xN0kFjmUkCAtXCY6RIRs8sF3vjPe1L4zGD6rTHmMmbaaNTU1sWrV/8/eewXHdaR3+0+fMAEZJAgCIAkxAUxikEhKotIqrKlsy5ss7a61rvJ3sVXrKvvCoXznG1e5ylvl78J21dq10u7331jKWmkVyBW5ClySIgmKOUcQAEHkNOmc7v/FmT44MwgMIkFQ208VgMHMmTM9J3T/+n3fft811NbW0tXVRSKRYNmyZWzYsCGM8dKxBdNZnF1LPJjh+mMpcPKnIFo3Osz9FK6aGx3wpALfs4lbMSx8bAkJJLYF0hKIUpuY8lF+Gt+yUMLGwwyYhlF8SyAV2MrDFj5VboKksvCAmAWOJxFSgrCRwsUnhsqnY8mHQRbkJ9OXqs7br681MxEwGP54mFLFo4MVlVK4rktTUxOrVq1CSsmsWbNYs2YNdXV1BdvdCoJnvJxt0zpY/kuGdvM4KvixIz9CkY/hkUU/PgiB5SSBJMg4Sgqipy2I8fewhcQV4KBMcllDAUoqLKWIuxa2kEA2LF6h48SUcAnWXyaQ+Vx4wfUnR3+QCCQicu06Ctz8T3SyYTAYvtxMuSlKB/N7nkdjYyP33nsvyWSSpqYm1q1bN8YCNZ2tZeNhBNlNQOcwm3AAixZ29iCfqx2lEBKUzGc6Ey7SssgJ8KxgUA0GzWC/jq+Iq2tJL2v4MmIBMaWwpR+YX4VAWhJlKXwruNKksEG4KOJIaYHUE4X8NSg8ED7B0pWixM2R61mAMdUaDH8kTHmMWTSv2cyZM1m7di0PP/ww99xzD/Pnzw+X/uqVjmbJruHKmSg3m34kdH2AYCUdQbC1sILXEC6WEMREftUmAE6QhiNcz2ksF4YAAbiWAOXkE8AGYfwOoxlVbCv/SImgbFio6p2Ih11fUddX8ptJ4q2BOU+GYqZcmOmi3Z7nEYvFuOuuu8KMzjU1NQXFWKdr8P+1ZNQ33EDywTgTd2+Fa9pGrQ8in1JDvzdYu+lEk3CK6NL+8N0GA6CvEV2pdTQ+zB6zTX4LEd0qcjUJRpdkRp+b7P9rba/BYJjW3JRVmTphqxCCmpoaqqqqxlSyjy4UMBguy2UvEzHOo7FPiDFPm+vPcDnEJP+NPnGZrcylZjAYgJvkygTCLM7atRm1kuls/TobvhFnBoPBYDAY/hiY8nQZQFgwXIsyLcyiBW21UDPCzGAwGAwGwx8LU575P1qnUhcHj6bQiKaamI7xZQaDwWAwGAw3ipuSLqO4Ppr+Ka4FpgvemlUrBoPBYDAY/hiYclem67pjnov+LX5cvL3BYDAYDAbDlxXjKzQYDAaDwWCYJhhhZjAYDAaDwTBNMMLMYDAYDAaDYZpghJnBYDAYDAbDNMEIM4PBYDAYDIZpghFmBoPBYDAYDNMEI8wMBoPBYDAYpgk3pYi5wXArYBIbGwwGg2GqMRYzg8FgMBgMhmmCEWYGg8FgMBgM0wTjyjQYxsG4MQ1fBqLl7QwGw62BsZgZDAaDwWAwTBOMxcxgGAdjaTAYDAbDzcBYzAwGg8FgMBimCUaYGQwGg8FgMEwTjDAzGAwGg8FgmCYYYWYwGAwGg8EwTTDCzGAwGAwGg2GaYISZwWAwGAwGwzTBCDODwWAwGAyGaYIRZgaDwWAwGAzTBCPMDAaDwWAwGKYJRpgZDAaDwWAwTBOMMDMYDAaDwWCYJhhhZjAYDAaDwTBNmNIi5kqp8LGUEikljuMghEBKCQTFo5VSWFagGXO5XLjNePvzfR+lFI7z5anH7vs+juOglCo4FgaDwWAwGL7cTPmIn8vlQrFh2zYQiLSoaINAnEgpw23GQymFECIUZVrs3epoIfZl+T4Gg8FgMBiujCk1MwkhiMViKKVCMWZZViiw9GP9mhAi/Lkc2rqkLW63MtFjciXf3WAwGAwGw5eDKXdl6h8gtIYppfA8L3zuSt2SWrjo98disVvewqTb7/s+lmUhhMDzPGzbNiLNYDAYDIYvOTctMCsqMrQAgUCY5HK58LWJ4sv0tgBDQ0N0dXVhWRa+74fb34pCJirGXNfF8zyEENTW1lJaWnqzm2cwGAwGg+EGclOEmRZMnufR1dVFd3c3uVyOZDLJrFmzqKysDF15QMHjKJZl0d/fz5YtW9i0aRO5XC60NN2qSCmxLAspJa7rkk6nqa2t5U//9E954IEHbnbzDAaDwWAw3EBumsVscHCQffv28d5773Hs2DGy2Sz19fVs2LCBhx56iDlz5uD7PkDBIoGoZc22bTo7O3n55Zd54403wm1vdXemtpo5jkM6naapqYnly5cbYWYwGAxTwGRxytPFE6MkKCUR2hChQIjRtgsh8KXEEhbiMraK6HtgNJRGKbD09xWgZOF2UUOCsESwvTU9js+tzJQLMykl2WyWrVu38vrrr3P69Gls26a/v5+WlhZ27NhBX18fzz//PNXV1QBjgvqFEPi+TzabpbW1lc8//5wlS5bQ2NhIVVVV+Pp0uYGuBp06RMeU5XI5GhsbaWpqutlNMxgMBsMUMWEIj59PLUUghARAXkf6vsTOC6pApQUv+p7EdsbPcBBdiBf9XyCCHasgtIZQnwmk9HBcB+krLEsgpcIOP8/wRZlyYWZZFhcvXuSzzz5DSsnzzz9PQ0MD7e3tfPDBB/zud7/jrbfe4s4772T9+vXEYrGC92pc16Wzs5OPPvqInp4e/vEf/5EHH3yQmTNnTrqa81pXbE50k1zv/em8bVGrXzwep7Ky8po+x2AwGAxfHlTeMiaEwNIeIqUQwkKIQJwJAQN9gyQSCWKx+KRGCiEEmUyG4eFhpJQkEgnKy8vxfB8LgbDBlz7DQ8PE43ESiQSeFwgznUHAtmwEXNYyZ7gyplyYeZ7H/v37cRyH7373u2zYsIFYLEYmk2HevHlcuHCBEydOcOjQIZYsWUJ1dTW2bRcIoFwuhxCCc+fO0dLSQllZGQ899BArV64MXZkTuTMnilebjMnecyP257pu6LbVlsJbPQWIwWAw3CpMB2/LRH2+sARIUCikDDISBIvkQPqQyWS4ePEiLS0tLF++nObm5uA9k3zOqVOn2LFjB3PmzGHdunX5RXhZhgaGOHbsOJ2dnfT29lJRUUF9fT11dXU03taIY9tI3w+scSpvYTN8YW5KjFlpaSmrV69m3bp1lJaW4vs+ZWVlzJkzh/nz54crLKHQjRnN7ZVKpdi/fz+dnZ3ce++9zJ07Fxg1w96qlQB0XB2Mdg5KqUkT7RoMBoPhjwMBQeyYZWFZAscNRNnISIr2jjY+37uPV199lS1btvDP//zPzJkzh5KyEmzGF2eZTIZ33nmHH/7whzz55JPMnTuXsrIyLnVe4rVXX+eVV17h+PHj9Pf34zgONTU1PP744zz//PNsuHcDju0ErlOlmAZ69kvBlKsXx3FYv349qVSKRCKBUopcLodt26RSKYaHh6mqqqKhoYF4PF6Q60xj2zbd3d3s3bsXgEcffZRkMjmhgLmVrE1akEZFmcFgMBimlusZCnO1TLr4IC+whJXfTinS6SynTp3ivffe4+OPP2bnzp309fUBIKWPbU/sY2xra+Po0aNYlsWyZcuYO3cuXV1dvPLqq7z68qvE43HuuecehoeHuXDhAl1dXbz55psopahvqGfRokVYInBpTqD9DFfJlAszpRSJRIKSkhKy2SwQiJFsNktbWxvd3d3MnTuXRYsWEY/Hx01/4Xle6PKcMWMGd955J67rYtv2mJWc0QtcP77adBqXuxmvxZU5EdE6mVH06heDwWAw/HEjdFy+1DFngqGhIVasWEFPTw9Hjh6hu6c7v61AyYnjvw4dOsSxY8eYP38+t99+O67rcuzYMbZv387q1at59tlnmTdvHul0mu3bt/Pyyy+ze/dutm3bxsZ9G6mvq6esvCwYB6W6CYUev3zcFH+fdjNqt6Rt2/T29tLe3o7neTz++OPU19eHAkX70LXoSqfTbNu2jf7+fh577DFqamoKXJdRa1NU2OnA+uj+9FJfLeT0a57nIaUMFx9oV2omkyEeLwym1CtAdSzc5eLRdAJZ7XLVFkNNNL7sVigxdaXti8bKFYvMqOX0cm7bbDaL4wSBpzoBbzS20BSANxgMUXSIi23bpNNpXNct8E74vl/Qh0T7oOL+XPdh0Un0eCX0iseCaFaBaAx0dDVk9H9d8aV43HCd0bYHqSkElhVj5crb8TyPdDrN7z78Xbh6s9iMpSf5egw6evQoZ86c4dFHH2Xp0qUAnD59GiHghRdeYPXqVYFHCkV9fR3pdDq0nO3bt497772XsvJScjkPN3brhBBF9cFk44Q+XlqLRMd6fU1Fx57rwU05ilp4xOPx8OB8/vnn/OEPf+DRRx/lm9/8ZpjDS7sz9QHI5XJcuHCBd955h7KyMu6++24qKyvH1NzUn6GrAdi2jWVZZDKZ8ID6vk8sFit4r/4sy7LCmy6VShGPx7EsK0z6qrfRljp9s+kbMZvNhoXao7lhgLBdnueFF8bw8DCJRGJcUTIdAlGvlqg4jnZI43VUehvXdYFRcTwR+hzp8woUnGP9f3Gc4peJK1klPN6xNhgux/VegX6z0YOp7p+L+3z9V/fHxX1wcbLz6FiRyWTCvjz6um3bxGIxPM8jl8uRSCRCAair2ejjqSvd6PyVepDXP3oxWLRcYfE5EkJQVlZGNpsNxhGrsISfgDELyhzH4dSpU5w5cwbP81i1ahXz5s3j4sWLeJ7HQw89zOrVq7EsKxRdNbNmcccdd1BfX8+lS5fo7OzMf29wHDtcMTpdKfY86XOtDS7jET1XrusWGBei14M+N8Veu2vhpggzLZBc1yWVSnH69Gl27tzJnDlz+Iu/+Isw878WZ9GSTalUipMnT9La2soTTzzBggULcF23QPREBRKMJp1ta2ujtbWVixcvcuedd9LQ0IDv+wUHO3oS9CzLdV0uXrxIR0cHHR0dnD9/Hs/zqKqqoqqqivnz57NgwQISiUQoCKKWtqgq10XatcXn/PnztLe309HRwYYNG6itrZ3KU3HDmaycVjRfGzDmAp/ofdGEw/ocRWeVWjSPdy18WbhVB0nD9ODLeE9MhJ6oRz0h2ushpSSVStHZ2RkKlBUrVjB79uyCgbXYIpbNZonFYmSzWTo7O7l06RKtra309fXh+z6VlZU0NjbS2NjIrFmzxljJohZ9LfJ83yeXy5FKpejo6ODIkSNhqE5JScmoB0ByzbFcWnh6nodlWRw8eJDPP/+chQsXsnLlSgBqa2t59tlnsS2bWMzF9yWOa+P7EpUXiqWlpSQSCaqrq4nFYiipsOx8/rRpjhbI2oNm2/aEokxvrym2mvm+X2AQgsISk9fKTYkxi7qYzp07x7vvvsvIyAhPP/00zc3N4TbpdLogj5nv+/T39/Phhx+SSCRYuXIl1dXV4WActZ5EZyP9/f2cOXOGzZs3s3PnTjKZDH//93/PvHnzwgMYNRXrPGJSSkZGRjh06BAffPABH330Eb29vQwPD5NKpSgpKaGyspLly5fz3HPPsWHDBpLJZFjnMirA9IxKJ9i9cOECbW1tfPjhh3z88cdIKZk1a1Z4ExcfM93G6chk7YoKiKipPmo1BMJjHu2sJttnVDxry2c0sbB2VX8ZrWXXgjkGhi/KtVxD02UCEU2hpIWJTitx4MABtmzZQktLC83NzSxYsKBggh6dOEopwzHi4sWL7Ny5k9/+9rfs3buXoaEhstlsaJWbNWsWDz30EH/2Z3/GkiVLCvoovd/ouDMwMEB3dzdHjhzh3XffZf/+/dx///0sWLAgyCuWFwQwugDgihEinxh2dGKby+U4duwY7e3tPPzwwyxcuDA8PtXV1fmAfnBjgYXPy+UQAvr7++nr66O6upr169cHi/jQx+qLnacbjQ6ZiVpOi13I470n6grXhiAtbqOu0PGE2rUw5cJMX4gjIyO0t7ezZcsW2tvb+drXvhbmIfM8j7a2NizLora2NrREKaXo6upi06ZN1NXV0dzcHAozTXQg7uvr48yZM2zfvp23336b/fv3MzQ0xIwZM+jt7cXzvHDmpAd7fRL0vvbv38+///u/s2fPHvr6+shkMqHvX99ghw8fpru7m1Qqxf33309FRQVA6EaN+qh7eno4ffo0mzdvZuvWrZw4cYKenh7mzJnD8PBwwTHSbbiViZrPo9YrfUPov9EOY7LvrC927SrWboGoCztqRQMjSgyGYiZd9fclu188zwvdirpv7+jo4NChQ2zatImPP/6YU6dOkclkqKqqChelaYond7Ztk81mee211/jVr37FwYMHw7i1oaGhcPtjx46FC9r+6q/+iuXLl4eT0WQyGYo8z/Po6+tj//79vPvuu2zdupXz58+TyWRYuHBhoSAT15ZdXymFL/3QaCCEoLOzkxMnTuD7Pk1NTTQ0NBCLxcKxVk+QA+EYWNqGR4Y5e/YsXV1d3H777axbt45YzA3LN033S0ePwzDqzSoOsSkmOrZEt9djWtS1fb1KQt6UzP+ZTIZcLsemTZvYuXMnf/3Xf82yZctCa1JHRwdvvfUWdXV1PPXUU6HVrK+vj127dtHT08M3vvENFixYQDweDwf86Eykvb2dN998kzfeeIODBw+GQkwIQV1dXSiaYDR4H0bjl6SUHD16lJ/97Gd8+OGHAMyZM4fZs2eH7tShoSFs22ZoaIjNmzeTzWZRSvHVr36V0tLScD/6xJ47d47XX3+dd955h6NHj3Lp0qVw9qXVeEFcgJj+gf9XSrGrOJ1OMzg4yIULF4jH4zQ2NpJMJsMYjInI5XK4rhvGo7W3t9PZ2UlVVRWVlZVUV1eHN0axi/Smkj+NKlo/ZRyKZ8Iq8kCED9WEexCQnx0b/tiJXiOi6IKRE/QrIv9r/Otn/GuzeN/jbHrT0WNOIpHgxIkT/Md//Ad79uyhtbWV7u7u0L0J48cGRfuQdDrNli1b+OUvf8m+ffuorKxk8eLFxOPx0K2ZTqfJZDKcPHmSV199Fdd1+d73vkdzc3PYv2nrzbFjx/iv//ovtm7dSk9PD4ODg3ieR3l5edjPFcTDXePB1WIil8shpWT//v0cOHCAefPmceeddxKPxws8GAKBkkFvY1kWUknOnD7DZ599Rn19Pd/61reoq6srSMWhpnnGDN/3GRgY4OLFi/i+z7x580JDykRol2c0Zrm/v58LFy7gOA5z5swJx3u4PuP2DRNmxUHIUfHU0dHBT37yE1599VX6+/s5efJkeFNoJd/U1MTf/M3fFFhDzp8/z+bNm6mqquL++++nqqqqINAu+pnJZJJkMsl3v/tdZs6cyU9/+lPefPPNcAFBccyX67qhJQyCIuubN29m8+bNrFu3jr/8y79k/fr14Syip6eHt99+m9/85jecPXuWkZERPvvsM5YvX87q1aspKSkpMHHmcjnS6TQzZszg+eefp6KigpdeeomtW7eOceHddBFxlVoOaDUAACAASURBVEwUcA6FReWjs4yuri7+53/+h7feeovly5fzT//0T9x+++1j96tUUKRXBWLEddx8IkPBmTNn+L//8X/55NNPeOgrX+F7f/VXVFRUFMwup0WMmcr/IIJs3ZbMS6u8CZ3gNUtZgB1uq3u4/GHAUirIXYQgpyBrCTwB2ZzES6dJOA7lMRc3//ZQDOabMelRuLUuOcNlCC+5yD/5aQoKSCvBQM4n5Stirk3SFiRQuCgcPboq/WYRWmpU5EIpnDTk/9PKLnxR53Uobh1TZl6JuTEQIggv8SVDg0OsWHE7jzz8CB0XO/j5z3/Orl27gu8hLKQvJ5zM5XI5jh8/zosvvkhbWxvPP/88zzzzDEuXLiUejzM0OMSePXv47bu/ZcuWrVy82EFfbx9vvPEGTU1NzL9tPqVlZeSyuXD/g4ODrFmzhqeffprTp0/zox/9iOPHj4eWq6gL1vd9LGEx3g0bHGmFjIZ6qKCvEXlXpu6P0+k0Bw8e5MSJEzzzzDM0Nt4WxnUDSKkCxS0E0pcIW3Gx8yKffPoJFzsv8tWvPsozzzyDbVv5KwQQ1y4arzfjxR1D4Gn51a9+xcsvv0x5eTl/93d/x1e+8pVQY0QXg4QB/46LQi82cxjo7+fnP/85L774Ek2LF/PX/+f/8MAD95OIB3lZLWGhxp2tTN5WGB0/b6gw0wNjdGWk53mcPn2aQ4cOEYvFKCkpCWcz2j8fj8dZvHgxCxcuJBaLhclnz549y/nz51m0aBFLliwhmUwWCJmoTzeRSLBx40YcxyGRSNDS0sLWrVsZGhoK45m0Gyy60kXfDKdPn2bXrl3MmjWLF154gaeeeioskK6UIpvNUl5eTjKZ5Mc//jHpdJr+/n4OHjxId3c3jY2NYwRLfX09jzzySLg44JNPPuGzzz6jr6+vID6q2Gp2qxKNAwPCWArP89i3bx+bNm3i0KFD1NTUkMvlwo5BSYll2Ug/vyopZocizVcSQRDnsG/v53z0+99z4sQJFi9aFK6QijJdKiYImR+67ECOefgoPAIpphBY2CIGKihMjAAhFUqAVAKZF2dCQQ4YFopOT3ApJWltH6DrwlmaZ1ezfmE9M/IxIUBe1QX7m3QgDHtXw5cFLf0FYEP+WvDxsOiTsPv8ECe7BqmoKGf+rBJuK7OZmYCEUlhCoJREKIVrBWJFIAiG3vwAJvITBiLCrOgiEoBS0dWBajRAfKquN0UQnG7ZYEHT4mbq6xpwHIfz58+z7ZM/0LJnL4IgsF5gYYmxca56hf7evXs5fvw4d999N8899xzr1q0LVl1iYTUIZtXMonbWbJQPv3n7N/iez8X2Tk4eP0VqJE0yWYLrBEH1ruOybNky5s+fT0VFBRUVFcyfP59Tp06Fnxn1IAQGCMG4w76I/FgCLIHUE1tBUMjcdrBtOHeulSNHjqGUYNGiJubNm4dl2fi+wrZFfny0kUriK4/UYIptf/iULVs/ZP1d6/izP/8zYgkXiSz48MlKP0010RAipRQjIyOcOXOGd955hz179jBv3ryCSjs6nCbq6gTtPhY4lkNqJMXRI8fY9P5mThw7QTKeJJvOYluBhbEgBnCCQ3ElHpwbIsy0yo8OilqpW5ZFc3Mzf/u3f0smkxkTW6SV68yZM6mtrQ3dfD09PezatSu/jPchampqxrj+omiLmV5FUVZWRiKRYGBgYNz2Fu/n5MmTtLW1cffdd/Pkk08yc+bMgkDBRCJBc3MzDzzwAHv27OHcuXMAdHd309fXN+aisG2b8vJySktLgeAiKCkpCf390ZnRl4GoKMtms+Eq3IGBAQ4ePMhrr73G4cOHx+SFgdE4gGh+n1w2G4rmnp4eduzYwRtvvMGZM2fyx3p6CLCJCQSlpRSWUtgiGC4FAksqLGGDsJCALwINZZMDBVI5KNvCQ5CR0OfDhbRg/6UshzsGae3oQg6lySYsmnxBNT6jWR6jZVKmT6dpuPEIJbGUAmWF1jKEQgrBoK84M6T45Ew/OQZpnF3NyjkVLJmVpKHMptwFF4ErBBKFg4+FDNyWQgI2FlZoVFOW/oSJrjEtJWTk8RTfsyootl1RUU55eRmIoL+OppcoiO1VY3NiDg8Pc+DAAWzb5plnnmHt2rWhgQAZWJpmzJjBXXfdxblz59i3b1+QVd+26Ovro6+vj5pZM/FlUGjcsmxmzJgRWvZLSkooLS29ogm5yAtjGJ38SqlCt5vOBhC4L718OiHByEiao0ePcvLkSRYuXMjy5ctDj5XOi6ZU4PbTqxdbWlp4/fXXaWpq4tlnn2XJkiWhoUX/1dkNbrYxYfRYBCtutc44deoUr7zyCp9//jnDw8PhOdUxiMXjj44P9z1JOpUmk0lz7NgxXnnlVXbu3Ek2l52sGV+IGyLMipOtFYu0GTNmUFNTQywWCy/IYndXdPWmUorW1lb27t1LeXk5Dz30UOh61FavKNp3r0VPdNVFcWB41KqlL7De3l7OnDlDZWUlGzZsoKampsDdCKO5thobG1m2bBlvv/32mODzqFk0elz0Y33hR4MHv2z4vk93dzenT5+mtbWVTz/9lF27dnHy5EkGBwcBwqDcaGDmaNkRi0w6zalTpzh37hyXLl1ix44dbN++nVOnToUWUD8fGzE9kfnBLBi2bCWwlZMfJ/PXrgg6RB9FVoCFwrY8hBLkcEkDQz50DcOp/gw7zvRwsNvn7ECOVM6hyp1FU6KalGOjyFHgyxyDiryuZ3ZFz43ZjqLXx3tuuu3nVmjjlezn6vc9ejX5FAggAZ5QZIWgX7i05mJ0DCmOpdMc6vJomhlnVX0FS+fFmVtmUQIkgVLbIa48LCUZFVdW/lNACTtsYfFaNBHKNRX5PYXTBH2Ji9GwACkVwhIFk2Kp5Oi4QKEwg1GLWSqVYv369dx5552UlZWFno5ADEl8KSkrL2PRokU0NjZy8uRJcrlcmK8MAgueVAqhwHZGg8aLvQyToYPtlQoEVfDWwnxtQMQlGowzqVQqTCr7xBNPsHjx4vA46PEtEHHB5+jFc+Xl5bzwwgs0NTWFbQhynOXCcXi8PHBTjdYQw8PD7Nu3j/b2dvbu3cu2bds4fPhwWKoKCksgRnWH/i6tra20t3Vw9sxZ9u/fz44dOzh06BB9/X3YN9AYcEOEmVbr+iLzfT9cteI4TnjB6AFZZ2EuthxpNZ7JZGhpaaGzs5O77rorXNY7niDTf7UoK27PZIHl+sKsrKzkq1/9KnfffTerV68uEE36M/SFmEwmC1JclJSUUFFRMSbmTbc3mgoiOhuLisVbjfFmSFGf/vvvv88Pf/hDRkZGyGQy9Pb2Fri4odDdWRCnoBTd3d289957vPbaa1y8eJHOzk6GR4ZBQTweD5L8OtNX1CoBytb6RyCUHfwNzWPkw3IUlqNwBPhCMoRFmhg9PrQNSU50ZDlyoZvjvSlODik6ZClD1gziSRtcQbddwrASeELk41BU4SAoJh/0RdFzSl25ECgWD0JcH7Ey2oar209wTV4fQTV6X17dfoQofs+1CzOlip+7zPcHRqPyRxWJUgrfUqSxSFkuw7Fq+kridDkxLgyOcHooy+HOXm5rTbJmQRnL62zmJgXVNpQqixIkjvQReAgrsPIirLxTvlBshQJN+Pk2BK2camEmfS04FIggTtMicO9FV9gJBLowuCZqHBBCUFVVxde+9jVmzpxJQ0NDmDJB5cMsLFuAshACKioqqKysDNMzlJWXUV1djZJgO1aY+0sfiOgq88lSLejb2Pf1wrKgA9HPaxGow0YgSP4qZXD+L126xJEjR0ilUjQ3NzN79uwgpiz/fQNxZeF5Ptu3b+eXv/wltm3z/e9/nwULFpBKpcKKNUePHuXEiRM8+OCDoVdpOqDLR/3DP/wDnufR3d1NNptlZGQkFNK6so9OrRTNj6kX9X366af85KWfcv7c+SBNSH8f0g+MTlLdOA/XDYsx04pT+3WPHTvGnDlzWLt2bSh09N9ojhAtznTSN50Ydtu2bZSUlLBu3brQ7Dqe6TTqF9ZB/to6VZydWT/Wn6lNl47jsHz5cnzfD6sT6H1G/+p9ptPpcAl0bW1tGIsWbZMWItEFB7eyGLsSoqZhnYzRtm2SySTpdJre3t4wwa++XhzHyffeo6LC930ymQzpdJpsLkt1dXW4rL23rxfhCXLZ3ITtuNkoLPz85SCwsJUIxkz9IwlGMUughMATkiFp0SfjnBqBYx1ZjrWPcLpzmLaBFD2+w1CsnCG3FM9ysYWHIoOSPgoHXzj4Wu2NO/qJ8O94j0bbPfY5Jn3ucq9f/X7UDdz3lT43fhumtj3qKvcdrKWzEfkCiRYKoTyUkiB9YsLGEgpPSTJYeHYMFY/RmU0zPDhMRzpN+7DP8Y44y2bHWDLLpT5pUxuzKXMcbCQuCgu9Rnj0R4Q/o5OR0TaKorbeeCwrEC2+zFvBLMF4xo5ovxzVyNEg8urqajZs2BCOPdH0EigVHm+lgvJ9mUwGgNLSUmbXzg69RJZtY4VCwA/HPD2mTGYxEwKKX9Zt1+5WPdZls1l838uvnJQoBUeOHAnH48bGxnCc1aLKcYKY7l27dvOTn7zEyZMnefLJJ+nu7mbnzp0IEaS76u7upqWlJfQsBW2b2nM7HlpMx2KxUKSWlQW1PCsrK+nq6grFWTabLUjbpGPO9XWgV7BKKSktLaWktAQv540bEnU9uWExZnrl4p49e3jttdfYt28f3/jGN1i1ahWJRCL8stqCFC3cHbVO5XI5Tp06xcGDB1m8eDF33HHHmJIaE7VBCyG9/2iM2HhEV0XqlAzReoxRYaVF3MDAAK2trUDgom1ubg6TAWqhWWwZ0xS/9mWKMdPE43Huvffe8JhoC+mxY8d46aWXOH369BjXr/QlljaLO0EZkKeeeorly5eTSqXCuLVz587x05/+lK6uLuzrVKPsRhBoLzvo6/Pjkm3lDRr5ibwUkLMhZUG/DxdSkj2XMuxukxxvT9E+4JGSCTyngozrkLYDAYaUOH6KUmuEKhEjJhxQQWD2VXWR13t+cLPnGzf78+GmtkEhkPnrAAWOUtgoLOUTQxJTiqRQJJWH5WWQdglKWWTtOCDwpMdIb4a2gT5OdNocmhFnxdxylta6NJTalNk25SiSQiJQWMggBo0ghnLUfSkgL99QdkSuTd3BGa0wEvnUvDtTqbET5PEmy1GvSSKRCPdbEArj2EGxcBFYswYGBhgYGMBxHJqbm2lqaspbxWxyWY9YPIZSssBbVFzGbzyC9o62C8Dz/DDV1IEDB+ju7sa2bc6dO8eJEydIJpN5MRnk3Wxra+P++++nqakJ1w36Tp32IpVKc+DAIX7605/y3nvvAfD666/z3nvvhWNWOp1mZGSEWCzGD37wA0pLS2+6CzOKEILm5mb+9V//NaweZFkWAwMD/Pd//3cQ91eUXDY6/vq+T0VFBQ8++CC1s2Yz0D8QHuuuri5+/vOfs2/fvhvW/us2mhWXKRgZGeF3v/sdL774Irt27WJgYIClS5dy6tQpVqxYURCDFr24o8VktTL/7LPPUEqxZs0a5syZMyZP1UREC41GrVzj3XgT3Yz6b9TNqv+3LIuuri6OHDmCXnW5YcOGsHZndD/FFrSoaBxvm+tBsQiMHovL3fjR9xTHCF4J0WO0ePHiMI5Bm/537NjBO++8w6lTpwrOT/DZKh8/IVBSkkwkWLFiBUuXLsWybVRemO3du5e33nqL9vZ2VCR+72YSvUb0/5ZtY0tQFoDCJ4eyLCzh4KvAoDCioE9C5zCc7Mqw90wXuzpznMmW05eNk6IcXBdh20gLPAHKU9h4lKgM5SpFhcxQouK4SuKoyDlW+niO12DC0ar45SBk5RquSTVxCPhV7+pa2nAdP/9WboPACq4vbZXNzwxiloXjKWJ+lrjMElfBdejnPyNnO3jSIiNtBj2X7r4sp/tTHLw4wpJZMW6fU8bShiS3lQkqhU2SQOAJJDaBDMPPx3xadt6DaAUrBQlWFCopwJ4icRYJaYH88Sia1Be4NIUVri4s7Jco2E9xfFLgMVbhjdTa2kpbWxvxeJy7776b9evXh94ex7GRvh9q1Gj/XPx5ExHElQVWsOHhYXbu3Mmrr77Kxx9/THt7O7lcjnfeeYdUKsXjjz/OV77yFSzL4sSJE4yMjLBy5UoWLlyA47hEhfKlS528+eabvP32O3R1dSKEoKOjI3T56e9s2zZr165l1apVlJeXjxlv9PeIjifROLRoIveJXKB6e2Dc94w3jum2zZkzh6997Wvh+1U+LObNN9/k+PHj44Y8Rfdt2zYLFy7ktnnzg++BQklFW1sb27dv58CBA0A+DEeft3CR6thjcTV8IWEWFUjRYqCXLl3i3XffDfOx6MSru3fvZt++fWEGZKDA36sH8qh4aG1t5fe//z3V1dXccccdlJWVjcmNFWW8/4tjuyYjerNFn4sKFG0xS6fTnDx5kpMnT1JbW8uf/MmfhDnMrjYI8nJxBV8E3/fD2m4watG8EtLpdPh9rqaNxcdP/69vBJ0lWW9b0MlZVkFnFd2HZdtBX6ZGS3DpPD3FnzvVRDuhgoUMSmErD+X5SCsQYlkgJxRDKNJC0J2Fg22SlvP9nOoaoX3Yp9NP0GslyNglSGWhp/xCqnCgdoSF4/nYnofl+cEKzzBebBRREL80Qfuv57G4jvu6FT8fbn4bLBRKjKZfUcIBIVCWhS2C5f+20K51BVKhhEIIhW9Z5CwXQYIhJP0yx0A6Q9eFNGd6ezl6cYjlDZWsmOtyW1xQLRxi2HhIbOnjYiN0WJcerPKZCfJhaVN3HMZN4RC4NyebpEYn5BNR8F4FOS+H67j09vbS0tJCR0cHK1eu5MEHH2TOnDlBeaN8LJvMT0KvdnIupQpSbbh2PnRQUVZWyrx58/jWt77FY489BhDm7JwxYwaNjY1UVVUyMDDIgw8+yMKFC3nwwQcoLS3LH4fR/qq2djZf//rX85V4xrYp6tkqKSmhubk50jY54Rih3btAmBorGtc12fHVfWtxbeWJ3lM8/mh0bczo2BN9T3H/bVkWwslbNFFhrdDxdML15AsJs2KVn8vlaG1tZdOmTRw9epQ77riDqqoqdu3aRSaToaOjgx07dvDoo48yY8YMbNsucGFqwaBP0sDAAPv37+fIkSM89thjLFmypCC9xFSjT5b23+/du5d33nmHgYEBnn76af78z/+cmpqacMXmzUYvFz5w4ACbN28mnU6HiymCVTdjbyB9PnUgamlpKd/85jeZM2fO1DVcRCKeIjfhpFa+mz4MjlJ8XJWSiOwIuAIhHEakohePYeXQMeJzpFuy/9wwhzuztI64DPiVZISLEjl8RD7RxqgoAxlYHxwLH5eUipN1bfxEGWnbJiV0Io7R+CQF+QUBRYhgcjfRkb2Wjud635tX24Yb0Tfcim3QQ13OBqVEsIZSOGSAHh/6chb9ns2wtMkhEHZ+GyVR2Kh8zCNYZCyHHAlGZJyevgHO9Q1yuH2Yg+1VrJgVY2VtnLoym4qYQ8JyiKGISR9bSmzLQggLlEW4qHP6eL2ummILf9SdGIu59HT38Prrr7NlyxYqKyt5/PHHefiRh0kk44X7gLwV8eqwbSsM5BcCPC8QacuWLaG5uTkvMkYNrJ43mqurrKyUJ598EqUUpaUlSOkXWIo8z8d1HdasWcWaNavGTHj1dR2NC9elpS43cU+lUnzwwQccPnyYkZGRcD+TXdfR2OzFixfz4IMPMnfu3CkdX4ubdzVWzWvlmr9dVFl6nlfw/4IFC2hubmbGjBkcOnSIeDzORx99RF9fH4cPH+bgwYPce++9BVYFvc+oubO1tZWWlhaSySR33303paWlBUp2KleA6Hg3IYJlyO3t7Xz44Yfs37+flStX8p3vfIelS5fium64fHg6kE6nOXToEK+++iqXLl0qWMwwEVFzc0NDA/fddx9z586d2hiCgploYUeoKLo5po8mC6/faPyJEAIZKyHt+6Qthz7L4XxKsrt9kMNtg5zs8jjZlWWASvzSKrJxm5wEy5cIPMI0oSpwXYJEChepwFOQsctIOYqLXpwzWZDCxtZeTBgNvp6o/5tEmF1LvkipruFNk3C1bZgwAect3AbB1XtTdX74LKGxCgAP6PBgIJ7AL52JUhbSEiCDS0VnPStYPimC85qxE0FIQs5meDBF55lBTnZ4HJsRZ8ncKhbMLmFuqWBGTBCX4EqbUsvCVvkFCHYwwZC+QkyPLvILE459IsgXdvDgIbZs3UJvby8PP/wwX/v615g5cwZKFsYMXN6GPTFCBAsAbFuEMWKeJ8M4sWjITWGCWgfHcXHd0TRTQby3wrIE8XhQAsr3R/PNFRtCtPdIh6UAVzTe5XI5tm/fzptvvhmOpZlMJvTkTIT+jEceeYQ1a9ZcNr78RqKPwo02DH2hW0MfHH2gHMehtraW2traIIWBbVNfX09bWxv79+/n4sWLnDhxgr1793LXXXcRj8dDATCeufTChQvs3LmTuro67rvvvjH1qKYqZ4q2Iun2Dg4Osn37dn77299SXl7Oc889x/333x8kKrxM4OZUYlkW8XicmTNnsmjRooI0HhOZzfV31UH6s2fPDkqZRFzNU44QoQ+/uK3TieLjqd2vPtCvbPpsl84MHOgcpqV1gMNdOS4MQU/GJWVV4sVK8JSNzBFUCLCDLOsQuEMt38NRWVQ+wljmrRlpO05HKsuucyP09wxRQUqn/gwPm87LNB6T6agwzUDQCkaHk/GeCz5JL72/Xoxec5N99uhzxcHcXxyRz+k09rtO9Nz1boO2glzJ9ycfYu+oHJZSZEUcT7hBkKP0kUIybJdwctCmfdgiZyUDC5ZUKAS+sEf3qZQOjkRYgQst5VtkSDJixRn0JT2Dw5wfHGZfj8f8mSWsnlfG7fVJbit1qLSDXceVQiiJm18haYXf5dZjIlealJLOi5389re/5dNPPuXee+/l+9//PosWLgpFWWC51hbwIGbparPlB32xle8W9bUJOom9UoFVLYjplQihwuB2z/NxnMBbks3msCyRT6URtM73R0WaENF7v5CoCzIaLz4ZsVgsTGg7MDBQkMZqMney7kfr6urC1bBTOg5pD05RRzktLWYafVB1luFYLBa6+izLoqKignvuuYetW7eyefNmOjs7OXDgAO3t7SxcuLBg5WLUCtLf38+RI0fo7OzM1/JqpKSkpMAXfS1B6deCbpte3fH555/zv//7vwwPD/Pd736XJ598kmQyGWa3j7pnbyZCBHnW1q5dS3V1dcEM53LviwZALliwYApaOwFXeBynweEuQHcoUkqGcoKTOcWe9gyH2/s4fCnN2SFBLxUMqzg520Xla2Q6wsdyfLIyi7RBWTFQdlBMWPoIsijhB45K4eRLNkHfsORYaoT2XoEtYoHFRoUR30WtKxQUgatT5U0yhSKjsHO+MmEWnIuJBMyV7ycUGeLqhdno9pPv+8raSJEoujJhNvb1a21PMJCP5oa7AmGmFK7ysJFkLRefUpDg+GkEWXwnw4idZAgH5QS1aIWXBsdFWfkSdUpiKT+fakMiJEghkJaNTwJPCbJSkRIJBqxSOvqHODs4SHv/MBe6SlhR47KstpzbKhxsC4IQc49RTRYsFbiViQrwoeFhXn/9dTZt2sSCBQt47rnnuOOOO3BdB6XAsgXSC8IQZH68vJZuS+VvVSECy5YueRUIGL2NCN2dMGrBD0SZCCdPQghyOT+sCqAUWFbhJHPs4izGDdfRi7smGpNjsRgbN25k5cqVpFKp0HAQTbxbTNSAMGPGDBoaGqaN4eNGcs3CLBpfpgdwGM1ZBYTZ95cuXcqaNWv49NNPGRwc5ODBg+zatYvZs2dTUVERWmO0C9D3fc6cOcOuXbuorq7m2WefBSgoMQGTm0+LVxYWm2LH2674tej79ed9/PHH/PjHP6atrY1vf/vbfOMb32Du3LlkMpkw/4m25E22SqX4cyZ6frw2Xin6uNbV1VFXV1dwviajONBf//9Fmew8FG8niv4PHwdPEK6SUYXRZdd6rK6YiXrScT5Ooshks3QPeWw61M3O9hTnhzwu+Un67SpGnHJ8ZYMlEDaQzYGfxXYktsohRRwsJ98LK6QAz5KgfKSlAkOGH7TJchxsVcqQZZHWgbz6WOR/FxzT/AsKCtNMqeg2Ew8biokPBVy/43+tE5zref5vzTb4xCjBET5ZUYGPiy3BJY4t01j45KwYUgYB5EL6xFyFsgVZFVwYQoGtfBzlIfDzFloHT1iBGBAWKq7wRQxfunhWAlekONvbyVDXRdpiabrmVpBrnsPyhhpcJ1QN488XpgCFPpaFF7u+1hWj/Urx2DGZhyGTyfDmm2/yyiuvUFdXx/e+9z0ee2wjjuuAILS4+L6PsCHnecTjhYuxJuofxw/3CVyXlhVYzHRW/6CdejtwHAulyFvBrPyY7OTLELmh+9Oy8qdFjVYRCKxr448VOhGuHuP12Dx5YlxBY2Njvi7naN6wy41J0XE/GBsKK+pcCdFjWfz4sjFjQofPQDDxlKPXybjX0Be/tL+QxSx6MKOlHKL+bSEE5eXlrFq1isbGRg4cOMCJEyfYt28fjzzySFg7UggRmin7+/s5efIkR44cYdGiRaxatSosZq7dppfrqIpTFkTbFH1Ot1db7nK5XPg4usLE8zwOHDjAyy+/zLFjx/jmN7/J17/+debOnRu2PWqa1TOH8T5Xf3Z02fVEF070hr0W66DOt6ZziIUX9ySuzOIVr3qJ941kTFui5v1C5YX2hSgC8YMgLK9SvM8bsVBkPPtT0LTIzDK/kQRySlJeUUKsR6IGc9g2CCuHUiNYiURQzsYPsv5bxIKZrnQJUpSLyBgikJaDsEYT1kIwgLqewpUePoKYyJdfIXCbCBFUGYi2W4rIYRVok9AVHSuVf78vxjkYxQflZnGzPx9uahsEEltlQOUQwsUBLAkxfbYbiwAAIABJREFUPBwRTB6FlbeoqsDCktNxRfngNCFE3jJrhULcE/kBSp97L7hMBUDOR8oMAkWJG6esxKYkUUrMdoJVn9c59vBKCW6d0eFSEREvto2wg+/nxNzRCYsazfg/XoC6ft3zPAYHB/nggw/4/372/ygpS/Lt7z7PI199mERJIkwfZdvBKlVh5yvaOBa+9Av6Y91PF/fzug8fHUMCV2ZUNBWvPI02V4ggFg0gFnML/kb3oa1w+rHrjh1vio+D6wb7KV7lGN1eP6ezA0Q9aqHonaAjEYjAKkhQ8N1x3UBI5l25kymgyYwck20TbXvBNnqVlKUfKxQymFRbgTATlgjHqC8yMbuh4Zf6gtNWs1WrVnHw4EH6+vo4duwYp06dorKyMkwYq/ONDA0NhRmG165dSzwev+rYrahI0slii7PvRy1h+v/oYK4/L5fLceTIEV566SV2797NI488wre//e2CgHjHccJFELoW2erVq8e4dnW79JLdqFgqLvuk/16rP10HV+7fv589e/YwODgY3kgTEf1MKSVlZWU88cQTNDQ03Jz4si/IzXIp65ldLBZjVqXLAxXl1M6u4lD7MPvaRzjWPUKP9MioHGk/KBHtSQtFDCFclCtAScJ65NJCSAcbB6F8pGUHAds2CKFQVhbLGiFOiqSfQSiwdD8i8ukQVJGlLN/WQJeNDfCFCawE+d9aIxumIxKLEQQeOTGIL0qwlIWrcljSI+e4DCPIKAtPxMCykH4CsENLazDxccgJBymCVBpBKFKwPMBWEstTOFaOmJXF8oaocXMsralgVcNsVsxyaZqRYE6JTcICqfwg+m2KLxptCRJCx0TryW7hdtFFbBNZyopF2vDwML///e/50Y9+RCaT4Qc/+AGPPfZYmNcrmmIpm81y9uxZpJQsXry4wDCgJ8N6nALGWKB0ofBb1ZWXyWT49NNP+fzzz8PnAoFrj9YMLkKPQ7lcjqamJu655x7q6mYHScgdMaGgu9W5IcKs2D8NsHDhQtasWcMHH3zApUuXOHz4MLt37+auu+4CRt1lvu/T3t7O7t27qa2t5b777guz9l9NQK2eeSilChLM6cLhenFCdKkwFAY1ahF18uRJfvazn/HZZ5+xfv16vvOd7zBv3rzwRokuFe7v7+fTTz/l/fff51/+5V+oqakpOBZalKVSqdBEq9TowoJofhR9UUZv1KslnU6zd+9eXnrpJVpbW68oq3TU2tnY2MiqVaumNl3GNTCR9e9mdWJBBx4kly2PWcz3YfZsl6aqKpbVlXDwYpqW1iHO9vXR61lk7CQjVoIMDj4qcG/6IKRESRshwZE2ceWiLAuEQ04KpACpcjjJHA3VSZbPSlDt+GH0jshnIteTy9C6F2mrUGEBAqKj1YQm+byby1E3xRtluEIs0iA8cqIET7goAoEuUfSoGMcHbA50Svo9CThgueQLuAbuImHhCRtEvoKAUCCD0k4xlSPu5UhIj6RMU+HmmD0zRnPDTFY3xmma4dKQgHILEhBODBA2Mh8vN5WD6njdgBZO0X4i6GODxwX1eyOTdf03lUqxZcsWfv3rX5PL5Xjuued44oknqKqqCsvLRd9z+vRp3n33XSorK1mwYEGBVybqWdErFnVYzHhhJbfiJDmVSvHJJ5/wi1/8Iiivl80C4DhuULt0HKLieOPGjSxcuJDZdbOvabX4rcQNE2ZRAeX7PslkkubmZhYtWkR3d3eYCiOTyYSuMtu2GRwc5PPPP6erq4u7776bRYsWAWMT0F3JgBu1eKVSKYBQ5GUymTAYPiqCNPr548eP84tf/IIPPviA1atX8/TTTzN37lyy2SzpdDq8oQYGBjh//jzbt2/nvffeC4vXRtEdgfbPRzuEbDYb1u3SAi263bWgrXA1NTXMnz+f0tLSK9qfjkVwHIeamhoSicQVJ+idbtzwmLMJPiv8PKVw8KhUPqU5SRyXmlkuy2pcFlYnONg6xKm+EU73DtLppciVCDKOzUjOR/keFhZSWlhSBD/KDYSa0t9JgjdCaYnP4oZS/mSxy21xcMNhT+U9U6PDYLE4sxmbViofTjGhccNWwc+td0X88SCERAE5BL4Q6BRiWaAjB5vPepzrHWQgA8qx8ydbIfAQOHmrakTV51f9xfEp94dI5AaYIXzmltssn1vFooYyFtbHaEgKSgXEpKJEQsIKri9hWeE+lQJHTNX1o1clqkjh72Dlop6oR/s3PdEeL8YsGuqxY8cOfv3rX3P69GmefvppHn30UaSUDA4Ohtt4nheWj9u0aRN79+7lscceQ0pZECKixVjUy6Pbo/c1UQaDW4VYLMasWbNYvHgx6XS6oE6yl/XHfU/U4lhTU4Nt23i5wAMVT06eZuNW5oa6Mgt8yEKwbNky1q5dS0tLC0NDQxw6dIg//OEPYaoJKSXnz5/n/fffZ+bMmdx1110kk8kCITEa4Di5wHAch8HBQRKJBLlcjv7+/rDYeNTPDYSB+9F4AN/3OXHiBL/85S958cUXGRkZoba2lt/85jd88MEHuK7LyMhIuNhheHiYCxcucPLkSXK5HP/2b/82bjHzqOm6q6srLIba19cXdgLanP1F86Hp+L777ruP2tra8HteyY3t+z6xWAwhRFhO6WZaoK6EieLmrjdXIpMdO3LelETkMri2S7WAhIKkEFQ1xlhVN4OzfdUc7Ryi5XwPJ3rb6U47JN0kaWGRVjEUZWDFAIHnW0gp8JQCBxzbwvIhmc1QI3zm2jEWOR5xnLyFTGHnk4tGR8HRLEWjwkxoV6eOOyJwg0ZdnqEVTTBpYlrDNCDvegyKJQXnzkeRIljJW6EyJPwBXMrIWolQjes6lyqi4AUK25I4mQGq5CD1sSy3VdqsnFPN8royFtfEqEpAwlK4SpJAEBM+MRRWfj9SWUhdVF1E7bc3Fm2VGo3VDYSh7/sMDQ3R1dUVFqtOpVKhS1P3J8XiTefj+s///E9+//vfM3PmTPbv3093dzcAyWQS3/fD/ruvr48zZ85w+PBh7r//fu67777Q4jW6WtIJ2zMyMkI6nSYWi4UGhMsFyN8KlJeXs3HjRtasWUMulwutf57nEXcT474nOmbOnDmTBQsXBIl6p0MM6Q3khqf4iwZR1tfXc+eddzJ37lxOnz7N6dOn2bZtG/fffz9SStLpNGfOnGH37t08+OCDLF26lHg8PmbAvRKrjxCCRCJBf38/O3fuZNeuXWFpqO7ublpaWli9ejWLFy8uiD/TN+/Zs2f51a9+xSuvvMLFixcB2Lp1Kx999FFoJdM3U9RsXV5ezrp160JRGU3poWdbPT097Nixg127doUWsmw2y/bt27n99tupr68nFosVzJ6uBS0A6+rqaGhoCI9Z8QxxvGOn0cuib1as1hfluovJSXYVdYuH1ql8pLSyk2HcWcIWOECpgjIHamsFCyvLWVLrcqijnyNtfZzqu0ibb9MjyskIhRJl+FYcL28k8/Nlq2wfEr5FaU5QloFKH6qlIm6pIN5ZjQ6M0cOgGI3F1q5MPTCr8LF+z1hppkSwAMAos+mKAGwCx6Q+axKfwArrYBFXWRKWTwwPKX2UsoNM/yoYFhwlsRT5Eks5kiJNpTNE0wyX1XMqWTYzyeIal/qkoJQgHQa5wEIcc4IYNJAIFZQ5FwLsfIa9cAHBFDAaxD8qbtLpDOfOnWPbtm2cOnUq3Lajo4O9e/dSXz+b6urqcPzRZDIZ9uzZw4svvshHH31Ef38/fX19nD17NpzsF1vOtUemsrKSFStWMH/+/DF1Hz3P49ixY3z44YccPXoUIAyjaWlpYcaMGcyaNQuYujRRN4L58+ezePFioMhFrCZyZQZ51VTe6mnp7b/kHc8NF2bRlQ3xeJwlS5awbNkyzp8/T29vL4cPH6a9vZ36+np6e3vDwqBr1qxh9uzZoYXnagfXXC7HG2+8we7du2lpaWHHjh2h6zGVSvH222/T09PD8uXLue+++1izZk34OUNDQ2zbto233nqL48ePh9n8oyilwuei31HX9KysrAy3jRZkf/fdd/nss8/Ys2cPR44cCWcOw8PDvPLKKwwNDTF//nweeOABmpqaKC0tveYbsbjskhYpl9tXVMxoi90Xma1F9xeN6SheYBG1hk6GdjXo2EGNjssoXkhxs618CoFnBa4iSwsqCa6AhJCUK6iMWdTMSjC/Os6ymnIOd/Sy99IQRwYyXEr3k0GRtRU5JYLVkE4MVLA60xIOtnJwfIu4gpgUhFI+qp4i2rrgkBT5NgucnhPocR23pt9W/Hii5yh6fVxr3HXaz43c91Tu54t8f4tRy5eFQggfB0VMWNi2gyUcJAIpA4FuWwLPD2q7lqBwcyMkVYYZCUnjzAQLZpZz+5xSls2OUx+DyrwF2CGflcwOKgcI5aOkH14oYYyjUhQGpdx4dL8A5CvKtPHyy69w4sQJPvvsMy5cuBBOms+ePctLL73E0aOHWbRoEQ899BC33XZbOJFtb2/nlVde4d1336Wvry8UWLr/Gm/1pv7cxYsXhxkGom07ceIE77//Pi0tLezatYv29vbQQHDq1ClefPFF9u3bx4IFC3jiiSeoq6u7JYWZtgyOiUGfZM4vhIVlqXx/VWyQGetJm3g/o2NLVBBHx53J3pvNZsPMC8XZDaLu7clqhV4NN0yYjTfISim57bbbWLlyJdu2baO3tze8OZ566ina2trYsWMHjY2NYQmmK7HqTEQ2m6WkpIS1a9eyYsUKXNclm82Gq10qKyvJZrOkUqmCmY1lWdTV1fH000/zyCOPFJzMYrRFUL/e0NDAhg0bSCaTYTu1uRaCYPyysjLuuusu1qxZU1C6x3VdysvLQ0tZcXqQLyowrvT9xdbJ64k+xrNmzeK5555j/fr1NDc309DQEMQP5BdtTNSG6KrR+vp6vvOd79DZ2cnKlSuZNWtWGB+nO8ybYf4fr+3KDuoO6sHStsCSCpSPBbgiGCwTrqCqroR51UkW1Gf5vDPFwY4Rzvan6cymSdtx/FgpKeWB56CURVb5+AiwrHzqAv35YlSBTWbwFNG/YqIXCh6riN67sndc+XPXaz83ct/TbT/jPpc/53bERakECGyUEuSUQ44YSsQBG99XIH0cspQKSaVKU84AjRUOK+ZWcfv8MuZV2tSXCqptSCKJy8ACZ1tOPiZR5FfYCYSwIy3KjwdILPIWNKaOUdGkwsVXs2fPZuPGjXzlK18J+2Gd9DSRiIUT72gfEo/Huf3223nhhRfCfv1KPBo6JGTt2rUFJYX0as1sNktDQwNPPvkkGzduDCeeegyoqKhgcHBwTHtuNa5lPLnW8Wi8bcvLy3n66adZs2YNZWVlLF68OAxdupKwIaUUFRUVbNy4kYaGBhoaGli0aNG4xdW/yNgp7rnnHqV3opQikUiw5f9n70yD66zu+/85z3MX6UpX1mJ535BtbGMZY7NmMWBiQsCUACUhZFommcykb5q00+mbTqftm77odNo3nXam0yb5k4YQEsBAiA02xDY2YIwNtiVb3mRrsSxrsXbpbs9y/i+eex6de3Uly7KxJXg+jJF0l2c9zznf89vOnj2fS9C0lF71/O3bt/Nv//ZvfPbZZ8TjcZ5//nl++tOfsnfvXv71X/+V+++/n3/+53+msrIyJ0vxanBdl0Qi4YscFfSv1K66EalUinA4TCwW8/fhOA62bfs+8CtZrPRsS7Uwu+7WUvVulNVMPw7lJlTWH6XOlSjVG8tUH8hCZRAm4noKM/3a6Onj6XQaGHWVqng2JabG268Sqaq2j24hU52YnlE7Xn2dKZ/POK+LCT/kYgs3OygKhDQwpFdXCtfBW9kZbCNCJiRIAynAkdCZkTQOSOo7M9Rd6uN8/zCXCdEviklbYZAhijIZloRdtq6p4M9ui7CmOE1YG/iyw2SO5UU/VPXvaiw0glHNFzBNUTcWkTWbubhCMizCnLYNXj2b4Y36IVqSxThGEYYtvXIrcojqsKSmLETtnBjrFhazcrZBdRGUCElMuIRxCeFm4xJNpBFG+ShFVgSq3wsemjAAgxulzhxntDCr67r09fVTXFyMyF4aVUJDJQd4LjSHWCyWU29ShdwoYWVZFpFIZMIYMNVfhcNhv3ySPkak02mSyWTO4K4mlmpcUH3mrFmzZnwi1tg3QIyTlTkhWpDrZK+H0gXqXkajUb8w/HhjvBpr9PJWw8PDfuKCsoAWCrkqRH51ifb2dp555pmc79zwZWRDoRC1tbXcfvvtHD9+nIGBAerr69m1axeHDx+mpKSELVu2+MKk0NIPk8G2bUpLS8dcBIV6TSUX6KbJUCiUE1c10U3Pt2SNty/10Knzyi//oattlQUJ5MSvTRU9Ju9GP9B6HAGMZhipxdTzF1W/kvjULWbqmupxcOpa6z/VcVwvxqwJXuDW5Dk0CEk7+zEja8owve0YeBYG6QmdkARpeFaOiITyMMydY7BydhF3LJrP0bY+jnX0cPJyB11OERlRRLGAsAHCiIOIeCU0kHldXW5Qjy7IwF8mfVLCTBUUEOOce8B0wBNi3k0btZoKhF+zOCoEMSGIOUkc26bYTVNdbLG0MsTqeSWsmxtjVZVgcRGUAmHXxrRTGLiEDIFh+A5MX/+JbMvIXTXC9a13qqXp7epGoESZijWbPbtSvQOM1jQbdZmNTuD1tSANwyAWiwGeR0b11RNNKJUwU7Uu8z0hkUgkpx8sFEPtui6xWGzGxvrCxH3wVHrnqVwJ27b98CDIHU8mQr8npmkSi8UKagQ9aeRauKHCTMU3LVq0iPXr1/Puu+/S0tJCY2Mjr7zyCh0dHdxyyy3cd999/nem6kvXLTRq3+OJKL2WjB6bNNGDUgjd5aisP/kuXf0zhURj/n7Hc6FeLflm1huNmlHmPwD510MxXsNWIkyPWVPovn81Q82PQ7te5MqcK39aSOVKMnBlti6UIRCYGKpzyFYnl9ITaGEcIlJiyBDFBlRXQE1JObfPK+ZgSw+nejNcGEiTSCWICSiSZZgUZ/d5dUPf1TxlgSibCWSfdyFBaqVTpMDEE/3Flk3cGqTadiiJFbMobrBiThFrF8dZPTfM/DCU4CWpRF2XsCHBNEGaIAzARLqeKDPyMky8JZuyhyINRv/0JiFySkPx1JDZSY+3RqTAdS2kNHHd0QzN0b5ntF9REz8lpAr1JfkenfEm5kqI6UXG9fFGWf/1bE19++l02jcizGRX5s1Gr22qvCww1sCik39PYOz91sejycRxX4kbKsyUUCouLmbNmjWsXbuWixcvcvnyZXp7e/0q83PmzAFyH46rJb9ony6E8mc3ei0ztV/1t15XbKLzAnK+Y1mWb9XRi+eqv/OPQb2vrwkGTDn5YTyutJ3PQ7jpMXj5a4iq1yC3oON46KJXtQ+1Td3KqO7z9bx2+Sgr0xW3LgVeRXWBxMQVhhcTJlRwtoMhbQwhMKQg7EpPtBkWIIgKEA5EXUnclFRXRlgan8/JfouGjgxNLZeQqSEq3AxR6WIQyrpMyVpJcl2PuqgUoFkzJocY80vAdMMFXGF4gfYiWxLFUyCYriCOpFxaLAolmVcVYcWiUmoXFnNLhUllsSBuSEoFFElBCBcDF1y8Bc6FZzOVykEuJCKb+5ldCAy18LyUeA3Pb2OaPfYGtR9vMW8X1/Wq/nsuKPXeWEuX44xaU/SxQx+MVSyaGuQnGh/0QVsfK3R3ZqHsfX3sU3FshQwMM4mbfdz5BhgY64LMJ9/1nF/vVFVm0IXetXLDXZnqwGtqaqitreX9998nkUgAsHbtWjZt2gSQU2Bvqg1xvNmHatz6LCZ/qQ3dxDmZ/auHSW1Pmb7VTcsXXvmVnNV1UcGkStjpJu+ZOlPSxVQh96KeqTlZ4ahfD3XN8js9Pb7wczmvSX8yO0h5eXHokTfeuCWyqslFSMerko4JwvUGOtcigvDWYUNSLG2KwiaVc6KsqozSWGbSfamTmllhSk0wMUctYFITZcqokf1fzvFfrR4XV/+VgBuHxCuT4aAEucQQEiFdTKBEwPKyEOaKKqqq4yypjlIVglJhEzFcioRJRILheNZeDBOJKkIrcFVigaGWtfVmAbobvNAxqbZ3tRbda8EwyFrKXMDIFpaV6OtLuq7q70XWimbkxMbq8apAzntXCpnQQyz079q27Rc5z/fw6FY6IUbXkZ7pwmw6oLum1d/6/clHv29q/M6/l4rrdV9uuCtTXYRFixZx++23M3fuXM6dO0dpaSm33XYb9913H6FQCMuyxsQfXe2+FLqgGS9Ab7Kfn+w+9QdIbS8/SDC/MeiuPtVwvigPon4dC13zyZ5f/qK5+msKPVj382AyhVVzWq3wrAgqtibEaG2x7FQBQRiJCyI86ldUgwWmL6QkXpmNcgxiQlIdgZW3FMOypRguRAFsB6mut24lG+8aT8rsNw4zu1l+YfHamfrdE0yOAQgv/qsYyb2Li7l7qRcAb+LVITMJYyBH4wjN0S16esq74WOHMP0VvVFos4GbpOS9PhgMQ+9rRy3IIHN+V99RFiu9ny7UhxXqz/L3r6P6pUJCIN81WqgPm8ljwXSIkStUZH2ia6qMI/ltQI8dnwoThUjdcFemfkC1tbXccccdNDU1sXjxYtatW+dnR+YvLH4tTOb7n8c+rrTNiRrHVETL9eDz2tdE53M1+xzvs4XayedxLpPaYsEPiZy3crtkY/Rn3phWaFNCjNaNKkLi4BVg9BIJvEIE3oAxlYOfPDN3ePhyoMSZCsxHs9RGjaxNLZsQ4Id84BWB9TdQYJtj3xur7Cd4BG4KV+obCnUV4wmuK03sr7T/yWx3ou8FjHK112Qq4/S1fG8y2yy0nZviG1MCbdmyZdxxxx3E43FWrFjBxo0biUQiuRXUg8YYEFAQz0UpCBkGIcPENMwbXB0qYKahBJiZbS+mYWKImVl+ISDgi8oNd2Xq/vZYLMY999zDY489xsaNG1m5cmXOUhXqOwEBAaP4cXbZv5V1TIC3pA65s7Hp4D4IuHmIMeUrxvar+e9ft30H/XdAwFVzw12ZesYJwD333EN1dTVlZWVUVVWNMe/drPpbAZMnGPg/P654ZWXuoBq4PgIKUbi88Nj3gxYTEHDzueFZmXoWixCCeDxObW2tn0WnUIkC6veAgC8d48bqq4V8s+SNtVeTsBLwxUTF2hcIHQfyxHwgxwICphU3PMZMZSnqKaf5VeHVa35AajDIzDiUdTSwpn0+6M9Gocyw4LoHBAQEzExuSuV/Hb0omyonETCzCMTA9GCy6foBAYGVLCBg+nLDXZkBAQGTYzyZO54Lc+wHAgICAgJmGoEwCwiYxuhLDnov5L6fr8ECm2WAItDnAQEzk5m5xk9AwBccmfdzSl8OCAgICJhxBMIsIGC6kjV5uExeawVWkoCAgICZTSDMAgKmK/qi41f3lYCAgICAGUoQYxYQMA1RdaiutGB6QSEWmM0CAgICZiyBMAsImKaMXRq6wAcCAgICAr5QBK7MgICAgICAgIBpQiDMAgICAgICAgKmCYEwCwgICAgICAiYJgTCLCAgICAgICBgmhAIs4CAgICAgICAaUIgzAICAgICAgICpgmBMAsICAgICAgImCYEwiwgICAgICAgYJoQCLOAgICAgICAgGlCIMwCAgICAgICAqYJgTALCAgICAgICJgmBMIsICAgICAgIGCaEAizgICAgICAgIBpQiDMAgICAgICAgKmCYEwCwgICAgICAiYJgTCLCAgICAgICBgmhAIs4CAgICAgICAaUIgzAICAgICAgICpgmBMAsICAgICAgImCYEwiwgICAgICAgYJoQCLOAgICAgICAgGlCIMwCAgICAgICAqYJgTALCAgICAgICJgmhG72AQQEBFw9ssBvILT/BwSMjyz4StB+AgKmAzdcmDmOg+M4hEIhXNfFNE1c1wVACIEQXrcgpcQwDGzbxjRN/3WFlF7Xot4HcF2XUCiE4zg525ppqHNT10f9bRiBgfPLhTvmFTnmpwtCZF8xEFIAIhhcAwqit5tcceaiHCgGRtB+ZjhqTFXjaD762Oi6rj92KqSUOI6DYRg5nx1vTFVj1Ewdc6cbN1yYqRsthPBvvHodPOEGnuAqKiryRdd4SCnp7e2lvb2dZDLpN678BjVTUKLSMAwsyyIUChEOh5k3bx6zZ8++2YcXMB3INmuZFW4yO8QKpCfSxppDAr6sqLYwYVfoZu1l7pU+GDDNcV0XIQS2becIMinluOOhEMIfZy3LAiAUChUce13X9bc1E8fXmcINFWZSSjKZjH9TDcOgubmZ9vZ2pJRUVlZSWVlJVVUVQggymQymaeZYjfTGIKUknU6zY8cOdu7cydDQEOCJMvX5mYZuIVSznoULF/Lss8+yefPmm3x0AdOCbNMWmuvJs5cFBEwW4Ql5jaD9zFzUeKdEUygUyvE+Ke/LlbahW83yt63GbbUPfYzNfy/g2rjhFjPVOPr6+jh27Bi7du3i9OnTOI5DdXU1d955J48++ihLly7NMcfqSCl9kdfc3Mwrr7zCnj17iEQiviVupjYQJSqV5QygpqaGTZs23eQjC5gOiHH+EmPeCwhgTKPIaTESQIIwELhBhNkMJH9s1D1Rapw0DGNCUaY+r6xtKrxId4PqIk/fly7a1P5m4rg73bjhwsx1XTKZDPv37+c3v/kNnZ2dFBUV0d/fz5EjRzh8+DAjIyP84Ac/oLKyctztSClJpVKcO3eOc+fOsW7dOtavX088Hs+JWZtphEIhbNv2HwrLsqiqqmLVqlU3+9ACphEFW/ak3FYBASAkjPrEPXEWMLMYzyvkuq4vtHTr1kQxyvnCq5Aoy9+H8nqpz89UL9V05IYLMyEEbW1tHDt2jPLycrZs2cLSpUu5dOkSO3fuZNeuXbz99tvcc8893HvvvUQiEf97CmWa7erq4sMPPySZTPKTn/yEzZs3M2vWrCuabKc7juPkJDRIKamoqLjJRxU42r8GAAAgAElEQVQwLcgOqONpLxmosoCJGDN2irGvB01oxqEnjCkhNjg4SCQSIRaLTfhdx3FIp9P09PQQjUZ9g4iK085kMoyMjGBZFpFIhJKSEj/kRo3PQfD/9eWmZGU2NTUhhOD5559n48aNhMNhLMti3rx5nDt3jgsXLnDmzBlqa2spKirK+b7eAHt6ejh58iSRSIRNmzaxYsUKv8FMVpxNN9OrMkWbpun/DGYiAaN4Tkvpu6FE1vqhvR0QMAny3VJfZotrIZfgtW6rUMxV/nsT7Wuifl//rvIQqb+HhoZobm7m1KlTrFq1ittvvz0n7jr/uEKhECdPnuSDDz5g/vz5fPWrX6WyspJMJkNPTw/Nzc2cO3eO3t5eZs2axYIFC7jllluYN2+eH8s23cbRmc5NycqMRCLcdddd1NbWUlxcjOu6RKNR5s6dy6pVq/j444/9ODHl/9ZNpkIIBgYG+PTTT+nu7ubBBx9kwYIFCCEIh8N+A1EiB0Zj25SJVjXSVCpFUVGR/3qhxqWbd9V2dZ+6lNIXUJMxHSuL33gBk+r41DHnP3wBX2I075PrSkxTIPU2KwIRHzAB2abiuhLkaH8q8f4WX6JSK/kxUWqsmMiFN9lt6t/X96H6/fzXx9uOPr6oY9RFnT5xT6fTNDc388knn/D666+zf/9+/uEf/oHly5dTWlrq71+VqlLnmUwmefvtt/mXf/kXnn76aWpra5k9ezbNzc387ne/47e//S2tra0MDw8TCoUoKSlhy5Yt/PSnP2XDhg2+8SQQaNePmyLM7r33XqSUlJSUkE6nvQMJhRgZGWF4eJjZs2ezfPlyioqKcuLF9BnE4OAgH330EYZh8K1vfYtoNDomCyUcDvuBjLZt5/jE1d8qYeBKVinVkHVBpsgXTnqjH29beskQdV0KCUolSme6ezZgqowW/lR/SSmRSAzTwEUgs6XMvOYzNtsuIEChWobjSkKmke27JK4rEQgM48tjMNP7cb0ExLWIC73ckUIfD9SkWxdo46EyKfUxR31f7UOJtkQiwblz53jrrbfYt28fn332Gclk0ve8KPTAfnXu7e3tnDp1irKyMlavXk1VVRVdXV28/PLLvP766yxcuJCamhps2+bSpUs0NTXx7rvvYpom//RP/8Qtt9wS1Ni8ztyUyv/RaJRMJpOj3gG6urpobW1lxYoVLFmyhGg06osSXQhZluW7POfMmcOaNWvGFKHVg+jzTcnqddXQJ5NKrKMaNoxazzKZjG8N1IMuC6HPnlSKsp6JqR469UCq6xM0/i8TSujnCjP1ipQCN+t9kmJUmKlPflkG14CpYZgGDmRFvUCY2UmtKNTivpjkFzRXTLWfVX2+aZr+GGOapj/GFNr2ROKsUKZjfg0xVa/MdV1SqRRf//rXGRkZ4fz58/T39wPklM7QjQhqW6dPn+b06dMsXryY2tpaSkpKqKuro66ujgceeIAnn3yS6upqXNfl0KFDvPjiixw9epQDBw5QV1fH3LlzicfjADm1SQOmzg0VZqrRSikpKiryK/uHQiH6+vpobm6muLiYxx57jAULFhAKhcZkfQghSKfTvPfee7iuy9e+9jWqqqoIh8Nj3Ir5+1SrDqg6L4rJxHApoZTvz9cfRlVB+UoWOPW+OhZ1XMo6pj+IhSx0AV9evNh/byB1BTguSAMMAa4LYcD8MoyqAVcmv8tQbkzAdr2fSszLbDE8Q3pt6ctCfsFUfbI8lW3pZSryUZPsyRQ/V8ejYqZ1sZMf9iKEIBaLsXLlShzHobOzk/fee4/GxkZ/PNKFoR52Y9s2dXV1tLe388gjj3D77bdj2zYNDQ1EIhGee+45brvtNt9dWV1dTSqVoq2tjd7eXhoaGnjwwQdzjifg2rmhV1E1BNVIMpkMjuNgWRYffvghJ06cYMuWLXz7298mHo/7jSe/Mff09LBnzx7C4TD33nsvZWVlvsDRHy7VoJXwUceQSqV8ix1cuTHpFi71ef1hGRgYIJlMXlUNNbUslbL0hcNhHMdhcHCQTCbjCze9dEbAlw8hR60XMvvPBWwJlguu8Oq2Z1wJQnoDbEBAAVTbkYArvfbi4OJIiS0ljva5LwtKAAkhsCyLdDp9zYH/+pKDfX19DA8P+5YtNT7le0MKbUe9l0gk6OvrI5FI5MReQ248XHl5OaWlpb7RQxk2CtUDVefc0tJCU1MTpmmyZs0aqqur6evro6SkhG9+85usWbPG355lWVRUVLB8+XK/SkBrayupVGrMCj7TlfzYPf3fdOKGW8zUDTZN03c31tXV8dlnn7Fo0SKeeuopZs2a5X9e/VSNeWRkhPfff5/h4WE2btzIggULcoLk9UBO9bqyzLW3t3PmzBk6Ojq46667WLFihR+LNtl0X12kpdNp398eiUTYvHkzixcvJhaLTegezbeCOY7D0NAQe/fupbm5mQ0bNrB+/XoqKiqu6BYNuMEUen4ndWvyUifH6QfyhZXAC/T3y/sLkELgCLDxBNpQIsPISJLSaITZpUWYxpcngDvgasjGUyGwhaRncIREOkMkWkI8HiWSHVPV0FooVlEvQjteMvD4yZ3jmPBuEmpcSaVSXLp0iYaGBkKhEPfccw9VVVVT3qYQgkQiwYEDBzh06BBr1671t6kqEFwpdEaNEY2NjRw4cIB0Os2WLVuoqanJeV+JNN1jo/7BaJxafjiQGlOOHz/OqVOnWLJkCatXryYUClFdXc0TTzyBYRh+cp4eWhOLxaisrKS1tZX58+f746c+/gZcGzc8xkwXQCMjI7S2trJ7927C4TAPPPAAt912my969DopaobQ3d3Nrl27MAyDr3zlK/7yTXowpJ7NOTIywuXLl2lqamL37t18+OGHCCGorKxkxYoVfnyXOqYrHbMik8nQ3t7Om2++ycsvv0xRURGLFy9m/vz5Y2Yo+dvVHxopJQMDAxw4cIBf/OIXnD9/nu9973vccsstlJeXz9hyGYXOWXcz6wJ3vEBZ9TfkzsT0het1F7AeUFvIynndzk27HcoFVEhQjY5DLghHe8cEsmUupMwW+JRIwwAEDgJXmJjS9T4rDYQ7ut+MCYMC2jPQMWzRfKGbwe5uls+p5GsrFzC3WGBgIP1VNCdYGUACFI74noHNLiCLsq4CICRG1l4mcHEx6bUlRzuGON85RHGpw5L5VSwsN5lTBHHhYuIipIMhDEzAdRxMYXoJJsJEYPhRkF42p9bSRP4SYTL7vsxtVMLgRjptVF+gwmeGh4dpa2ujoaGB3bt38+mnn7J27VpuvfVWKioqcsYU/5AL9Cv6+8rDcfToUV544QUOHDjA448/zqpVq5g9e3aO9yN/gq5X2xdC0N3dzbZt23jjjTewLIsVK1awaNEiiouLc85LL1khpSQcDvueIhgdO3VvkoqLPnv2LG1tbTz88MOsWbPGT4iLRqO+B0r1tZFIhEwmQ19fH/39/cRiMe677z6/qLva51TcwNcT/d7kJw/q45BuuVTXDUaNOvp90belYgjVZ/QxS8+gvRZuSoFZwzBIJBJcuHCB9957j+7ubr773e+ycuVK/6S7urpwHIf58+f7i5mnUimam5upr69n7ty5rF69mlgsNsbnbts2lmXR09PDmTNnOHDgAO+88w5nzpxhZGSE+fPn+9mg+ncnUvuO4+RkyaRSKT788EN27NjB2bNnqaqqIplM5hzHeOiNGODixYu8+eabfPzxx2QyGQYGBnJmHzNlFlLoOPUMVJUdqxpuKpXyLZZATkyhnghR6IHSkz3yXdVqe5Zl5XQs143cMUgbALX3Ze5LSOVmNHItDUrBCW/glNLERnrZlrh4wyII1xvTLAE9Npwelnx2OUXDpSHaL/VjJNKIeJT1mFTj4Aq1/wmKnMkCrwV8YVDNUNm3vEXKXRxMRoTBeauIPZf6SDkDLOwOUbswTu28MEvLBLMihheviCSKxBRgYGXbo5fJ6bhexok5TlCaWhK9sOXsxrY7teIMeP3FhQsXqK+vZ+/evezZs4cLFy5gWRYLFixgZGRkXI+HHuus3IqQK9DOnz/Ptm3b2LNnD52dnfT09OT0e/mLi+tiTLe4ffzxx+zYsYNTp04Rj8dJp9NkMhmKi4sLjg16PLVeTiP/Oqjjb29v5/z584TDYVasWMHcuXMLJtCp313XJZFI0NLSwuDgoO/Z0ctlTAfGM4So96SU/lithyWNZwDJz4q1LItUKkVpaWlOop4inU5jGIY/Dk2FG76IubJm9ff38+6773Lo0CF+9KMfMXfuXGzbpq+vj8bGRvbt28f8+fPZunWrXzajv7+fQ4cO0d3dzTPPPMPChQtz6pbp+0kkErzxxhv8/ve/p7m5mba2NhKJxJQHaSUK1APZ2NjIa6+9Rl1dHalUym/EhYrC5t9wvap/Z2cnO3bs4N1332VgYGDMbGimowJY1QOgHpLBwUHS6TTnzp2jtLSUJUuWUFJSMmYWmd/xWJbF4OAgyWSSoaEhbNumurqakpISLMuirKzMF77hcPiG1H8bz7A0KsoEyDACgWt4cWGOEJ4lQzqYwkEImQ2+dokKb/BzsLCFxBZh0hL6E5JLQ3B6IMVHbX2cHHK5NOJCppgqI8KwKMUSBlK6fm2zUQ0pxrFNiHHHyMBgNrMRMmuPkgLvNwNXQAZICeg1iml2YlwadjmRHqGuJ8GtrYJ182KsWhinptqk0oBSAcXCIuJFN4LrYkgTSUjztWdlWDaTILdLVtMD9WLWinGDxFkmk/FDZ1zXpampif/+7//m4MGDNDc309/fj+u6FBUV+Rajibwn+aElegkm27bZvXs327dvp7OzM8d7or6Xn9yl0DMtz5w5wwsvvMCJEycYGRlh9uzZkyqxMRF6NQHbtjl27BgnTpxg8eLFrF+/3hcS+j7UWKWsjBcuXODAgQOUl5fz7LPPsmDBAv/8r7a6weeJHjumX+tEIuFbCsvLy30NkW8Vzf/bsiyGhoZIJpOMjIyQTCYpKSmhtLSU0tJS312sSnRd63W4KWtltrW18cILL/DrX/+aVCpFQ0ODr7rVhbv11lv5y7/8S79khm3btLa28tFHH1FeXs63vvUtqqqqcnzf+YUBY7EYf/Znf8aiRYv4+c9/zquvvppT0+VqjlltP51O093dzW9+8xsOHTrkK+9oNEokEsk5hvwbnH+zbdtm3759vPLKK/T29k6bRv15I6VkeHiYf//3f+e1117jzjvv5O/+7u/8zkEXZcpSKYS3lNf+/fvZvXs3DQ0NdHd3k06nicViLFy4kK1bt7Jp0yY/YDUSieTMaK/2GMclf1PKLKC+on9VWaVk1pkjPWEmPT8mrnAQ2JjIbIplGEwTF4OMCDPomnSnJW0DLmfbHera+jjZn6A1Y9BnluCaMcqjEowMwizyDkVLGFDuT4EcZyCU+ItZFzitgBmO3ialiyEgbHjudCEMzKISkCGGpcG54SE6BpKcuJjgltY0G2sqqV0QoqbMYHYoQrkIE3HTGK5LyJSYhqoBpjI5ZYFdj9rrgKwl19Ti2D5/wuGwPzlUFqClS5eyadMmhoeH+Z//+R8OHjyIZVnYtk06nR73+dfXoMx3dwkh2LdvHzt27ODSpUuTPj61DSUkWlpaeOutt9i7dy+ZTAYhBMlk0vcGTDXmWE8+SKVS1NfXc+bMGZ544glqa2vHjD+q7w2Hw2QyGXp7e9m1axfd3d088cQTbNmyJSdsaDLZpjcCfezVj0fdoxdffJGf//znxONx/v7v/54tW7aMOXfbtv12Mzg4yIcffsjbb79NQ0MDFy9eZGRkhFgsxty5c9m0aRMPP/ww69ev9w0D1+rOvSkxZhcvXqSpqYkFCxaQSqX8xqaUZlVVFXfccQcrV64ERs3Qp0+fpqWlhdraWpYtW+Yr/PyHyDAMqqqq2LJlC8XFxUSjUfbt20d5eTk9PT1Xfcy6pWxoaIjt27fz3nvv+ctWDAwM+KZq1fDzhYBuBVIi7+jRo/zhD3/wrT5X8zDPFFRHqDpF13UZGRnh008/5aOPPqK1tZWamhr/IVKBq/pMTQXBvvrqq7z11lucP38ewzD8NeB6e3vp6uqipaWF3bt385Of/IRNmzZdcfY7VSayJIm8n/p3VByaIUe1nLJlIASWMHGNELYhGJHQnRacHUhzsj3NmY4Mzf0ubSMOl2WcZHEZlhFC2gbDmSQZQ2JKCEnwZJ2mFH2zme5rFXk/A/vYFw4VmOhCNpcXISXFFFEqTWK2QyiVhFQUM1SKMEvJmHEuOg59XTaXhns4dTHKuoXFrK4OszRuMicaZVZIEkFiOBYhITBzYsVG25xqbkqg6S0sGz15Q9CD403TZMmSJTz11FNUV1dTX1/P4sWLOXTokC8uVBbiRKg+RU9ka2lp4bXXXqO9vZ358+fT1NQ0YcafCtFQwsY0Tfr6+ti/fz/bt29n+fLlXLx4kb6+Pv/zekjN1ZAv/jo7O2lsbEQIwfLly6msrMwRMrqHSFVT2LFjBwcPHmTz5s18+9vfprS0lHQ6TXFxsX+Np4Mw08WyEkmO4zAyMkJjYyNvvvkm586dY+HChX4MeyEsy6Kjo4Nt27bx1ltvUVdXlyPIu7u7aWtro7GxkUOHDvHMM8/wzDPPUFFRcc313G5KjNmaNWv4q7/6K1+UKeuRqlKsFlKdN28ekUgEx3G4fPkyR48exXEctmzZQklJCVC4Ir9qHPPmzfPjwaLRqG99mwrKPVpXV8fvf/97SktLufvuu9m5cycDAwNYluXHHFwpWF9KSVdXF6+//jpnz57lq1/9Ko2NjfT29t4Q19uNRMXS9ff3+2VK6urq+N3vfkddXZ2f4KHumT7rktKrJ6Ri8F566SUuXLhARUUFt912G6tXr6a0tJTGxkaOHDlCZ2cnHR0dlJWVUV1dzbp16/xZ0nUL/lcJlfmpZ1fQNa6ZjTGTwhNm2dsspIEkhBUyGTYNhjDpsaBtyOJk1wgNHWlOXUpxcUgwZJRiR2eRCYexpemPbBFXUiwcQtLGJUTGMJG6WU+MH/w/evgyR6pBrmyDsVIu/7X879zs7cyEY5zMdqa2bYkrpBetaAhMDAzXzLodvbYREiamKMYlSpoojox47nVTYgmXdCpFZ1uKc71pllVEWbughNuqwyyvNKgKS2Kuyayw6m+z7qKcQH9Gj0r4U5CbgoohCoVCRCIRv05mWVkZsVjMF0m6u28i8rMQe3p6eP3112loaGDDhg3Ytk13dzcjIyP+5wtZuoQQfvB+Mpnk4MGDvPPOO9i2zbPPPssvfvEL+vr6iEajvsC4lr5MCbvjx49z9uxZVq1aRW1t7RiBoos/tcrO/v37Wbt2LU8++aRf7V93Y17XfvY6oAwpUkqGhoZoaWnhD3/4A5988gmZTMYPdXEcp2BlhsuXL7Nz507+7//+j7Nnz1JcXMytt97K2rVrKS8v9+PdW1tbOXDgAOBZYh966KFrii+Dm7QkU2Vlpe+GTCaT/oOhmx9VQLdqiBcvXuTYsWOUlZWxZcuWMZYQ/cFSyl3PJolEIjk11K4G9bBeuHCBV155hfb2dr73ve+xePFiDhw44NcjA67YOFUj2bdvH/v27WPJkiVs3ryZkZER39z+RUK5rk+cOMHFixepq6tj//79frCtMqurTk4F/cPoDLG+vp7t27dz4cIFQqEQ3/3ud3n22WdZsmQJ4XCYtrY23n33XV544QVOnz7Njh07ePDBB1mxYoXvIr9e6GON/1NzHY5BgMRFCgcpJAITIQ2EzA5mMoRtwiCCixlBawYaLic40tRJ02WXjlQJfdYsktEi7HAYIQxPQkUAB7AzhEgSNpIYFHvh3cIcXTdAjB5m/jGKCf4KmNlIvObhIhDCJAxEDBekiy1MXAG2aZIxIyRElIwRwtNlEmyLjBTYkThJWcJQxqLzss3Jy5dZVRXmriVlrF9URE2ZF2MWERBFxbQJTCExpBJoylamhJvhJwXcKFRCmepj1ERdiRTdNXk1Fh811iQSCT766CO2b9/O7NmzefTRR6mvrx83JkyfvOtCq729nZ07d9LQ0MC3v/1tNm3axKuvvpoTpztVN6bep9q2zalTp7h48SKPP/44K1euHFPAVo8HP3bsGK+//jrV1dV85zvfYfny5b6rTl1bfXWB6YASxsePH+fChQucPn2aDz74gDNnzjA8POwbDAplUSrPTVtbG2+88QYnT57EdV22bt3Kj370I1atWkUoFGJoaIj333+fn/3sZxw9epSDBw+yfft2amtrWbBgwTUd/5SFmRJC+tpbei0V1YjUyasMOV35qwXE9bou+swiHA6TTqcZHBykrq6OwcFBHnjgAeLxeMHZg67gFfnB5BPNhvJFgS4Wurq6fFPuxo0b+dGPfsSnn35asNKzLi71zEHwzKNHjx7lP//zP5FS8vzzz7Nu3Tp27do14TFO5YHMT+Ut5GIthD77Ua5IdS0mKxzVNclkMrzzzjv813/9F52dnSSTSSzL8tuDcusWiv1T2bsquykUCrF582aef/551qxZ48/yysrKqKiooLOzk8uXL9Pf38+5c+e4ePGiXwhxssc8KfTbUOgrWauadw0A4YBMYAiBQRGWBCFMHCFISkGfJTk37HCk0+Ljiz009Awy4MZIWLNIUUbGDHvGBlcgpYOfoonENB0cJ0XGtEmHXCQSEzsb7K9NXJCYBbMy1S+BK/OLhcAQAkeaSCmQEmxMDMPEBlJARrhkTAfbtJFmBMhOjJFIDFIYYJhghBiUNkMizNDlYc73XuLjRsltC8rYuLKSmjJBlSkoFt6qE1EgLEzC2ZIbQjoITE+5SdeLMBM3drl0ffCNRqPA6HihV8cvlEim/65nmYOXWX78+HH+3//7f7S2tvK3f/u33HXXXZw8eZKioiJGRkZyQmHy+xiVNNbb28vbb7/Nhx9+yPr16/nhD3/I8PDwGJGUn1imRBGMZh/q42k4HPbHSjWmNjU1cebMGRKJBCtXrmThwoWk0+mcMhtKcO3fv59f/epXzJkzh+9973vceuutvoEjnU5z4cIFDh48yDe+8Q2WLFky5hrmG0+mSr6YVZmUEyVpHDlyhL/5m78hkUiQSqVIJBJ+xmS+hU8vKQJeZuUnn3zC2bNnSaVSfPOb3+QHP/gBX/va1/zrVF1dTWVlJSMjI3R1ddHe3k5rayvnz59n3rx51xQzfk0WMyVKCokTdaLDw8McOXKEEydOsGHDBu67776ci6Aurn6BdJNiOBymr6+PPXv2UFxczH333UdpaakfCDkeU2kE+VWS1bmlUik++OAD3njjDRYvXsyzzz7L7NmzfWvMeO5L3UWrHsDTp0/zyiuv0NXVxV/8xV+wadMmRkZGKCoqGpNFqHcAU6VQGvBEtb30a6/706c6UwOvU4xGo5SXl/urNKRSKYaHhxkcHBzzgOmdpOM4dHR00N/fTzweZ+vWraxcudLvXFU7UO7NyspKhoeHaWlpoa+v75qOe0K0oGp968IQ+lvZIH8wZQjHhYwwGBYmCTxB1jpgc/Jigrq2Xs4OWnS6RfQym7QRwxURz73kb0xiyAxCZLxB1/Rq8CWFwVC4iMGiKMOGYATvwdYLc+QKs1EHmBoc1W8zxb03me3MhGOczHamum0HgYvhV/QPZV/PCC8z03ZdXDuF4Tq4Muo7s6Wh3I6qcXvlW4algS2jDFs2PQMWbXaahkSC1eUGG+aGWVxuUhkziAlBMRCVBkVIQkJgID1rHAAOSAOvjtnnL87Gs1rp/etEfYQ+WVdGCJXhqZY/On36NFu3buX+++/3a6DppSlU/LReNkP38hw+fJjf/va3zJkzh+eee445c+aQSCRyymgo9HhdPchcjV+JRMJPFhgeHiaZTFJcXIxhGGQyGU6cOMHp06epqalh2bJlSCn9xDU1eR8aGuLgwYP86le/or29nZqaGi5dukR3d7e/v8bGRk6ePEl1dXVOGaloNDrGwKHIt05eKdNUN3IABaswFEJZGMvKyvzwqPLycgzDoK2tzV/hQVlN1XXWRWl3d7dvXVu7di0rV670LYNKs8TjcW699VYWL15Mb28v/f399PX1jRnH88/pSlyTMCs04OsXu7e3l7179/Lqq6/S0NDAd77zHdatW0dZWZm382xxV13Y5CvYdDrNqVOnaGhooLa21s+4UzOA6+n60xuN2r5lWdTX1/P6669jWRaPPvoo99xzzxgz+HjXRZ8tXb58mV27dlFfX8+mTZt48MEHicVipFIpv9RG/vW4VnRRpWZDE103vRPQC/DlzxQnS1FREZs3b2bBggU5ovvs2bP87Gc/Y3BwEMgViaoj069BUVERFRUV1NbWUlxcPKZjNU3Tr3cnpWRkZCTnOl5XcZY9LN2bqV6WUoIQuHgxZa703DeODJNyIREy6XIF54ccPmsf5mT7IM09CbqGXUaMUqxwBRmi2I5ByAUDl0y2WKwpbcIyjYGNxAQjgi0M0qFS+kPQaoc5nQArEyKUJxglNyFuIeCm4ggXBwcHA1cKQkAIiQu0ZyT9CQfhSiJCIHBwHYljhJAi21KkBOkADkJ6izlZhoklShiRLpcT0NTh0nR5hNZum5XVMVYsiFNTGaIqAiVS4mAQE5IwrifOcqSkLjtnBrqosiyLPXv2sG/fPlavXs0TTzzBsmXLxlj/lftQ76tgVEg1Njby0ksv0d/fz3e/+13Wrl3r1ypTSQFqO/keJT15oKenh+7ubo4dO0Zvby+GYdDQ0MCJEydYt24d8XjcL/V06dIlHnzwQVatWkUkEvHHPFVr8rPPPuPXv/41O3fuBPDLWylrnJReYfSSkhJ++tOfUlJSguu6ORNmGGsxU+esW/8m0zcXMpqMZ5FSk/W77rqLf/zHf/SvvWma9Pb28h//8R+cPn3aP778tUjBE3YqBj4ej3PLLbcwd+7cHKGs7rNKMLRtm0QicV3G7in31boi1l9TJ9rV1cWbb77Jiy++yD9+g5sAACAASURBVLFjxxgZGaG+vp7Tp09z7733+rVlYDQ1Vd04PT5scHCQ999/318qY86cOTlVdq8nunixLItIJEJHRwfbt2/n6NGjPP744zzwwAN+YbnJBIrq4uaTTz7hj3/8I6WlpXz/+99nxYoV/kxKzX4sy7pu56O7m/W/JxMHp+6F+nuq1jvHcVi2bBm33HKL30GZpsnHH3/sx0+of/luTTUzvffee6moqCAajbJ06dKcB1Jf4aGjo4NEIoFt21RUVFBaWnrVx3slsgaECZFS4kgX1xAgDGwEGWHSIwUXByWfXhzk04sDnBmy6EpJBqwoTrQIV5TiyGJcaRI2wZQZXOliiEjWuSQxpYFJCEkE2w0jMXAQ9Iwk+LRpkN52m1l2Jlu/Ks+al38ucoI3A2Y0EheEjWNIbCK40sR0XCJuBoGDE47RljDoSESwjFKwI5iOhJDANkRWO7nZ2ESv7UnXxTEE0oziSgMpDFKuwEpJBoYvc7JzhKXtw2xYVs66BSUsKzMgpHJUDMLSwcD1o82QYsa1O710UkNDA6+99hrDw8M8//zz3HHHHUSjUZLJpG/Z0cWUHuKjLDrd3d3s2LGDTz/9lPvvv59HHnnEj79W+yo0Wc+3xqnEtO3bt7N3716GhoaIxWIcOnQIIQRbtmzhoYceAuDUqVNEo1E2bNjAnDlzcsYF0zTp7Ozkj3/8I7t37yadTuO6LqdOnfKr+isBV1paysaNG1m3bp3f16pz1lHHqS/IPtk1pfMNNpMZc9V2q6urefjhh3NiB3t6enjppZc4c+YMMGocUvdD3Z/i4mI2bNjg18usra31kweVeAVPu3R2djI8PIzrupSVlfleoWvhmmLM9N/VgSQSCT/F9Be/+AUtLS3+SZw4cYL6+nruvPPOnHgq9X29gaj3u7q62L17N3PnzuWee+5h1qxZWJZ1zVkPhdDFZigUIpFIsG/fPt555x2WLl3K1q1bWbZsWU6CQX7dsvwZghIRjY2NvPjii3R3d/Pcc89RW1vrp2VnMhm/iG4++cL3as9HF5rKNw5MKADVbEA1Qr0+29Wip1wbhuGbgsPhsB8jpt/v/P0UFRXx1FNPYVkWUkqqq6v9Ehrqu67rcvHiRY4cOUJ3dzdSSpYuXUp5efl1cQfnkGcty/EhZXGQ2NnllBzpMGhJTva51LcPc7JrkIbeJBfSBv2hUhJEccIRcA1UEVqBxHXwrBiGxDU8WYYLDl4skOuEcLOxOoRN7IxJR98gfUYEQxZnC0a52ZpmmltBqoNWVosvVrJJgMJBGGkwXCwRxZFhDNcm4riYro3lDGNFZpE0y8CMgiMIOVnvImSbR9bVKAykcJGGt8SXdLMJKFln+QgxrNAcBtwEPd0JOvvbaGoNs3ZuEbXzKri1spjqIq+kRlgaeLpPMONUGaN96sDAAC+++CKXLl1i69atbN682e9v1Of0vjs/cF+NL++//z6vvvoqK1as4M///M9ZtGhRTpZo/jirj5X6dk3TZNmyZTz77LM88cQT/ufBq+c5Z84c4vE4tm2zefNm7rzzTu6//37/mFUMm+u6lJeX8/zzz/PQQw/5Y7dePUG5UiORCEVFRaxZs8Yfj5PJZE7ClT7O64YY3Wo20dqheqiUPhZN1KfrBgU15uV7fHQ3phrvFbZtE4vF+MY3vsHGjRuxbZslS5aMcSeDV6rp6NGjNDU14bouS5YsYcGCBTdPmMHoRVcWL8uy6OrqYteuXfT19fGnf/qnnDp1io8++oiOjg4/s/LixYssWrTIv1i6tQzwb9rAwACHDh2io6ODzZs3s3TpUr/o25XMmVNBj32zLIsPPviAbdu2EY/H+fGPf8xdd91FUVGRX+FZtz4pk7OegKAaXmtrK7/85S85duwYTz31FE8//TRVVVVjanyNN4OYqjtOSsng4CCHDx9m9+7dftyBXhCwEEogqppyzzzzDCtWrJiyyFFmf1XwVRfh6twKJV6o+zF//nw/pkOfeamZS1NTE6+++ioffPAB6XSadevW8dWvfpU5c+Z8LvFlk9qi4Q086UyajqEUH7ak2Heuh+b+JINmHKukihEZw7FciBSBYWAIgSklruNi2RZuSHpxZMIE6WVbZjAxHT/kDFwwQ4JIyCTihHCMMCkZwTUEUroIKb00gOxBFxZmM3OQDBgfIV1CbhjDBccsxTFNHNPFNYsJkfQsaeFipBvO3n6JI73isyHpueBdoYpfZPuJEOB4sWIhHEIyDa5DJhQhHY3jihKwE7T0X2BkoJO+Dod0fyXRFQuJLazANJUoU/3ZTbs8U8Z1Xbq6unjppZd4++232bx5M08//TTz5s0D8ENS9MLYaolAfXyzbZvDhw/z+uuv47ouP/zhD/n617+eYyXTXZm69U0VfVXbchyHSCRCTU0Ny5cvH7fPU6Lq6aefJpPJ+IJFuRTVRFlKyYoVK1ixYsUYw4DuFlQWwEwm45efyF+5Rh0vwNDQEG+//TaHDx9GCOF/x7KscQuy6uFFt912G5s3b2bZsmUTjvu6GMyPYVf1LyORyBgjkC6aXdelqqoqZzF7dV9N0ySdTnP+/Hl27NjB9u3b6e3tpaamhq985SssWbLkmkOsrjnsRAiRc1FDoRC1tbVs3LiR6upq32S4c+dOkskk9fX11NXV+QGDuplRv6Cu69LR0cHhw4f9mmEqkE/51vNnJdesUrM3xLIsmpub2b59O+3t7Tz99NN+PJgy56rGpvu9gTEm2suXL7N3717ef/991qxZwyOPPMLChQv9xialJBqNYlkWRUVFpFKpMX54fftXgxI3zc3NvP322/T09OQs2j4eekNdsmQJmzZtoqamZkoiWF2LaDTqd0hq2Qr9fufcy6xuCJkhHMdGGIZvmZKui0CQSWcYHByksfEsr7/+Btu2vUZPTw/z5s3jkUceYf369ZSWlo6JqbseQi3HSCZyXwMwhCCMgZQQkpIiYGE8zPLqChwMWhMuvekEIhyCcBQMgWEIcMCxbYR0MQ1ACKQj8YqeCQwpMLExDBdCpifYMuDYEulkkE4GI+QSFRau5v4wRdYON85tFy45GZwBMx8hISRtDFcQcg0wQhjCISQTCDIk3Ww6iGsgDc9iK7BxhYmDka25l92YlN4GXQHSQeJma6Rlhb7rgGUh3QxYg8QjLguKYywthYUVMWbFTIpMtd6m1w5d6WVwTvdWl2+ZHx4e5tChQ2zbto25c+fy8MMPs2rVKr8/V2JFjw1Ta3QqYZNKpWhra+Ott97iwoULPPLII3z1q1/NseqoPkv/XT8O9VN5IVzXK8KuykgVmuTry1KpElKFQlt0Eaj2r7I/9WQw5enRrVL69/XtgScMT548yTvvvEM6nSadTo/xPBW6/koIJpNJNmzYMOm4NP0z+jVT+iIUCvnXI9+ipls49fNScWTNzc288cYbbNu2jcbGRmbPns3mzZu5++67r8uyitckzPJPwjRNqqurmTNnjq/oq6qqaGlp4fjx4zQ2NnLmzBmOHz/O17/+deLxeM5gr88IXNdb06yuro5ly5Zx5513+pXe1Wev9xJGKu6tr6+P9957j/3797Ns2TIef/xxP0hf9zHnZ15kMhnS6XSOi/LMmTO89dZbXLx4kR//+MesXr3a/65q5CpDRLeaKYGnZjZTVeCqmOKqVaty0q/Hq+emHgJlXp49ezYlJSVXLQz1DkVv2ErE58ew5QtG13ExsoICCa5UJSLAtiy6u7rYv38/27Zt44MPPmBgcJBFixfx5JNP8txzz/kz2OuOFuk/5opk3zMkGMJA4hILhVlUXsTXigRL5jic7I5xqG2QE5dTXHJgRJSQsrzllCDk1Z1CeAY3KTCl6du3wkhMN4UrM7iiCGlGISwQwiXkQlk4RIQEpswA0v9P+A7SwvdQiMCh+UXExMUwBA4RTNcgJG1CZJDCJRGO0StDZByBgzc4hoSDKwykide4XWXdkoCDMAWusEG6uAgsvHYelhZRN0VMppgdTnBbVQl3LZ5H7ewwNeXFVIQFURxCWfcnIn8tzemHHg+mBJKUkvPnz/PGG2/Q2trKT3/6UzZs2EA6nfYNBo7jkEwmcxayVll+qVQqZ3x5++23ue2223jggQeorKz0rVHKsjU8POyXFgqFQmQyGd/6psYPJSz08hHjeTbUa/pajuNNWPO3ofptfRxSAkTXAfn70n8vLi5m8eLF3H777QwMDPjfUV6wQihDCMCCBQsoKysb4xbOJ3+s1LWC7rZVnjFdcOqZqbq72HEcbNv2hfkrr7zC+++/T2trK/F4nM2bN/P973+f1atX57SZqXLdErXUgK4fkGVZlJSUcOedd7J+/Xqam5vp7e3l5MmTtLS0sGbNmpwLoruvent7qauro6+vj0cffZQ5c+b4g/fn4Z4C/MyUo0eP8uabb9Ld3c3cuXP56KOP2Lt3r//AqOKEx48fp6OjA9u2GRoa4r333qOzs9NfN/MrX/kKb731FgcPHsQ0TS5cuMD27dv9m6waycDAAPX19QwPDxMKhThy5Agvv/yyXwvl7rvvZt26dVM6p2g0yt133+2LZfVwjyf2VCCkeugNw/DdmJOtg3bNCHBtx3PvmSau4yAB0zBIplKcbGhg27ZtbN++3bfI3nHHep56+mmefvppli1b5ovsz+14CzRBfXatApwNBBEkC4oEs0pCzJ1VweJ5Jay8lOGziwNc6B+m2zYYTifJmHEsswjbNb0Qaelksy+94dF2JdIwka7plTowpWdts1KUCIs18+LctWQW1VHbc1TKrLGDrNtonMfGK0o7/vsBMxCZXfpLekVmDQmm9IL4bQM6ZZjPOiWHL2bozdhIBBYWUjrgmICBgYnIxpG5wkRmMmAaXptzbYRtEXZdSkkxL2RTMyfO2oWzWDc/RE1piOqwQRxJCZKQkJj4c6tp39byRY5lWaRSKfbu3cvBgwcJh8N+qQy9fhh4tc0+/vhjBgYGkFJy6dIltm/fzqFDh4hEInR3d7N3714uXbrE0qVL+fTTT2lubiaZTPrjoWmatLe309nZ6S+gvXfvXjo7OykuLqa0tJStW7f6okKNndN5veVYLMbDDz/Mxo0bcyblE61moBsKZs2axaJFi4DcFX+uF8owVOhYLMuitbWV3//+92zbto1z587R19fHokWLeOyxx/j+97/Pxo0bcwTgtXBNWZm6K0q9ppv+1AWvqamhtraW9957j2QyydGjRzly5AgrVqzwl1zSL7QSMYcPH6a6upqHHnroc8mwyyeTySDl6DpiQ0NDfPbZZzQ1Nfmf0WPbUqkUPT09uK5LMpnk97//Pbt37yYSibBw4UKWLVtGS0sL6XSaTCbD//7v/+I4DkVFRTlBjaqUhrpmR44coaWlhUgkQjgc5q//+q9Zu3btlB460zSprKwkHo/7M7orbSc/Dgy47g/BlTAMI+vCzCaEGAY9vb3s2rmTn//855w+fZpEIkFFRQWPPPII33r0W2y6/36qq6tRWTXKLT3Z2jfXi/yg3whgSgdhuYRNk6pZYW6Jh1lVVURTT5ozXUnOdCTpSI3Qh8mQEfHGRttAuhIcz+djI5BmEUYkguvYnkVDQMRJUWKmWF4R48ElxSwrlv46hEqY6bay/NpXjudFDfgC4elsFwOvnpnAwMze8JSAJgv6HYuTnSn60hmkGcIlBNLGdCwMEQI3hOuVifVyAEIRb5vWCFEnQamQzImFuaUszF2LK7l1QZRF5VBuQilQKiAGRLIiEellYkq4USXMpoyepaiwbZtz585x+fJlMpkML7/8MiUlJf6Yp0JsXNdlaGjIX4Bc78+llMyaNYtUKkUqlfIDx9U2dHfoyMgI3d3dCCEYHBzkzTffZM+ePQghWLRoEZs3byYWi/nWpuksysC7fosXL2bJkiXAaBiQHjOXj+5tUX/rVrTrib4P/V6MjIxw4MABXn75ZV9Qz549mz/5kz/hscce4xvf+AaLFi3KKfZ7rQaka3Zl5meN6AelGmJpaSnr1q1j9erVHD58mKamJo4fP843vvENYrGYb71RDSyTydDQ0EB7eztr1qyhtrY2Z8FyPT7reg64xcXF/qKsZWVlfi2soaGhMYVvhRCk02l/lqRM1/pDYpom8Xjcz7JJpVK+qRtyi7+q98DLbFF1aCKRCOl0ekoxZjAaeJ9IJHLqs6nzKPR59Z56KEpKSm7skhsSDBXw6roYpklLSws7tm/nV7/6FSdOnKCkpIS7776bhx9+mIcffpiFixYRL4uPmfEoq9/Nwt+341AaMihGYuNQasL8OQa3z4rRVFFEY3WcIx1p6i8naE+nsUIR0hgkM+AQ9iwVLjiuwDFN728pEQJCOERJEzccZguYJ2TWbUR2GagrVvjwuL7VZwJuKhKEjVc4I+xl52Yf3yQwJKHCgRIXTMfENsJACISBIIWBwEXgOl55C8OA4rBNyEoRk8PML5GsnF3CmgWzWFNhsqZKMCsMYcCwJTEhiRou3qqtIsf1n3VoTmvy+zrVr5SWllJZWUlfX5/fZ6u4WWVgAG880Nd/Viue2LZNSUkJxcXFxONxLMuit7c3Z+zUPUjKs6IKxyqxV1ZW5lfr10NrprM4U3Fiaqy8mlgxFe6iwoSmmog20T50lFGip6eHXbt28dJLL/HRRx9hGAZr1qzhm9/8Jk888QS1tbXEYjE/Xm2q43Q+1112qoalxJPKRlm1ahXr16/n448/9qsPnzx5kvnz54+pAtzZ2cknn3yCaZp+YTzdwgSjN+t63hz1EKhF1hOJRE4DUKJGqeJTp07x5ptv0tbWRllZGU8++aRfALekpISlS5fy5JNPcscdd+SUn1DHr1yi/f39vPnmm9TX1+M4Dl/5yld46KGH/LiDu+++e8riYmRkhOPHj7Nv3z4/NmGia6ffOyEE5eXlPP744/4s52ZYnnouX2bXzp288MIL1NXVsXDhQh5++GGefPJJ7rrrLmbNmuUt1JwVj3ob+TwKEY/HuEJXCBzCCFyk6xAWNmHpUmqGKIuEmTPHpKbc5JbZEVb1udR3jHCq4zIDNvRYJklRCqLEW+OQbBC26dlEpMia+4XAcMGUEHYFoWwcj5RCO74CBy2zeZlyWhswAq4SiYvMrkuJ9FyZhvcHIQHlUlAGlEhPTNlSej5tYeAYxZCNSgy7NhHhUISDMdTHwrjBmnkxaufFWD2niJoyg9khySxcTMdBuA4h08Q0BK5lZQMYTbxqZjdyEaZrQ/caKMNBNBply5Yt1NTU5AghvT6XiiXbs2cP77//PplMhnXr1vHII48we/ZsDMOrFq+8LGrCr8YGPV6so6ODX/3qV7S1tTFr1iyeeeYZVq9eTSQSIR6PU1pa6scl38zJ52RJJpPs27ePo0eP+gaNyYTHqPuwatUqNm3axPz58z/XcUiN+QMDA+zbt49f/vKXfPzxxxQVFfHggw/yxBNPsGnTJubNm+dnsupFha+Hd+m6Vv7XgwD1KvaGYbB48WKWL19OeXk5AwMDHD9+nPr6ejZv3pxTNsEwDJqbmzl06BALFixg06ZNAH7dlPx9XU+U6XrVqlWsXLnSFygqJksvIyGlZN++fRw4cICOjg5KSkr45je/yYMPPkhZWZlvMZs7d25OYGP+w+66LpcvX+bM/2/v3H7jKLI//qnqnpuviZ04sRN2YmLnFzxJNmwuZAGBUIDsPizLRUIKSCB45Yk3/gT+Ah7zByDBA1oJaREsQgK0IuKShUBCnEDI+sYSm/g+M931e+g+PTWd8TWx4yT1kSI8uKen3V1Tdeqc7znn/Hm+//57PM9j3759PPPMM8kEkMvlVmWJS2LBmTNnOHXqFOPj43XG7XLuR7FY5I9//CP33HPP+u/GYm/f2bNn+cc//sG5c+doam7i+eef5+TJk+zZsyfJ9vQ8j9DK4CmXy7fEW5b2IkO03gUQeSO0jps9V/GqAX5YJa+ztOR82jYrdrR7DHQ18cN2xdkrk/wwOsvw9Dyz5QrzOkcZRagyVJQPXpT5GYQKk/HA8+IyGlHoKf2UGz110aKphQ5w3KZojKq1ERcxP4CvIWfAKweo8iyZIKSSyVNVBvAwKhpX2XCWHLO0UWaTqvB/va2Uegrs357l3lafriy0UyFnqugwjMdeiA4DlPZr84XyorFv7DXj9jDR7HUpk8nw8MMPJxmU4iWRDb3MrVNTU0xOTvL5559TLpfp7+/n6aefZmBgAKhtGOX8MmeJx028YP/5z394//33GR4eplAo8Nhjj/HEE08kSXB2RYCN7CkT5ubm+OSTT3j77beZnJxMPIJLXbuskydOnGDPnj1s27YNuD5B4WYShiFDQ0O89957iUb8L3/5Cy+99BJHjhxJ2kLamatyTXCLQ5k26QsTt56d9XHw4EH27dvH559/ztjYGGfPnmVqaiqplKu15tq1a3z99dfMzs4mvbxsL9VS4jq5WUKlUkk0XlK12C6uKiJx2aWIy9Q+vxhidmFZ29KXB5PNZikUCknLKPky2/Vh7PNKE3e70aycL5/PJ8JO2yBdLmLsZjIZuru7eeCBBxgaGkq+9AvtsuzBJlmZ+Xx+1eJ/8VilU7zTGa22V1KrOPRhDHPz83zwwQd8++23ZDIZnn32WZ566in27NkTXZdVG0h5Nfe/kG7ttNY0/Cxj0FoRIjIbH2U8qFaBEB2G5CpVurSmKavZlvXoa21mb0eWH68azv53ivMjU4xMTTLv5ynrZiZNyGzZg2pAJTQYnSdQfhTaVGEUyozF/6jFDS8jGrPbY610LJNQBXEmrofSoAiiLEvtx3XKymhvnkxGo/UsKgyBDDrwaCagjRk6vVn6OvMc+EM7++/Js71ZsT0HHTqkiQp+UIl7YBqU8sD3I8NOGqAnVcvE+rcq/69TQLPRfCd6ILt8giBRHluaIu+VTETbK5/WR8lak8vlkl6LMsfb55LSFja2py6fz9cV4fa8qOew9KKUNeZmGQNrje/77N69m7179yZrnVQdWAjbIym9KtOlLVaCrEdy/8RLmZZhzczM8NFHH3H69GlmZmZ48sknOXnyJIcOHaK1tRWoj9rZyQw3I0nuppTLaIR9wWIg7N69m8OHD/Pvf/+bMAz57rvv+OSTT/jb3/4GRDft0qVLfPTRR3R1dfHoo48mu4NGab2LfX65XE52NWEYcvXq1aQpbLlcZmJigmq1mojEG4Ua059lu6vFgJN0aPlySvFZu9lp+nrliy99xeQ4+cLZ55SBs5hAcjEKhQJHjx5l+/btiSbB1o81QgapGKF9fX2rHmhiSNvVnaX2jowPEemL2DII41Cq1oyPj0eCy5Fh2lrbaGpq4uLFi4yNjdUVGo5OXGu83tvbS19fH4VCoS49/FagMfgmrpqOeLM0xstCaFAmQBHVnWoNQ3I6oNXXbN2ao6/DY2BLlvPbW/hxbIYLo9e4PPU7WjehdRNVncELKlQqkd4sKuBZRUkT6pjFgkhm487ljlVj4p6qUu5CxQr8kEBBFVC+RmkIKnOEgSLnaQpmnpawQnchy94tBQa2buK+bRl2d0K7b8grQ4EqOQyeMRCXc0FLlwCFUV7cxEmupPaTTnYIJh6ja48soNIqSWqMBUHA1atXk24hSkVNuMvlcl3TbLs2pQjPG609s7OziUGXlt3InGdf01I/Q72xJWUl5BrSToqNbJRBLStz3759iTZPdNTp/qI2krDW2dmZVCpY7Xwu40CMJ7u+pqxFvu8zPj7OV199xeXLl/F9n7a2NkZGRvjnP/9Z93xFriXrc09PD319fXWFaVfDmvQ1ti1JMQJ836erq4sDBw6wc+dOfvnlF86fP8+XX37JX//618SA+umnn5K+YQMDA4nxslKy2SzT09OMjY3xxRdf8OmnnyYi/t9++43Tp09z4MAB9u7dmxhCtuUsf4eQFv7bhelE6CleM3nACw0e6XQAtYK0ok2QB25b8jcyEGWwSANW++9ohHy2GKJLadKWwjbyoOaWFs+lXeBQvoCe1gRBSBgEjI2OMjY2hgkN0zPTfPjhh3zxxRcEYVxZm5oxFphaAdunnnqKkydP0tvbe+v1FyZqgxN5DTRGeYQqLomhFTr0Y++WQpmArFH4ypAP5ynoHJs7PO5pzXNfd54fR7Kc+e8EZ4YnGC7PMKsKeKpCwYTooAImG3vlYo+Zrfq2i7AlKQHKaq6jrN+ljyP1+0b/7/pz39rz3A7XuJzzrO7cClDGEBqI2itF3towNt2rVY0KNAXloVWGTFClJztPqSvD/j+0UurKU2xVdGQMBVOlAHgmSgU2xqOKh/Zibw0mKrmCqNNq2LOGSb1eDyTzvVAoJPPO3NwcP//8M59++ikXLlwAos3jlStXOH36NJ2dnbS1tbFp06Y63e1ic4ls8u2q+uLBtzf/MrfKtS02F8vcb0dT1jUR6yaSyWQoFosUi8XrCqgvJwJml3harddMNupi5IqTJF2K69dff2VkZIRKpUIQBHz55ZdcuXKlzsNq2zjyrI4ePcoLL7zA5s2bb8gZsCaGGdSHxOSPzWazDAwMcPToUYaHh/n99985d+4cly5dore3l9HRUc6cOYPv+xw7doyOjo5VD8JKpcK7777LZ599xo8//pgI6yHypn3wwQeMj48zMDDAkSNHePDBB5PUZ6j3mIlxaQ8Su8QH1HYzYlDB4unLdkjPmKj6vwyOm5ndYesZ5LrtwbTY+2QXYT/LldIoBi/hY9lBpl3JctzM7CwXL15MdrDVoMoPP/wQHYfB92Lj2IR42otCcnGhx1KpxMTExPrVXlsUEfiEyAJqpM8l1Ho5Gx0vpwafEBPO4ekKSnlks7A5CzuaW9i9Pc/ukRa+GZrmp/9NMzVxjfYgpCloR5sCAX5UYT3xTiwuutZxAoDTmN1pmMgji4ch9mxF9joeUMDQUi2zaR5a2pro3dbGvq2GfV0+uzdn2JJVNAF5It2YDkKMVhjlx+dTJH53+X7L4i0AsAAACl9JREFUS+tfjXizwNppgxohc4oswkNDQ5w6dYrBwUG+//57hoaGkuMuXbrEqVOn+Oabb+jv7+fJJ59MQmj2uRb7LDs7U4wJmdPtjepy5niZu9JeuNsVu2qBRG/sigdpbIkL1PfBXM0YkpJY9jprrzkSOh0eHmZiYiK5tsHBQQYHBxND2Q7BilNBKUVLSwu//fZb4iBYLWtmmNnGiR2GLBaL3H///Xz44YfMzc1x9uxZPvvsM4rFIoODg3z88cfs2rWLRx55hObm5hv6/Hw+T7FYZOfOnTz44IOJUFPCmVIWo6mpKUnDTXvG4HrjQhb/YrHIK6+8wvHjx+ns7KRUKiXnWcwYkF1bNptNSmqcOHGCnp6eJCuzo6OjzuMo93IliCfKztxpJFS0SXs604UWV4r9Htkxep5HT08Pr776KsePH0+ekQzkcrmm8SgWi7z22mtJGDqpfWPCuGVT1L/Mz/h1doV4ZleSlr12KKLCTVGrm0hrFhlpykgzpPj+KrHSNFrnMEAOUAHkFLRkoH2Tz7bWTfRub+H86DwXB6tUp66yyVwja9qBXBLAcsKxuxjjgTIYoxMNoYyGPCFtao5ivsI9rW3s/kML9+3I0dsOnRlowpANAgpa4ytAe4RGYZQGYpkGYOI9n4q7BXjEQ9hA3DoAQpUYhZHmLDLo1lNckMlkmJ2dxfd9mpqaaGpqolQqUSqVkoiFHQXxfT8pE2S3IVpKvmOMobm5mUcffTRZZw4ePEhHR0edcbXUfKSUYtu2bbz44oscP36cQqFAqVSiUCjclt4yIa3TtvVZC5Fee5fznoVoa2vj+eef56GHHqK9vZ3+/v5EMiTrutZRUfWXX36ZEydO1JVDkWNsg87WMN5777309/evShde9zcfO3bMyB8vgsN//etfS4a8lkIWYfs8Evb7+OOPefPNNzl9+jRaa1544QVef/113n//fd566y3+/ve/88YbbySDeSXXITdMvmwSy7bF/ekvhhgLtuGT9irZnhfb22VryuwKzIsVNbXDhXI99i7L7h9mD8CVPIu0q9UumLdY1WT7eTUaAysdD/b9tt3PMhbk75Sdigx6T3sQ3xfxRFarVfxMBi3XZj0jFRs09o60kaZjqYl1LTAYQqMIY6MsWrUCPMKoGnsgvgUdhTrRSLqk0UQLogFPGVBlZsIyE6HHlF9gPISxiXmu/TrG9pziwPYtbMll0KpeY+YMtLuNyDQPgQpeVAkDgxe3ZBqvwrnRCUanArq2bGFXW55WFVXoVyrytOW1h68UYWgoV0P8TNxOicjDqgGqAaAJvXiexiT/kvFndKSthFqmqF4/w8wuNC3eevHcyFyU9uLL72ShbrRhT2NMrYWeRBwkxAUsGP1ZaB6WUJsdKrP1ubcD6TnVzsIU+c9ihpadtCHr5EqdBfY1GGMSCY30p5bwsI20V7Q7MSwH8botFvaWNVHG1dDQEM8991zyflhDj5n8IWkxfS6Xo1Qqcf/99/P1118zMzPD+fPnk7TUzs5OHn/88aTSv11NdyXIw8vlckkCgcS0bbdoOrtyocU5/T7xvEkCgG14LGUtp41CW9hvJyzYHrvV7hDS75UvwUIDWu5BOtS6Wo+ZXIN8rn1uaQoPtYK8SkXhjkg/FhWa1XGoVzIwMSbqnUlNm6YUsfal/ou8MSawyCgzqj6kqIwSJ0KEkaPjl3LtsSdCx4tdk6fJeD55oNlT7OzIw6YdFDC0YtAmjO6HPZYXuw/KRTHvVETTFf0LUUTVzQo6YF9PJ3vJkFWKnAkohPPg+QT4oD20gTCMtI/ZrG+dL/J5KRMmMXAdf5BKjqofUSp1LeuJLfbP5/NJtMIW8tt9mKG2mIuXJJ2Z3whZb2ROs5O77NIWy9nopo3CtNPgdsX+O+Te20XP09jOC7knwKLvWQzZ/IdheF2Grfwsz9HWt6dLmaRDlbadczOkM2tmmAnpQRyGITt27ODAgQNs3bqVn3/+mQsXLvDOO+9w7do1SqUShw4dSrw7qwnf2Zq2RtdinzN9/vTDtl/bxzaKH6/kWhe6BjtuvdA1LYf04LBFlkvpy+z33mg2o+wg7NeNrqvudwp0sgOHrJcydJVCW/ttz194otwIKGLvQN0915YBJgcqlLKfe/Rfz6tp0CCDIoMPtBtowRA5DxXKGLyoLkK0CK5ggtgYd8pxs4m6XSrrVfRzPqxG3lll0ICHh/Ly8VE6GaqeDKG6AaJQeNEAtTcTingwa4llAmBC683KJGdYT+zNvczdi81tiedigUzKxWh03hvNar9dse/ZQhvl5dQxW+l7FroGsQkWWl8XesZ2RE0ySVd7PcthzQ2zNGIU7N27l8OHD3P58mVGR0e5evUqPT09HDlyhM2bN9ftMhyO253rpxbr/9S50eqPUte98BJDT2OiL7CsikoExarRux13IfUeqmSLgK+sRcjIJsBLjmrk8boeff0vEgvtemPM4XAsj3VPV5PJoK+vL6mELDqinTt3cujQoVWL3R2OuwlbZ3EjCRqOu4+0TseNG4dj47DuhpnEizs7O9m/fz+7du1KMhP379+fNCwXvZFdpd9x81hoUXcT9MZHvkN28WE76cXhWIr0992NH8das9ia49ajetbVMEuL2ffv38/DDz8MQHd3N3/6059ob29PxHVAUg3f4XAsjF0/z+FYCmeIORwbl1tSeVP0Y93d3Rw+fJjW1lb6+/s5ePBgXakIydhwk4fDUcMu/eE2LY7VkPayujnW4dg4rLv43y7VkMlkGBgY4MUXX6RUKtHd3V1Xbww2TmadY2nSaceCe4YLk75Pyx33tvfZGWiOlXLru2E4HI6FWFfDzO4xJSmnf/7zn9mzZw9KKdrb2++IthMOx3rhDDLHaliu4b8en+VwOOq5JR4zm2w2mzTYloKmdmV6u9Cqw+FwOBwOx53MLcnKTLNYZpBzuTscDofD4bhbWFePmV11Pq1HkvCmrUGzeys6HA6Hw+Fw3Omsu8bMbkIq2L0qbe+Zw+FwOBwOx91EYpiJIdQonHgzPVZSzV8SAaDWj2whw83hcDgcDofjTsG2s9LZ+L59gHROl8zJtTSO7ObWS2nKnPdsY7PU83HPb3k0KjfiNigOh8NxZyC2VjoymLa3Eo+ZtD9qbm5OXrsF1eG4tbjvoMPhcNx5pAs8+76fzPc+WO4z309+DoIgOdAtDg6Hw+FwOBw3hud5SVRSSNdvTUKZ5XIZz/MoFApMTU3h+z5BEKz/VTscDofD4XDcYRhjmJ+fJ5vNJrKtyclJMpkMlUqllgh57NgxI260MAyZnp5my5YtTE5OAjWxvsOxEM6junY4jZnD4XDcOWSzWYIgYG5uDq017e3tjIyM0NbWVkuIlIOr1SpBEFAoFJienk4MNXCLg8Nxq3DfPYfD4bgzMMYwMzOTVJ7QWjMxMUFraytBENRnZYrQX8pWBEGQZAk4b4hjKdwYcTgcDodjacTpJXVb7cL7dYYZ1O/MXfjSsRKcV8fhcDgcjuVhlwWTZAD7/7lGlA6Hw+FwOBwbBGeYORwOh8PhcGwQ/h+v/wYCJZsMyAAAAABJRU5ErkJggg==)"
      ],
      "metadata": {
        "id": "zsvibPYFN-Bh"
      }
    },
    {
      "cell_type": "markdown",
      "source": [
        "## Operadores de Comparação (booleanos)"
      ],
      "metadata": {
        "id": "lqeq0uMNtSJ-"
      }
    },
    {
      "cell_type": "markdown",
      "source": [
        "![image.png](data:image/png;base64,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)"
      ],
      "metadata": {
        "id": "lRGmh4uuOWgO"
      }
    },
    {
      "cell_type": "markdown",
      "source": [
        "** (==) verifica se dois valores são iguais (retorna True ou False)"
      ],
      "metadata": {
        "id": "k2GBiQG9PlyH"
      }
    },
    {
      "cell_type": "code",
      "source": [
        "# Exemplo compare se 3 é igual a 3.0\n",
        "a = 3                       # atribuição do valor 3 (tipo int) para a variável a\n",
        "b = 3.0                     # atribuição do valor 3.0 (tipo float) para a variável b\n",
        "teste1 = a == b             # Fazendo o teste de igualdade de a com b e guradando na variável teste 1\n",
        "print(teste1)               # imprimindo o valor da variável teste1"
      ],
      "metadata": {
        "colab": {
          "base_uri": "https://localhost:8080/"
        },
        "id": "Q6br_evtPAvd",
        "outputId": "c496ec5d-1cf9-49e5-80ee-6e09ea8467c3"
      },
      "execution_count": null,
      "outputs": [
        {
          "output_type": "stream",
          "name": "stdout",
          "text": [
            "True\n"
          ]
        }
      ]
    },
    {
      "cell_type": "code",
      "source": [
        "teste2 = 'rosana' == 'Rosana' # comparando duas strings com uma pequena diferença entre elas\n",
        "print(teste2) # imprimindo o valor da variável teste2"
      ],
      "metadata": {
        "colab": {
          "base_uri": "https://localhost:8080/"
        },
        "id": "USqOIw_rPUkN",
        "outputId": "596f3928-c9f6-40ff-cd15-153240e02771"
      },
      "execution_count": null,
      "outputs": [
        {
          "output_type": "stream",
          "name": "stdout",
          "text": [
            "False\n"
          ]
        }
      ]
    },
    {
      "cell_type": "markdown",
      "source": [
        "** (!=) verifica se dois valores são diferentes (retorna True ou False)"
      ],
      "metadata": {
        "id": "bD8V7BdmPz3v"
      }
    },
    {
      "cell_type": "code",
      "source": [
        "# Exemplo:  compare se 3 (variável a) é diferente a 3.0 (variável b)\n",
        "teste3 = a != b\n",
        "print(teste3)"
      ],
      "metadata": {
        "colab": {
          "base_uri": "https://localhost:8080/"
        },
        "id": "9ygvNwyBPfq4",
        "outputId": "2fc5b1f3-31bb-456c-c9a4-e258438e7b1b"
      },
      "execution_count": null,
      "outputs": [
        {
          "output_type": "stream",
          "name": "stdout",
          "text": [
            "False\n"
          ]
        }
      ]
    },
    {
      "cell_type": "markdown",
      "source": [
        "** (>) verifica se um valor é maior que o outro (retorna True ou False)"
      ],
      "metadata": {
        "id": "VFAeW0yxP-BK"
      }
    },
    {
      "cell_type": "code",
      "source": [
        "# Exemplo: compare se 3 é maior que 2\n",
        "teste4 = 3 > 2\n",
        "print(teste4)"
      ],
      "metadata": {
        "colab": {
          "base_uri": "https://localhost:8080/"
        },
        "id": "HHtIxFaRQBlh",
        "outputId": "95bc9c1a-c45f-46e1-954a-75dd9db53ac3"
      },
      "execution_count": null,
      "outputs": [
        {
          "output_type": "stream",
          "name": "stdout",
          "text": [
            "True\n"
          ]
        }
      ]
    },
    {
      "cell_type": "markdown",
      "source": [
        "**(>=) verifica se um valor é maior ou igual ao outro(Retorna True ou False)"
      ],
      "metadata": {
        "id": "VnIP_UsZQEuq"
      }
    },
    {
      "cell_type": "code",
      "source": [
        "#Exemplo: compare se 3 é maior ou igual a 3\n",
        "teste5 = 3 >= 3\n",
        "print(teste5)"
      ],
      "metadata": {
        "colab": {
          "base_uri": "https://localhost:8080/"
        },
        "id": "it2mEqt1QJNR",
        "outputId": "f4fc0d5f-a2fe-49c5-8993-4d6daa5f7986"
      },
      "execution_count": null,
      "outputs": [
        {
          "output_type": "stream",
          "name": "stdout",
          "text": [
            "True\n"
          ]
        }
      ]
    },
    {
      "cell_type": "markdown",
      "source": [
        "**(<) verifica se um número é menor que outro (retorna True ou false)"
      ],
      "metadata": {
        "id": "5vtPxKz4QMUY"
      }
    },
    {
      "cell_type": "code",
      "source": [
        "# Exemplo: compare se 2 é menor que 2\n",
        "teste6 = 2 < 2\n",
        "print(teste6)"
      ],
      "metadata": {
        "colab": {
          "base_uri": "https://localhost:8080/"
        },
        "id": "qrbQAKb_QR5O",
        "outputId": "7a1df839-0cb4-4690-b3f6-d029fc6ec316"
      },
      "execution_count": null,
      "outputs": [
        {
          "output_type": "stream",
          "name": "stdout",
          "text": [
            "False\n"
          ]
        }
      ]
    },
    {
      "cell_type": "markdown",
      "source": [
        "**(<=) verifica se um valor é menor ou igual ao outro (retorna True ou False)"
      ],
      "metadata": {
        "id": "IRYn61xYQVGW"
      }
    },
    {
      "cell_type": "code",
      "source": [
        "# Exemplo: compare se 2 é menor ou igual a 2\n",
        "teste7 = 2 <= 2\n",
        "print(teste7)"
      ],
      "metadata": {
        "colab": {
          "base_uri": "https://localhost:8080/"
        },
        "id": "g3xrazEJQZVu",
        "outputId": "a74a6638-5e46-4583-892d-aa40646ba365"
      },
      "execution_count": null,
      "outputs": [
        {
          "output_type": "stream",
          "name": "stdout",
          "text": [
            "True\n"
          ]
        }
      ]
    },
    {
      "cell_type": "markdown",
      "source": [
        "## Operadores de Atribuição"
      ],
      "metadata": {
        "id": "Uhk4jjLX76H5"
      }
    },
    {
      "cell_type": "markdown",
      "source": [
        "![image.png](data:image/png;base64,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)"
      ],
      "metadata": {
        "id": "TG6iB_8FQw2q"
      }
    },
    {
      "cell_type": "markdown",
      "source": [
        "** Atribuição direta (=) atribui um valor a variável"
      ],
      "metadata": {
        "id": "9WCdL89dQ_1N"
      }
    },
    {
      "cell_type": "code",
      "source": [
        "nome = 'Rosana'\n",
        "peso_kg = 70\n",
        "altura_m = 1.65\n",
        "\n",
        "print('O meu nome é: ', nome)\n",
        "print(\"O meu peso é: \", peso_kg)\n",
        "print('A minha altura é: ', altura_m)"
      ],
      "metadata": {
        "colab": {
          "base_uri": "https://localhost:8080/"
        },
        "id": "hyycjhBJRTA1",
        "outputId": "0f63dbac-5184-4d57-c989-861574990403"
      },
      "execution_count": null,
      "outputs": [
        {
          "output_type": "stream",
          "name": "stdout",
          "text": [
            "O meu nome é:  Rosana\n",
            "O meu peso é:  70\n",
            "A minha altura é:  1.65\n"
          ]
        }
      ]
    },
    {
      "cell_type": "markdown",
      "source": [
        "** Atribuição de soma (+=), equivale a x = x + y (equivale a uma variável x que já existe recebendo ela mesma + outro valor)"
      ],
      "metadata": {
        "id": "Db_aKafYSCbi"
      }
    },
    {
      "cell_type": "code",
      "source": [
        "# Exemplo: crie uma variável t que receba o número inteiro 3, e depois some 1 para essa variável\n",
        "t = 3\n",
        "t += 1\n",
        "\n",
        "print(f'O resultado de t + 1 é: {t}')"
      ],
      "metadata": {
        "colab": {
          "base_uri": "https://localhost:8080/"
        },
        "id": "3fgIMsySSJ4j",
        "outputId": "16b2ecd3-0e80-47a6-8cae-87cc2bceddb2"
      },
      "execution_count": null,
      "outputs": [
        {
          "output_type": "stream",
          "name": "stdout",
          "text": [
            "O resultado de t + 1 é: 4\n"
          ]
        }
      ]
    },
    {
      "cell_type": "markdown",
      "source": [
        "** Atribuição de subtração (-=) equivale a x = x - y (equivale a uma variável x que já existe recebendo ela mesma - outro valor)"
      ],
      "metadata": {
        "id": "AJVcc2PlSUQX"
      }
    },
    {
      "cell_type": "code",
      "source": [
        "# Exemplo: crie uma variável z que receba o número inteiro 5, e depois diminua 2 para essa variável\n",
        "z = 5\n",
        "z -= 2\n",
        "\n",
        "print(f'O resultado de z - 2 é: {z}')"
      ],
      "metadata": {
        "colab": {
          "base_uri": "https://localhost:8080/"
        },
        "id": "ywZdU3rfSYo8",
        "outputId": "0289bc0e-f6a5-439a-c78d-5cdf82cc76bc"
      },
      "execution_count": null,
      "outputs": [
        {
          "output_type": "stream",
          "name": "stdout",
          "text": [
            "O resultado de z - 2 é: 3\n"
          ]
        }
      ]
    },
    {
      "cell_type": "markdown",
      "source": [
        "** Atribuição de multiplicação (*=) equivale a x = x * y"
      ],
      "metadata": {
        "id": "M9T9Cv_ZShiJ"
      }
    },
    {
      "cell_type": "code",
      "source": [
        "# Exemplo: crie uma variável j que receba o número 5, e depois multplique por 2\n",
        "j = 5\n",
        "j *= 2\n",
        "\n",
        "print(f'O resultado de j * 2 é: {j}')"
      ],
      "metadata": {
        "colab": {
          "base_uri": "https://localhost:8080/"
        },
        "id": "NZ33cMnYSngf",
        "outputId": "ec6cdc26-184f-4f61-defd-ce8228a43ace"
      },
      "execution_count": null,
      "outputs": [
        {
          "output_type": "stream",
          "name": "stdout",
          "text": [
            "O resultado de j * 2 é: 10\n"
          ]
        }
      ]
    },
    {
      "cell_type": "markdown",
      "source": [
        "** Atribuição de divisão (/=) equivale a x = x / y"
      ],
      "metadata": {
        "id": "PKD51OHPS3qS"
      }
    },
    {
      "cell_type": "code",
      "source": [
        "# exemplo: crie uma variável w que recebe o número 7, e depois divida por 2\n",
        "w = 7\n",
        "w /= 2\n",
        "\n",
        "print(f'O resultado de w / 2 é: {w}')"
      ],
      "metadata": {
        "colab": {
          "base_uri": "https://localhost:8080/"
        },
        "id": "pED6-Sm2S8Xj",
        "outputId": "6cb958eb-f2c6-435f-f718-b111089eb6fa"
      },
      "execution_count": null,
      "outputs": [
        {
          "output_type": "stream",
          "name": "stdout",
          "text": [
            "O resultado de w / 2 é: 3.5\n"
          ]
        }
      ]
    },
    {
      "cell_type": "markdown",
      "source": [
        "** Atribuição da parte inteira da divisão (//=) equivale a x = x // y"
      ],
      "metadata": {
        "id": "-qPjRR1PTA44"
      }
    },
    {
      "cell_type": "code",
      "source": [
        "# Exemplo: crie uma variável k que recebe o número 7, e depois receba a parte inteira da divisão por 2\n",
        "k = 7\n",
        "k //= 2\n",
        "\n",
        "print(f'O resultado de k // 2 é: {k}')"
      ],
      "metadata": {
        "colab": {
          "base_uri": "https://localhost:8080/"
        },
        "id": "76XUgzDqTF3p",
        "outputId": "7d988f66-49a2-4040-b52f-402a2a6acb37"
      },
      "execution_count": null,
      "outputs": [
        {
          "output_type": "stream",
          "name": "stdout",
          "text": [
            "O resultado de k // 2 é: 3\n"
          ]
        }
      ]
    },
    {
      "cell_type": "markdown",
      "source": [
        "** Atribuição do resto da divisão (%=) equivale a x = x % y"
      ],
      "metadata": {
        "id": "5nSOGwRITQWX"
      }
    },
    {
      "cell_type": "code",
      "source": [
        "# exemplo: crie uma variável b que receba o número 7, e depois receba o resto da divisão dela por 2\n",
        "b = 7\n",
        "b %= 2\n",
        "\n",
        "print(f'O resto  da divisão de b por 2 é: {b}')"
      ],
      "metadata": {
        "colab": {
          "base_uri": "https://localhost:8080/"
        },
        "id": "7rbukvbqTSi-",
        "outputId": "89ee5428-4d99-4830-b49a-67cd505b38fb"
      },
      "execution_count": null,
      "outputs": [
        {
          "output_type": "stream",
          "name": "stdout",
          "text": [
            "O resto  da divisão de b por 2 é: 1\n"
          ]
        }
      ]
    },
    {
      "cell_type": "markdown",
      "source": [
        "** Atribuição de potenciação (**=) equivale a x = x ** y"
      ],
      "metadata": {
        "id": "U4YmMmVITW1r"
      }
    },
    {
      "cell_type": "code",
      "source": [
        "# Exemplo crie uma variável compras que receba o valor 6 e depois receba o quadrado dela\n",
        "compras = 6\n",
        "compras **= 2\n",
        "\n",
        "print(f'O cliente fará {compras} compras.')"
      ],
      "metadata": {
        "colab": {
          "base_uri": "https://localhost:8080/"
        },
        "id": "cSdh2ADVTcBi",
        "outputId": "e2c18c79-fea8-451d-a66a-23e686876833"
      },
      "execution_count": null,
      "outputs": [
        {
          "output_type": "stream",
          "name": "stdout",
          "text": [
            "O cliente fará 36 compras.\n"
          ]
        }
      ]
    },
    {
      "cell_type": "markdown",
      "source": [
        "## Operadores Lógicos"
      ],
      "metadata": {
        "id": "0EXc2hjqdltP"
      }
    },
    {
      "cell_type": "markdown",
      "source": [
        "** (and) Retorna verdadeiro somente se todas as condições de uma comparação forem satisfeitas"
      ],
      "metadata": {
        "id": "pOFwFgrbVMD3"
      }
    },
    {
      "cell_type": "code",
      "source": [
        "# Exemplo:\n",
        "teste8 = 3 >= 2 and 3 != 2 and 3 < 4\n",
        "\n",
        "print(f'3 >= 2 and 3 != 2 and 3 < 4 é: {teste8}')"
      ],
      "metadata": {
        "colab": {
          "base_uri": "https://localhost:8080/"
        },
        "id": "aESSuRRRVSpQ",
        "outputId": "2604d584-6d0a-4379-a8fb-dc36dcc415b0"
      },
      "execution_count": null,
      "outputs": [
        {
          "output_type": "stream",
          "name": "stdout",
          "text": [
            "3 >= 2 and 3 != 2 and 3 < 4 é: True\n"
          ]
        }
      ]
    },
    {
      "cell_type": "markdown",
      "source": [
        "** (&) Retorna verdadeiro somente se todas as condições de uma comparação forem satisfeitas"
      ],
      "metadata": {
        "id": "zthB7TvbVWBc"
      }
    },
    {
      "cell_type": "code",
      "source": [
        "# Exemplo:\n",
        "teste9 = (3 <= 2) & (3 != 2) & (3 < 4) #bitwise\n",
        "#          F           V         V\n",
        "\n",
        "print(f'(3 <= 2) & (3 != 2) & (3 < 4) é: {teste9}')"
      ],
      "metadata": {
        "colab": {
          "base_uri": "https://localhost:8080/"
        },
        "id": "cLs0rMhvVZuT",
        "outputId": "a7fdd01a-f0a7-4a24-f59f-372736534988"
      },
      "execution_count": null,
      "outputs": [
        {
          "output_type": "stream",
          "name": "stdout",
          "text": [
            "(3 <= 2) & (3 != 2) & (3 < 4) é: False\n"
          ]
        }
      ]
    },
    {
      "cell_type": "markdown",
      "source": [
        "** (or) Retorna verdadeiro se pelo menos um dos elementos for verdadeiro"
      ],
      "metadata": {
        "id": "1Fo8c_avVfr4"
      }
    },
    {
      "cell_type": "code",
      "source": [
        "teste10 = 3 >= 2 or 3 == 2 or 3 > 4\n",
        "teste15 = (3 >= 2) | (3 == 2) | (3 > 4)\n",
        "\n",
        "print(f'3 >= 2 or 3 == 2 or 3 > 4 é: {teste10}')\n",
        "print(f'(3 >= 2) | (3 == 2) | (3 > 4) é: {teste10}')"
      ],
      "metadata": {
        "colab": {
          "base_uri": "https://localhost:8080/"
        },
        "id": "N36JlcZnVj4P",
        "outputId": "fafd1641-feb0-4fc8-985a-a5a340d9ecd4"
      },
      "execution_count": null,
      "outputs": [
        {
          "output_type": "stream",
          "name": "stdout",
          "text": [
            "3 >= 2 or 3 == 2 or 3 > 4 é: True\n",
            "(3 >= 2) | (3 == 2) | (3 > 4) é: True\n"
          ]
        }
      ]
    },
    {
      "cell_type": "markdown",
      "source": [
        "** (not) Inverte verdadeiro com Falso"
      ],
      "metadata": {
        "id": "U8G79kkMWrRP"
      }
    },
    {
      "cell_type": "code",
      "source": [
        "# Exemplo:\n",
        "teste11 = not(teste10)\n",
        "\n",
        "print(f'not(3 >= 2 or 3 == 2 or 3 > 4) é: {teste11}')"
      ],
      "metadata": {
        "colab": {
          "base_uri": "https://localhost:8080/"
        },
        "id": "jcSvScwYWxQe",
        "outputId": "b7e11990-09b8-4cdb-e5a2-6e60b6c3f810"
      },
      "execution_count": null,
      "outputs": [
        {
          "output_type": "stream",
          "name": "stdout",
          "text": [
            "not(3 >= 2 or 3 == 2 or 3 > 4) é: False\n"
          ]
        }
      ]
    },
    {
      "cell_type": "code",
      "source": [
        "teste12 = ((not(3 <= 2))) & (not(3 == 2)) & (3 < 4) # invertendo o resultado da primeira sentença e da segunda sentença\n",
        "#               V                 V            V\n",
        "\n",
        "print(f'((not(3 <= 2))) & (not(3 == 2)) & (3 < 4) é: {teste12}')"
      ],
      "metadata": {
        "colab": {
          "base_uri": "https://localhost:8080/"
        },
        "id": "gAoc3w_UW5wU",
        "outputId": "60bcbff2-50fa-4bb6-f775-4c2acf004f72"
      },
      "execution_count": null,
      "outputs": [
        {
          "output_type": "stream",
          "name": "stdout",
          "text": [
            "((not(3 <= 2))) & (not(3 == 2)) & (3 < 4) é: True\n"
          ]
        }
      ]
    },
    {
      "cell_type": "code",
      "source": [
        "teste13 = not((3 >= 2) & (3 != 2) & (3 < 4)) # invertendo o resultado da comparação de todas as sentenças\n",
        "#                 V         V           V\n",
        "\n",
        "print(f'not((3 >= 2) & (3 != 2) & (3 < 4)) é: {teste13}')"
      ],
      "metadata": {
        "colab": {
          "base_uri": "https://localhost:8080/"
        },
        "id": "8esAsdJKXBTf",
        "outputId": "1b525806-5ece-4e2b-8c45-6ae15700800a"
      },
      "execution_count": null,
      "outputs": [
        {
          "output_type": "stream",
          "name": "stdout",
          "text": [
            "not((3 >= 2) & (3 != 2) & (3 < 4)) é: False\n"
          ]
        }
      ]
    },
    {
      "cell_type": "markdown",
      "source": [
        " ## Operadores de Identidade (is, is not)"
      ],
      "metadata": {
        "id": "EK_-MdjyW1Ds"
      }
    },
    {
      "cell_type": "markdown",
      "source": [
        "* (is) compara se um objeto é igual ao outro em relação ao valor e o tipo"
      ],
      "metadata": {
        "id": "7xg-wWjxWzfV"
      }
    },
    {
      "cell_type": "code",
      "source": [
        " h = 3\n",
        " p = 3\n",
        "teste16 = p == h\n",
        "\n",
        "print(f' p == h é: {teste16}')"
      ],
      "metadata": {
        "colab": {
          "base_uri": "https://localhost:8080/"
        },
        "id": "8e2sHIlMW9fY",
        "outputId": "15c72a60-d81a-4344-8e41-e28b6527f765"
      },
      "execution_count": null,
      "outputs": [
        {
          "output_type": "stream",
          "name": "stdout",
          "text": [
            " p == h é: True\n"
          ]
        }
      ]
    },
    {
      "cell_type": "code",
      "source": [
        "teste17 = p is h\n",
        "\n",
        "print(f' p is h é: {teste17}')"
      ],
      "metadata": {
        "colab": {
          "base_uri": "https://localhost:8080/"
        },
        "id": "qGXzO_o4XU_Q",
        "outputId": "2a410398-4ee8-44f6-fb7c-ea4a76fcbaab"
      },
      "execution_count": null,
      "outputs": [
        {
          "output_type": "stream",
          "name": "stdout",
          "text": [
            " p is h é: True\n"
          ]
        }
      ]
    },
    {
      "cell_type": "code",
      "source": [
        "m = 3\n",
        "n = 3.0\n",
        "teste18 = m == n\n",
        "\n",
        "print(f' m == n é: {teste18}')"
      ],
      "metadata": {
        "colab": {
          "base_uri": "https://localhost:8080/"
        },
        "id": "ikIlTAANXlxJ",
        "outputId": "7f2b13f6-36ed-4b8f-de00-277aef75240f"
      },
      "execution_count": null,
      "outputs": [
        {
          "output_type": "stream",
          "name": "stdout",
          "text": [
            " m == n é: True\n"
          ]
        }
      ]
    },
    {
      "cell_type": "code",
      "source": [
        "teste19 = m is n\n",
        "\n",
        "print(f'm is n é: {teste19}')\n",
        "print(type(m))\n",
        "print(type(n))"
      ],
      "metadata": {
        "colab": {
          "base_uri": "https://localhost:8080/"
        },
        "id": "0cssSqQEX1yA",
        "outputId": "8cbb02ed-3482-4204-f9ed-60ea4366f2de"
      },
      "execution_count": null,
      "outputs": [
        {
          "output_type": "stream",
          "name": "stdout",
          "text": [
            "m is n é: False\n",
            "<class 'int'>\n",
            "<class 'float'>\n"
          ]
        }
      ]
    },
    {
      "cell_type": "markdown",
      "source": [
        "* (is not) compara se um objeto é diferente do outro em relação ao valor e o tipo"
      ],
      "metadata": {
        "id": "0fuu3QylYRgZ"
      }
    },
    {
      "cell_type": "code",
      "source": [
        "x = 3\n",
        "y = 4\n",
        "teste20 = x != y\n",
        "\n",
        "print(f' x != y é: {teste20}')"
      ],
      "metadata": {
        "colab": {
          "base_uri": "https://localhost:8080/"
        },
        "id": "-fzgGlWGYfrd",
        "outputId": "6ddc3906-ba75-4989-e5e8-adba668a1aa1"
      },
      "execution_count": null,
      "outputs": [
        {
          "output_type": "stream",
          "name": "stdout",
          "text": [
            " x != y é: True\n"
          ]
        }
      ]
    },
    {
      "cell_type": "code",
      "source": [
        "teste21 = x is not y\n",
        "\n",
        "print(f' x is not y é: {teste20}')"
      ],
      "metadata": {
        "colab": {
          "base_uri": "https://localhost:8080/"
        },
        "id": "IPo-6MxXYtn_",
        "outputId": "b2c10e00-5905-41f3-93db-c6ae07cbe03b"
      },
      "execution_count": null,
      "outputs": [
        {
          "output_type": "stream",
          "name": "stdout",
          "text": [
            " x is not y é: True\n"
          ]
        }
      ]
    },
    {
      "cell_type": "code",
      "source": [
        "p = 3\n",
        "s = 3.0\n",
        "teste22 = p != s\n",
        "\n",
        "print(f' p != s é: {teste22}')\n",
        "\n",
        "# Lembrete: != compara os valores das variáveis\n",
        "# Isso ocorre porque o operador != compara os valores de duas variáveis e retorna True se forem diferentes e False se forem iguais."
      ],
      "metadata": {
        "colab": {
          "base_uri": "https://localhost:8080/"
        },
        "id": "6Q0PHhg2Y1at",
        "outputId": "664d4b30-df19-4ad5-f732-1d10d95164db"
      },
      "execution_count": null,
      "outputs": [
        {
          "output_type": "stream",
          "name": "stdout",
          "text": [
            " p != s é: False\n"
          ]
        }
      ]
    },
    {
      "cell_type": "code",
      "source": [
        "p = 3\n",
        "s = 3.0\n",
        "teste23 = p is not s\n",
        "\n",
        "print(f' p is not s é: {teste23}')\n",
        "print(type(p))\n",
        "print(type(s))\n",
        "\n",
        "# Lembrete: is not compara os objetos da memória\n",
        "# O operador is not retorna True se os objetos comparados forem diferentes e False se forem o mesmo objeto."
      ],
      "metadata": {
        "colab": {
          "base_uri": "https://localhost:8080/"
        },
        "id": "6aEugwJpZdY2",
        "outputId": "7eb79897-2889-456a-ea2c-bcc9194c3d96"
      },
      "execution_count": null,
      "outputs": [
        {
          "output_type": "stream",
          "name": "stdout",
          "text": [
            " p is not s é: True\n",
            "<class 'int'>\n",
            "<class 'float'>\n"
          ]
        }
      ]
    },
    {
      "cell_type": "markdown",
      "source": [
        "## Operadores de Associação"
      ],
      "metadata": {
        "id": "40iv9f39xG4n"
      }
    },
    {
      "cell_type": "markdown",
      "source": [
        "* (in) Retorna verdadeiro se um caracter ou sequencia de caracteres for encontrado dentro de uma string"
      ],
      "metadata": {
        "id": "X1fzWumOaYgt"
      }
    },
    {
      "cell_type": "code",
      "source": [
        "\n",
        "# Exemplo:\n",
        "nome = 'daniela'\n",
        "teste24 = 'dani' in nome\n",
        "\n",
        "print(f'daniela contém dani: {teste24}')\n"
      ],
      "metadata": {
        "colab": {
          "base_uri": "https://localhost:8080/"
        },
        "id": "JBIGTrDftGph",
        "outputId": "6267b4c9-5b85-403b-f0a4-9ca778b39dd6"
      },
      "execution_count": null,
      "outputs": [
        {
          "output_type": "stream",
          "name": "stdout",
          "text": [
            "daniela contém dani: True\n"
          ]
        }
      ]
    },
    {
      "cell_type": "markdown",
      "source": [
        "* (not in) Retorna verdadeiro se um caracter ou sequencia de caracteres NÃO for encontrado dentro de uma string"
      ],
      "metadata": {
        "id": "kcuUS0z9akMU"
      }
    },
    {
      "cell_type": "code",
      "source": [
        "# Exemplo:\n",
        "teste25 = 'Dani' not in nome\n",
        "\n",
        "print(f'daniela não contém Dani: {teste25}')"
      ],
      "metadata": {
        "colab": {
          "base_uri": "https://localhost:8080/"
        },
        "id": "vOD0sX3PanQ_",
        "outputId": "7bb8e9ad-75fd-4372-8d68-dc8cf4c2def4"
      },
      "execution_count": null,
      "outputs": [
        {
          "output_type": "stream",
          "name": "stdout",
          "text": [
            "daniela não contém Dani: True\n"
          ]
        }
      ]
    },
    {
      "cell_type": "markdown",
      "source": [
        "## Coletando informações do usuário"
      ],
      "metadata": {
        "id": "_DaR1et20M_W"
      }
    },
    {
      "cell_type": "code",
      "source": [
        "nome = input('Informe seu nome ')\n",
        "\n",
        "print(f'O nome digitado é: {nome}')"
      ],
      "metadata": {
        "colab": {
          "base_uri": "https://localhost:8080/"
        },
        "id": "1ZYQ2jq6bANl",
        "outputId": "2d2bc6d5-1179-4038-8e79-60cc7e653d1f"
      },
      "execution_count": null,
      "outputs": [
        {
          "output_type": "stream",
          "name": "stdout",
          "text": [
            "Informe seu nome Rosana\n",
            "O nome digitado é: Rosana\n"
          ]
        }
      ]
    },
    {
      "cell_type": "code",
      "source": [
        "peso = int(input('Informe seu peso em kg inteiros '))\n",
        "\n",
        "print(f'{nome} tem : {peso}kg')\n"
      ],
      "metadata": {
        "colab": {
          "base_uri": "https://localhost:8080/"
        },
        "id": "uTKqQpBW0T0-",
        "outputId": "b5baa6e9-baf8-4005-bf52-6bc77c2c3a9e"
      },
      "execution_count": null,
      "outputs": [
        {
          "output_type": "stream",
          "name": "stdout",
          "text": [
            "Informe seu peso em kg inteiros 70\n",
            "Rosana tem : 70kg\n"
          ]
        }
      ]
    },
    {
      "cell_type": "code",
      "source": [
        "altura = float(input('Informe sua altura em metros '))\n",
        "\n",
        "print(f'{nome} tem {peso} kg e {altura} metros de altura')"
      ],
      "metadata": {
        "colab": {
          "base_uri": "https://localhost:8080/"
        },
        "id": "VyHCzHm2bMIl",
        "outputId": "1681c4da-adb2-4e18-acf9-0bc3430f7343"
      },
      "execution_count": null,
      "outputs": [
        {
          "output_type": "stream",
          "name": "stdout",
          "text": [
            "Informe sua altura em metros 1.65\n",
            "Rosana tem 70 kg e 1.65 metros de altura\n"
          ]
        }
      ]
    },
    {
      "cell_type": "code",
      "source": [
        "imc = peso / altura**2\n",
        "\n",
        "print(f'{nome}, seu imc é: {imc:.1f}')"
      ],
      "metadata": {
        "colab": {
          "base_uri": "https://localhost:8080/"
        },
        "id": "8TRKNlK4bOgm",
        "outputId": "f3090ddc-6b42-4c3e-b4ed-2cac3ebf215f"
      },
      "execution_count": null,
      "outputs": [
        {
          "output_type": "stream",
          "name": "stdout",
          "text": [
            "Rosana, seu imc é: 25.7\n"
          ]
        }
      ]
    },
    {
      "cell_type": "markdown",
      "source": [
        "##  Strings - Encontrando um caracter pelo índice"
      ],
      "metadata": {
        "id": "ZNV9sJOS8vAS"
      }
    },
    {
      "cell_type": "markdown",
      "source": [
        "![image.png](data:image/png;base64,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)"
      ],
      "metadata": {
        "id": "c-VQRaJRbmqR"
      }
    },
    {
      "cell_type": "code",
      "source": [
        "# 0  1  2  3  4  5  6  7  8   9  10  11  12  13 (índice)\n",
        "# 1º 2º 3º 4º 5º 6º 7º 8º 9º 10º 11º 12º 13º 14º (ordinal)\n",
        "# d  o  u  g  @  g  m  a  i   l   .   c   o   m"
      ],
      "metadata": {
        "id": "G2-AByM4bt5l"
      },
      "execution_count": null,
      "outputs": []
    },
    {
      "cell_type": "code",
      "source": [
        "# encontrando um caracter pelo índice\n",
        "# Exemplo: qual é o quinto caracter dessa string?\n",
        "email = 'rosana.alessandra@hotmail.com'\n",
        "\n",
        "print(f'O quinto caracter dessa string é: {email[4]}')\n"
      ],
      "metadata": {
        "colab": {
          "base_uri": "https://localhost:8080/"
        },
        "id": "Re9LHNSW80xl",
        "outputId": "26a5a411-96ba-4d42-95e4-3eaf8cb3eabb"
      },
      "execution_count": null,
      "outputs": [
        {
          "output_type": "stream",
          "name": "stdout",
          "text": [
            "O quinto caracter dessa string é: n\n"
          ]
        }
      ]
    },
    {
      "cell_type": "code",
      "source": [
        "# Exemplo: Quais são os caracteres que vem depois do 2º caracter (excluindo o 2º)\n",
        "\n",
        "print(f'A sequência caracteres dessa string após o segundo é: {email[2:]}')"
      ],
      "metadata": {
        "colab": {
          "base_uri": "https://localhost:8080/"
        },
        "id": "F3TgGxLPcPeA",
        "outputId": "b3b8eaf0-d750-4d04-d0f2-1426ace8676a"
      },
      "execution_count": null,
      "outputs": [
        {
          "output_type": "stream",
          "name": "stdout",
          "text": [
            "A sequência caracteres dessa string após o segundo é: sana.alessandra@hotmail.com\n"
          ]
        }
      ]
    },
    {
      "cell_type": "code",
      "source": [
        "# Exemplo: Quais são todos os caracteres dessa string?\n",
        "\n",
        "print(f'A sequência todos os caracteres dessa string é: {email[:]}')"
      ],
      "metadata": {
        "colab": {
          "base_uri": "https://localhost:8080/"
        },
        "id": "j280jzRocUiA",
        "outputId": "58c54d34-c4e4-4f59-8d24-4565bd1335d2"
      },
      "execution_count": null,
      "outputs": [
        {
          "output_type": "stream",
          "name": "stdout",
          "text": [
            "A sequência todos os caracteres dessa string é: rosana.alessandra@hotmail.com\n"
          ]
        }
      ]
    },
    {
      "cell_type": "code",
      "source": [
        "# Exemplo: buscar e imprimir todos os caracteres até o caracter de índice 4 (todos os caracteres antes do @ até o @ incluindo o @)\n",
        "\n",
        "print(f'A sequência caracteres dessa string até o índice 4 é: {email[:5]}')"
      ],
      "metadata": {
        "colab": {
          "base_uri": "https://localhost:8080/"
        },
        "id": "mF85a15PcWdY",
        "outputId": "61294628-d225-4953-9539-967a6a74035d"
      },
      "execution_count": null,
      "outputs": [
        {
          "output_type": "stream",
          "name": "stdout",
          "text": [
            "A sequência caracteres dessa string até o índice 4 é: rosan\n"
          ]
        }
      ]
    },
    {
      "cell_type": "code",
      "source": [
        "# Exemplo como acessar o último caracter da lista sem contar o tamaho dela (sem usar a função len())?\n",
        "\n",
        "print(f'O último caracter dessa string é: {email[-1]}')"
      ],
      "metadata": {
        "colab": {
          "base_uri": "https://localhost:8080/"
        },
        "id": "94QDitcQcYWI",
        "outputId": "cf20bedb-7db4-43cc-c4b8-9251cd6d4a16"
      },
      "execution_count": null,
      "outputs": [
        {
          "output_type": "stream",
          "name": "stdout",
          "text": [
            "O último caracter dessa string é: m\n"
          ]
        }
      ]
    },
    {
      "cell_type": "markdown",
      "source": [
        "## Método para Strings"
      ],
      "metadata": {
        "id": "EXTRxmY9JcHl"
      }
    },
    {
      "cell_type": "markdown",
      "source": [
        "* Sinal de (+) para concatenar strings"
      ],
      "metadata": {
        "id": "XKQQa_aMcs-J"
      }
    },
    {
      "cell_type": "code",
      "source": [
        "# Exemplo:\n",
        "nome = 'Rosana'\n",
        "sobre = 'Santos'\n",
        "\n",
        "print(nome +\" \"+ sobre)\n"
      ],
      "metadata": {
        "colab": {
          "base_uri": "https://localhost:8080/"
        },
        "id": "uNv_S3TPJfUZ",
        "outputId": "70f6ec4a-946f-42ee-a922-bf273bea610f"
      },
      "execution_count": null,
      "outputs": [
        {
          "output_type": "stream",
          "name": "stdout",
          "text": [
            "Rosana Santos\n"
          ]
        }
      ]
    },
    {
      "cell_type": "markdown",
      "source": [
        "* Converter um número em string"
      ],
      "metadata": {
        "id": "yyw-e6M9c8XH"
      }
    },
    {
      "cell_type": "code",
      "source": [
        "cpf = 12345678910\n",
        "cpf = str(cpf)\n",
        "\n",
        "print(type(cpf))"
      ],
      "metadata": {
        "colab": {
          "base_uri": "https://localhost:8080/"
        },
        "id": "TrjSSAuNc2Mr",
        "outputId": "e5ccfbca-fa50-49c7-a0b7-e64ea8d87764"
      },
      "execution_count": null,
      "outputs": [
        {
          "output_type": "stream",
          "name": "stdout",
          "text": [
            "<class 'str'>\n"
          ]
        }
      ]
    },
    {
      "cell_type": "markdown",
      "source": [
        "* (in) Retorna verdadeiro se um caracter ou sequencia de caracteres for encontrado dentro de uma string"
      ],
      "metadata": {
        "id": "BgoSThKcdBSe"
      }
    },
    {
      "cell_type": "code",
      "source": [
        "# Exemplo:\n",
        "nomen = 'rosana'\n",
        "testen = 'rosa' in nomen\n",
        "\n",
        "print(f'rosana contém rosa: {testen}')"
      ],
      "metadata": {
        "colab": {
          "base_uri": "https://localhost:8080/"
        },
        "id": "4rffdyaodRHo",
        "outputId": "78ea41ff-a0bb-43e4-9562-a11129590fe4"
      },
      "execution_count": null,
      "outputs": [
        {
          "output_type": "stream",
          "name": "stdout",
          "text": [
            "rosana contém rosa: True\n"
          ]
        }
      ]
    },
    {
      "cell_type": "markdown",
      "source": [
        "* (not in) Retorna verdadeiro se um caracter ou sequencia de caracteres NÃO for encontrado dentro de uma string"
      ],
      "metadata": {
        "id": "HuCQ5qP4dXNY"
      }
    },
    {
      "cell_type": "code",
      "source": [
        "testen = 'Rosa' not in nomen\n",
        "\n",
        "print(f'rosana não contém Rosa: {testen}')"
      ],
      "metadata": {
        "colab": {
          "base_uri": "https://localhost:8080/"
        },
        "id": "Vl_Erh0TdbN4",
        "outputId": "62cd8d35-0953-4006-fe89-a18c6f3a878f"
      },
      "execution_count": null,
      "outputs": [
        {
          "output_type": "stream",
          "name": "stdout",
          "text": [
            "rosana não contém Rosa: True\n"
          ]
        }
      ]
    },
    {
      "cell_type": "markdown",
      "source": [
        "* (len)Contar o número de caracteres de uma string"
      ],
      "metadata": {
        "id": "T8RppqVbdfGQ"
      }
    },
    {
      "cell_type": "code",
      "source": [
        "qtde = len(nome)\n",
        "\n",
        "print(f'{nome} tem {qtde} caracteres')"
      ],
      "metadata": {
        "colab": {
          "base_uri": "https://localhost:8080/"
        },
        "id": "1rV-b5pOdkIy",
        "outputId": "84b103f3-5465-4b92-fda6-a30c0f31e828"
      },
      "execution_count": null,
      "outputs": [
        {
          "output_type": "stream",
          "name": "stdout",
          "text": [
            "Rosana tem 6 caracteres\n"
          ]
        }
      ]
    },
    {
      "cell_type": "markdown",
      "source": [
        "## Método específico para Strings"
      ],
      "metadata": {
        "id": "wUlfsb6gMyxk"
      }
    },
    {
      "cell_type": "markdown",
      "source": [
        "* Método para deixar a primeira letra de uma string maiúscula"
      ],
      "metadata": {
        "id": "TndPbEX2eYst"
      }
    },
    {
      "cell_type": "code",
      "source": [
        "# Exemplo:\n",
        "nomem = 'rosana'\n",
        "\n",
        "print(nomem)\n",
        "\n",
        "nomem = nomem.capitalize()\n",
        "\n",
        "print(nomem)\n"
      ],
      "metadata": {
        "colab": {
          "base_uri": "https://localhost:8080/"
        },
        "id": "8EDII6jYM7DL",
        "outputId": "e70a3649-788f-4274-ab2b-bc47cdbf7c01"
      },
      "execution_count": null,
      "outputs": [
        {
          "output_type": "stream",
          "name": "stdout",
          "text": [
            "rosana\n",
            "Rosana\n"
          ]
        }
      ]
    },
    {
      "cell_type": "code",
      "source": [
        "# Deixa o nome todo minúsculo\n",
        "nomem = nomem.casefold()\n",
        "\n",
        "print(nomem)\n"
      ],
      "metadata": {
        "colab": {
          "base_uri": "https://localhost:8080/"
        },
        "id": "a9QkrnLQenqD",
        "outputId": "099f559e-6176-41ef-b82a-dad93333c9fa"
      },
      "execution_count": null,
      "outputs": [
        {
          "output_type": "stream",
          "name": "stdout",
          "text": [
            "rosana\n"
          ]
        }
      ]
    },
    {
      "cell_type": "markdown",
      "source": [
        "* (count) Contar quantas vezes um caracter aparece em uma string"
      ],
      "metadata": {
        "id": "mwqH472WevZw"
      }
    },
    {
      "cell_type": "code",
      "source": [
        "# Exemplo:\n",
        "material = 'paralelepípedo'\n",
        "qtde_p = material.count('p')\n",
        "\n",
        "print(f'{material} tem {qtde_p} Ps')"
      ],
      "metadata": {
        "colab": {
          "base_uri": "https://localhost:8080/"
        },
        "id": "t3CZaSWoSF2v",
        "outputId": "e04666bd-7b73-404b-9b04-67cf14fb861a"
      },
      "execution_count": null,
      "outputs": [
        {
          "output_type": "stream",
          "name": "stdout",
          "text": [
            "paralelepípedo tem 3 Ps\n"
          ]
        }
      ]
    },
    {
      "cell_type": "markdown",
      "source": [
        "* (endswith) Verifica se uma string termina com um caracter ou sequencia de caracteres"
      ],
      "metadata": {
        "id": "hd_wo3W5fbij"
      }
    },
    {
      "cell_type": "code",
      "source": [
        "# Exemplo:\n",
        "email = 'rosanalaser@gmail.com'\n",
        "teste_end = email.endswith('gmail.com')\n",
        "\n",
        "print(teste_end)"
      ],
      "metadata": {
        "colab": {
          "base_uri": "https://localhost:8080/"
        },
        "id": "yLeNNuCeT0MR",
        "outputId": "2b5293b7-122f-49a6-94f6-2f1aa024405e"
      },
      "execution_count": null,
      "outputs": [
        {
          "output_type": "stream",
          "name": "stdout",
          "text": [
            "True\n"
          ]
        }
      ]
    },
    {
      "cell_type": "markdown",
      "source": [
        "* (startswith) Verifica se uma string começa com um caracter ou sequencia de caracteres"
      ],
      "metadata": {
        "id": "ySW4vRnofnjI"
      }
    },
    {
      "cell_type": "code",
      "source": [
        "# Exemplo:\n",
        "email = 'rosanalaser@gmail.com'\n",
        "teste_beg = email.startswith('r')\n",
        "\n",
        "print(teste_beg)"
      ],
      "metadata": {
        "colab": {
          "base_uri": "https://localhost:8080/"
        },
        "id": "HgdZT4RZVphS",
        "outputId": "5326491a-4f30-4dc4-f6ba-e4e3a605dacc"
      },
      "execution_count": null,
      "outputs": [
        {
          "output_type": "stream",
          "name": "stdout",
          "text": [
            "True\n"
          ]
        }
      ]
    },
    {
      "cell_type": "markdown",
      "source": [
        "* (isnumeric) Verifica se uma string é formada por números"
      ],
      "metadata": {
        "id": "XYBFyNXbf-IV"
      }
    },
    {
      "cell_type": "code",
      "source": [
        "# Exemplo:\n",
        "rg = '123456789'\n",
        "teste_rg = rg.isnumeric()\n",
        "\n",
        "print(teste_rg)"
      ],
      "metadata": {
        "colab": {
          "base_uri": "https://localhost:8080/"
        },
        "id": "dmwa_elUVqyg",
        "outputId": "df0a5024-db6a-49d6-8787-6098597d5427"
      },
      "execution_count": null,
      "outputs": [
        {
          "output_type": "stream",
          "name": "stdout",
          "text": [
            "True\n"
          ]
        }
      ]
    },
    {
      "cell_type": "markdown",
      "source": [
        "* (isalpha) Verifica se uma string é formada por letras"
      ],
      "metadata": {
        "id": "gTQgG6BYgGA8"
      }
    },
    {
      "cell_type": "code",
      "source": [
        "# Exemplo:\n",
        "rg2 = 'rosa'\n",
        "teste_rg2 = rg2.isalpha()\n",
        "\n",
        "print(teste_rg2)"
      ],
      "metadata": {
        "colab": {
          "base_uri": "https://localhost:8080/"
        },
        "id": "yJUsh0LvWDrV",
        "outputId": "114da13e-1535-4a31-c1a5-17c2502b2a14"
      },
      "execution_count": null,
      "outputs": [
        {
          "output_type": "stream",
          "name": "stdout",
          "text": [
            "True\n"
          ]
        }
      ]
    },
    {
      "cell_type": "markdown",
      "source": [
        "* (isalnum) Verifica se uma string é formada por letras ou números"
      ],
      "metadata": {
        "id": "lH8MR3TWgWl8"
      }
    },
    {
      "cell_type": "code",
      "source": [
        "# Exemplo:\n",
        "rg3 = 'R'\n",
        "teste_rg3 = rg3.isalnum()\n",
        "\n",
        "print(teste_rg3)"
      ],
      "metadata": {
        "colab": {
          "base_uri": "https://localhost:8080/"
        },
        "id": "1o33sWcdWqrp",
        "outputId": "01f3e08f-7686-465c-94a0-f4676f0dfbda"
      },
      "execution_count": null,
      "outputs": [
        {
          "output_type": "stream",
          "name": "stdout",
          "text": [
            "True\n"
          ]
        }
      ]
    },
    {
      "cell_type": "markdown",
      "source": [
        "* (Split) Separa uma string por caracteres específicos, se não for especificado o caracter ela assume espaço como separador"
      ],
      "metadata": {
        "id": "fzt30Q-lheTY"
      }
    },
    {
      "cell_type": "code",
      "source": [
        "# Exemplo:\n",
        "dados = input('informe os valores separados por espaços ')\n",
        "dados_sep = dados.split()\n",
        "\n",
        "print(dados_sep)"
      ],
      "metadata": {
        "colab": {
          "base_uri": "https://localhost:8080/"
        },
        "id": "06h8cJO5X_Kw",
        "outputId": "1990dd1e-470c-4242-b86b-f10c60d341e4"
      },
      "execution_count": null,
      "outputs": [
        {
          "output_type": "stream",
          "name": "stdout",
          "text": [
            "informe os valores separados por espaços rosa maria\n",
            "['rosa', 'maria']\n"
          ]
        }
      ]
    },
    {
      "cell_type": "markdown",
      "source": [
        "* (strip) elimina caracteres indesejados de uma string, por padrão remove espaços do início e do final da string"
      ],
      "metadata": {
        "id": "6rbMojnGh-5l"
      }
    },
    {
      "cell_type": "code",
      "source": [
        "# Exemplo:\n",
        "autor = ' Rosana '\n",
        "\n",
        "print(len(autor))\n",
        "\n",
        "autor = autor.strip()\n",
        "\n",
        "print(len(autor))"
      ],
      "metadata": {
        "colab": {
          "base_uri": "https://localhost:8080/"
        },
        "id": "QaopOUj3YGGm",
        "outputId": "d202b169-d8be-47ab-a463-554fa7c4e4ec"
      },
      "execution_count": null,
      "outputs": [
        {
          "output_type": "stream",
          "name": "stdout",
          "text": [
            "8\n",
            "6\n"
          ]
        }
      ]
    },
    {
      "cell_type": "markdown",
      "source": [
        "* (replace) substitui um caracter por outro"
      ],
      "metadata": {
        "id": "2iEpfTLaiPS8"
      }
    },
    {
      "cell_type": "code",
      "source": [
        "# Exemplo:\n",
        "preco = 'R$ 10.50'\n",
        "\n",
        "print(preco)\n",
        "\n",
        "preco = preco.replace('.',',')\n",
        "\n",
        "print(preco)"
      ],
      "metadata": {
        "colab": {
          "base_uri": "https://localhost:8080/"
        },
        "id": "AcKyEpmUZ23a",
        "outputId": "97605b28-f077-465f-f7b2-19107eb9fb62"
      },
      "execution_count": null,
      "outputs": [
        {
          "output_type": "stream",
          "name": "stdout",
          "text": [
            "R$ 10.50\n",
            "R$ 10,50\n"
          ]
        }
      ]
    },
    {
      "cell_type": "markdown",
      "source": [
        "* (title) Coloca a primeira letra de cada palavra em maiúscula"
      ],
      "metadata": {
        "id": "ztI4Rp3WiavH"
      }
    },
    {
      "cell_type": "code",
      "source": [
        "# Exemplo:\n",
        "comp = 'rosana alessandra da silva santos'\n",
        "\n",
        "print(comp)\n",
        "\n",
        "comp = comp.title()\n",
        "\n",
        "print(comp)"
      ],
      "metadata": {
        "colab": {
          "base_uri": "https://localhost:8080/"
        },
        "id": "sJY4THEZas2v",
        "outputId": "0423c063-8aab-4a47-80ae-22b915a24f6e"
      },
      "execution_count": null,
      "outputs": [
        {
          "output_type": "stream",
          "name": "stdout",
          "text": [
            "rosana alessandra da silva santos\n",
            "Rosana Alessandra Da Silva Santos\n"
          ]
        }
      ]
    },
    {
      "cell_type": "markdown",
      "source": [
        "* (upper) Coloca todas as letras de um texto em maiúsculas"
      ],
      "metadata": {
        "id": "0ZtKCVn0imx8"
      }
    },
    {
      "cell_type": "code",
      "source": [
        "# Exemplo:\n",
        "aluna = 'rosana'\n",
        "\n",
        "print(aluna)\n",
        "\n",
        "aluna = aluna.upper()\n",
        "\n",
        "print(aluna)"
      ],
      "metadata": {
        "colab": {
          "base_uri": "https://localhost:8080/"
        },
        "id": "w759sxRqavz1",
        "outputId": "281403d9-44ab-401a-e072-8aa879a3e396"
      },
      "execution_count": null,
      "outputs": [
        {
          "output_type": "stream",
          "name": "stdout",
          "text": [
            "rosana\n",
            "ROSANA\n"
          ]
        }
      ]
    },
    {
      "cell_type": "markdown",
      "source": [
        "##**Estrutura de Condição - if, elif, else**\n",
        "\n",
        "\n",
        "*   A estrutura if é usada para executar um bloco de código se uma determinada condição for verdadeira.\n",
        "\n"
      ],
      "metadata": {
        "id": "Bj2Vsaa8Dtfx"
      }
    },
    {
      "cell_type": "code",
      "source": [
        "'''\n",
        "if condição\n",
        "  # bloco de código a ser executado se a condição for verdadeira\n",
        "'''"
      ],
      "metadata": {
        "colab": {
          "base_uri": "https://localhost:8080/",
          "height": 35
        },
        "id": "m5QlGPG4EVvI",
        "outputId": "8f57665a-9b07-4830-af22-69594dc02bdc"
      },
      "execution_count": null,
      "outputs": [
        {
          "output_type": "execute_result",
          "data": {
            "text/plain": [
              "'\\nif condição\\n  # bloco de código a ser executado se a condição for verdadeira\\n'"
            ],
            "application/vnd.google.colaboratory.intrinsic+json": {
              "type": "string"
            }
          },
          "metadata": {},
          "execution_count": 46
        }
      ]
    },
    {
      "cell_type": "code",
      "source": [
        "idade = 19\n",
        "if idade >= 18:\n",
        "  print('Maior de idade')"
      ],
      "metadata": {
        "colab": {
          "base_uri": "https://localhost:8080/"
        },
        "id": "0VnJ91fNEhXp",
        "outputId": "22d24532-9fdb-45d1-e9e2-30f910add41c"
      },
      "execution_count": null,
      "outputs": [
        {
          "output_type": "stream",
          "name": "stdout",
          "text": [
            "Maior de idade\n"
          ]
        }
      ]
    },
    {
      "cell_type": "code",
      "source": [
        "idade = 18\n",
        "if idade >= 18:\n",
        "  print('Maior de idade')"
      ],
      "metadata": {
        "colab": {
          "base_uri": "https://localhost:8080/"
        },
        "id": "x_q14xsEEt4a",
        "outputId": "bc5fea8e-cdee-4d44-cbfe-e053a995c0c0"
      },
      "execution_count": null,
      "outputs": [
        {
          "output_type": "stream",
          "name": "stdout",
          "text": [
            "Maior de idade\n"
          ]
        }
      ]
    },
    {
      "cell_type": "code",
      "source": [
        "idade = 17\n",
        "if idade >= 18:\n",
        "  print('Maior de idade') # Não acontece nada já que a idade é 17"
      ],
      "metadata": {
        "id": "NEMelPvrE3Mh"
      },
      "execution_count": null,
      "outputs": []
    },
    {
      "cell_type": "code",
      "source": [
        "'''\n",
        "if condição:\n",
        "  # bloco de código a ser executado se a condição for verdadeira\n",
        "else:\n",
        "  # o bloco de código a ser executado se a condição não for verdadeira\n",
        "'''"
      ],
      "metadata": {
        "colab": {
          "base_uri": "https://localhost:8080/",
          "height": 53
        },
        "id": "Phx8XigXFGuD",
        "outputId": "1d5eead1-c740-4c26-ad20-4ed33166f349"
      },
      "execution_count": null,
      "outputs": [
        {
          "output_type": "execute_result",
          "data": {
            "text/plain": [
              "'\\nif condição:\\n  # bloco de código a ser executado se a condição for verdadeira\\nelse:\\n  # o bloco de código a ser executado se a condição não for verdadeira\\n'"
            ],
            "application/vnd.google.colaboratory.intrinsic+json": {
              "type": "string"
            }
          },
          "metadata": {},
          "execution_count": 50
        }
      ]
    },
    {
      "cell_type": "markdown",
      "source": [],
      "metadata": {
        "id": "rQENGfBjALH7"
      }
    },
    {
      "cell_type": "markdown",
      "source": [
        "Instrução \"elif\":\n",
        "\n",
        "* A instrução \"elif\" é uma abreviação de \"else if\" e permite testar múltiplas condições em sequência. Ela é usada quando há mais de duas possibilidades a serem consideradas.\n",
        "\n"
      ],
      "metadata": {
        "id": "888RC-FlALmL"
      }
    },
    {
      "cell_type": "code",
      "source": [],
      "metadata": {
        "id": "qm-BbzYbAMhI"
      },
      "execution_count": null,
      "outputs": []
    },
    {
      "cell_type": "code",
      "source": [
        "'''\n",
        "if condição:\n",
        "  # bloco de código a ser executado se a condição for verdadeira\n",
        "elif condição:\n",
        "  # bloco de código a ser executado se a condição 2 for verdadeira\n",
        "else:\n",
        "  # o bloco de código a ser executado se a condição não for verdadeira\n",
        "'''"
      ],
      "metadata": {
        "colab": {
          "base_uri": "https://localhost:8080/",
          "height": 70
        },
        "outputId": "eed7d2bb-a451-4b49-cdb8-b452c5d62da6",
        "id": "a_kEtF_cAVoz"
      },
      "execution_count": null,
      "outputs": [
        {
          "output_type": "execute_result",
          "data": {
            "text/plain": [
              "'\\nif condição:\\n  # bloco de código a ser executado se a condição for verdadeira\\nelif condição:\\n  # bloco de código a ser executado se a condição 2 for verdadeira\\nelse:\\n  # o bloco de código a ser executado se a condição não for verdadeira\\n'"
            ],
            "application/vnd.google.colaboratory.intrinsic+json": {
              "type": "string"
            }
          },
          "metadata": {},
          "execution_count": 52
        }
      ]
    },
    {
      "cell_type": "code",
      "source": [
        "nota = float(input('Digite sua nota: '))\n",
        "\n",
        "if nota >= 90:\n",
        "  print('sua nota é A')\n",
        "elif nota >= 80:\n",
        "  print('sua nota é B')\n",
        "elif nota >= 70:\n",
        "  print('sua nota é C')\n",
        "else:\n",
        "  print('Sua nota é D')"
      ],
      "metadata": {
        "colab": {
          "base_uri": "https://localhost:8080/"
        },
        "id": "nempIBqcAWrc",
        "outputId": "b64f456c-a996-4153-e32b-b4d36f375a27"
      },
      "execution_count": null,
      "outputs": [
        {
          "output_type": "stream",
          "name": "stdout",
          "text": [
            "Digite sua nota: 10\n",
            "Sua nota é D\n"
          ]
        }
      ]
    },
    {
      "cell_type": "markdown",
      "source": [
        "Instrução \"else\":\n",
        "\n",
        "*   A instrução \"else\" é usada em conjunto de instruções \"if\" e especifica em um bloco de código a ser executado se a condição do \"if\" não for verdadeira.\n",
        "\n"
      ],
      "metadata": {
        "id": "3yYL0uhMFPmS"
      }
    },
    {
      "cell_type": "code",
      "source": [
        "idade = int(input('Digite sua idade: '))\n",
        "\n",
        "if idade >= 18:\n",
        "  print('Maior de idade')\n",
        "else:\n",
        "  print('Menor de idade')"
      ],
      "metadata": {
        "colab": {
          "base_uri": "https://localhost:8080/"
        },
        "id": "clP25CoPH0fw",
        "outputId": "d92b143b-0249-4fda-e1de-b9a16d935385"
      },
      "execution_count": null,
      "outputs": [
        {
          "output_type": "stream",
          "name": "stdout",
          "text": [
            "Digite sua idade: 15\n",
            "Menor de idade\n"
          ]
        }
      ]
    },
    {
      "cell_type": "markdown",
      "source": [
        "Exemplo:\n",
        "*  Escreva um programa que verifique se um número digitado pelo usuário é positivo, negativo ou zero."
      ],
      "metadata": {
        "id": "dR_U1o9iP2Gn"
      }
    },
    {
      "cell_type": "markdown",
      "source": [
        "Passo a passo:\n",
        "\n",
        "1. Solicite ao usuário que digite um número.\n",
        "2. Armazene o número digitado em uma variável chamada \"numero\".\n",
        "3. Verifique se o número digitado é igual a zero. Se sim, exiba a mensagem \"O número digitado é zero.\"\n",
        "4. Caso contrário, verifique se o número é maior que zero. Se sim, exiba a mensagem \"O número digitado é positivo.\"\n",
        "5. Se nenhuma das condições anteriores for atendida, significa que o número é negativo. Nesse caso, exiba a mensagem \"O número digitado é negativo.\"\n",
        "6. Encerre o programa."
      ],
      "metadata": {
        "id": "r91A7-29P9xQ"
      }
    },
    {
      "cell_type": "code",
      "source": [
        "numero = float(input(\"Digite um número: \"))\n",
        "\n",
        "if numero == 0:\n",
        "    print(\"O número digitado é zero.\")\n",
        "elif numero > 0:\n",
        "    print(\"O número digitado é positivo.\")\n",
        "else:\n",
        "    print(\"O número digitado é negativo.\")"
      ],
      "metadata": {
        "colab": {
          "base_uri": "https://localhost:8080/"
        },
        "id": "BjRoU3bFO94W",
        "outputId": "be9e395b-98e6-42b6-ef42-64b16d7287c9"
      },
      "execution_count": null,
      "outputs": [
        {
          "output_type": "stream",
          "name": "stdout",
          "text": [
            "Digite um número: 9\n",
            "O número digitado é positivo.\n"
          ]
        }
      ]
    },
    {
      "cell_type": "markdown",
      "source": [
        "## Exercícios de Estrutura de Condição\n",
        "\n",
        "Atividades - Estrutura de Condição - IF, ELSE, ELIF:\n",
        "\n",
        "1. Faça um algoritmo que leia um número inteiro e diga se ele é maior, menor ou igual a 10;\n",
        "2. Faça um algoritmo que leia dois números inteiros e apresente na tela o maior deles ou se eles são iguais;\n",
        "3. Crie um algoritmo que leia um número e diga se ele está no intervalo fechado entre 25 e 200;\n",
        "4. Crie um algoritmo que leia um número e informe na tela se o mesmo é positivo. Caso seja, mostre o número na tela;\n",
        "5. Crie um algoritmo que leia um número e informe se ele é divisível por 7.\n",
        "6. Crie um algoritmo que leia um número e diga se ele é par ou ímpar.\n",
        "7. Escreva um programa em Python que solicite ao usuário que digite uma letra. Em seguida, verifique se a letra digitada é uma vogal ou não.\n",
        "8. Escreva um programa que solicite ao usuário três notas de um aluno e calcule a média. Em seguida, exiba a média e uma mensagem informando se o aluno foi aprovado (média maior ou igual a 7) ou reprovado.\n",
        "9. Escreva um programa que solicite ao usuário os comprimentos dos três lados de um triângulo. Em seguida, exiba uma mensagem informando se o triângulo é equilátero (todos os lados iguais), isósceles (dois lados iguais) ou escaleno (todos os lados diferentes).\n",
        "10.  Escreva um programa que solicite ao usuário sua idade e exiba uma mensagem informando em qual faixa etária ele se encontra: criança (0-12 anos), adolescente (13-17 anos), adulto (18-59 anos) ou idoso (60 anos ou mais).\n",
        "\n"
      ],
      "metadata": {
        "id": "jCI-YTk5US87"
      }
    },
    {
      "cell_type": "markdown",
      "source": [],
      "metadata": {
        "id": "-fQ1cgpomu5o"
      }
    },
    {
      "cell_type": "markdown",
      "source": [
        "* Faça um algoritmo que leia um número inteiro e diga se ele é maior, menor ou igual a 10"
      ],
      "metadata": {
        "id": "YhnzkEfglRJN"
      }
    },
    {
      "cell_type": "code",
      "execution_count": null,
      "metadata": {
        "id": "bOw0k_XqUC0I"
      },
      "outputs": [],
      "source": [
        "# Exemplo:\n",
        "\n",
        "numero = int(input('Digite um número: ')) # número digitado pelo usuário\n",
        "\n",
        "if numero < 10:\n",
        "  print('O número digitado é menor 10')\n",
        "elif numero == 10:\n",
        "  print('O número digitado é igual a 10')\n",
        "else:\n",
        "  print('O número digitado é maior que 10')\n"
      ]
    },
    {
      "cell_type": "markdown",
      "source": [
        "* Faça um algoritmo que leia dois números inteiros e apresente na tela o maior deles ou se eles são iguais;"
      ],
      "metadata": {
        "id": "qDCbnujVl9mn"
      }
    },
    {
      "cell_type": "code",
      "source": [
        "# Exemplo:\n",
        "\n",
        "numero1 = int(input('Digite um número: ')) # número digitado pelo usuário\n",
        "numero2 = int(input('Digite um número: ')) # número digitado pelo usuário\n",
        "\n",
        "if numero1 > numero2 :\n",
        "  print('O número maior é :' , numero1)\n",
        "elif numero2 > numero1:\n",
        "  print('O número maior é: ' , numero2)\n",
        "elif numero1 == numero2:\n",
        "  print('O número digitado são iguais')\n",
        "\n"
      ],
      "metadata": {
        "id": "7YGSBRX9WFoo"
      },
      "execution_count": null,
      "outputs": []
    },
    {
      "cell_type": "markdown",
      "source": [
        "* Crie um algoritmo que leia um número e diga se ele está no intervalo fechado entre 25 e 200"
      ],
      "metadata": {
        "id": "zL2a96domTBX"
      }
    },
    {
      "cell_type": "code",
      "source": [
        "#Exemplo1:\n",
        "\n",
        "numero = int(input('Digite um número: ')) # número digitado pelo usuário\n",
        "\n",
        "if numero in range(25, 200):\n",
        "    print('O numero digitado está no intervalo fechado entre 25 e 200')\n",
        "else:\n",
        "    print('O numero digitado não está no intervalo fechado entre 25 e 200')\n",
        "\n"
      ],
      "metadata": {
        "colab": {
          "base_uri": "https://localhost:8080/"
        },
        "id": "Be7ZRZ10Y1mC",
        "outputId": "e8a8aad2-74d2-4d1b-ef09-869d0660e6e7"
      },
      "execution_count": null,
      "outputs": [
        {
          "output_type": "stream",
          "name": "stdout",
          "text": [
            "Digite um numero: 10\n",
            "O numero digitado não está no intervalo fechado entre 25 e 200\n"
          ]
        }
      ]
    },
    {
      "cell_type": "code",
      "source": [
        "#Exemplo 2:\n",
        "\n",
        "numero = float(input('Digite um número: ')) # número digitado pelo usuário\n",
        "\n",
        "if numero <= 25 and numero >= 200:\n",
        "    print('O numero digitado está no intervalo fechado entre 25 e 200')\n",
        "else:\n",
        "    print('O numero digitado não está no intervalo fechado entre 25 e 200')\n"
      ],
      "metadata": {
        "colab": {
          "base_uri": "https://localhost:8080/"
        },
        "id": "LsgaV_EwI_cf",
        "outputId": "d09da142-211d-4035-aa38-26a338c34c12"
      },
      "execution_count": null,
      "outputs": [
        {
          "output_type": "stream",
          "name": "stdout",
          "text": [
            "Digite um número: 10\n",
            "O numero digitado não está no intervalo fechado entre 25 e 200\n"
          ]
        }
      ]
    },
    {
      "cell_type": "markdown",
      "source": [
        "* Crie um algoritmo que leia um número e informe na tela se o mesmo é positivo. Caso seja, mostre o número na tela;"
      ],
      "metadata": {
        "id": "cjiPlmBCmhLh"
      }
    },
    {
      "cell_type": "code",
      "source": [
        "# Exemplo:\n",
        "\n",
        "numero = float(input('Digite um número: ')) # número digitado pelo usuário\n",
        "\n",
        "if numero > 0:\n",
        "  print(numero )\n",
        "else:\n",
        "  print()\n"
      ],
      "metadata": {
        "colab": {
          "base_uri": "https://localhost:8080/"
        },
        "id": "65JB_vzHbyqy",
        "outputId": "83ec0840-ca01-49aa-ec33-1a74b6952176"
      },
      "execution_count": null,
      "outputs": [
        {
          "output_type": "stream",
          "name": "stdout",
          "text": [
            "Digite um número: 10\n",
            "10.0\n"
          ]
        }
      ]
    },
    {
      "cell_type": "markdown",
      "source": [
        "* Crie um algoritmo que leia um número e informe se ele é divisível por 7."
      ],
      "metadata": {
        "id": "S1w5R11om0lh"
      }
    },
    {
      "cell_type": "code",
      "source": [
        "# Exemplo:\n",
        "\n",
        "numero = float(input(\"Digite um número: \")) # número digitado pelo usuário\n",
        "\n",
        "if numero % 7 == 0:\n",
        "    print( \"É divisível por 7\")\n",
        "else:\n",
        "    print( \"Não é divisível por 7\")\n"
      ],
      "metadata": {
        "colab": {
          "base_uri": "https://localhost:8080/"
        },
        "id": "J2eXEM8DeNzb",
        "outputId": "0354293f-43ec-46ce-e267-6730dd16c4e8"
      },
      "execution_count": null,
      "outputs": [
        {
          "output_type": "stream",
          "name": "stdout",
          "text": [
            "Digite um número: 25\n",
            "Não é divisível por 7\n"
          ]
        }
      ]
    },
    {
      "cell_type": "markdown",
      "source": [
        "* Crie um algoritmo que leia um número e diga se ele é par ou ímpar."
      ],
      "metadata": {
        "id": "zZR2Jbxjm-22"
      }
    },
    {
      "cell_type": "code",
      "source": [
        "# Exemplo:\n",
        "\n",
        "numero = int(input(\"Digite um número: \")) # número digitado pelo usuário\n",
        "if numero % 2 == 0:\n",
        "    print(\"O número é par.\")\n",
        "else:\n",
        "    print(\"O número é ímpar.\")\n"
      ],
      "metadata": {
        "colab": {
          "base_uri": "https://localhost:8080/"
        },
        "id": "XgHoqTMxes19",
        "outputId": "07512815-eaa2-461b-a110-9977d043a201"
      },
      "execution_count": null,
      "outputs": [
        {
          "output_type": "stream",
          "name": "stdout",
          "text": [
            "Digite um número: 3\n",
            "O número é ímpar.\n"
          ]
        }
      ]
    },
    {
      "cell_type": "markdown",
      "source": [
        "*  Escreva um programa em Python que solicite ao usuário que digite uma letra. Em seguida, verifique se a letra digitada é uma vogal ou não."
      ],
      "metadata": {
        "id": "WGnjowLWnFDC"
      }
    },
    {
      "cell_type": "code",
      "source": [
        "# Exemplo:\n",
        "\n",
        "letra = input(\"Digite uma letra: \") # número digitado pelo usuário\n",
        "\n",
        "if letra in 'aeiouAEIOU':\n",
        "    print('É uma vogal')\n",
        "else:\n",
        "    print('É uma consoante')"
      ],
      "metadata": {
        "colab": {
          "base_uri": "https://localhost:8080/"
        },
        "id": "MmXZnq9IfA-Q",
        "outputId": "6f15f41a-e4f5-4d7d-ec64-8916a5d90cbe"
      },
      "execution_count": null,
      "outputs": [
        {
          "output_type": "stream",
          "name": "stdout",
          "text": [
            "Digite uma letra: a\n",
            "É uma vogal\n"
          ]
        }
      ]
    },
    {
      "cell_type": "markdown",
      "source": [
        "* Escreva um programa que solicite ao usuário três notas de um aluno e calcule a média. Em seguida, exiba a média e uma mensagem informando se o aluno foi aprovado (média maior ou igual a 7) ou reprovado."
      ],
      "metadata": {
        "id": "ocdFeF7QnLse"
      }
    },
    {
      "cell_type": "code",
      "source": [
        "9# Exemplo:\n",
        "\n",
        "nota1 = float(input(\"Digite a primeira nota: \")) # número digitado pelo usuário\n",
        "nota2 = float(input(\"Digite a segunda nota: \"))  # número digitado pelo usuário\n",
        "nota3 = float(input(\"Digite a terceira nota: \")) # número digitado pelo usuário\n",
        "\n",
        "media = (nota1 + nota2 + nota3) / 3\n",
        "\n",
        "if media >= 7:\n",
        "    print(\"O aluno foi aprovado por média\", media)\n",
        "else:\n",
        "    print(\"O aluno foi reprovado por média\", media)\n"
      ],
      "metadata": {
        "colab": {
          "base_uri": "https://localhost:8080/"
        },
        "id": "F_dtnx2Wfnqh",
        "outputId": "6a275d4d-18fa-4f00-ec44-e782d9e84de5"
      },
      "execution_count": null,
      "outputs": [
        {
          "output_type": "stream",
          "name": "stdout",
          "text": [
            "Digite a primeira nota: 7\n",
            "Digite a segunda nota: 8\n",
            "Digite a terceira nota: 9\n",
            "O aluno foi aprovado por média 8.0\n"
          ]
        }
      ]
    },
    {
      "cell_type": "markdown",
      "source": [
        "*  Escreva um programa que solicite ao usuário os comprimentos dos três lados de um triângulo. Em seguida, exiba uma mensagem informando se o triângulo é equilátero (todos os lados iguais), isósceles (dois lados iguais) ou escaleno (todos os lados diferentes)."
      ],
      "metadata": {
        "id": "9hsObFPYnUdP"
      }
    },
    {
      "cell_type": "code",
      "source": [
        "# Exemplo:\n",
        "\n",
        "lado1 = float(input('Informe o comprimento do 1º lado: '))\n",
        "lado2 = float(input('Informe o comprimento do 2º lado: '))\n",
        "lado3 = float(input('Informe o comprimento do 3º lado: '))\n",
        "\n",
        "if lado1 < (lado2 + lado3) and lado2 < (lado1 + lado3) and lado3 < (lado2 + lado1):\n",
        "  tri = True\n",
        "else:\n",
        "  tri = False\n",
        "\n",
        "if tri == True:\n",
        "  print('A medidas informadas formam um triangulo')\n",
        "else:\n",
        "  print('''A medidas informadas não formam um triangulo, por favor digite\n",
        "  medidas que formem um triângulo, lembrando que para que exista um triângulo\n",
        "  a medida de um lado qualquer deve ser menor que a soma das medidas dos outros\n",
        "  dois lados informado''')\n",
        "\n",
        "# Código para caso as medidas formem um triangulo,faça sua classificação\n",
        "if tri == True:\n",
        "  if lado1 == lado2 and lado2 == lado3:\n",
        "    print('O triângulo é equilátero, tem três lados iguais.')\n",
        "\n",
        "  elif (lado1 == lado2 or lado1 == lado3 or lado2 == lado3): # and (lado1 != lado2 or lado1 != lado3 or lado2 != lado3): essa condição seria necessária caso não houvesse outra condicação antes dela que pegasse o caso de todos os lados iguais\n",
        "    print('O triângulo é isósceles, tem dois lados iguais..')\n",
        "\n",
        "  else:\n",
        "    print('O triângulo é escaleno todos os lados diferentes.')\n",
        "else:\n",
        "  pass"
      ],
      "metadata": {
        "id": "bLNngLGYgTr-",
        "colab": {
          "base_uri": "https://localhost:8080/"
        },
        "outputId": "50fd7da9-e516-483a-b4e8-97d4fadbe31b"
      },
      "execution_count": null,
      "outputs": [
        {
          "output_type": "stream",
          "name": "stdout",
          "text": [
            "Informe o comprimento do 1º lado: 3\n",
            "Informe o comprimento do 2º lado: 4\n",
            "Informe o comprimento do 3º lado: 5\n",
            "A medidas informadas formam um triangulo\n",
            "O triângulo é escaleno todos os lados diferentes.\n"
          ]
        }
      ]
    },
    {
      "cell_type": "markdown",
      "source": [
        "* Escreva um programa que solicite ao usuário sua idade e exiba uma mensagem informando em qual faixa etária ele se encontra: criança (0-12 anos), adolescente (13-17 anos), adulto (18-59 anos) ou idoso (60 anos ou mais)."
      ],
      "metadata": {
        "id": "R71nQFE0oaNE"
      }
    },
    {
      "cell_type": "code",
      "source": [
        "# Exemplo:\n",
        "\n",
        "idade = int(input(\"Qual é a sua idade? \")) # número digitado pelo usuário\n",
        "\n",
        "if idade <= 12:\n",
        "    print(\"Você é uma criança.\")\n",
        "elif idade <= 17:\n",
        "    print(\"Você é um adolescente.\")\n",
        "elif idade <= 59:\n",
        "    print(\"Você é um adulto.\")\n",
        "else:\n",
        "    print(\"Você é um idoso.\")"
      ],
      "metadata": {
        "id": "H2KHRvCHjNeD",
        "colab": {
          "base_uri": "https://localhost:8080/"
        },
        "outputId": "e6652311-5b23-442d-f577-30138f76597a"
      },
      "execution_count": null,
      "outputs": [
        {
          "output_type": "stream",
          "name": "stdout",
          "text": [
            "Qual é a sua idade? 60\n",
            "Você é um idoso.\n"
          ]
        }
      ]
    },
    {
      "cell_type": "markdown",
      "source": [],
      "metadata": {
        "id": "1rh8aZvGWB0q"
      }
    },
    {
      "cell_type": "markdown",
      "source": [],
      "metadata": {
        "id": "PdN9GgOvUOeM"
      }
    },
    {
      "cell_type": "markdown",
      "source": [
        "## Listas"
      ],
      "metadata": {
        "id": "zFEqQKEFxhEX"
      }
    },
    {
      "cell_type": "markdown",
      "source": [
        "* Lista nada mais é que uma coleção ordenada de valores, separados por vírgula e dentro de colchetes [].\n",
        "* Elas são utilizadas para armazenar diversos itens em uma única variável."
      ],
      "metadata": {
        "id": "nE1I-WjzouEd"
      }
    },
    {
      "cell_type": "code",
      "execution_count": null,
      "metadata": {
        "id": "Xi3Rwln0xTdw",
        "colab": {
          "base_uri": "https://localhost:8080/"
        },
        "outputId": "e485cb35-4ce1-400f-cdc8-e86a8c622af3"
      },
      "outputs": [
        {
          "output_type": "stream",
          "name": "stdout",
          "text": [
            "['Rosana', 'Valmir', 'Eduarda', 'Arthur']\n"
          ]
        }
      ],
      "source": [
        "# Exemplo:\n",
        "# criando uma lista com strings\n",
        "nomes = ['Rosana', 'Valmir', 'Eduarda', 'Arthur']\n",
        "\n",
        "print(nomes)\n",
        "\n"
      ]
    },
    {
      "cell_type": "code",
      "source": [
        "# Exemplo:\n",
        "# criando uma lista com números inteiros\n",
        "pesos = [74, 85, 30, 40]\n",
        "\n",
        "print(pesos)"
      ],
      "metadata": {
        "colab": {
          "base_uri": "https://localhost:8080/"
        },
        "id": "ammetz8Ai4gH",
        "outputId": "040295e7-1688-42db-b3d8-8083acd5b48e"
      },
      "execution_count": null,
      "outputs": [
        {
          "output_type": "stream",
          "name": "stdout",
          "text": [
            "[74, 85, 30, 40]\n"
          ]
        }
      ]
    },
    {
      "cell_type": "code",
      "source": [
        "# Exemplo:\n",
        "# Criando uma lista com números float\n",
        "alturas = [1.65, 1.75, 1.20, 1.50]\n",
        "\n",
        "print(alturas)"
      ],
      "metadata": {
        "colab": {
          "base_uri": "https://localhost:8080/"
        },
        "id": "2_diZrztjCG6",
        "outputId": "b366d95f-6d26-4cad-9f08-f2c836f18e32"
      },
      "execution_count": null,
      "outputs": [
        {
          "output_type": "stream",
          "name": "stdout",
          "text": [
            "[1.65, 1.75, 1.2, 1.5]\n"
          ]
        }
      ]
    },
    {
      "cell_type": "markdown",
      "source": [
        "* Excuir elemento de uma lista usando a função remove()"
      ],
      "metadata": {
        "id": "FtpuiHGsmpBt"
      }
    },
    {
      "cell_type": "code",
      "source": [
        "# forçando um erro usando o remove\n",
        "nomes.remove('xerox')\n",
        "\n",
        "print(nomes)"
      ],
      "metadata": {
        "id": "wWCtRs7t11f7",
        "colab": {
          "base_uri": "https://localhost:8080/",
          "height": 226
        },
        "outputId": "1b915336-3e8b-43b3-cb69-b20d9857a2e5"
      },
      "execution_count": null,
      "outputs": [
        {
          "output_type": "error",
          "ename": "ValueError",
          "evalue": "ignored",
          "traceback": [
            "\u001b[0;31m---------------------------------------------------------------------------\u001b[0m",
            "\u001b[0;31mValueError\u001b[0m                                Traceback (most recent call last)",
            "\u001b[0;32m<ipython-input-65-18eaa1256ba5>\u001b[0m in \u001b[0;36m<cell line: 2>\u001b[0;34m()\u001b[0m\n\u001b[1;32m      1\u001b[0m \u001b[0;31m# forçando um erro usando o remove\u001b[0m\u001b[0;34m\u001b[0m\u001b[0;34m\u001b[0m\u001b[0m\n\u001b[0;32m----> 2\u001b[0;31m \u001b[0mnomes\u001b[0m\u001b[0;34m.\u001b[0m\u001b[0mremove\u001b[0m\u001b[0;34m(\u001b[0m\u001b[0;34m'xerox'\u001b[0m\u001b[0;34m)\u001b[0m\u001b[0;34m\u001b[0m\u001b[0;34m\u001b[0m\u001b[0m\n\u001b[0m\u001b[1;32m      3\u001b[0m \u001b[0;34m\u001b[0m\u001b[0m\n\u001b[1;32m      4\u001b[0m \u001b[0mprint\u001b[0m\u001b[0;34m(\u001b[0m\u001b[0mnomes\u001b[0m\u001b[0;34m)\u001b[0m\u001b[0;34m\u001b[0m\u001b[0;34m\u001b[0m\u001b[0m\n",
            "\u001b[0;31mValueError\u001b[0m: list.remove(x): x not in list"
          ]
        }
      ]
    },
    {
      "cell_type": "code",
      "source": [
        "# solução 1\n",
        "teste = input('Informe o nome que deseja excluir da lista: ') # recebe um nome do usuário e o guarda na variável teste\n",
        "teste = teste.capitalize() # Padroniza a variável teste com a primeira letra maiúscula\n",
        "if teste in nomes: # verifica se o nome armazenado em teste está na lista de nomes\n",
        "  nomes.remove(teste) # se somente se o nome armazenado em teste estiver na lista, faz a exclusão\n",
        "\n",
        "  print(f'O nome {teste} foi exluído com sucesso') # imprime o resultado da exclusão se somente se ela for feita\n",
        "else:\n",
        "\n",
        "  print(f'O nome {teste} não está na lista, logo não pode ser excluído') # Caso o nome digitado não esteja na lista informa o usuário essa situação\n"
      ],
      "metadata": {
        "id": "YtUtiTiyyQrl",
        "colab": {
          "base_uri": "https://localhost:8080/"
        },
        "outputId": "05340c78-ed5d-4733-d1ce-954d0777bfc7"
      },
      "execution_count": null,
      "outputs": [
        {
          "output_type": "stream",
          "name": "stdout",
          "text": [
            "Informe o nome que deseja excluir da lista: valmir\n",
            "O nome Valmir foi exluído com sucesso\n"
          ]
        }
      ]
    },
    {
      "cell_type": "markdown",
      "source": [
        "* Tratamento de erros com Try e Except:\n",
        "\n",
        "* O conjunto de instruções entre as palavras reservadas try e except é executada.\n",
        "\n",
        "* Se nenhuma exceção ocorrer, a cláusula except é ignorada e a execução da instrução try é finalizada.\n",
        "\n",
        "* Se ocorrer uma exceção durante a execução de uma cláusura try, as instruções remanescentes na cláusula são ignoradas. Se o tipo da exceção ocorrida tiver sido previsto em algum except, essa cláusura except é executada, e então depois a execução continua após o bloco try/except."
      ],
      "metadata": {
        "id": "Pww6QGeunPjK"
      }
    },
    {
      "cell_type": "code",
      "source": [
        "# solução 2 (utlizando try/except)\n",
        "teste2 = input('Informe o nome que deseja excluir da lista: ') # recebe um nome do usuário e o guarda na variável teste\n",
        "teste2 = teste2.capitalize()# Padroniza a variável teste com a primeira letra maiúscula\n",
        "\n",
        "try: # comando para tentar fazer alguma ação\n",
        "  nomes.remove(teste2) # ação que será feita caso a tentativa seja bem sucedida (neste caso se o nome digitado estiver na lista)\n",
        "\n",
        "  print(f'O nome {teste2} foi excluído com sucesso') # imprime o resultado da exclusão se somente se ela for feita\n",
        "\n",
        "except: # comando para o caso da tentativa (try) ser mal sucedida (no caso se o nome não estiver na lista)\n",
        "\n",
        "  print(f'O nome {teste2} não está na lista, logo não pode ser excluído') # Caso o nome digitado não esteja na lista informa o usuário essa situação\n"
      ],
      "metadata": {
        "id": "ADgFfeAoyaeB",
        "colab": {
          "base_uri": "https://localhost:8080/"
        },
        "outputId": "6a8cf5da-ea81-4fdd-e871-7498c8be475c"
      },
      "execution_count": null,
      "outputs": [
        {
          "output_type": "stream",
          "name": "stdout",
          "text": [
            "Informe o nome que deseja excluir da lista: rosana\n",
            "O nome Rosana foi excluído com sucesso\n"
          ]
        }
      ]
    },
    {
      "cell_type": "markdown",
      "source": [
        "* O comando len() é usado para obter o comprimento de um objeto em Python. O comprimento é basicamente o número de elementos que estão presentes no objeto."
      ],
      "metadata": {
        "id": "YBAvo6LdpOpQ"
      }
    },
    {
      "cell_type": "code",
      "source": [
        "# Exemplo:\n",
        "# Tamanho da lista len(lista)\n",
        "nomes = ('Valmir', 'Rosana', 'Arthur')\n",
        "\n",
        "print(len(nomes))"
      ],
      "metadata": {
        "colab": {
          "base_uri": "https://localhost:8080/"
        },
        "id": "QPlgdqB4prUg",
        "outputId": "98032795-fa64-46c4-fc92-9907ca0b74eb"
      },
      "execution_count": null,
      "outputs": [
        {
          "output_type": "stream",
          "name": "stdout",
          "text": [
            "3\n"
          ]
        }
      ]
    },
    {
      "cell_type": "markdown",
      "source": [
        "* Função pré-definida chamada max() que retorna o valor máximo numa lista."
      ],
      "metadata": {
        "id": "bBcwgEU0p717"
      }
    },
    {
      "cell_type": "code",
      "source": [
        "# Exemplo:\n",
        "# Maior valor da lista\n",
        "pesos = [74, 85, 30, 40]\n",
        "\n",
        "print(max(pesos))"
      ],
      "metadata": {
        "colab": {
          "base_uri": "https://localhost:8080/"
        },
        "id": "JFIpzNWEqb9D",
        "outputId": "a91c40ec-eaa1-42a1-df08-5092da50db83"
      },
      "execution_count": null,
      "outputs": [
        {
          "output_type": "stream",
          "name": "stdout",
          "text": [
            "85\n"
          ]
        }
      ]
    },
    {
      "cell_type": "markdown",
      "source": [
        "* Função pré-definida chamada min() que retorna o valor mínimo numa lista."
      ],
      "metadata": {
        "id": "6vl66M_RqiLS"
      }
    },
    {
      "cell_type": "code",
      "source": [
        "# Exemplo:\n",
        "# Menor valor da lista\n",
        "alturas = [1.65, 1.75, 1.20, 1.50]\n",
        "\n",
        "print(min(alturas))"
      ],
      "metadata": {
        "colab": {
          "base_uri": "https://localhost:8080/"
        },
        "id": "7fDWxHwNqv1s",
        "outputId": "9a6ed5c0-c795-4a2f-f151-457f69d36874"
      },
      "execution_count": null,
      "outputs": [
        {
          "output_type": "stream",
          "name": "stdout",
          "text": [
            "1.2\n"
          ]
        }
      ]
    },
    {
      "cell_type": "markdown",
      "source": [
        "* Somar listas"
      ],
      "metadata": {
        "id": "bLqKiBmerCCz"
      }
    },
    {
      "cell_type": "code",
      "source": [
        "# Exemplo:\n",
        "# Soma dos valores de uma lista\n",
        "alturas = [1.65, 1.75, 1.20, 1.50]\n",
        "\n",
        "print(sum(alturas))"
      ],
      "metadata": {
        "colab": {
          "base_uri": "https://localhost:8080/"
        },
        "id": "mjL27CwLrr9a",
        "outputId": "57b05a9a-0636-42d4-c788-bf780acd00dc"
      },
      "execution_count": null,
      "outputs": [
        {
          "output_type": "stream",
          "name": "stdout",
          "text": [
            "6.1\n"
          ]
        }
      ]
    },
    {
      "cell_type": "markdown",
      "source": [
        "* A função count () é usada para contar o número de ocorrências de um caractere ou substring em uma string."
      ],
      "metadata": {
        "id": "RvNHhyeDsdgo"
      }
    },
    {
      "cell_type": "code",
      "source": [
        "# Exemplo:\n",
        "# Contando a frequência de um valor em uma lista\n",
        "nomes = ['Rosana', 'Valmir', 'Eduarda', 'Arthur']\n",
        "\n",
        "print(nomes.count('Rosana'))"
      ],
      "metadata": {
        "colab": {
          "base_uri": "https://localhost:8080/"
        },
        "id": "li-SCeR2uSZA",
        "outputId": "cae2c135-2553-4900-a83e-0a21850c8eba"
      },
      "execution_count": null,
      "outputs": [
        {
          "output_type": "stream",
          "name": "stdout",
          "text": [
            "1\n"
          ]
        }
      ]
    },
    {
      "cell_type": "markdown",
      "source": [
        "* O método sort() é usado para ordenar uma lista em forma crescente"
      ],
      "metadata": {
        "id": "4n2Dt9DgvDjU"
      }
    },
    {
      "cell_type": "code",
      "source": [
        "# Exemplo:\n",
        "# Ordenar uma lista crescente\n",
        "nomes.sort()\n",
        "\n",
        "print(nomes)"
      ],
      "metadata": {
        "colab": {
          "base_uri": "https://localhost:8080/"
        },
        "id": "U8MxJlETvOd7",
        "outputId": "e5722c95-8219-4845-b997-22d2e2e9fccf"
      },
      "execution_count": null,
      "outputs": [
        {
          "output_type": "stream",
          "name": "stdout",
          "text": [
            "['Arthur', 'Eduarda', 'Rosana', 'Valmir']\n"
          ]
        }
      ]
    },
    {
      "cell_type": "markdown",
      "source": [
        "* Reverse() inverte a ordem dos elementos na lista."
      ],
      "metadata": {
        "id": "iF5_87Pfvx79"
      }
    },
    {
      "cell_type": "code",
      "source": [
        "# Exemplo:\n",
        "# Ordenar uma lista crescente\n",
        "nomes.sort(reverse=True)\n",
        "\n",
        "print(nomes)"
      ],
      "metadata": {
        "id": "SXMu5HeWyd4q",
        "colab": {
          "base_uri": "https://localhost:8080/"
        },
        "outputId": "1d3b43bf-d7fd-46dd-e611-d83a5a3f295f"
      },
      "execution_count": null,
      "outputs": [
        {
          "output_type": "stream",
          "name": "stdout",
          "text": [
            "['Valmir', 'Rosana', 'Eduarda', 'Arthur']\n"
          ]
        }
      ]
    },
    {
      "cell_type": "markdown",
      "source": [
        "* O método extend () adiciona cada elemento a uma lista."
      ],
      "metadata": {
        "id": "QTDtZF2Uv60f"
      }
    },
    {
      "cell_type": "code",
      "source": [
        "# Exemplo:\n",
        "# Adicionando todos os elementos de uma lista em outra usando o método extend\n",
        "# Melhor para alteração no banco de dados\n",
        "nomes1 = ['Rosana', 'Valmir']\n",
        "nomes2 = ['Eduarda', 'Arthur']\n",
        "\n",
        "nomes1.extend(nomes2)\n",
        "\n",
        "print(nomes1)"
      ],
      "metadata": {
        "id": "9PXa5yVXy75H",
        "colab": {
          "base_uri": "https://localhost:8080/"
        },
        "outputId": "e63867e5-68fb-4dac-ae4b-b989e4f46faa"
      },
      "execution_count": null,
      "outputs": [
        {
          "output_type": "stream",
          "name": "stdout",
          "text": [
            "['Rosana', 'Valmir', 'Eduarda', 'Arthur']\n"
          ]
        }
      ]
    },
    {
      "cell_type": "code",
      "source": [
        "# Adicionando todos os elementos de uma lista em outra usando sinal de (+) (concatenando listas)\n",
        "# Melhor para filtro\n",
        "nomes1 = ['Rosana', 'Valmir']\n",
        "nomes2 = ['Eduarda', 'Arthur']\n",
        "\n",
        "teste = nomes1 + nomes2\n",
        "print(teste)"
      ],
      "metadata": {
        "id": "PWRscUlrzitr",
        "colab": {
          "base_uri": "https://localhost:8080/"
        },
        "outputId": "48bc9f5d-e96a-4cbf-83c9-b81272b3305a"
      },
      "execution_count": null,
      "outputs": [
        {
          "output_type": "stream",
          "name": "stdout",
          "text": [
            "['Rosana', 'Valmir', 'Eduarda', 'Arthur']\n"
          ]
        }
      ]
    },
    {
      "cell_type": "markdown",
      "source": [
        "* Append() é um método usado para adicionar elementos ao final de uma lista."
      ],
      "metadata": {
        "id": "hFI0YKl6wyZY"
      }
    },
    {
      "cell_type": "code",
      "source": [
        "# Exemplo:\n",
        "# Colocando uma lista dentro de outra\n",
        "carros = ['Voyage', 'Polo']\n",
        "carros2 = ['Uno', 'Punto', 'Argo']\n",
        "carros.append(carros2)\n",
        "\n",
        "print(carros)"
      ],
      "metadata": {
        "id": "CK6fgBNkyj8I",
        "colab": {
          "base_uri": "https://localhost:8080/"
        },
        "outputId": "ba312bfd-bdc2-41bc-8d0a-2f38fdd6371f"
      },
      "execution_count": null,
      "outputs": [
        {
          "output_type": "stream",
          "name": "stdout",
          "text": [
            "['Voyage', 'Polo', ['Uno', 'Punto', 'Argo']]\n"
          ]
        }
      ]
    },
    {
      "cell_type": "markdown",
      "source": [
        "* Retirando elemento de uma lista."
      ],
      "metadata": {
        "id": "AVriXRFYw-w3"
      }
    },
    {
      "cell_type": "code",
      "source": [
        "# Exemplo:\n",
        "fiat = carros[2]\n",
        "\n",
        "print(fiat)"
      ],
      "metadata": {
        "id": "aEbtd01wypPZ",
        "colab": {
          "base_uri": "https://localhost:8080/"
        },
        "outputId": "75ef56aa-a358-487a-f381-809729f301b3"
      },
      "execution_count": null,
      "outputs": [
        {
          "output_type": "stream",
          "name": "stdout",
          "text": [
            "['Uno', 'Punto', 'Argo']\n"
          ]
        }
      ]
    },
    {
      "cell_type": "markdown",
      "source": [
        "* Retirando um item de uma lista que está dentro de outra"
      ],
      "metadata": {
        "id": "TkvXdD2yxSkD"
      }
    },
    {
      "cell_type": "code",
      "source": [
        "# Exemplo:\n",
        "ok = carros[2][0]\n",
        "\n",
        "print(f'O melhor carro de todos os tempos é {ok}')"
      ],
      "metadata": {
        "id": "EpUjdG5Xysct",
        "colab": {
          "base_uri": "https://localhost:8080/"
        },
        "outputId": "4f04d366-2228-4433-966e-9ac6fe156275"
      },
      "execution_count": null,
      "outputs": [
        {
          "output_type": "stream",
          "name": "stdout",
          "text": [
            "O melhor carro de todos os tempos é Uno\n"
          ]
        }
      ]
    },
    {
      "cell_type": "markdown",
      "source": [
        "* Função Range ela permite especificar o inicio de uma sequência, intervalo e valor final."
      ],
      "metadata": {
        "id": "A0PyChFX30TF"
      }
    },
    {
      "cell_type": "code",
      "source": [
        "# Exemplo:\n",
        "# Função range com um argumento cria um lista com n valores inteiros de 0 a a n-1\n",
        "lista1 = list(range(5))\n",
        "\n",
        "print(lista1)"
      ],
      "metadata": {
        "colab": {
          "base_uri": "https://localhost:8080/"
        },
        "id": "tx0e4bkmyC6E",
        "outputId": "dc964557-245d-4b39-b184-503488b8987c"
      },
      "execution_count": null,
      "outputs": [
        {
          "output_type": "stream",
          "name": "stdout",
          "text": [
            "[0, 1, 2, 3, 4]\n"
          ]
        }
      ]
    },
    {
      "cell_type": "code",
      "source": [
        "# Exemplo:\n",
        "# Função range com dois argumentos cria um lista com n valores inteiros do início informado no primeiro argumento até  ((n-1) - primeiro argumento informado) informado no segundo argumento\n",
        "lista2 = list(range(1,5))\n",
        "\n",
        "print(lista2)"
      ],
      "metadata": {
        "colab": {
          "base_uri": "https://localhost:8080/"
        },
        "id": "kFSKJjzmyJQD",
        "outputId": "ed387e50-d650-44d8-927d-d461e18cb952"
      },
      "execution_count": null,
      "outputs": [
        {
          "output_type": "stream",
          "name": "stdout",
          "text": [
            "[1, 2, 3, 4]\n"
          ]
        }
      ]
    },
    {
      "cell_type": "code",
      "source": [
        "# Exemplo:\n",
        "# Função range com três argumentos cria um lista com definição de onde começar (primeiro argumento), onde parar (segundo argumento) e de qual tamando de intervalo entre os valores (terceiro argumento)\n",
        "lista3 = list(range(1,5,2))\n",
        "\n",
        "print(lista3)"
      ],
      "metadata": {
        "id": "UfUkWKBX3VwL",
        "colab": {
          "base_uri": "https://localhost:8080/"
        },
        "outputId": "969f64c5-6b4c-47c0-d146-0d2029fc33e5"
      },
      "execution_count": null,
      "outputs": [
        {
          "output_type": "stream",
          "name": "stdout",
          "text": [
            "[1, 3]\n"
          ]
        }
      ]
    },
    {
      "cell_type": "markdown",
      "source": [],
      "metadata": {
        "id": "zsLYwPBCIfzt"
      }
    },
    {
      "cell_type": "markdown",
      "source": [
        "# Estruturas de repetição (For)"
      ],
      "metadata": {
        "id": "iZmiqJ_o4DB5"
      }
    },
    {
      "cell_type": "markdown",
      "source": [
        "* O método (for) nada mais é do que uma estrutura que vai repetir o(s) código(s) que estão dentro dessa estrutura."
      ],
      "metadata": {
        "id": "gf264IGVIgPy"
      }
    },
    {
      "cell_type": "code",
      "source": [
        "# Exemplo:\n",
        "# Apresentando e utilizando o for de forma simples\n",
        "pesos = [78, 25, 98, 63, 92, 67]\n",
        "for i in pesos:\n",
        "\n",
        "  print(i)"
      ],
      "metadata": {
        "colab": {
          "base_uri": "https://localhost:8080/"
        },
        "outputId": "ba2ec301-3691-4b31-cc22-87fd940f50fe",
        "id": "Rnba6uSqIgPy"
      },
      "execution_count": null,
      "outputs": [
        {
          "output_type": "stream",
          "name": "stdout",
          "text": [
            "78\n",
            "25\n",
            "98\n",
            "63\n",
            "92\n",
            "67\n"
          ]
        }
      ]
    },
    {
      "cell_type": "markdown",
      "source": [
        "* Utilizando o (for) com else"
      ],
      "metadata": {
        "id": "Wtk60MnaIgPz"
      }
    },
    {
      "cell_type": "code",
      "source": [
        "# Exemplo:\n",
        "\n",
        "for i in pesos:\n",
        "    print(i)\n",
        "else:\n",
        "    print('Todos os items foram exibidos com sucesso')\n"
      ],
      "metadata": {
        "colab": {
          "base_uri": "https://localhost:8080/"
        },
        "outputId": "a29b8c87-15f6-409c-8d9a-43c6c6d4ae28",
        "id": "J66WHO1aIgPz"
      },
      "execution_count": null,
      "outputs": [
        {
          "output_type": "stream",
          "name": "stdout",
          "text": [
            "78\n",
            "25\n",
            "98\n",
            "63\n",
            "92\n",
            "67\n",
            "Todos os items foram exibidos com sucesso\n"
          ]
        }
      ]
    },
    {
      "cell_type": "markdown",
      "source": [
        "* Utilizando o (for) com Range"
      ],
      "metadata": {
        "id": "pf2jeq8LIgPz"
      }
    },
    {
      "cell_type": "code",
      "source": [
        "# Exemplo:\n",
        "# Utilizando o for com range\n",
        "alturas = [1.85, 1.29, 1.75, 1.67, 1.82, 1.70]\n",
        "alturas_quad = []\n",
        "imc = []\n",
        "for i in range(len(alturas)):\n",
        "  alturas_quad.append(alturas[i]**2)\n",
        "  imc.append(pesos[i]/alturas_quad[i])\n",
        "print(f'IMC {imc}')"
      ],
      "metadata": {
        "colab": {
          "base_uri": "https://localhost:8080/"
        },
        "outputId": "da3a6064-c9c7-495a-e5e7-f0c238cbfacb",
        "id": "KObY-O-iIgPz"
      },
      "execution_count": null,
      "outputs": [
        {
          "output_type": "stream",
          "name": "stdout",
          "text": [
            "IMC [22.79035792549306, 15.023135628868456, 32.0, 22.589551436050055, 27.77442337881898, 23.18339100346021]\n"
          ]
        }
      ]
    },
    {
      "cell_type": "code",
      "source": [
        "# Utilizando o for com range\n",
        "alturas = [1.85, 1.29, 1.75, 1.67, 1.82, 1.70]\n",
        "pesos = [78, 25, 98, 63, 92, 67]\n",
        "alturas_quad = []\n",
        "imc = []\n",
        "for i in range(len(alturas)):\n",
        "  alturas_quad.append(alturas[i]**2)\n",
        "  imc.append(pesos[i]/alturas_quad[i])\n",
        "print(f'IMC {imc}')\n",
        "print(alturas_quad)"
      ],
      "metadata": {
        "colab": {
          "base_uri": "https://localhost:8080/"
        },
        "outputId": "d5da3875-a033-46b2-ea92-56f80738cbe9",
        "id": "zHRoR7brIgP0"
      },
      "execution_count": null,
      "outputs": [
        {
          "output_type": "stream",
          "name": "stdout",
          "text": [
            "IMC [22.79035792549306, 15.023135628868456, 32.0, 22.589551436050055, 27.77442337881898, 23.18339100346021]\n",
            "[3.4225000000000003, 1.6641000000000001, 3.0625, 2.7889, 3.3124000000000002, 2.8899999999999997]\n"
          ]
        }
      ]
    },
    {
      "cell_type": "markdown",
      "source": [
        "* Utilizando (for) com enumerate"
      ],
      "metadata": {
        "id": "HyOFAy_ZIgP0"
      }
    },
    {
      "cell_type": "code",
      "source": [
        "# Exemplo:\n",
        "alturas_quad = []\n",
        "imc = []\n",
        "for i, v in enumerate(pesos):\n",
        "  print(i)\n",
        "  print(v)\n",
        "  alturas_quad.append(alturas[i]**2)\n",
        "  imc.append(pesos[i]/alturas_quad[i])\n",
        "print(f'IMC {imc}')"
      ],
      "metadata": {
        "colab": {
          "base_uri": "https://localhost:8080/"
        },
        "outputId": "ff5c5906-28f6-4247-8dac-ac6d073a3b1b",
        "id": "yXg6Fj7pIgP0"
      },
      "execution_count": null,
      "outputs": [
        {
          "output_type": "stream",
          "name": "stdout",
          "text": [
            "0\n",
            "78\n",
            "1\n",
            "25\n",
            "2\n",
            "98\n",
            "3\n",
            "63\n",
            "4\n",
            "92\n",
            "5\n",
            "67\n",
            "IMC [22.79035792549306, 15.023135628868456, 32.0, 22.589551436050055, 27.77442337881898, 23.18339100346021]\n"
          ]
        }
      ]
    },
    {
      "cell_type": "code",
      "source": [
        "# Exemplo:\n",
        "notas = [5, 9, 6, 8, 7]\n",
        "\n",
        "for i, v in enumerate(notas):\n",
        "  print(i,v)\n"
      ],
      "metadata": {
        "colab": {
          "base_uri": "https://localhost:8080/"
        },
        "outputId": "f6099a49-712d-4a12-c95d-a8767a2e28da",
        "id": "7mkgwaKVIgP1"
      },
      "execution_count": null,
      "outputs": [
        {
          "output_type": "stream",
          "name": "stdout",
          "text": [
            "0 5\n",
            "1 9\n",
            "2 6\n",
            "3 8\n",
            "4 7\n"
          ]
        }
      ]
    },
    {
      "cell_type": "code",
      "source": [
        "notas = [5, 9, 6, 8, 7] # Recebe uma lista com várias notas\n",
        "# Objetivo: percorrer toda a lista de notas e para cada valor encontrado testar se o mesmo é ou não maior ou igual a 7\n",
        "# Se verdadeiro imprima a mensagem aprovado e sua nota\n",
        "# Se falso imprima reprovado e sua nota\n",
        "for i, v in enumerate(notas): # primeira variável é o índice e a segunda variável é o valor\n",
        "  if notas[i] >= 7: # se uma nota qualquer encontrada for maio ou igual a 7 faça algo\n",
        "    print(f'aprovado com nota {notas[i]}') # se verdadeiro imprima aprovado e sua nota\n",
        "  else:\n",
        "    print(f'reprovado com nota {notas[i]}') # se não for verdadeiro imprima reprovado e sua nota\n",
        "  print(notas[i])"
      ],
      "metadata": {
        "colab": {
          "base_uri": "https://localhost:8080/"
        },
        "outputId": "fa7ffae8-4130-4f64-966d-4e23a0698306",
        "id": "ySK1lYiiIgP1"
      },
      "execution_count": null,
      "outputs": [
        {
          "output_type": "stream",
          "name": "stdout",
          "text": [
            "reprovado com nota 5\n",
            "5\n",
            "aprovado com nota 9\n",
            "9\n",
            "reprovado com nota 6\n",
            "6\n",
            "aprovado com nota 8\n",
            "8\n",
            "aprovado com nota 7\n",
            "7\n"
          ]
        }
      ]
    },
    {
      "cell_type": "markdown",
      "source": [
        "# Exercício com estrutura de condição for"
      ],
      "metadata": {
        "id": "Qlc47RucJEMA"
      }
    },
    {
      "cell_type": "markdown",
      "source": [
        "*  Crie um script que receba do usuário uma lista de n números inteiros digitados pelo usuário na mesma caixa de entrada separados por espaços e após isso utilize o método split para separar esses números e armazená-los em uma lista acesse o índice 0 dessa nova lista e verifique seu tipo e caso seja o tipo inteiro imprima para o usuário a seguinte mensagem: este valor é do tipo inteiro, caso contrário imprima: este valor não é do tipo inteiro."
      ],
      "metadata": {
        "id": "cL1KIwMJwBz1"
      }
    },
    {
      "cell_type": "code",
      "source": [
        "# Exemplo:\n",
        "dados = input('Informe uma sequência de números inteiros separados por espaços: ')\n",
        "dados = dados.split()\n",
        "if type(dados[0]) == int:\n",
        "  print(f'Este valor {dados[0]} é do tipo inteiro')\n",
        "else:\n",
        "  print(f'Este valor {dados[0]} não é do tipo inteiro')"
      ],
      "metadata": {
        "colab": {
          "base_uri": "https://localhost:8080/"
        },
        "id": "Y3D8WrjVwO0p",
        "outputId": "acedc713-a2a4-49cd-f007-605eeee99883"
      },
      "execution_count": 12,
      "outputs": [
        {
          "output_type": "stream",
          "name": "stdout",
          "text": [
            "Informe uma sequência de números inteiros separados por espaços: 5\n",
            "Este valor 5 não é do tipo inteiro\n"
          ]
        }
      ]
    },
    {
      "cell_type": "markdown",
      "source": [],
      "metadata": {
        "id": "uNAuoSjIwXs3"
      }
    },
    {
      "cell_type": "markdown",
      "source": [
        "*  Crie um script que aproveite a lista utilizada para imprimir a mensagem do exercício\n",
        " anterior e utilize uma estrutura for que percorra toda a lista e faça a tipagem de cada\n",
        " valor como inteiro, após isso acesse o índice 0 dessa nova lista e verifique seu tipo e\n",
        " caso seja o tipo inteiro imprima para o usuário a seguinte mensagem: este valor é do\n",
        "tipo inteiro, caso contrário imprima: este valor não é do tipo inteiro."
      ],
      "metadata": {
        "id": "tM2ZnR6gwjx4"
      }
    },
    {
      "cell_type": "code",
      "source": [
        "# Exemplo:\n",
        "\n",
        "dados = input('Informe uma sequência de números inteiros separados por espaços: ')\n",
        "dados = dados.split()\n",
        "dados_tipados = []\n",
        "for i in range(len(dados)):\n",
        "  dados_tipados.append(dados[i])\n",
        "  dados_tipados[i] = int(dados_tipados[i])\n",
        "if type(dados_tipados[0]) == int:\n",
        "  print(f'Este valor {dados_tipados[0]} é do tipo inteiro')\n",
        "else:\n",
        "  print(f'Este valor {dados_tipados[0]} não é do tipo inteiro')\n"
      ],
      "metadata": {
        "colab": {
          "base_uri": "https://localhost:8080/"
        },
        "outputId": "91e43fa4-02f1-4c36-bc35-a74f71407cf0",
        "id": "HgnM7H9_wjyF"
      },
      "execution_count": null,
      "outputs": [
        {
          "output_type": "stream",
          "name": "stdout",
          "text": [
            "Informe uma sequência de números inteiros separados por espaços: 2\n",
            "Este valor 2 é do tipo inteiro\n"
          ]
        }
      ]
    },
    {
      "cell_type": "markdown",
      "source": [],
      "metadata": {
        "id": "h8oeOn9ZwlLa"
      }
    },
    {
      "cell_type": "markdown",
      "source": [
        "*  Utilizando a lista tipada como int do exercício 2, faça um print que exiba a soma de todos os valores dessa lista."
      ],
      "metadata": {
        "id": "RIGIKO6QwwzE"
      }
    },
    {
      "cell_type": "code",
      "source": [
        "\n",
        "dados = input('Informe uma sequência de números inteiros separados por espaços: ')\n",
        "dados = dados.split()\n",
        "dados_tipados = []\n",
        "for i in range(len(dados)):\n",
        "  dados_tipados.append(dados[i])\n",
        "  dados_tipados[i] = int(dados_tipados[i])\n",
        "print(f'A soma de todos os valores informados é {sum(dados_tipados)}')\n"
      ],
      "metadata": {
        "colab": {
          "base_uri": "https://localhost:8080/"
        },
        "outputId": "4b0dd1e5-1442-467a-ad7f-8453078dc5ae",
        "id": "1Pi4dK0lwwzU"
      },
      "execution_count": null,
      "outputs": [
        {
          "output_type": "stream",
          "name": "stdout",
          "text": [
            "Informe uma sequência de números inteiros separados por espaços: 10 5 4 7\n",
            "A soma de todos os valores informados é 26\n"
          ]
        }
      ]
    },
    {
      "cell_type": "markdown",
      "source": [],
      "metadata": {
        "id": "dj9IhE3pwyIh"
      }
    },
    {
      "cell_type": "markdown",
      "source": [
        "*  Crie uma lista vazia denominada quadrados e utilizando a lista tipada como int do\n",
        " exercício 2, faça uma estrutura do tipo for que percorra cada elemento dessa lista de\n",
        " números inteiros, eleve cada valor encontrado ao quadrado e insira cada resultado na\n",
        " lista quadrados e ao final exiba a soma dos valores da lista quadrados."
      ],
      "metadata": {
        "id": "47uQuw86x4fQ"
      }
    },
    {
      "cell_type": "code",
      "source": [
        "\n",
        "dados = input('Informe uma sequência de números inteiros separados por espaços: ')\n",
        "dados = dados.split()\n",
        "dados_tipados = []\n",
        "quadrados = []\n",
        "for i in range(len(dados)):\n",
        "  dados_tipados.append(dados[i])\n",
        "  dados_tipados[i] = int(dados_tipados[i])\n",
        "  quadrados.append(dados_tipados[i]**2)\n",
        "print(f'A soma de todos os valores informados elevado ao quadrado é {sum(quadrados)}')\n"
      ],
      "metadata": {
        "colab": {
          "base_uri": "https://localhost:8080/"
        },
        "outputId": "ad49f380-abbf-4a03-c2a3-6924b0fb7523",
        "id": "TzlH2DFqx4fR"
      },
      "execution_count": null,
      "outputs": [
        {
          "output_type": "stream",
          "name": "stdout",
          "text": [
            "Informe uma sequência de números inteiros separados por espaços: 1 5 8 7\n",
            "A soma de todos os valores informados elevado ao quadrado é 139\n"
          ]
        }
      ]
    },
    {
      "cell_type": "markdown",
      "source": [],
      "metadata": {
        "id": "2IaYq_lSx5yU"
      }
    },
    {
      "cell_type": "markdown",
      "source": [
        "* Crie um programa que receba do usuário duas listas de n números inteiros digitados\n",
        "pelo usuário separados por espaços e após isso utilize o método split para dividir cada\n",
        " lista gerando duas novas listas chamadas x e y é importante deixar claro para o usuário\n",
        " que as duas listas digitadas devem ter a mesma quantidade de números digitados\n",
        " independente de quantos sejam. Após isso, faça a tipagem de todos os números das\n",
        " duas listas como float, então crie três novas listas vazias: xquad, yquad e xy. Agora\n",
        " preencha a lista xquad com cada elemento da lista x elevado ao quadrado, depois faça\n",
        "o mesmo para yquad, elevando cada elemento de y ao quadrado e por último preencha\n",
        " a lista xy fazendo a multiplicação de cada valor da lista x pelo seu correspondente na\n",
        " lista y. No final crie a variável sx que recebe a soma dos valores da lista x, a variável sy\n",
        "que recebe a soma dos valores da lista y, a variável sxquad, que recebe a soma da lista\n",
        " xquad, a variável syquad que recebe a soma da lista de yquad e a variável sxy que\n",
        "recebe a soma da lista de xy e no final imprima todas as variáveis de soma criadas."
      ],
      "metadata": {
        "id": "GlF0SbC4yAok"
      }
    },
    {
      "cell_type": "code",
      "source": [
        "n1 = input('Informe uma sequência de n números inteiros separados por espaços: ')\n",
        "n2 = input('''Informe outra sequência de números inteiros separados por espaços\n",
        "com a mesma quantidade informada na lista anterior''')\n",
        "x = n1.split()\n",
        "y = n2.split()\n",
        "for i in range(len(x)):\n",
        "  x[i] = float(x[i])\n",
        "  y[i] = float(y[i])\n",
        "xquad = []\n",
        "yquad = []\n",
        "xy = []\n",
        "for i in range(len(x)):\n",
        "  xquad.append(x[i]**2)\n",
        "  yquad.append(y[i]**2)\n",
        "  xy.append(x[i]*y[i])\n",
        "sx = sum(x)\n",
        "sy = sum(y)\n",
        "sxquad = sum(xquad)\n",
        "syquad = sum(yquad)\n",
        "sxy = sum(xy)\n",
        "\n",
        "print(f'A soma dos valores de x é {sx}')\n",
        "print(f'A soma dos valores de y é {sy}')\n",
        "print(f'A soma dos valores de xquad é {sxquad}')\n",
        "print(f'A soma dos valores de yquad é {syquad}')\n",
        "print(f'A soma dos valores de xy é {sxy}')"
      ],
      "metadata": {
        "id": "UecvylhDyAol"
      },
      "execution_count": null,
      "outputs": []
    },
    {
      "cell_type": "markdown",
      "source": [
        "# Estrutura de repetição while"
      ],
      "metadata": {
        "id": "G4H-Gjz8JWok"
      }
    },
    {
      "cell_type": "markdown",
      "source": [
        "* O while é uma estrutura de repetição utilizada quando queremos que determinado bloco de código seja executado ENQUANTO (do inglês while) determinada condição for satisfeita."
      ],
      "metadata": {
        "id": "o32q-2y9JGHN"
      }
    },
    {
      "cell_type": "code",
      "source": [
        "# Exemplo:\n",
        "c = 0\n",
        "n = int(input('Informe quantas vezes deseja ver a mensagem \"Hello World\": '))\n",
        "while c < n:\n",
        "  print('Hello World')\n",
        "  c += 1\n"
      ],
      "metadata": {
        "id": "U8RLFun7UOpE",
        "colab": {
          "base_uri": "https://localhost:8080/"
        },
        "outputId": "783afe70-037f-4afa-aab7-289e98758a92"
      },
      "execution_count": 2,
      "outputs": [
        {
          "output_type": "stream",
          "name": "stdout",
          "text": [
            "Informe quantas vezes deseja ver a mensagem \"Hello World\": 1\n",
            "Hello World\n"
          ]
        }
      ]
    },
    {
      "cell_type": "markdown",
      "source": [
        "'''\n",
        "Assim podemos concluir que o while é uma sentença que declara uma condição que\n",
        "enquanto for verdadeira executa repetidamente um bloco de códigos na linha\n",
        "por linha na ordem especificada de cada linha\n",
        "'''"
      ],
      "metadata": {
        "id": "rtvvGlhzoWIf"
      }
    },
    {
      "cell_type": "markdown",
      "source": [
        "###Exercício:\n",
        "\n",
        "Faça um script que receba do usuário cinco números inteiros, armazene os\n",
        "números recebidos em uma lista e no final exiba a soma desses valores\n"
      ],
      "metadata": {
        "id": "BbBry2d0T_FQ"
      }
    },
    {
      "cell_type": "code",
      "source": [
        "# Exemplo  1:\n",
        "numeros = []\n",
        "\n",
        "numeros.append(int(input('Digite um número inteiro: ')))\n",
        "numeros.append(int(input('Digite um número inteiro: ')))\n",
        "numeros.append(int(input('Digite um número inteiro: ')))\n",
        "numeros.append(int(input('Digite um número inteiro: ')))\n",
        "numeros.append(int(input('Digite um número inteiro: ')))\n",
        "\n",
        "print(sum(numeros))"
      ],
      "metadata": {
        "colab": {
          "base_uri": "https://localhost:8080/"
        },
        "id": "SvNQa2_uSD-n",
        "outputId": "7ce2a999-1366-485a-dab7-fa84ed3069da"
      },
      "execution_count": null,
      "outputs": [
        {
          "output_type": "stream",
          "name": "stdout",
          "text": [
            "Digite um número inteiro: 1\n",
            "Digite um número inteiro: 2\n",
            "Digite um número inteiro: 3\n",
            "Digite um número inteiro: 4\n",
            "Digite um número inteiro: 5\n",
            "15\n"
          ]
        }
      ]
    },
    {
      "cell_type": "markdown",
      "source": [
        "Faça um script que receba do usuário cinco números inteiros, armazene os\n",
        "números recebidos em uma lista e no final exiba a soma desses valores."
      ],
      "metadata": {
        "id": "iPfT9PDzbvj6"
      }
    },
    {
      "cell_type": "code",
      "source": [
        "# Exemplo 1:\n",
        "numeros = []\n",
        "soma = 0\n",
        "\n",
        "while True:\n",
        "    numero = int(input(\"Digite um número inteiro: \"))\n",
        "    numeros.append(numero)\n",
        "    soma += numero\n",
        "    continuar = input(\"Deseja continuar? (s/n) \")\n",
        "    if continuar.lower() != \"s\":\n",
        "        break\n",
        "\n",
        "print(f\"A soma dos números é {soma}\")"
      ],
      "metadata": {
        "colab": {
          "base_uri": "https://localhost:8080/"
        },
        "id": "xbBLcQYVup5d",
        "outputId": "f188183d-40bd-4300-cb6d-558ffafba010"
      },
      "execution_count": 11,
      "outputs": [
        {
          "output_type": "stream",
          "name": "stdout",
          "text": [
            "Digite um número inteiro: 1 \n",
            "Deseja continuar? (s/n) 5\n",
            "A soma dos números é 1\n"
          ]
        }
      ]
    },
    {
      "cell_type": "code",
      "source": [
        "# Exemplo 2:\n",
        "n1 = int(input('Informe o 1º número inteiro: '))\n",
        "n2 = int(input('Informe o 2º número inteiro: '))\n",
        "n3 = int(input('Informe o 3º número inteiro: '))\n",
        "n4 = int(input('Informe o 4º número inteiro: '))\n",
        "n5 = int(input('Informe o 5º número inteiro: '))\n",
        "numeros = [n1, n2, n3, n4, n5]\n",
        "print(f'A soma dos números digitados é: {sum(numeros)} ')"
      ],
      "metadata": {
        "id": "fBWVUm3gbwMs"
      },
      "execution_count": null,
      "outputs": []
    },
    {
      "cell_type": "code",
      "source": [
        "# Exemplo 3:\n",
        "numeros = []\n",
        "n1 = int(input('Informe o 1º número inteiro: '))\n",
        "numeros.append(n1)\n",
        "n2 = int(input('Informe o 2º número inteiro: '))\n",
        "numeros.append(n2)\n",
        "n3 = int(input('Informe o 3º número inteiro: '))\n",
        "numeros.append(n3)\n",
        "n4 = int(input('Informe o 4º número inteiro: '))\n",
        "numeros.append(n4)\n",
        "n5 = int(input('Informe o 5º número inteiro: '))\n",
        "numeros.append(n5)\n",
        "\n",
        "print(f'A soma dos números digitados é: {sum(numeros)} ')"
      ],
      "metadata": {
        "colab": {
          "base_uri": "https://localhost:8080/"
        },
        "id": "Zps8TmsLTlus",
        "outputId": "081790f2-250a-47a1-dd8a-bf77ac9dd305"
      },
      "execution_count": null,
      "outputs": [
        {
          "output_type": "stream",
          "name": "stdout",
          "text": [
            "Digite um número inteiro: 2\n",
            "Digite um número inteiro: 2\n",
            "Digite um número inteiro: 3\n",
            "Digite um número inteiro: 4\n",
            "Digite um número inteiro: 5\n",
            "16\n"
          ]
        }
      ]
    },
    {
      "cell_type": "markdown",
      "source": [
        "Faça um script que receba do usuário n números inteiros, armazene os\n",
        "números recebidos a cada momento em que forem recebidos em uma lista e\n",
        "no final exiba a soma desses valores. Considere que o usuário deverá informar\n",
        "apenas 1 numero inteiro por caixa de diálogo é permitido usar (While)."
      ],
      "metadata": {
        "id": "G0gvimM_cAYD"
      }
    },
    {
      "cell_type": "code",
      "source": [
        "# Exemplo:\n",
        "c = 0 # criei um contador para utilizar como parada do laço while\n",
        "n = int(input('Informe a qtde de números inteiros que deseja na lista: '))\n",
        "numeros = []\n",
        "while c < n:\n",
        "  numeros.append(int(input(f'Informe o {c+1}º número inteiro da lista: ')))\n",
        "  c += 1\n",
        "print(f'A soma dos valores digitados é {sum(numeros)}')\n"
      ],
      "metadata": {
        "id": "UpYm833-TyHt"
      },
      "execution_count": null,
      "outputs": []
    },
    {
      "cell_type": "markdown",
      "source": [
        "Faça um programa que receba do usuário números inteiros e os insira na lista\n",
        "somente se o número for ímpar e encerre o programa quando a lista tiver 5\n",
        "números ímpares"
      ],
      "metadata": {
        "id": "qxg27UU6jy3g"
      }
    },
    {
      "cell_type": "code",
      "source": [
        "# Exemplo:\n",
        "c = 0 # criei um contador para utilizar como parada do laço while\n",
        "while True:\n",
        "  try:\n",
        "    n = int(input('Informe a qtde de números inteiros que deseja na lista: '))\n",
        "    break\n",
        "  except:\n",
        "    pass\n",
        "  print(f'''Cuidado! você não digitou um número inteiro, por favor faça isso''')\n",
        "numeros = []\n",
        "while c < n:\n",
        "  try:\n",
        "    i = int(input(f'Informe o {c+1}º número inteiro da lista: '))\n",
        "    numeros.append(i)\n",
        "    c += 1\n",
        "  except:\n",
        "    pass\n",
        "    print(f'''Cuidado! você não digitou um número inteiro, por favor,\n",
        "    digite o {c+1}º número nvamente''')\n",
        "print(f'A soma dos valores digitados é {sum(numeros)}')"
      ],
      "metadata": {
        "id": "dRyhT_EM91fE"
      },
      "execution_count": null,
      "outputs": []
    },
    {
      "cell_type": "markdown",
      "source": [
        "* Faça um script que receba do usuário n números inteiros, armazene os\n",
        "números recebidos a cada momento em que forem recebidos em uma lista e\n",
        "no final exiba a soma desses valores. Considere que o usuário deverá informar\n",
        "apenas 1 numero inteiro por caixa de diálogo é permitido usar (While)"
      ],
      "metadata": {
        "id": "Bd8I3HUhs4v9"
      }
    },
    {
      "cell_type": "code",
      "source": [
        "# Exemplo:\n",
        "c = 0 # criei um contador para utilizar como parada do laço while\n",
        "n = int(input('Informe a qtde de números inteiros que deseja na lista: '))\n",
        "numeros = []\n",
        "while c < n:\n",
        "  i = int(input(f'Informe o {c+1}º número inteiro da lista: '))\n",
        "  numeros.append(i)\n",
        "  c += 1\n",
        "\n",
        "print(f'A soma dos valores digitados é {sum(numeros)}')"
      ],
      "metadata": {
        "colab": {
          "base_uri": "https://localhost:8080/"
        },
        "id": "xHD6_ZKaqw6u",
        "outputId": "ddbe73cb-f02e-400b-b5bc-9e66574dce61"
      },
      "execution_count": 6,
      "outputs": [
        {
          "output_type": "stream",
          "name": "stdout",
          "text": [
            "Informe a qtde de números inteiros que deseja na lista:  5\n",
            "Informe o 1º número inteiro da lista: 5\n",
            "Informe o 2º número inteiro da lista: 7\n",
            "Informe o 3º número inteiro da lista: 7\n",
            "Informe o 4º número inteiro da lista: 8\n",
            "Informe o 5º número inteiro da lista: 8\n",
            "A soma dos valores digitados é 35\n"
          ]
        }
      ]
    },
    {
      "cell_type": "markdown",
      "source": [
        "* Faça um programa que receba do usuário números inteiros e os insira na lista\n",
        "somente se o número for ímpar e encerre o programa quando a lista tiver 5\n",
        "números ímpares"
      ],
      "metadata": {
        "id": "6PtPxO-ZtI-2"
      }
    },
    {
      "cell_type": "code",
      "source": [
        "# Exemplo 1:\n",
        "numeros = []\n",
        "while len(numeros) < 5:\n",
        "  n = int(input('Informe um número inteiro: '))\n",
        "  if n % 2 != 0:\n",
        "    numeros.append(n)\n",
        "\n",
        "print(numeros)"
      ],
      "metadata": {
        "colab": {
          "base_uri": "https://localhost:8080/"
        },
        "id": "i3QTbsMWtLHb",
        "outputId": "2a5e3f7f-e7cc-4663-ef78-0ea53fdf0c17"
      },
      "execution_count": 8,
      "outputs": [
        {
          "output_type": "stream",
          "name": "stdout",
          "text": [
            "Informe um número inteiro: 1\n",
            "Informe um número inteiro: 3\n",
            "Informe um número inteiro: 6\n",
            "Informe um número inteiro: 7\n",
            "Informe um número inteiro: 9\n",
            "Informe um número inteiro: 0\n",
            "Informe um número inteiro: 8\n",
            "Informe um número inteiro: 4\n",
            "Informe um número inteiro: 7\n",
            "[1, 3, 7, 9, 7]\n"
          ]
        }
      ]
    },
    {
      "cell_type": "code",
      "source": [
        "# Exemplo 2:\n",
        "\n",
        "numeros = []\n",
        "while len(numeros) < 5:\n",
        "  n = int(input('Informe um número inteiro: '))\n",
        "  if n % 2 != 0:\n",
        "    numeros.append(n)\n",
        "    #print(f'O número {n} é impar e foi inserido')\n",
        "  #else:\n",
        "    #print(f'O número {n} não é impar e não foi inserido')\n",
        "\n",
        "\n",
        "print(numeros)"
      ],
      "metadata": {
        "colab": {
          "base_uri": "https://localhost:8080/"
        },
        "id": "jDkiYZz7thkl",
        "outputId": "5fb4dbb0-5403-41f7-e025-29a0959afeb2"
      },
      "execution_count": 9,
      "outputs": [
        {
          "output_type": "stream",
          "name": "stdout",
          "text": [
            "Informe um número inteiro: 1\n",
            "Informe um número inteiro: 3\n",
            "Informe um número inteiro: 5\n",
            "Informe um número inteiro: 7\n",
            "Informe um número inteiro: 9\n",
            "[1, 3, 5, 7, 9]\n"
          ]
        }
      ]
    },
    {
      "cell_type": "markdown",
      "source": [
        "* Faça um script que receba do usuário n números inteiros, armazene os\n",
        "números recebidos a cada momento em que forem recebidos em uma lista e\n",
        "no final exiba a soma desses valores. Considere que o usuário deverá informar\n",
        "apenas 1 numero inteiro por caixa de diálogo é permitido usar (While)"
      ],
      "metadata": {
        "id": "a-sx-dxFtw2l"
      }
    },
    {
      "cell_type": "code",
      "source": [
        "# Exemplo:\n",
        "c = 0 # criei um contador para utilizar como parada do laço while\n",
        "while True:\n",
        "  try:\n",
        "    n = int(input('Informe a qtde de números inteiros que deseja na lista: '))\n",
        "    break\n",
        "  except:\n",
        "    pass\n",
        "  print(f'''Cuidado! você não digitou um número inteiro, por favor faça isso''')\n",
        "numeros = []\n",
        "while c < n:\n",
        "  try:\n",
        "    i = int(input(f'Informe o {c+1}º número inteiro da lista: '))\n",
        "    numeros.append(i)\n",
        "    c += 1\n",
        "  except:\n",
        "    pass\n",
        "    print(f'''Cuidado! você não digitou um número inteiro, por favor,\n",
        "    digite o {c+1}º número nvamente''')\n",
        "\n",
        "print(f'A soma dos valores digitados é {sum(numeros)}')"
      ],
      "metadata": {
        "colab": {
          "base_uri": "https://localhost:8080/"
        },
        "id": "kFd-Wxeftyxr",
        "outputId": "9328ed82-d2ca-464d-e51f-6fc79001352b"
      },
      "execution_count": 10,
      "outputs": [
        {
          "output_type": "stream",
          "name": "stdout",
          "text": [
            "Informe a qtde de números inteiros que deseja na lista: 1\n",
            "Informe o 1º número inteiro da lista: 5\n",
            "A soma dos valores digitados é 5\n"
          ]
        }
      ]
    }
  ]
}